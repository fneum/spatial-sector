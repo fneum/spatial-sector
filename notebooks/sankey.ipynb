{
 "cells": [
  {
   "cell_type": "code",
   "execution_count": null,
   "id": "a813a8a4-ee0f-4daf-abcb-d0315b1309fd",
   "metadata": {},
   "outputs": [],
   "source": [
    "import pypsa\n",
    "import pandas as pd\n",
    "from pypsa.descriptors import get_switchable_as_dense as as_dense\n",
    "import plotly.graph_objects as go\n",
    "import numpy as np\n",
    "import yaml\n",
    "from matplotlib.colors import to_rgba"
   ]
  },
  {
   "cell_type": "code",
   "execution_count": null,
   "id": "5f98d87b-a1af-41bb-abcf-e91f02f3f459",
   "metadata": {},
   "outputs": [],
   "source": [
    "PATH = \"../../../playgrounds/pr/pypsa-eur-sec/\"\n",
    "SCENARIO = \"elec_s_181_lv1.0__Co2L0-3H-T-H-B-I-A-solar+p3-linemaxext10_2030\"\n",
    "RUN = \"20211218-181-gas\"\n",
    "\n",
    "OUTPUT = \"../results/graphics/\"\n",
    "OUTPUT_SCENARIO = f\"{OUTPUT}/{RUN}/{SCENARIO}/\""
   ]
  },
  {
   "cell_type": "code",
   "execution_count": null,
   "metadata": {},
   "outputs": [],
   "source": [
    "if not os.path.exists(OUTPUT_SCENARIO):\n",
    "    os.makedirs(OUTPUT_SCENARIO)"
   ]
  },
  {
   "cell_type": "code",
   "execution_count": null,
   "id": "5a770833-3132-4a08-aee8-3e0b2cdfdd1c",
   "metadata": {},
   "outputs": [],
   "source": [
    "with open(PATH + \"config.yaml\") as file:\n",
    "    config = yaml.safe_load(file)\n",
    "\n",
    "colors = config[\"plotting\"][\"tech_colors\"]\n",
    "\n",
    "colors[\"electricity grid\"] = colors[\"electricity\"]\n",
    "colors[\"ground-sourced ambient\"] = colors[\"ground heat pump\"]\n",
    "colors[\"air-sourced ambient\"] = colors[\"air heat pump\"]"
   ]
  },
  {
   "cell_type": "code",
   "execution_count": null,
   "id": "82d4255a-00f2-4226-8bd0-ce341395602e",
   "metadata": {},
   "outputs": [],
   "source": [
    "n = pypsa.Network(f\"{PATH}results/{RUN}/postnetworks/{SCENARIO}.nc\")"
   ]
  },
  {
   "cell_type": "code",
   "execution_count": null,
   "id": "01b9d836-f907-4e2e-bc89-1255113df215",
   "metadata": {},
   "outputs": [],
   "source": [
    "def prepare_sankey(n):\n",
    "\n",
    "    columns = [\"label\", \"source\", \"target\", \"value\"]\n",
    "\n",
    "    gen = (\n",
    "        (n.snapshot_weightings.generators @ n.generators_t.p)\n",
    "        .groupby(\n",
    "            [\n",
    "                n.generators.carrier,\n",
    "                n.generators.carrier,\n",
    "                n.generators.bus.map(n.buses.carrier),\n",
    "            ]\n",
    "        )\n",
    "        .sum()\n",
    "        .div(1e6)\n",
    "    )  # TWh\n",
    "\n",
    "    gen.index.set_names(columns[:-1], inplace=True)\n",
    "    gen = gen.reset_index(name=\"value\")\n",
    "    gen = gen.loc[gen.value > 0.1]\n",
    "\n",
    "    gen[\"source\"] = gen[\"source\"].replace({\"gas\": \"fossil gas\", \"oil\": \"fossil oil\"})\n",
    "\n",
    "    sto = (\n",
    "        (n.snapshot_weightings.generators @ n.stores_t.p)\n",
    "        .groupby(\n",
    "            [n.stores.carrier, n.stores.carrier, n.stores.bus.map(n.buses.carrier)]\n",
    "        )\n",
    "        .sum()\n",
    "        .div(1e6)\n",
    "    )\n",
    "    sto.index.set_names(columns[:-1], inplace=True)\n",
    "    sto = sto.reset_index(name=\"value\")\n",
    "    sto = sto.loc[sto.value > 0.1]\n",
    "\n",
    "    su = (\n",
    "        (n.snapshot_weightings.generators @ n.storage_units_t.p)\n",
    "        .groupby(\n",
    "            [\n",
    "                n.storage_units.carrier,\n",
    "                n.storage_units.carrier,\n",
    "                n.storage_units.bus.map(n.buses.carrier),\n",
    "            ]\n",
    "        )\n",
    "        .sum()\n",
    "        .div(1e6)\n",
    "    )\n",
    "    su.index.set_names(columns[:-1], inplace=True)\n",
    "    su = su.reset_index(name=\"value\")\n",
    "    su = su.loc[su.value > 0.1]\n",
    "\n",
    "    load = (\n",
    "        (n.snapshot_weightings.generators @ as_dense(n, \"Load\", \"p_set\"))\n",
    "        .groupby([n.loads.carrier, n.loads.carrier, n.loads.bus.map(n.buses.carrier)])\n",
    "        .sum()\n",
    "        .div(1e6)\n",
    "        .swaplevel()\n",
    "    )  # TWh\n",
    "    load.index.set_names(columns[:-1], inplace=True)\n",
    "    load = load.reset_index(name=\"value\")\n",
    "\n",
    "    load = load.loc[~load.label.str.contains(\"emissions\")]\n",
    "    load.target += \" demand\"\n",
    "\n",
    "    for i in range(5):\n",
    "        n.links[f\"total_e{i}\"] = (\n",
    "            n.snapshot_weightings.generators @ n.links_t[f\"p{i}\"]\n",
    "        ).div(\n",
    "            1e6\n",
    "        )  # TWh\n",
    "        n.links[f\"carrier_bus{i}\"] = n.links[f\"bus{i}\"].map(n.buses.carrier)\n",
    "\n",
    "    def calculate_losses(x):\n",
    "        energy_ports = x.loc[\n",
    "            x.index.str.contains(\"carrier_bus\") & ~x.str.contains(\"co2\", na=False)\n",
    "        ].index.str.replace(\"carrier_bus\", \"total_e\")\n",
    "        return -x.loc[energy_ports].sum()\n",
    "\n",
    "    n.links[\"total_e5\"] = n.links.apply(calculate_losses, axis=1)\n",
    "    n.links[\"carrier_bus5\"] = \"losses\"\n",
    "\n",
    "    df = pd.concat(\n",
    "        [\n",
    "            n.links.groupby([\"carrier\", \"carrier_bus0\", \"carrier_bus\" + str(i)]).sum()[\n",
    "                \"total_e\" + str(i)\n",
    "            ]\n",
    "            for i in range(1, 6)\n",
    "        ]\n",
    "    ).reset_index()\n",
    "    df.columns = columns\n",
    "\n",
    "    # fix heat pump energy balance\n",
    "\n",
    "    hp = n.links.loc[n.links.carrier.str.contains(\"heat pump\")]\n",
    "\n",
    "    hp_t_elec = n.links_t.p0.filter(like=\"heat pump\")\n",
    "\n",
    "    grouper = [hp[\"carrier\"], hp[\"carrier_bus0\"], hp[\"carrier_bus1\"]]\n",
    "    hp_elec = (\n",
    "        (-n.snapshot_weightings.generators @ hp_t_elec)\n",
    "        .groupby(grouper)\n",
    "        .sum()\n",
    "        .div(1e6)\n",
    "        .reset_index()\n",
    "    )\n",
    "    hp_elec.columns = columns\n",
    "\n",
    "    df = df.loc[~(df.label.str.contains(\"heat pump\") & (df.target == \"losses\"))]\n",
    "\n",
    "    df.loc[df.label.str.contains(\"heat pump\"), \"value\"] -= hp_elec[\"value\"].values\n",
    "\n",
    "    df.loc[df.label.str.contains(\"air heat pump\"), \"source\"] = \"air-sourced ambient\"\n",
    "    df.loc[\n",
    "        df.label.str.contains(\"ground heat pump\"), \"source\"\n",
    "    ] = \"ground-sourced ambient\"\n",
    "\n",
    "    df = pd.concat([df, hp_elec])\n",
    "    df = df.set_index([\"label\", \"source\", \"target\"]).squeeze()\n",
    "    df = pd.concat(\n",
    "        [\n",
    "            df.loc[df < 0].mul(-1),\n",
    "            df.loc[df > 0].swaplevel(1, 2),\n",
    "        ]\n",
    "    ).reset_index()\n",
    "    df.columns = columns\n",
    "\n",
    "    # make DAC demand\n",
    "    df.loc[df.label == \"DAC\", \"target\"] = \"DAC\"\n",
    "\n",
    "    to_concat = [df, gen, su, sto, load]\n",
    "    connections = pd.concat(to_concat).sort_index().reset_index(drop=True)\n",
    "\n",
    "    # aggregation\n",
    "\n",
    "    src_contains = connections.source.str.contains\n",
    "    trg_contains = connections.target.str.contains\n",
    "\n",
    "    connections.loc[src_contains(\"low voltage\"), \"source\"] = \"AC\"\n",
    "    connections.loc[trg_contains(\"low voltage\"), \"target\"] = \"AC\"\n",
    "    connections.loc[src_contains(\"water tank\"), \"source\"] = \"water tank\"\n",
    "    connections.loc[trg_contains(\"water tank\"), \"target\"] = \"water tank\"\n",
    "    connections.loc[src_contains(\"solar thermal\"), \"source\"] = \"solar thermal\"\n",
    "    connections.loc[src_contains(\"battery\"), \"source\"] = \"battery\"\n",
    "    connections.loc[trg_contains(\"battery\"), \"target\"] = \"battery\"\n",
    "    connections.loc[src_contains(\"Li ion\"), \"source\"] = \"battery\"\n",
    "    connections.loc[trg_contains(\"Li ion\"), \"target\"] = \"battery\"\n",
    "\n",
    "    connections.loc[src_contains(\"heat\") & ~src_contains(\"demand\"), \"source\"] = \"heat\"\n",
    "    connections.loc[trg_contains(\"heat\") & ~trg_contains(\"demand\"), \"target\"] = \"heat\"\n",
    "\n",
    "    connections = connections.loc[\n",
    "        ~(connections.source == connections.target)\n",
    "        & ~connections.source.str.contains(\"co2\")\n",
    "        & ~connections.target.str.contains(\"co2\")\n",
    "        & ~connections.source.str.contains(\"emissions\")\n",
    "        & ~connections.source.isin([\"gas for industry\", \"solid biomass for industry\"])\n",
    "        & (connections.value >= 0.5)\n",
    "    ]\n",
    "\n",
    "    where = connections.label == \"urban central gas boiler\"\n",
    "    connections.loc[where] = connections.loc[where].replace(\"losses\", \"fossil gas\")\n",
    "\n",
    "    connections.replace(\"AC\", \"electricity grid\", inplace=True)\n",
    "\n",
    "    return connections"
   ]
  },
  {
   "cell_type": "code",
   "execution_count": null,
   "id": "c8c24326-1d02-49bb-985a-f10421c5d36f",
   "metadata": {},
   "outputs": [],
   "source": [
    "def plot_sankey(connections, fn=None):\n",
    "\n",
    "    labels = np.unique(connections[[\"source\", \"target\"]])\n",
    "\n",
    "    nodes = pd.Series({v: i for i, v in enumerate(labels)})\n",
    "\n",
    "    node_colors = pd.Series(nodes.index.map(colors).fillna(\"grey\"), index=nodes.index)\n",
    "\n",
    "    link_colors = [\n",
    "        \"rgba{}\".format(to_rgba(node_colors[src], alpha=0.5))\n",
    "        for src in connections.source\n",
    "    ]\n",
    "\n",
    "    fig = go.Figure(\n",
    "        go.Sankey(\n",
    "            arrangement=\"snap\",  # [snap, nodepad, perpendicular, fixed]\n",
    "            valuesuffix=\"TWh\",\n",
    "            valueformat=\".1f\",\n",
    "            node=dict(pad=20, thickness=20, label=nodes.index, color=node_colors),\n",
    "            link=dict(\n",
    "                source=connections.source.map(nodes),\n",
    "                target=connections.target.map(nodes),\n",
    "                value=connections.value,\n",
    "                label=connections.label,\n",
    "                color=link_colors,\n",
    "            ),\n",
    "        )\n",
    "    )\n",
    "\n",
    "    fig.update_layout(title=f\"Sankey Diagram: {SCENARIO}\", font_size=15)\n",
    "\n",
    "    if fn is not None:\n",
    "        fig.write_html(fn)"
   ]
  },
  {
   "cell_type": "code",
   "execution_count": null,
   "id": "f5c6c952-6c69-4ec1-bdcb-9f6b59cffa97",
   "metadata": {},
   "outputs": [],
   "source": [
    "connections = prepare_sankey(n)"
   ]
  },
  {
   "cell_type": "code",
   "execution_count": null,
   "id": "77f19428-3a4d-4c16-bacd-0c41510699a4",
   "metadata": {},
   "outputs": [],
   "source": [
    "plot_sankey(connections, fn=f\"{OUTPUT_SCENARIO}sankey.html\")"
   ]
  },
  {
   "cell_type": "code",
   "execution_count": null,
   "id": "fd41136a-188d-4635-bf17-e7ee350ab5d9",
   "metadata": {},
   "outputs": [],
   "source": []
  },
  {
   "cell_type": "code",
   "execution_count": null,
   "id": "def746c4-2a0f-416b-81eb-46e455096f94",
   "metadata": {},
   "outputs": [],
   "source": []
  },
  {
   "cell_type": "raw",
   "id": "43bc6b1f-68e7-4ff8-83f0-0cc5cf15ba95",
   "metadata": {},
   "source": [
    "# co2\n",
    "load_co2 = load.loc[load.label.str.contains(\"emissions\")]\n",
    "load_co2.value *= -1"
   ]
  },
  {
   "cell_type": "raw",
   "id": "5788070b-4f92-49bb-a925-101d893000c6",
   "metadata": {},
   "source": [
    "# co2\n",
    "df_co2 = df.loc[\n",
    "    df.source.str.contains(\"co2\") |\n",
    "    df.target.str.contains(\"co2\")\n",
    "]"
   ]
  },
  {
   "cell_type": "raw",
   "id": "c7fe6026-5517-42d2-a725-c69fe74ce6b9",
   "metadata": {},
   "source": [
    "co2 = pd.concat([\n",
    "    df_co2,\n",
    "    load_co2,\n",
    "]).sort_index().reset_index(drop=True)"
   ]
  },
  {
   "cell_type": "code",
   "execution_count": null,
   "id": "9fb71d86-50c1-45e4-bcb9-a9d361283956",
   "metadata": {},
   "outputs": [],
   "source": [
    "co2.round(2)"
   ]
  },
  {
   "cell_type": "code",
   "execution_count": null,
   "id": "e27409b9-3aa7-4a62-b729-4ae1f006d2f4",
   "metadata": {},
   "outputs": [],
   "source": [
    "labels = np.unique(co2[[\"source\", \"target\"]])"
   ]
  },
  {
   "cell_type": "code",
   "execution_count": null,
   "id": "7b1de00d-7660-4dfd-b915-9b50868d8a4d",
   "metadata": {},
   "outputs": [],
   "source": [
    "nodes = pd.Series({v: i for i, v in enumerate(labels)})"
   ]
  },
  {
   "cell_type": "code",
   "execution_count": null,
   "id": "9c463429-fed7-4f76-8ebb-c637e295f389",
   "metadata": {},
   "outputs": [],
   "source": [
    "fig = go.Figure(\n",
    "    go.Sankey(\n",
    "        arrangement=\"snap\",  # [snap, nodepad, perpendicular, fixed]\n",
    "        valuesuffix=\"TWh\",\n",
    "        valueformat=\".1f\",\n",
    "        node=dict(\n",
    "            pad=15,\n",
    "            thickness=10,\n",
    "            label=nodes.index,\n",
    "        ),\n",
    "        link=dict(\n",
    "            source=co2.source.map(nodes),\n",
    "            target=co2.target.map(nodes),\n",
    "            value=co2.value,\n",
    "            label=co2.label,\n",
    "        ),\n",
    "    )\n",
    ")"
   ]
  },
  {
   "cell_type": "code",
   "execution_count": null,
   "id": "41c5de09-0405-436b-bbb3-9414c87147f8",
   "metadata": {},
   "outputs": [],
   "source": [
    "fig.write_html(\"carbon-cycle.html\")"
   ]
  },
  {
   "cell_type": "code",
   "execution_count": null,
   "id": "41c6859d-3393-40aa-a235-ebc05f635de4",
   "metadata": {},
   "outputs": [],
   "source": []
  },
  {
   "cell_type": "code",
   "execution_count": null,
   "id": "e359d938-8c1a-41af-85f2-af3507fc03f7",
   "metadata": {},
   "outputs": [],
   "source": []
  },
  {
   "cell_type": "code",
   "execution_count": null,
   "id": "c6dd6d06-fe03-4a56-9a89-54df23f8870e",
   "metadata": {},
   "outputs": [],
   "source": []
  },
  {
   "cell_type": "code",
   "execution_count": null,
   "id": "e3e14442-6dba-466d-89ed-7387617c7170",
   "metadata": {},
   "outputs": [],
   "source": []
  },
  {
   "cell_type": "code",
   "execution_count": null,
   "id": "36368b8d-e363-4804-b347-53fbe062f4c3",
   "metadata": {},
   "outputs": [],
   "source": []
  },
  {
   "cell_type": "code",
   "execution_count": null,
   "id": "962e9ed3-6f55-48e7-926d-262d242f0fea",
   "metadata": {},
   "outputs": [],
   "source": []
  },
  {
   "cell_type": "code",
   "execution_count": null,
   "id": "ceb820e9-78aa-44ff-b90b-00a594ac0e25",
   "metadata": {},
   "outputs": [],
   "source": []
  },
  {
   "cell_type": "code",
   "execution_count": null,
   "id": "861ed841-bba7-4931-8c57-cbb8570e1366",
   "metadata": {},
   "outputs": [],
   "source": []
  },
  {
   "cell_type": "code",
   "execution_count": null,
   "id": "60748296-280b-4e3a-a7b7-b1972fd8ed61",
   "metadata": {},
   "outputs": [],
   "source": []
  },
  {
   "cell_type": "code",
   "execution_count": null,
   "id": "1b50f37c-d3c6-41d1-98fa-76013dd32e6a",
   "metadata": {},
   "outputs": [],
   "source": []
  },
  {
   "cell_type": "code",
   "execution_count": null,
   "id": "c2aa0664-2717-4874-8ec5-6a9ee7f2007f",
   "metadata": {},
   "outputs": [],
   "source": []
  },
  {
   "cell_type": "code",
   "execution_count": null,
   "id": "694df353-c42a-4bca-b203-a553e2afea66",
   "metadata": {},
   "outputs": [],
   "source": []
  },
  {
   "cell_type": "code",
   "execution_count": null,
   "id": "827f22fb-0cdf-4e21-b3ac-2d0ac0287a9e",
   "metadata": {},
   "outputs": [],
   "source": []
  },
  {
   "cell_type": "code",
   "execution_count": null,
   "id": "f73efc2d-978c-4284-beae-5050d522f359",
   "metadata": {},
   "outputs": [],
   "source": []
  },
  {
   "cell_type": "code",
   "execution_count": null,
   "id": "a5081399-9648-4c42-bdf1-6ebd203f9b2d",
   "metadata": {},
   "outputs": [],
   "source": []
  },
  {
   "cell_type": "code",
   "execution_count": null,
   "id": "d50de211-d29d-4222-a82d-15248ec86f6f",
   "metadata": {},
   "outputs": [],
   "source": []
  },
  {
   "cell_type": "code",
   "execution_count": null,
   "id": "e98b9b50-a482-4b5b-9f59-5263483e929e",
   "metadata": {},
   "outputs": [],
   "source": []
  },
  {
   "cell_type": "code",
   "execution_count": null,
   "id": "2079979b-4264-4a83-aa02-f4841e80da3a",
   "metadata": {},
   "outputs": [],
   "source": []
  },
  {
   "cell_type": "code",
   "execution_count": null,
   "id": "01181242-eb6d-4786-beb4-280235ddc3e2",
   "metadata": {},
   "outputs": [],
   "source": []
  },
  {
   "cell_type": "code",
   "execution_count": null,
   "id": "b8187fae-b27a-4c29-921f-22968764684c",
   "metadata": {},
   "outputs": [],
   "source": []
  },
  {
   "cell_type": "code",
   "execution_count": null,
   "id": "fbf2b05d-2e0f-4ea3-b4d8-7356d8d2adbb",
   "metadata": {},
   "outputs": [],
   "source": []
  },
  {
   "cell_type": "code",
   "execution_count": null,
   "id": "897ec0fe-b08b-4c40-aeef-672ac67f035f",
   "metadata": {},
   "outputs": [],
   "source": []
  }
 ],
 "metadata": {
  "interpreter": {
   "hash": "494d35a45045e3fb9015f1d2cd094f8e1540ef3ea8b346f6f51a6ceb6be203c2"
  },
  "kernelspec": {
   "display_name": "Python 3.9.7 64-bit ('pypsa-eur': conda)",
   "name": "python3"
  },
  "language_info": {
   "codemirror_mode": {
    "name": "ipython",
    "version": 3
   },
   "file_extension": ".py",
   "mimetype": "text/x-python",
   "name": "python",
   "nbconvert_exporter": "python",
   "pygments_lexer": "ipython3",
   "version": "3.9.7"
  }
 },
 "nbformat": 4,
 "nbformat_minor": 5
}
