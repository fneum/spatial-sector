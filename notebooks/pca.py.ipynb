{
 "cells": [
  {
   "cell_type": "code",
   "execution_count": null,
   "metadata": {},
   "outputs": [],
   "source": [
    "import pypsa\n",
    "import cartopy.crs as ccrs\n",
    "import matplotlib.pyplot as plt\n",
    "import pandas as pd\n",
    "from sklearn.decomposition import PCA\n",
    "from sklearn.preprocessing import StandardScaler"
   ]
  },
  {
   "cell_type": "markdown",
   "id": "e1b349ad-b14a-4b74-aa98-153982a18957",
   "metadata": {
    "tags": []
   },
   "source": [
    "## Principal Flow Patterns"
   ]
  },
  {
   "cell_type": "code",
   "execution_count": null,
   "id": "4679738a-eaaf-4024-b304-ccf6818eb2a5",
   "metadata": {},
   "outputs": [],
   "source": [
    "X = n.buses_t.marginal_price.loc[:, n.buses.carrier == \"AC\"]"
   ]
  },
  {
   "cell_type": "code",
   "execution_count": null,
   "id": "05fd6f40-7d4e-404b-bc37-068765c096ee",
   "metadata": {},
   "outputs": [],
   "source": [
    "balance = nodal_balance(n, \"AC\")\n",
    "X = -balance.droplevel(0).unstack(\"carrier\")[[\"AC\", \"DC\"]].sum(axis=1).unstack(level=0)"
   ]
  },
  {
   "cell_type": "code",
   "execution_count": null,
   "id": "732dde1d-6af4-48b9-9613-f34dd343dacf",
   "metadata": {},
   "outputs": [],
   "source": [
    "sc = StandardScaler(with_std=False)\n",
    "X_std = sc.fit_transform(X)"
   ]
  },
  {
   "cell_type": "code",
   "execution_count": null,
   "id": "82156785-091b-41f0-be76-62c4b95de2b7",
   "metadata": {},
   "outputs": [],
   "source": [
    "pca = PCA()\n",
    "X_pca = pca.fit_transform(X_std)"
   ]
  },
  {
   "cell_type": "code",
   "execution_count": null,
   "id": "f5c9cfca-2769-4cf9-b786-e74c0b01b3fe",
   "metadata": {},
   "outputs": [],
   "source": [
    "eigvec_std = pd.DataFrame(sc.inverse_transform(pca.components_), columns=X.columns).T"
   ]
  },
  {
   "cell_type": "code",
   "execution_count": null,
   "id": "dad34d3a-883d-43e9-828d-fd66878f4436",
   "metadata": {},
   "outputs": [],
   "source": [
    "eigvec = pd.DataFrame(pca.components_, columns=X.columns).T"
   ]
  },
  {
   "cell_type": "code",
   "execution_count": null,
   "id": "7dd9de88-a69d-48a7-9b1f-9d1bf2074d87",
   "metadata": {},
   "outputs": [],
   "source": [
    "plt.plot(np.cumsum(pca.explained_variance_ratio_))\n",
    "plt.xlabel(\"number of components\")\n",
    "plt.ylabel(\"cumulative explained variance\");"
   ]
  },
  {
   "cell_type": "code",
   "execution_count": null,
   "id": "e4dabc43-d25e-4acd-8910-25000660935f",
   "metadata": {},
   "outputs": [],
   "source": [
    "eigval = pd.Series(pca.explained_variance_ratio_)"
   ]
  },
  {
   "cell_type": "code",
   "execution_count": null,
   "id": "2e32d37f-2bd6-4e64-8505-624db79f0f9d",
   "metadata": {},
   "outputs": [],
   "source": [
    "(eigvec_std * eigval).sum(axis=1)  # check that gives X.sum()"
   ]
  },
  {
   "cell_type": "code",
   "execution_count": null,
   "id": "6d85c8ff-f1d6-492a-a352-114c52b120f3",
   "metadata": {},
   "outputs": [],
   "source": [
    "proj = ccrs.PlateCarree()\n",
    "cmap = \"RdBu\"\n",
    "label = \"test\"\n",
    "\n",
    "fig, axes = plt.subplots(1, 4, figsize=(20, 7), subplot_kw={\"projection\": proj})\n",
    "\n",
    "kwargs = dict(\n",
    "    transform=ccrs.PlateCarree(),\n",
    "    cmap=cmap,\n",
    "    linewidths=0,\n",
    "    vmin=-0.5,\n",
    "    vmax=0.5,\n",
    ")\n",
    "\n",
    "legend_kwargs = dict(\n",
    "    legend=True,\n",
    "    legend_kwds={\n",
    "        \"label\": label,\n",
    "        \"shrink\": 0.7,\n",
    "        \"extend\": \"max\",\n",
    "    },\n",
    ")\n",
    "\n",
    "values = eigvec\n",
    "# values = eigvec_std * eigval\n",
    "\n",
    "for i, ax in enumerate(axes):\n",
    "\n",
    "    # if i == len(axes) - 1:\n",
    "    kwargs.update(legend_kwargs)\n",
    "\n",
    "    nodes.plot(ax=ax, column=values[i], **kwargs)\n",
    "\n",
    "    ax.set_title(fr\"$\\lambda_{i} = {eigval[i]:.2f}$\")\n",
    "\n",
    "    ax.add_feature(cartopy.feature.COASTLINE.with_scale(\"50m\"), linewidth=0.2, zorder=2)\n",
    "    ax.add_feature(cartopy.feature.BORDERS.with_scale(\"50m\"), linewidth=0.2, zorder=2)\n",
    "\n",
    "    ax.outline_patch.set_visible(False)\n",
    "    # plt.gca().outline_patch.set_visible(False)\n",
    "\n",
    "plt.tight_layout()\n",
    "\n",
    "plt.savefig(\"test.pdf\", bbox_inches=\"tight\")"
   ]
  },
  {
   "cell_type": "code",
   "execution_count": null,
   "id": "2d45afa0-0f3c-4c50-bf84-d6cd3d126739",
   "metadata": {},
   "outputs": [],
   "source": [
    "crs = ccrs.EuroPP()\n",
    "\n",
    "fig, ax = plt.subplots(figsize=(7, 6), subplot_kw={\"projection\": crs})\n",
    "\n",
    "n.plot(\n",
    "    branch_components=[\"Line\"],\n",
    "    ax=ax,\n",
    "    geomap=True,\n",
    "    flow=pd.concat({\"Line\": vectors[0] * 1e3}),\n",
    ")\n",
    "\n",
    "plt.savefig(\"test.pdf\", bbox_inches=\"tight\")"
   ]
  }
 ],
 "metadata": {
  "language_info": {
   "name": "python"
  },
  "orig_nbformat": 4
 },
 "nbformat": 4,
 "nbformat_minor": 2
}
