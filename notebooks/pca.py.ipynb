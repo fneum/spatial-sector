{
 "cells": [
  {
   "cell_type": "code",
   "execution_count": null,
   "metadata": {},
   "outputs": [],
   "source": [
    "import pypsa\n",
    "import cartopy.crs as ccrs\n",
    "import matplotlib.pyplot as plt\n",
    "import pandas as pd\n",
    "from sklearn.decomposition import PCA\n",
    "from sklearn.preprocessing import StandardScaler"
   ]
  },
  {
   "cell_type": "markdown",
   "metadata": {
    "tags": []
   },
   "source": [
    "## Principal Flow Patterns"
   ]
  },
  {
   "cell_type": "code",
   "execution_count": null,
   "metadata": {},
   "outputs": [],
   "source": [
    "X = n.buses_t.marginal_price.loc[:, n.buses.carrier == \"AC\"]"
   ]
  },
  {
   "cell_type": "code",
   "execution_count": null,
   "metadata": {},
   "outputs": [],
   "source": [
    "balance = nodal_balance(n, \"AC\")\n",
    "X = -balance.droplevel(0).unstack(\"carrier\")[[\"AC\", \"DC\"]].sum(axis=1).unstack(level=0)"
   ]
  },
  {
   "cell_type": "code",
   "execution_count": null,
   "metadata": {},
   "outputs": [],
   "source": [
    "sc = StandardScaler(with_std=False)\n",
    "X_std = sc.fit_transform(X)"
   ]
  },
  {
   "cell_type": "code",
   "execution_count": null,
   "metadata": {},
   "outputs": [],
   "source": [
    "pca = PCA()\n",
    "X_pca = pca.fit_transform(X_std)"
   ]
  },
  {
   "cell_type": "code",
   "execution_count": null,
   "metadata": {},
   "outputs": [],
   "source": [
    "eigvec_std = pd.DataFrame(sc.inverse_transform(pca.components_), columns=X.columns).T"
   ]
  },
  {
   "cell_type": "code",
   "execution_count": null,
   "metadata": {},
   "outputs": [],
   "source": [
    "eigvec = pd.DataFrame(pca.components_, columns=X.columns).T"
   ]
  },
  {
   "cell_type": "code",
   "execution_count": null,
   "metadata": {},
   "outputs": [],
   "source": [
    "plt.plot(np.cumsum(pca.explained_variance_ratio_))\n",
    "plt.xlabel(\"number of components\")\n",
    "plt.ylabel(\"cumulative explained variance\");"
   ]
  },
  {
   "cell_type": "code",
   "execution_count": null,
   "metadata": {},
   "outputs": [],
   "source": [
    "eigval = pd.Series(pca.explained_variance_ratio_)"
   ]
  },
  {
   "cell_type": "code",
   "execution_count": null,
   "metadata": {},
   "outputs": [],
   "source": [
    "(eigvec_std * eigval).sum(axis=1)  # check that gives X.sum()"
   ]
  },
  {
   "cell_type": "code",
   "execution_count": null,
   "metadata": {},
   "outputs": [],
   "source": [
    "proj = ccrs.PlateCarree()\n",
    "cmap = \"RdBu\"\n",
    "label = \"test\"\n",
    "\n",
    "fig, axes = plt.subplots(1, 4, figsize=(20, 7), subplot_kw={\"projection\": proj})\n",
    "\n",
    "kwargs = dict(\n",
    "    transform=ccrs.PlateCarree(),\n",
    "    cmap=cmap,\n",
    "    linewidths=0,\n",
    "    vmin=-0.5,\n",
    "    vmax=0.5,\n",
    ")\n",
    "\n",
    "legend_kwargs = dict(\n",
    "    legend=True,\n",
    "    legend_kwds={\n",
    "        \"label\": label,\n",
    "        \"shrink\": 0.7,\n",
    "        \"extend\": \"max\",\n",
    "    },\n",
    ")\n",
    "\n",
    "values = eigvec\n",
    "# values = eigvec_std * eigval\n",
    "\n",
    "for i, ax in enumerate(axes):\n",
    "\n",
    "    # if i == len(axes) - 1:\n",
    "    kwargs.update(legend_kwargs)\n",
    "\n",
    "    nodes.plot(ax=ax, column=values[i], **kwargs)\n",
    "\n",
    "    ax.set_title(rf\"$\\lambda_{i} = {eigval[i]:.2f}$\")\n",
    "\n",
    "    ax.add_feature(cartopy.feature.COASTLINE.with_scale(\"50m\"), linewidth=0.2, zorder=2)\n",
    "    ax.add_feature(cartopy.feature.BORDERS.with_scale(\"50m\"), linewidth=0.2, zorder=2)\n",
    "\n",
    "    ax.outline_patch.set_visible(False)\n",
    "    # plt.gca().outline_patch.set_visible(False)\n",
    "\n",
    "plt.tight_layout()\n",
    "\n",
    "plt.savefig(\"test.pdf\", bbox_inches=\"tight\")"
   ]
  },
  {
   "cell_type": "code",
   "execution_count": null,
   "metadata": {},
   "outputs": [],
   "source": [
    "crs = ccrs.EuroPP()\n",
    "\n",
    "fig, ax = plt.subplots(figsize=(7, 6), subplot_kw={\"projection\": crs})\n",
    "\n",
    "n.plot(\n",
    "    branch_components=[\"Line\"],\n",
    "    ax=ax,\n",
    "    geomap=True,\n",
    "    flow=pd.concat({\"Line\": vectors[0] * 1e3}),\n",
    ")\n",
    "\n",
    "plt.savefig(\"test.pdf\", bbox_inches=\"tight\")"
   ]
  }
 ],
 "metadata": {
  "kernelspec": {
   "display_name": "Python 3 (ipykernel)",
   "language": "python",
   "name": "python3"
  },
  "language_info": {
   "codemirror_mode": {
    "name": "ipython",
    "version": 3
   },
   "file_extension": ".py",
   "mimetype": "text/x-python",
   "name": "python",
   "nbconvert_exporter": "python",
   "pygments_lexer": "ipython3",
   "version": "3.9.7"
  }
 },
 "nbformat": 4,
 "nbformat_minor": 4
}
