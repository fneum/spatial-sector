{
 "cells": [
  {
   "cell_type": "code",
   "execution_count": null,
   "id": "abdc8ff8-41b8-4a74-a107-19892ef9a6d2",
   "metadata": {},
   "outputs": [],
   "source": [
    "import atlite\n",
    "import geopandas as gpd\n",
    "import pandas as pd\n",
    "import matplotlib.pyplot as plt\n",
    "import cartopy.crs as ccrs\n",
    "import cartopy\n",
    "import xarray as xr\n",
    "from rasterio.plot import show\n",
    "import rasterio\n",
    "import rioxarray as rxr\n",
    "from atlite.gis import shape_availability, ExclusionContainer\n",
    "import yaml\n",
    "import functools\n",
    "import numpy as np\n",
    "import hvplot.xarray"
   ]
  },
  {
   "cell_type": "code",
   "execution_count": null,
   "id": "5a2c51e0-b4be-4edd-af1b-6d0ec9a212e3",
   "metadata": {},
   "outputs": [],
   "source": [
    "with open(\"land-eligibility.yaml\", \"r\") as f:\n",
    "    C = yaml.safe_load(f)"
   ]
  },
  {
   "cell_type": "code",
   "execution_count": null,
   "id": "1da4769a-97a1-43f9-9ccb-603a69c8b071",
   "metadata": {},
   "outputs": [],
   "source": [
    "PATH = \"../../../playgrounds/pr/pypsa-eur/\"\n",
    "NATURA = PATH + \"resources/natura.tiff\"\n",
    "COUNTRIES = PATH + \"resources/country_shapes.geojson\"\n",
    "REGIONS = PATH + \"resources/regions_onshore_elec_s_181.geojson\"\n",
    "CORINE = PATH + \"data/bundle/corine/g250_clc06_V18_5.tif\"\n",
    "GEBCO = PATH + \"data/bundle/GEBCO_2014_2D.nc\"\n",
    "OFFREGIONS = PATH + \"resources/regions_offshore_elec_s_181.geojson\"\n",
    "EEZ = PATH + \"resources/offshore_shapes.geojson\"\n",
    "RES = 250\n",
    "CRS = 3035\n",
    "SIZES = [20, 40, 60]\n",
    "TECHS = [\"solar\", \"offwind-floating\"]"
   ]
  },
  {
   "cell_type": "code",
   "execution_count": null,
   "id": "91d2c917-38ce-4635-b3c7-4fa354c43c16",
   "metadata": {},
   "outputs": [],
   "source": [
    "countries = gpd.read_file(COUNTRIES).set_index(\"name\")\n",
    "regions = gpd.read_file(REGIONS).set_index(\"name\")\n",
    "eez = gpd.read_file(EEZ).set_index(\"name\")\n",
    "offregions = gpd.read_file(OFFREGIONS).set_index(\"name\")"
   ]
  },
  {
   "cell_type": "code",
   "execution_count": null,
   "id": "6dfe5a91-9f74-4b50-b01c-e54c4f1d63fc",
   "metadata": {},
   "outputs": [],
   "source": [
    "def eligibility(shapes, config, crs, res):\n",
    "\n",
    "    excluder = atlite.ExclusionContainer(crs=crs, res=res)\n",
    "\n",
    "    shapes = shapes.geometry.to_crs(excluder.crs)\n",
    "\n",
    "    if config[\"natura\"]:\n",
    "        excluder.add_raster(NATURA, nodata=0, allow_no_overlap=True)\n",
    "\n",
    "    corine = config.get(\"corine\", {})\n",
    "\n",
    "    if \"grid_codes\" in corine:\n",
    "        codes = corine[\"grid_codes\"]\n",
    "        excluder.add_raster(CORINE, codes=codes, invert=True, crs=3035)\n",
    "    if corine.get(\"distance\", 0.0) > 0.0:\n",
    "        codes = corine[\"distance_grid_codes\"]\n",
    "        buffer = corine[\"distance\"]\n",
    "        excluder.add_raster(CORINE, codes=codes, buffer=buffer, crs=3035)\n",
    "\n",
    "    if \"max_depth\" in config:\n",
    "        func = functools.partial(np.greater, -config[\"max_depth\"])\n",
    "        excluder.add_raster(GEBCO, codes=func, crs=4236, nodata=-1000)\n",
    "\n",
    "    if \"min_shore_distance\" in config:\n",
    "        buffer = config[\"min_shore_distance\"]\n",
    "        excluder.add_geometry(COUNTRIES, buffer=buffer)\n",
    "\n",
    "    if \"max_shore_distance\" in config:\n",
    "        buffer = config[\"max_shore_distance\"]\n",
    "        excluder.add_geometry(COUNTRIES, buffer=buffer, invert=True)\n",
    "\n",
    "    masked, transform = shape_availability(shapes, excluder)\n",
    "\n",
    "    return masked, transform"
   ]
  },
  {
   "cell_type": "code",
   "execution_count": null,
   "id": "54fd7a68-ad4d-4656-a35c-eff6d3e6b84b",
   "metadata": {},
   "outputs": [],
   "source": [
    "def plot(masked, transform, countries, eez, size=60, fn=None):\n",
    "\n",
    "    fig, ax = plt.subplots(figsize=(size, size))\n",
    "\n",
    "    countries = countries.geometry.to_crs(CRS)\n",
    "    eez = eez.geometry.to_crs(CRS)\n",
    "\n",
    "    show(masked, transform=transform, cmap=\"Greens\", ax=ax)\n",
    "\n",
    "    contour_kws = dict(edgecolor=\"k\", linewidth=2, color=\"None\")\n",
    "    countries.plot(ax=ax, **contour_kws)\n",
    "    if \"off\" in tech:\n",
    "        eez.plot(ax=ax, **contour_kws)\n",
    "\n",
    "    plt.box(False)\n",
    "    plt.axis(\"off\")\n",
    "    if fn is not None:\n",
    "        plt.savefig(fn, bbox_inches=\"tight\")"
   ]
  },
  {
   "cell_type": "code",
   "execution_count": null,
   "id": "4861448f-5c31-4362-9596-3c442263e01b",
   "metadata": {},
   "outputs": [],
   "source": [
    "def save(masked, transform, fn, crs):\n",
    "\n",
    "    ds = rasterio.open(\n",
    "        fn,\n",
    "        \"w\",\n",
    "        driver=\"GTiff\",\n",
    "        height=masked.shape[0],\n",
    "        width=masked.shape[1],\n",
    "        count=1,\n",
    "        dtype=str(masked.dtype),\n",
    "        crs=CRS,\n",
    "        transform=transform,\n",
    "    )\n",
    "\n",
    "    ds.write(masked, 1)\n",
    "    ds.close()"
   ]
  },
  {
   "cell_type": "code",
   "execution_count": null,
   "id": "0565ee57-4561-48fe-a922-f29c5e18efa0",
   "metadata": {},
   "outputs": [],
   "source": [
    "for tech in TECHS:\n",
    "\n",
    "    print(tech)\n",
    "\n",
    "    config = C[tech]\n",
    "    shapes = offregions if \"off\" in tech else regions\n",
    "    masked, transform = eligibility(shapes, config, CRS, RES)\n",
    "\n",
    "    for size in SIZES:\n",
    "        print(f\"- plot {size}\")\n",
    "        fn = f\"../results/graphics/eligibility-{tech}-{RES}-{size}.pdf\"\n",
    "        plot(masked, transform, countries, eez, size, fn)\n",
    "\n",
    "    print(\"- save raster\")\n",
    "    fn = f\"../results/data/eligibility-{tech}-{RES}.tif\"\n",
    "    save(masked, transform, fn, CRS)"
   ]
  },
  {
   "cell_type": "code",
   "execution_count": null,
   "id": "f0b1cee5-4565-4f24-9c29-340d54a3d4bd",
   "metadata": {},
   "outputs": [],
   "source": [
    "if \"ds\" in globals():\n",
    "    ds.close()\n",
    "ds = rxr.open_rasterio(\"../results/data/eligibility-onwind-1000.tif\")"
   ]
  },
  {
   "cell_type": "code",
   "execution_count": null,
   "id": "f551885b-c285-48fe-a8ce-b1ba64364c4d",
   "metadata": {},
   "outputs": [],
   "source": [
    "ds.sel(band=1).hvplot(\n",
    "    x=\"x\",\n",
    "    y=\"y\",\n",
    "    tiles=\"OSM\",\n",
    "    geo=True,\n",
    "    crs=CRS,\n",
    "    alpha=0.5,\n",
    "    frame_height=800,\n",
    "    colorbar=False,\n",
    "    legend=False,\n",
    "    hover=False,\n",
    "    title=\"Available Land\",\n",
    "    cmap=\"Greens\",\n",
    "    # dynamic=False,\n",
    "    # rasterize=True,\n",
    "    # project=True,\n",
    ").opts(active_tools=[\"pan\", \"wheel_zoom\"])"
   ]
  },
  {
   "cell_type": "code",
   "execution_count": null,
   "id": "8bb53744-71ca-4384-863e-c608f6507694",
   "metadata": {},
   "outputs": [],
   "source": []
  },
  {
   "cell_type": "code",
   "execution_count": null,
   "id": "b177e78e-7db5-4ede-a5b6-aec1d926a0db",
   "metadata": {},
   "outputs": [],
   "source": []
  }
 ],
 "metadata": {
  "kernelspec": {
   "display_name": "Python 3 (ipykernel)",
   "language": "python",
   "name": "python3"
  },
  "language_info": {
   "codemirror_mode": {
    "name": "ipython",
    "version": 3
   },
   "file_extension": ".py",
   "mimetype": "text/x-python",
   "name": "python",
   "nbconvert_exporter": "python",
   "pygments_lexer": "ipython3",
   "version": "3.9.7"
  }
 },
 "nbformat": 4,
 "nbformat_minor": 5
}
