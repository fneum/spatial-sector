{
 "cells": [
  {
   "cell_type": "code",
   "execution_count": null,
   "id": "d319d7d7-1a16-46a2-aaae-824930485e1f",
   "metadata": {},
   "outputs": [],
   "source": [
    "import pypsa\n",
    "import yaml\n",
    "import cartopy\n",
    "import sys\n",
    "import re\n",
    "import os\n",
    "\n",
    "import pandas as pd\n",
    "import numpy as np\n",
    "import geopandas as gpd\n",
    "import xarray as xr\n",
    "import cartopy.crs as ccrs\n",
    "import matplotlib.pyplot as plt\n",
    "\n",
    "from itertools import product\n",
    "from matplotlib.lines import Line2D\n",
    "from vresutils.costdata import annuity\n",
    "\n",
    "PATH = \"../../../playgrounds/pr/pypsa-eur-sec/\"\n",
    "\n",
    "sys.path.append(os.path.join(PATH, \"scripts/\"))\n",
    "from plot_summary import rename_techs\n",
    "\n",
    "plt.style.use([\"bmh\", \"matplotlibrc\"])\n",
    "xr.set_options(display_style=\"html\")\n",
    "\n",
    "%matplotlib inline"
   ]
  },
  {
   "cell_type": "code",
   "execution_count": null,
   "id": "3dab3dea-8c21-469e-81a8-1b7f17fac1cb",
   "metadata": {},
   "outputs": [],
   "source": [
    "CLUSTERS = 181\n",
    "LV_OPTS = \"Co2L0-3H-T-H-B-I-A-solar+p3-linemaxext10\"\n",
    "OUTPUT = \"../results/graphics/\"\n",
    "\n",
    "H2_SCENARIOS = PATH + \"results/20211218-181-h2\"\n",
    "DEC_SCENARIOS = PATH + \"results/20211218-181-decentral\"\n",
    "LV_SCENARIOS = PATH + \"results/20211218-181-lv\"\n",
    "ONW_SCENARIOS = PATH + \"results/20211218-181-onw\"\n",
    "GAS_SCENARIOS = PATH + \"results/20211218-181-gas\""
   ]
  },
  {
   "cell_type": "code",
   "execution_count": null,
   "id": "f22393b4-8790-4f6c-8712-5649b6d84706",
   "metadata": {},
   "outputs": [],
   "source": [
    "with open(PATH + \"config.yaml\") as file:\n",
    "    config = yaml.safe_load(file)"
   ]
  },
  {
   "cell_type": "code",
   "execution_count": null,
   "id": "21ac38fa-607a-4b77-9ca8-f00a2732146c",
   "metadata": {},
   "outputs": [],
   "source": [
    "def rename_techs_tyndp(tech):\n",
    "    tech = rename_techs(tech)\n",
    "    if \"heat pump\" in tech or \"resistive heater\" in tech:\n",
    "        return \"power-to-heat\"\n",
    "    elif tech in [\"H2 Electrolysis\", \"methanation\", \"helmeth\", \"H2 liquefaction\"]:\n",
    "        return \"power-to-gas\"\n",
    "    elif \"H2 pipeline\" in tech:\n",
    "        return \"H2 pipeline\"\n",
    "    elif tech == \"H2\":\n",
    "        return \"H2 storage\"\n",
    "    elif tech in [\"OCGT\", \"CHP\", \"gas boiler\", \"H2 Fuel Cell\"]:\n",
    "        return \"gas-to-power/heat\"\n",
    "    elif \"solar\" in tech:\n",
    "        return \"solar\"\n",
    "    elif tech == \"Fischer-Tropsch\":\n",
    "        return \"power-to-liquid\"\n",
    "    elif \"offshore wind\" in tech:\n",
    "        return \"offshore wind\"\n",
    "    elif \"CC\" in tech or \"sequestration\" in tech:\n",
    "        return \"CCS\"\n",
    "    else:\n",
    "        return tech"
   ]
  },
  {
   "cell_type": "code",
   "execution_count": null,
   "id": "143ef3c4-7385-4480-a870-1f3f5f9cd278",
   "metadata": {},
   "outputs": [],
   "source": [
    "preferred_order = pd.Index(\n",
    "    [\n",
    "        \"transmission lines\",\n",
    "        \"electricity distribution grid\",\n",
    "        \"hydroelectricity\",\n",
    "        \"hydro reservoir\",\n",
    "        \"run of river\",\n",
    "        \"pumped hydro storage\",\n",
    "        \"solid biomass\",\n",
    "        \"biogas\",\n",
    "        \"onshore wind\",\n",
    "        \"offshore wind\",\n",
    "        \"offshore wind (AC)\",\n",
    "        \"offshore wind (DC)\",\n",
    "        \"solar PV\",\n",
    "        \"solar thermal\",\n",
    "        \"solar rooftop\",\n",
    "        \"solar\",\n",
    "        \"building retrofitting\" \"ground heat pump\",\n",
    "        \"air heat pump\",\n",
    "        \"heat pump\",\n",
    "        \"resistive heater\",\n",
    "        \"power-to-heat\",\n",
    "        \"gas-to-power/heat\",\n",
    "        \"CHP\",\n",
    "        \"OCGT\",\n",
    "        \"gas boiler\",\n",
    "        \"gas\",\n",
    "        \"natural gas\",\n",
    "        \"helmeth\",\n",
    "        \"methanation\",\n",
    "        \"power-to-gas\",\n",
    "        \"power-to-H2\",\n",
    "        \"H2 pipeline\",\n",
    "        \"H2 liquefaction\",\n",
    "        \"H2 storage\",\n",
    "        \"hydrogen storage\",\n",
    "        \"power-to-liquid\",\n",
    "        \"battery storage\",\n",
    "        \"hot water storage\",\n",
    "        \"CO2 sequestration\",\n",
    "        \"CCS\",\n",
    "    ]\n",
    ")"
   ]
  },
  {
   "cell_type": "markdown",
   "id": "67d40c02-ad31-4c81-85dc-05beb1e2c0a1",
   "metadata": {},
   "source": [
    "## Line Volume Sensitivity"
   ]
  },
  {
   "cell_type": "code",
   "execution_count": null,
   "id": "eec11dc5-82dd-4ca6-8eaa-6e34fa20c995",
   "metadata": {},
   "outputs": [],
   "source": [
    "costs = pd.read_csv(\n",
    "    LV_SCENARIOS + \"/csvs/costs.csv\", header=[0, 1, 2, 3], index_col=[0, 1, 2]\n",
    ")"
   ]
  },
  {
   "cell_type": "code",
   "execution_count": null,
   "id": "c11f7929-cd5b-4cf7-9110-53429b5e036b",
   "metadata": {},
   "outputs": [],
   "source": [
    "costs = costs[str(CLUSTERS)].rename(lambda x: float(x), axis=1, level=0)"
   ]
  },
  {
   "cell_type": "code",
   "execution_count": null,
   "id": "30b4aa10-59fc-4542-b573-0a4cb2893158",
   "metadata": {},
   "outputs": [],
   "source": [
    "df = (\n",
    "    costs.xs(LV_OPTS, level=\"opt\", axis=1)\n",
    "    .xs(\"2030\", level=\"planning_horizon\", axis=1)\n",
    "    .groupby(level=2)\n",
    "    .sum()\n",
    "    .div(1e9)\n",
    ")"
   ]
  },
  {
   "cell_type": "code",
   "execution_count": null,
   "id": "ebefebc9-4c9d-4e7e-9e59-b764896f5177",
   "metadata": {},
   "outputs": [],
   "source": [
    "df = df.groupby(df.index.map(rename_techs_tyndp)).sum()"
   ]
  },
  {
   "cell_type": "code",
   "execution_count": null,
   "id": "d7ac1350-65ab-47bb-aded-cb885bdc2517",
   "metadata": {},
   "outputs": [],
   "source": [
    "df.sum()"
   ]
  },
  {
   "cell_type": "code",
   "execution_count": null,
   "id": "ca19b2fb-bde6-4358-89bf-db995eabfb43",
   "metadata": {},
   "outputs": [],
   "source": [
    "df.sum() - df.sum().max()"
   ]
  },
  {
   "cell_type": "code",
   "execution_count": null,
   "id": "4f9e9fb6-4bba-4829-9392-52266ab85e99",
   "metadata": {},
   "outputs": [],
   "source": [
    "(1 - df.sum() / df.sum().max()) * 100"
   ]
  },
  {
   "cell_type": "code",
   "execution_count": null,
   "id": "da95b708-443b-4790-8785-993a8228fcb2",
   "metadata": {},
   "outputs": [],
   "source": [
    "to_drop = df.index[df.max(axis=1).fillna(0.0) < 1.2]\n",
    "to_drop = to_drop.difference(\n",
    "    [\"DAC\", \"hot water storage\"]\n",
    ")  # exclude dropping to align with onwind sensitivity...\n",
    "df.drop(to_drop, inplace=True)"
   ]
  },
  {
   "cell_type": "code",
   "execution_count": null,
   "id": "e63c0f05-7af3-4fe4-a469-d2b14a7d6730",
   "metadata": {},
   "outputs": [],
   "source": [
    "order = preferred_order.intersection(df.index).append(\n",
    "    df.index.difference(preferred_order)\n",
    ")\n",
    "df = df.loc[order]"
   ]
  },
  {
   "cell_type": "code",
   "execution_count": null,
   "id": "81862c46-5406-4ca1-b601-1b176edd48d9",
   "metadata": {},
   "outputs": [],
   "source": [
    "fig, ax = plt.subplots(figsize=(6, 4.5))\n",
    "\n",
    "to_plot = df.T.sort_index()\n",
    "\n",
    "tech_colors = config[\"plotting\"][\"tech_colors\"]\n",
    "colors = [tech_colors[i] for i in df.index]\n",
    "\n",
    "to_plot.plot.area(ax=ax, stacked=True, linewidth=0, color=colors)\n",
    "\n",
    "handles, labels = ax.get_legend_handles_labels()\n",
    "\n",
    "handles.reverse()\n",
    "labels.reverse()\n",
    "\n",
    "ax.set_xlim(1, 2)\n",
    "ax.set_xlabel(\"Line volume limit (multiple of today's volume)\")\n",
    "\n",
    "ax.set_ylim([0, 1000])\n",
    "ax.set_ylabel(\"System Cost [EUR billion per year]\")\n",
    "ax.grid(axis=\"y\")\n",
    "\n",
    "ax.axvline(1.25, color=\"k\", linestyle=\"--\", linewidth=1)\n",
    "\n",
    "ax.text(1.275, 810, \"TYNDP equivalent\", size=13, color=\"k\")\n",
    "\n",
    "# legend on side\n",
    "# ax.legend(handles, labels, ncol=1, frameon=False, bbox_to_anchor=(1,1.05))\n",
    "\n",
    "for i in [\"top\", \"right\", \"left\", \"bottom\"]:\n",
    "    ax.spines[i].set_visible(False)\n",
    "\n",
    "# legend inside\n",
    "ax.legend(handles, labels, ncol=3, frameon=False, bbox_to_anchor=(1.1, 1.48))\n",
    "\n",
    "ax.set_axisbelow(False)\n",
    "\n",
    "fig.savefig(OUTPUT + \"lv-sensitivity.pdf\", bbox_inches=\"tight\")"
   ]
  },
  {
   "cell_type": "markdown",
   "id": "63ffab26-ad74-4775-8ffb-d81493b50ecb",
   "metadata": {},
   "source": [
    "## Onshore Wind Sensitivity"
   ]
  },
  {
   "cell_type": "code",
   "execution_count": null,
   "id": "c6c71dd4-3c5f-4a64-b355-3b4658d79ced",
   "metadata": {},
   "outputs": [],
   "source": [
    "costs = pd.read_csv(\n",
    "    ONW_SCENARIOS + \"/csvs/costs.csv\", header=[0, 1, 2, 3], index_col=[0, 1, 2]\n",
    ")"
   ]
  },
  {
   "cell_type": "code",
   "execution_count": null,
   "id": "27e7e0a7-c1c3-4397-9513-2c0fe3081bcd",
   "metadata": {},
   "outputs": [],
   "source": [
    "costs = costs.xs(\n",
    "    (str(CLUSTERS), \"1.25\", \"2030\"), level=[\"cluster\", \"lv\", \"planning_horizon\"], axis=1\n",
    ")"
   ]
  },
  {
   "cell_type": "code",
   "execution_count": null,
   "id": "2fd7b8ee-8d6c-4408-aa2b-70e0d5567414",
   "metadata": {},
   "outputs": [],
   "source": [
    "costs.columns = [\n",
    "    100 * float(re.search(r\"onwind\\+p([0-9.]*)\", c).groups()[0]) for c in costs.columns\n",
    "]"
   ]
  },
  {
   "cell_type": "code",
   "execution_count": null,
   "id": "d0009c57-bf47-45ef-a5f5-9700ddfacadc",
   "metadata": {},
   "outputs": [],
   "source": [
    "df = costs.groupby(level=2).sum().div(1e9)"
   ]
  },
  {
   "cell_type": "code",
   "execution_count": null,
   "id": "a4d48b62-a968-473f-b361-5ccf483de53e",
   "metadata": {},
   "outputs": [],
   "source": [
    "df = df.groupby(df.index.map(rename_techs_tyndp)).sum()"
   ]
  },
  {
   "cell_type": "code",
   "execution_count": null,
   "id": "dd39c1ce-5036-45b5-9c59-7aaebb86bf1e",
   "metadata": {},
   "outputs": [],
   "source": [
    "df.sum()"
   ]
  },
  {
   "cell_type": "code",
   "execution_count": null,
   "id": "d5132ecb-b7c9-4e2b-9f80-02c5e48f7a76",
   "metadata": {},
   "outputs": [],
   "source": [
    "df.sum() - df.sum().max()"
   ]
  },
  {
   "cell_type": "code",
   "execution_count": null,
   "id": "76c00169-72cb-41ee-89d5-ad78a7461299",
   "metadata": {},
   "outputs": [],
   "source": [
    "(1 - df.sum() / df.sum().max()) * 100"
   ]
  },
  {
   "cell_type": "code",
   "execution_count": null,
   "id": "d182a105-f710-4d60-ae66-2f4b3e733abb",
   "metadata": {},
   "outputs": [],
   "source": [
    "to_drop = df.index[df.max(axis=1).fillna(0.0) < 1.2]\n",
    "print(to_drop)\n",
    "df.drop(to_drop, inplace=True)"
   ]
  },
  {
   "cell_type": "code",
   "execution_count": null,
   "id": "f6ee99de-e60a-4b1d-b597-63d5786083d4",
   "metadata": {},
   "outputs": [],
   "source": [
    "order = preferred_order.intersection(df.index).append(\n",
    "    df.index.difference(preferred_order)\n",
    ")\n",
    "df = df.loc[order]"
   ]
  },
  {
   "cell_type": "code",
   "execution_count": null,
   "id": "e21208cf-a338-4e14-a437-78d3eb933ab9",
   "metadata": {},
   "outputs": [],
   "source": [
    "fig, ax = plt.subplots(figsize=(6, 4.5))\n",
    "\n",
    "to_plot = df.T.sort_index()\n",
    "\n",
    "tech_colors = config[\"plotting\"][\"tech_colors\"]\n",
    "colors = [tech_colors[i] for i in df.index]\n",
    "\n",
    "to_plot.plot.area(ax=ax, stacked=True, linewidth=0, color=colors)\n",
    "\n",
    "handles, labels = ax.get_legend_handles_labels()\n",
    "\n",
    "handles.reverse()\n",
    "labels.reverse()\n",
    "\n",
    "ax.set_xlim(0, 100)\n",
    "ax.set_xlabel(\"Fraction of technical onshore wind potential available [%]\")\n",
    "\n",
    "ax.set_ylim(0, 1000)\n",
    "ax.set_ylabel(\"System Cost [EUR billion per year]\")\n",
    "ax.grid(axis=\"y\")\n",
    "\n",
    "ax.axvline(25, color=\"k\", linestyle=\"--\", linewidth=1)\n",
    "\n",
    "ax.text(27.5, 900, \"compromise social potential\", size=13, color=\"k\")\n",
    "\n",
    "# legend on side\n",
    "# ax.legend(handles, labels, ncol=1, frameon=False, bbox_to_anchor=(1,1.05))\n",
    "\n",
    "for i in [\"top\", \"right\", \"left\", \"bottom\"]:\n",
    "    ax.spines[i].set_visible(False)\n",
    "\n",
    "# legend inside\n",
    "ax.legend(handles, labels, ncol=3, frameon=False, bbox_to_anchor=(1.1, 1.48))\n",
    "\n",
    "ax.set_axisbelow(False)\n",
    "\n",
    "fig.savefig(OUTPUT + \"onw-sensitivity.pdf\", bbox_inches=\"tight\")"
   ]
  },
  {
   "cell_type": "markdown",
   "id": "72b5054b-b950-4c4d-aa8d-9ad5769b2e91",
   "metadata": {},
   "source": [
    "## H2 Network Scenarios"
   ]
  },
  {
   "cell_type": "code",
   "execution_count": null,
   "id": "5c0ae828-525f-47a5-a3d4-a8941239646a",
   "metadata": {},
   "outputs": [],
   "source": [
    "costs = pd.read_csv(\n",
    "    H2_SCENARIOS + \"/csvs/costs.csv\", header=[0, 1, 2, 3], index_col=[0, 1, 2]\n",
    ")"
   ]
  },
  {
   "cell_type": "code",
   "execution_count": null,
   "id": "0dbc57ab-5a80-4605-9d59-f20919b7fad7",
   "metadata": {},
   "outputs": [],
   "source": [
    "costs = costs.xs((str(CLUSTERS), \"2030\"), level=[\"cluster\", \"planning_horizon\"], axis=1)"
   ]
  },
  {
   "cell_type": "code",
   "execution_count": null,
   "id": "7101b790-216b-4fa1-bcd1-772a9c9b0f5b",
   "metadata": {},
   "outputs": [],
   "source": [
    "def parse_index(c):\n",
    "\n",
    "    lv = c[0]\n",
    "\n",
    "    match = re.search(r\"onwind\\+p([0-9.]*)\", c[1])\n",
    "    onw = 100.0 if match is None else 100 * float(match.groups()[0])\n",
    "\n",
    "    h2 = \"no H2 grid\" if \"noH2network\" in c[1] else \"H2 grid\"\n",
    "\n",
    "    return (lv, onw, h2)"
   ]
  },
  {
   "cell_type": "code",
   "execution_count": null,
   "id": "f98fadcc-d493-42ff-b52a-110ef68ef7f3",
   "metadata": {},
   "outputs": [],
   "source": [
    "costs.columns = pd.MultiIndex.from_tuples(\n",
    "    [parse_index(c) for c in costs.columns], names=[\"lv\", \"onw\", \"h2\"]\n",
    ")"
   ]
  },
  {
   "cell_type": "code",
   "execution_count": null,
   "id": "fe875e3f-3e87-41c2-a34f-0acecdf04d87",
   "metadata": {},
   "outputs": [],
   "source": [
    "df = costs.groupby(level=2).sum().div(1e9)"
   ]
  },
  {
   "cell_type": "code",
   "execution_count": null,
   "id": "eae3023f-9ad0-4c57-a2cf-7acd78db4498",
   "metadata": {},
   "outputs": [],
   "source": [
    "df.loc[\"H2 pipeline retrofitted\"]"
   ]
  },
  {
   "cell_type": "code",
   "execution_count": null,
   "id": "2f824f67-4ccc-4356-9f79-f8ffaff63d28",
   "metadata": {},
   "outputs": [],
   "source": [
    "df = df.groupby(df.index.map(rename_techs_tyndp)).sum()"
   ]
  },
  {
   "cell_type": "code",
   "execution_count": null,
   "id": "b6c9f9ba-83d4-4e6e-80b8-17397f55bdb0",
   "metadata": {},
   "outputs": [],
   "source": [
    "df.sum().sort_values()"
   ]
  },
  {
   "cell_type": "code",
   "execution_count": null,
   "id": "abe9b3e6-e51a-4b07-996c-2c9bad26ea94",
   "metadata": {},
   "outputs": [],
   "source": [
    "dff = df.sum().unstack(\"h2\")"
   ]
  },
  {
   "cell_type": "code",
   "execution_count": null,
   "id": "b417ca11-2141-4b9e-82fa-0241c3496779",
   "metadata": {},
   "outputs": [],
   "source": [
    "rel_advantage = (((dff[\"no H2 grid\"] / dff[\"H2 grid\"] - 1) * 100).round(1)).unstack().T\n",
    "rel_advantage"
   ]
  },
  {
   "cell_type": "code",
   "execution_count": null,
   "id": "314f3240-2b68-4780-8fc2-5c19a714d77e",
   "metadata": {},
   "outputs": [],
   "source": [
    "abs_advantage = ((dff[\"no H2 grid\"] - dff[\"H2 grid\"]).round().astype(int)).unstack().T\n",
    "abs_advantage"
   ]
  },
  {
   "cell_type": "code",
   "execution_count": null,
   "id": "4c58c8e5-72e4-4dc9-afa1-5a5863f7cbc5",
   "metadata": {},
   "outputs": [],
   "source": [
    "(df.sum() - df.sum().max()).sort_values().round()"
   ]
  },
  {
   "cell_type": "code",
   "execution_count": null,
   "id": "604ff07d-e746-47a3-8f04-c6d101c59302",
   "metadata": {},
   "outputs": [],
   "source": [
    "((1 - df.sum() / df.sum().max()) * 100).sort_values().round()"
   ]
  },
  {
   "cell_type": "code",
   "execution_count": null,
   "id": "17254f81-3979-4980-9faa-e5ccd7bc702c",
   "metadata": {},
   "outputs": [],
   "source": [
    "x = df.sum().xs(100.0, level=\"onw\")\n",
    "xx = x / x.min()\n",
    "xx.unstack().round(2)"
   ]
  },
  {
   "cell_type": "code",
   "execution_count": null,
   "id": "83cf72f5-da72-4a27-825e-4efd5ef442ad",
   "metadata": {},
   "outputs": [],
   "source": [
    "to_drop = df.index[df.max(axis=1).fillna(0.0) < 1.2]\n",
    "print(to_drop)\n",
    "df.drop(to_drop, inplace=True)"
   ]
  },
  {
   "cell_type": "code",
   "execution_count": null,
   "id": "3b29bfbb-079a-4c7f-b9c1-21a1e1c38986",
   "metadata": {},
   "outputs": [],
   "source": [
    "order = preferred_order.intersection(df.index).append(\n",
    "    df.index.difference(preferred_order)\n",
    ")\n",
    "df = df.loc[order]"
   ]
  },
  {
   "cell_type": "code",
   "execution_count": null,
   "id": "afe04628-0fc5-494f-b632-3d4db079cd28",
   "metadata": {},
   "outputs": [],
   "source": [
    "tech_colors = config[\"plotting\"][\"tech_colors\"]\n",
    "colors = [tech_colors[i] for i in df.index]"
   ]
  },
  {
   "cell_type": "code",
   "execution_count": null,
   "id": "4adeca65-101d-4d14-84b2-10caf74c8a64",
   "metadata": {},
   "outputs": [],
   "source": [
    "xx = enumerate(df.columns.get_level_values(\"lv\").unique()[::-1])\n",
    "yy = enumerate(df.columns.get_level_values(\"onw\").unique())\n",
    "\n",
    "fig, axs = plt.subplots(2, 2, figsize=(5, 5), sharex=True, sharey=True)\n",
    "\n",
    "kwargs = dict(stacked=True, color=colors, ylim=(0, 1100), legend=False)\n",
    "\n",
    "for x, y in product(xx, yy):\n",
    "\n",
    "    ax = axs[x[0], y[0]]\n",
    "\n",
    "    toprow_kwargs = (\n",
    "        dict(title=f\"onshore wind\\n{int(y[1])}% potential\\n\") if x[0] == 0 else {}\n",
    "    )\n",
    "\n",
    "    ylabel_value = \"optimal\" if x[1] == \"opt\" else f\"{100 * float(x[1]) - 100:.{0}f}%\"\n",
    "\n",
    "    to_plot = df.xs((x[1], y[1]), axis=1, level=[\"lv\", \"onw\"]).T.sort_index(\n",
    "        ascending=True\n",
    "    )\n",
    "    to_plot.plot.bar(\n",
    "        ax=ax,\n",
    "        **kwargs,\n",
    "        ylabel=f\"line expansion\\n{ylabel_value}\\n\\nbn€/a\",\n",
    "        **toprow_kwargs,\n",
    "    )\n",
    "\n",
    "    ax.set_xlabel(\"\", rotation=0)\n",
    "\n",
    "    ax.tick_params(labelrotation=0)\n",
    "\n",
    "    ax.grid(axis=\"y\")\n",
    "    ax.title.set_size(11)\n",
    "\n",
    "    # ax.patch.set_visible(False)\n",
    "\n",
    "    for i in [\"top\", \"right\", \"left\", \"bottom\"]:\n",
    "        ax.spines[i].set_visible(False)\n",
    "\n",
    "    label = f\"+ {rel_advantage.loc[y[1],x[1]]}%\\n+ {abs_advantage.loc[y[1],x[1]]}\"\n",
    "    ax.text(0.31, 825, label, size=8.5, color=\"k\")\n",
    "\n",
    "\n",
    "handles, labels = ax.get_legend_handles_labels()\n",
    "handles.reverse()\n",
    "labels.reverse()\n",
    "fig.legend(handles, labels, bbox_to_anchor=(1.44, 0.9))\n",
    "\n",
    "plt.tight_layout()\n",
    "\n",
    "plt.savefig(OUTPUT + \"sensitivity-h2.pdf\", bbox_inches=\"tight\")"
   ]
  },
  {
   "cell_type": "markdown",
   "id": "44b13092-421e-4a87-8cf9-a4907751a309",
   "metadata": {},
   "source": [
    "### H2 vs Electricity Grid"
   ]
  },
  {
   "cell_type": "code",
   "execution_count": null,
   "id": "f6da2824-2d76-4b10-8342-3d83c6c11e9b",
   "metadata": {},
   "outputs": [],
   "source": [
    "levels = [\"lv\", \"onw\", \"h2\"]"
   ]
  },
  {
   "cell_type": "code",
   "execution_count": null,
   "id": "8f1b7027-d171-45dd-b752-91649c68649f",
   "metadata": {},
   "outputs": [],
   "source": [
    "scenA = df.xs((\"1.0\", 100.0, \"H2 grid\"), level=levels, axis=1)\n",
    "scenB = df.xs((\"opt\", 100.0, \"no H2 grid\"), level=levels, axis=1)"
   ]
  },
  {
   "cell_type": "code",
   "execution_count": null,
   "id": "17affa4f-ee7e-4cdd-8604-3f1bf3edc42f",
   "metadata": {},
   "outputs": [],
   "source": [
    "scenA.columns = [\"no electricity grid exp.\\nH2 grid exp.\"]\n",
    "scenB.columns = [\"electricity grid exp.\\nno H2 grid exp.\"]"
   ]
  },
  {
   "cell_type": "code",
   "execution_count": null,
   "id": "0699e3b8-dc09-44b7-8cb9-9b5279d8f929",
   "metadata": {},
   "outputs": [],
   "source": [
    "to_plot = pd.concat([scenB, scenA], axis=1).T"
   ]
  },
  {
   "cell_type": "code",
   "execution_count": null,
   "id": "541b463c-1f9a-4052-9e32-83c91f98f459",
   "metadata": {},
   "outputs": [],
   "source": [
    "tsc = to_plot.sum(axis=1)"
   ]
  },
  {
   "cell_type": "code",
   "execution_count": null,
   "id": "d62a102d-ef18-492d-965e-8ccb39c9910c",
   "metadata": {},
   "outputs": [],
   "source": [
    "diff_rel = (100 * tsc / tsc.min() - 100).round(1)[1]"
   ]
  },
  {
   "cell_type": "code",
   "execution_count": null,
   "id": "4b5cd25b-620c-4372-80af-15a6747a40a5",
   "metadata": {},
   "outputs": [],
   "source": [
    "diff_abs = (tsc - tsc.min()).round(1)[1]"
   ]
  },
  {
   "cell_type": "code",
   "execution_count": null,
   "id": "8ffe6a1f-5362-4f78-8d0d-0780d3d5a770",
   "metadata": {},
   "outputs": [],
   "source": [
    "fig, ax = plt.subplots(figsize=(6.5, 5))\n",
    "\n",
    "to_plot.plot.bar(\n",
    "    ax=ax, stacked=True, color=colors, ylim=(0, 900), ylabel=\"total system cost [bn€/a]\"\n",
    ")\n",
    "\n",
    "handles, labels = ax.get_legend_handles_labels()\n",
    "handles.reverse()\n",
    "labels.reverse()\n",
    "plt.legend(handles, labels, bbox_to_anchor=(1, 1.02))\n",
    "\n",
    "label = f\"+ {diff_rel}%\"\n",
    "ax.text(0.28, 820, label, size=11, color=\"#444444\")\n",
    "\n",
    "label = f\"+ {diff_abs} bn€/a\"\n",
    "ax.text(0.28, 860, label, size=11, color=\"k\")\n",
    "\n",
    "ax.grid(axis=\"y\")\n",
    "plt.xticks(rotation=0, fontsize=11)\n",
    "plt.yticks(np.arange(0, 901, 100), fontsize=11)\n",
    "\n",
    "for i in [\"top\", \"right\", \"left\", \"bottom\"]:\n",
    "    ax.spines[i].set_visible(False)\n",
    "\n",
    "plt.tight_layout()\n",
    "\n",
    "plt.savefig(OUTPUT + \"h2-vs-elec-grid.pdf\", bbox_inches=\"tight\")"
   ]
  },
  {
   "cell_type": "markdown",
   "id": "711f4a3f-c5fe-4a05-b571-7e5885663fc5",
   "metadata": {},
   "source": [
    "### Growing Exclusion"
   ]
  },
  {
   "cell_type": "code",
   "execution_count": null,
   "id": "d72e86db-6eaf-47d4-8e19-332c61dc1d39",
   "metadata": {},
   "outputs": [],
   "source": [
    "kwargs = dict(level=[\"lv\", \"onw\", \"h2\"], axis=1)"
   ]
  },
  {
   "cell_type": "code",
   "execution_count": null,
   "id": "bf4bf1fa-512d-4f15-ab9d-e4f6987bdeba",
   "metadata": {},
   "outputs": [],
   "source": [
    "scenA = df.xs((\"opt\", 100.0, \"H2 grid\"), **kwargs)\n",
    "scenB = df.xs((\"1.0\", 100.0, \"H2 grid\"), **kwargs)\n",
    "scenC = df.xs((\"1.0\", 0.0, \"H2 grid\"), **kwargs)\n",
    "scenD = df.xs((\"1.0\", 0.0, \"no H2 grid\"), **kwargs)"
   ]
  },
  {
   "cell_type": "code",
   "execution_count": null,
   "id": "0c7b3aaa-11cd-4590-8034-269ec1ae6c79",
   "metadata": {},
   "outputs": [],
   "source": [
    "scenA.columns = [\"least-cost\"]\n",
    "scenB.columns = [\"no grid expansion\"]\n",
    "scenC.columns = [\"no grid expansion\\nno onshore wind\"]\n",
    "scenD.columns = [\"no grid expansion\\nno onshore wind\\nno hydrogen grid\"]"
   ]
  },
  {
   "cell_type": "code",
   "execution_count": null,
   "id": "4c4b4ae2-cdf1-4565-b5e8-eabf5dfae31b",
   "metadata": {},
   "outputs": [],
   "source": [
    "to_plot = pd.concat([scenA, scenB, scenC, scenD], axis=1).T"
   ]
  },
  {
   "cell_type": "code",
   "execution_count": null,
   "id": "5ee7e384-2294-42db-aa78-957ff842f854",
   "metadata": {},
   "outputs": [],
   "source": [
    "to_plot.loc[\"today\", \"today\"] = 700\n",
    "\n",
    "order = to_plot.index[:-1].insert(0, to_plot.index[-1])\n",
    "to_plot = to_plot.loc[order]"
   ]
  },
  {
   "cell_type": "code",
   "execution_count": null,
   "metadata": {},
   "outputs": [],
   "source": [
    "to_plot.sum(axis=1) / to_plot.sum(axis=1)[\"least-cost\"]"
   ]
  },
  {
   "cell_type": "code",
   "execution_count": null,
   "id": "a813e234-a71f-47ee-a5fb-305303138f08",
   "metadata": {},
   "outputs": [],
   "source": [
    "fig, ax = plt.subplots(figsize=(10, 5))\n",
    "\n",
    "to_plot.plot.bar(\n",
    "    ax=ax,\n",
    "    stacked=True,\n",
    "    color=colors,\n",
    "    ylim=(0, 1000),\n",
    "    ylabel=\"total system cost [bn€/a]\",\n",
    ")\n",
    "\n",
    "handles, labels = ax.get_legend_handles_labels()\n",
    "handles.reverse()\n",
    "labels.reverse()\n",
    "plt.legend(handles, labels, bbox_to_anchor=(1, 1.05))\n",
    "\n",
    "ax.grid(axis=\"y\")\n",
    "plt.xticks(rotation=0, fontsize=11)\n",
    "plt.yticks(np.arange(0, 1001, 100), fontsize=11)\n",
    "\n",
    "for i in [\"top\", \"right\", \"left\", \"bottom\"]:\n",
    "    ax.spines[i].set_visible(False)\n",
    "\n",
    "plt.tight_layout()\n",
    "\n",
    "plt.savefig(OUTPUT + \"growing-exclusion.pdf\", bbox_inches=\"tight\")"
   ]
  },
  {
   "cell_type": "markdown",
   "metadata": {},
   "source": [
    "## Decentral Scenarios"
   ]
  },
  {
   "cell_type": "code",
   "execution_count": null,
   "id": "5c0ae828-525f-47a5-a3d4-a8941239646a",
   "metadata": {},
   "outputs": [],
   "source": [
    "costs = pd.read_csv(\n",
    "    DEC_SCENARIOS + \"/csvs/costs.csv\", header=[0, 1, 2, 3], index_col=[0, 1, 2]\n",
    ")"
   ]
  },
  {
   "cell_type": "code",
   "execution_count": null,
   "id": "0dbc57ab-5a80-4605-9d59-f20919b7fad7",
   "metadata": {},
   "outputs": [],
   "source": [
    "costs = costs.xs((str(CLUSTERS), \"2030\"), level=[\"cluster\", \"planning_horizon\"], axis=1)"
   ]
  },
  {
   "cell_type": "code",
   "execution_count": null,
   "id": "7101b790-216b-4fa1-bcd1-772a9c9b0f5b",
   "metadata": {},
   "outputs": [],
   "source": [
    "def parse_index(c):\n",
    "\n",
    "    lv = c[0]\n",
    "\n",
    "    match = re.search(r\"onwind\\+p([0-9.]*)\", c[1])\n",
    "    onw = 100.0 if match is None else 100 * float(match.groups()[0])\n",
    "\n",
    "    h2 = \"no H2 grid\" if \"noH2network\" in c[1] else \"H2 grid\"\n",
    "\n",
    "    return (lv, onw, h2)"
   ]
  },
  {
   "cell_type": "code",
   "execution_count": null,
   "id": "f98fadcc-d493-42ff-b52a-110ef68ef7f3",
   "metadata": {},
   "outputs": [],
   "source": [
    "costs.columns = pd.MultiIndex.from_tuples(\n",
    "    [parse_index(c) for c in costs.columns], names=[\"lv\", \"onw\", \"h2\"]\n",
    ")"
   ]
  },
  {
   "cell_type": "code",
   "execution_count": null,
   "id": "fe875e3f-3e87-41c2-a34f-0acecdf04d87",
   "metadata": {},
   "outputs": [],
   "source": [
    "df = costs.groupby(level=2).sum().div(1e9)"
   ]
  },
  {
   "cell_type": "code",
   "execution_count": null,
   "id": "2f824f67-4ccc-4356-9f79-f8ffaff63d28",
   "metadata": {},
   "outputs": [],
   "source": [
    "df = df.groupby(df.index.map(rename_techs_tyndp)).sum()"
   ]
  },
  {
   "cell_type": "code",
   "execution_count": null,
   "metadata": {},
   "outputs": [],
   "source": [
    "df.sum() / df.sum().min()"
   ]
  },
  {
   "cell_type": "code",
   "execution_count": null,
   "id": "83cf72f5-da72-4a27-825e-4efd5ef442ad",
   "metadata": {},
   "outputs": [],
   "source": [
    "to_drop = df.index[df.max(axis=1).fillna(0.0) < 1.2]\n",
    "print(to_drop)\n",
    "df.drop(to_drop, inplace=True)"
   ]
  },
  {
   "cell_type": "code",
   "execution_count": null,
   "id": "3b29bfbb-079a-4c7f-b9c1-21a1e1c38986",
   "metadata": {},
   "outputs": [],
   "source": [
    "order = preferred_order.intersection(df.index).append(\n",
    "    df.index.difference(preferred_order)\n",
    ")\n",
    "df = df.loc[order]"
   ]
  },
  {
   "cell_type": "code",
   "execution_count": null,
   "id": "afe04628-0fc5-494f-b632-3d4db079cd28",
   "metadata": {},
   "outputs": [],
   "source": [
    "tech_colors = config[\"plotting\"][\"tech_colors\"]\n",
    "colors = [tech_colors[i] for i in df.index]"
   ]
  },
  {
   "cell_type": "code",
   "execution_count": null,
   "metadata": {},
   "outputs": [],
   "source": [
    "df.columns = df.columns.get_level_values(2)\n",
    "df.columns.name = \"\""
   ]
  },
  {
   "cell_type": "code",
   "execution_count": null,
   "metadata": {},
   "outputs": [],
   "source": [
    "to_plot = df.T"
   ]
  },
  {
   "cell_type": "code",
   "execution_count": null,
   "id": "541b463c-1f9a-4052-9e32-83c91f98f459",
   "metadata": {},
   "outputs": [],
   "source": [
    "tsc = to_plot.sum(axis=1)"
   ]
  },
  {
   "cell_type": "code",
   "execution_count": null,
   "id": "d62a102d-ef18-492d-965e-8ccb39c9910c",
   "metadata": {},
   "outputs": [],
   "source": [
    "diff_rel = (100 * tsc / tsc.min() - 100).round(1)[1]"
   ]
  },
  {
   "cell_type": "code",
   "execution_count": null,
   "id": "4b5cd25b-620c-4372-80af-15a6747a40a5",
   "metadata": {},
   "outputs": [],
   "source": [
    "diff_abs = (tsc - tsc.min()).round(1)[1]"
   ]
  },
  {
   "cell_type": "code",
   "execution_count": null,
   "id": "8ffe6a1f-5362-4f78-8d0d-0780d3d5a770",
   "metadata": {},
   "outputs": [],
   "source": [
    "fig, ax = plt.subplots(figsize=(6.5, 5))\n",
    "\n",
    "to_plot.plot.bar(\n",
    "    ax=ax,\n",
    "    stacked=True,\n",
    "    color=colors,\n",
    "    ylim=(0, 1000),\n",
    "    ylabel=\"total system cost [bn€/a]\",\n",
    ")\n",
    "\n",
    "handles, labels = ax.get_legend_handles_labels()\n",
    "handles.reverse()\n",
    "labels.reverse()\n",
    "plt.legend(handles, labels, bbox_to_anchor=(1, 1.02))\n",
    "\n",
    "label = f\"+ {diff_rel}%\"\n",
    "ax.text(0.2, 920, label, size=11, color=\"#444444\")\n",
    "\n",
    "label = f\"+ {diff_abs} bn€/a\"\n",
    "ax.text(0.2, 960, label, size=11, color=\"k\")\n",
    "\n",
    "ax.grid(axis=\"y\")\n",
    "plt.xticks(rotation=0, fontsize=11)\n",
    "plt.yticks(np.arange(0, 1001, 100), fontsize=11)\n",
    "\n",
    "for i in [\"top\", \"right\", \"left\", \"bottom\"]:\n",
    "    ax.spines[i].set_visible(False)\n",
    "\n",
    "plt.tight_layout()\n",
    "\n",
    "plt.savefig(OUTPUT + \"decentral.pdf\", bbox_inches=\"tight\")"
   ]
  },
  {
   "cell_type": "markdown",
   "id": "21683126-d5fe-4d9f-932b-e1635feeb4ad",
   "metadata": {
    "tags": []
   },
   "source": [
    "## TWkm"
   ]
  },
  {
   "cell_type": "code",
   "execution_count": null,
   "id": "47bdb692-8ed4-4a4d-9367-fce35aa9c676",
   "metadata": {},
   "outputs": [],
   "source": [
    "twkm = pd.read_csv(\"../data/twkm.csv\", index_col=[0, 1])"
   ]
  },
  {
   "cell_type": "code",
   "execution_count": null,
   "id": "c087e22e-2bf6-43b7-bcfa-011dfe00f3fd",
   "metadata": {},
   "outputs": [],
   "source": [
    "twkm[\"power transmission lines\"] = twkm[[\"AC\", \"DC\"]].sum(axis=1)\n",
    "twkm.drop([\"AC\", \"DC\"], axis=1, inplace=True)"
   ]
  },
  {
   "cell_type": "code",
   "execution_count": null,
   "id": "e57fb146-5bce-44e5-8c63-ad1d941a57ac",
   "metadata": {},
   "outputs": [],
   "source": [
    "twkm.rename({\"H2 pipeline\": \"hydrogen pipelines\"}, axis=1, inplace=True)"
   ]
  },
  {
   "cell_type": "code",
   "execution_count": null,
   "id": "92d68492-33ed-4f49-ac36-5481168a36fe",
   "metadata": {},
   "outputs": [],
   "source": [
    "nindex = [\"cost-optimal\\nexpansion\", \"+25% grid\\n(like TYNDP)\", \"no grid\\nexpansion\"]\n",
    "fig, ax = plt.subplots(\n",
    "    1, 2, sharey=True, figsize=(5.5, 3.5), gridspec_kw={\"width_ratios\": [2, 1]}\n",
    ")\n",
    "\n",
    "df = twkm.xs(\"yes\", level=\"h2\").sort_index(ascending=False, axis=1)\n",
    "df.index = nindex\n",
    "df.plot.bar(\n",
    "    ax=ax[0], color=[\"#6c9459\", \"#f081dc\"], edgecolor=\"k\", title=r\"H$_2$ network\"\n",
    ")\n",
    "\n",
    "\n",
    "df2 = twkm.xs(\"no\", level=\"h2\")[\"power transmission lines\"]\n",
    "df2.index = nindex\n",
    "df2.plot.bar(ax=ax[1], color=\"#6c9459\", edgecolor=\"k\", title=r\"no H$_2$ network\")\n",
    "\n",
    "ax[0].set_ylabel(\"TWkm\")\n",
    "ax[0].set_xlabel(\"\")\n",
    "ax[1].set_xlabel(\"\")\n",
    "\n",
    "ax[0].title.set_size(11)\n",
    "ax[1].title.set_size(11)\n",
    "\n",
    "for a in ax:\n",
    "    for v in df[\"power transmission lines\"].values:\n",
    "        a.axhline(v, linestyle=\":\", linewidth=0.5, color=\"slategrey\", zorder=-1)\n",
    "\n",
    "plt.tight_layout()\n",
    "\n",
    "ax[0].legend(bbox_to_anchor=(1, 0.9))\n",
    "\n",
    "plt.savefig(OUTPUT + \"twkm.pdf\", bbox_inches=\"tight\")"
   ]
  },
  {
   "cell_type": "code",
   "execution_count": null,
   "id": "2b70adb1-33d5-4572-980d-9ecad3d3e0f4",
   "metadata": {},
   "outputs": [],
   "source": []
  }
 ],
 "metadata": {
  "interpreter": {
   "hash": "494d35a45045e3fb9015f1d2cd094f8e1540ef3ea8b346f6f51a6ceb6be203c2"
  },
  "kernelspec": {
   "display_name": "Python 3.9.7 64-bit ('base': conda)",
   "name": "python3"
  },
  "language_info": {
   "codemirror_mode": {
    "name": "ipython",
    "version": 3
   },
   "file_extension": ".py",
   "mimetype": "text/x-python",
   "name": "python",
   "nbconvert_exporter": "python",
   "pygments_lexer": "ipython3",
   "version": "3.9.7"
  }
 },
 "nbformat": 4,
 "nbformat_minor": 5
}
