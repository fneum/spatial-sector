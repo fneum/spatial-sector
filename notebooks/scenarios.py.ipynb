{
 "cells": [
  {
   "cell_type": "code",
   "execution_count": null,
   "id": "6631e361",
   "metadata": {},
   "outputs": [],
   "source": [
    "import pypsa\n",
    "import yaml\n",
    "import cartopy\n",
    "import sys\n",
    "import re\n",
    "import os\n",
    "\n",
    "import pandas as pd\n",
    "import numpy as np\n",
    "import geopandas as gpd\n",
    "import xarray as xr\n",
    "import cartopy.crs as ccrs\n",
    "import matplotlib.pyplot as plt\n",
    "\n",
    "from itertools import product\n",
    "from matplotlib.lines import Line2D\n",
    "from matplotlib.patches import FancyArrowPatch\n",
    "from vresutils.costdata import annuity\n",
    "\n",
    "PATH = \"../../../playgrounds/pr/pypsa-eur-sec/\"\n",
    "\n",
    "sys.path.append(os.path.join(PATH, \"scripts/\"))\n",
    "from plot_summary import rename_techs\n",
    "\n",
    "plt.style.use([\"bmh\", \"matplotlibrc\"])\n",
    "xr.set_options(display_style=\"html\")\n",
    "\n",
    "%matplotlib inline"
   ]
  },
  {
   "cell_type": "code",
   "execution_count": null,
   "id": "67556ff9",
   "metadata": {},
   "outputs": [],
   "source": [
    "CLUSTERS = 181\n",
    "LV_OPTS = \"Co2L0-3H-T-H-B-I-A-solar+p3-linemaxext10\"\n",
    "OUTPUT = \"../results/graphics/\"\n",
    "\n",
    "H2_SCENARIOS = PATH + \"results/20211218-181-h2\"\n",
    "DEC_SCENARIOS = PATH + \"results/20211218-181-decentral\"\n",
    "LV_SCENARIOS = PATH + \"results/20211218-181-lv\"\n",
    "ONW_SCENARIOS = PATH + \"results/20211218-181-onw\"\n",
    "GAS_SCENARIOS = PATH + \"results/20211218-181-gas\""
   ]
  },
  {
   "cell_type": "code",
   "execution_count": null,
   "id": "d0b135d3",
   "metadata": {},
   "outputs": [],
   "source": [
    "with open(PATH + \"config.yaml\") as file:\n",
    "    config = yaml.safe_load(file)"
   ]
  },
  {
   "cell_type": "code",
   "execution_count": null,
   "id": "21ac38fa-607a-4b77-9ca8-f00a2732146c",
   "metadata": {},
   "outputs": [],
   "source": [
    "def rename_techs_tyndp(tech):\n",
    "    tech = rename_techs(tech)\n",
    "    if \"heat pump\" in tech or \"resistive heater\" in tech:\n",
    "        return \"power-to-heat\"\n",
    "    elif tech in [\"H2 Electrolysis\", \"methanation\", \"helmeth\", \"H2 liquefaction\"]:\n",
    "        return \"power-to-gas\"\n",
    "    elif \"H2 pipeline\" in tech:\n",
    "        return \"H2 pipeline\"\n",
    "    elif tech == \"H2\":\n",
    "        return \"H2 storage\"\n",
    "    elif tech in [\"OCGT\", \"CHP\", \"gas boiler\", \"H2 Fuel Cell\"]:\n",
    "        return \"gas-to-power/heat\"\n",
    "    # elif \"solar\" in tech:\n",
    "    #    return \"solar\"\n",
    "    elif tech == \"Fischer-Tropsch\":\n",
    "        return \"power-to-liquid\"\n",
    "    elif \"offshore wind\" in tech:\n",
    "        return \"offshore wind\"\n",
    "    elif \"CC\" in tech or \"sequestration\" in tech:\n",
    "        return \"CCS\"\n",
    "    elif tech == \"oil\" or tech == \"gas\":\n",
    "        return \"fossil oil and gas\"\n",
    "    else:\n",
    "        return tech"
   ]
  },
  {
   "cell_type": "code",
   "execution_count": null,
   "id": "143ef3c4-7385-4480-a870-1f3f5f9cd278",
   "metadata": {},
   "outputs": [],
   "source": [
    "preferred_order = pd.Index(\n",
    "    [\n",
    "        \"transmission lines\",\n",
    "        \"electricity distribution grid\",\n",
    "        \"fossil oil and gas\",\n",
    "        \"hydroelectricity\",\n",
    "        \"hydro reservoir\",\n",
    "        \"run of river\",\n",
    "        \"pumped hydro storage\",\n",
    "        \"solid biomass\",\n",
    "        \"biogas\",\n",
    "        \"onshore wind\",\n",
    "        \"offshore wind\",\n",
    "        \"offshore wind (AC)\",\n",
    "        \"offshore wind (DC)\",\n",
    "        \"solar PV\",\n",
    "        \"solar thermal\",\n",
    "        \"solar rooftop\",\n",
    "        \"solar\",\n",
    "        \"building retrofitting\" \"ground heat pump\",\n",
    "        \"air heat pump\",\n",
    "        \"heat pump\",\n",
    "        \"resistive heater\",\n",
    "        \"power-to-heat\",\n",
    "        \"gas-to-power/heat\",\n",
    "        \"CHP\",\n",
    "        \"OCGT\",\n",
    "        \"gas boiler\",\n",
    "        \"gas\",\n",
    "        \"natural gas\",\n",
    "        \"helmeth\",\n",
    "        \"methanation\",\n",
    "        \"power-to-gas\",\n",
    "        \"power-to-H2\",\n",
    "        \"H2 pipeline\",\n",
    "        \"H2 liquefaction\",\n",
    "        \"H2 storage\",\n",
    "        \"hydrogen storage\",\n",
    "        \"power-to-liquid\",\n",
    "        \"battery storage\",\n",
    "        \"hot water storage\",\n",
    "        \"CO2 sequestration\",\n",
    "        \"CCS\",\n",
    "    ]\n",
    ")"
   ]
  },
  {
   "cell_type": "code",
   "execution_count": null,
   "id": "76ee4cfe-7966-4657-a3aa-fe1d86699fab",
   "metadata": {},
   "outputs": [],
   "source": [
    "def load_decentral():\n",
    "    costs = pd.read_csv(\n",
    "        DEC_SCENARIOS + \"/csvs/costs.csv\", header=[0, 1, 2, 3], index_col=[0, 1, 2]\n",
    "    )\n",
    "\n",
    "    costs = costs.xs(\n",
    "        (str(CLUSTERS), \"2030\"), level=[\"cluster\", \"planning_horizon\"], axis=1\n",
    "    )\n",
    "\n",
    "    def parse_index(c):\n",
    "        lv = c[0]\n",
    "\n",
    "        match = re.search(r\"onwind\\+p([0-9.]*)\", c[1])\n",
    "        onw = 100.0 if match is None else 100 * float(match.groups()[0])\n",
    "\n",
    "        h2 = \"no H2 grid\" if \"noH2network\" in c[1] else \"H2 grid\"\n",
    "\n",
    "        return (lv, onw, h2)\n",
    "\n",
    "    costs.columns = pd.MultiIndex.from_tuples(\n",
    "        [parse_index(c) for c in costs.columns], names=[\"lv\", \"onw\", \"h2\"]\n",
    "    )\n",
    "\n",
    "    df = costs.groupby(level=2).sum().div(1e9)\n",
    "\n",
    "    df = df.groupby(df.index.map(rename_techs_tyndp)).sum()\n",
    "\n",
    "    df = df.xs(100, level=\"onw\", axis=1, drop_level=False)\n",
    "\n",
    "    df.sum() / df.sum().min()\n",
    "\n",
    "    to_drop = df.index[df.max(axis=1).fillna(0.0) < 1.2]\n",
    "    print(to_drop)\n",
    "    df.drop(to_drop, inplace=True)\n",
    "\n",
    "    order = preferred_order.intersection(df.index).append(\n",
    "        df.index.difference(preferred_order)\n",
    "    )\n",
    "    df = df.loc[order]\n",
    "\n",
    "    tech_colors = config[\"plotting\"][\"tech_colors\"]\n",
    "    colors = [tech_colors[i] for i in df.index]\n",
    "\n",
    "    df.columns = df.columns.get_level_values(2)\n",
    "    df.columns.name = \"\"\n",
    "\n",
    "    return df"
   ]
  },
  {
   "cell_type": "code",
   "execution_count": null,
   "id": "6f0958f8-1f10-4e90-9cb5-3251cdc0262e",
   "metadata": {},
   "outputs": [],
   "source": [
    "def load_h2(rename=True):\n",
    "    costs = pd.read_csv(\n",
    "        H2_SCENARIOS + f\"/csvs/costs.csv\", header=[0, 1, 2, 3], index_col=[0, 1, 2]\n",
    "    )\n",
    "\n",
    "    costs = costs.xs(\n",
    "        (str(CLUSTERS), \"2030\"), level=[\"cluster\", \"planning_horizon\"], axis=1\n",
    "    )\n",
    "\n",
    "    costs.columns = pd.MultiIndex.from_tuples(\n",
    "        [parse_index(c) for c in costs.columns], names=[\"lv\", \"onw\", \"h2\"]\n",
    "    )\n",
    "\n",
    "    df = costs.groupby(level=2).sum().div(1e9)\n",
    "\n",
    "    if rename:\n",
    "        df = df.groupby(df.index.map(rename_techs_tyndp)).sum()\n",
    "\n",
    "    to_drop = df.index[df.max(axis=1).fillna(0.0) < 1.2]\n",
    "    print(to_drop)\n",
    "    df.drop(to_drop, inplace=True)\n",
    "\n",
    "    order = preferred_order.intersection(df.index).append(\n",
    "        df.index.difference(preferred_order)\n",
    "    )\n",
    "    df = df.loc[order]\n",
    "\n",
    "    return df"
   ]
  },
  {
   "cell_type": "code",
   "execution_count": null,
   "id": "f56c67fe-8ada-4101-9ca8-c2f0dad5b23d",
   "metadata": {},
   "outputs": [],
   "source": [
    "def parse_index(c):\n",
    "    lv = c[0]\n",
    "\n",
    "    match = re.search(r\"onwind\\+p([0-9.]*)\", c[1])\n",
    "    onw = 100.0 if match is None else 100 * float(match.groups()[0])\n",
    "\n",
    "    h2 = \"no H2 grid\" if \"noH2network\" in c[1] else \"H2 grid\"\n",
    "\n",
    "    return (lv, onw, h2)"
   ]
  },
  {
   "cell_type": "code",
   "execution_count": null,
   "id": "121ef533-f07a-4bb9-b232-101ceece03a7",
   "metadata": {},
   "outputs": [],
   "source": [
    "def load_h2_capacities():\n",
    "    df = pd.read_csv(\n",
    "        H2_SCENARIOS + f\"/csvs/capacities.csv\", header=[0, 1, 2, 3], index_col=[0, 1]\n",
    "    )\n",
    "\n",
    "    df = df.xs((str(CLUSTERS), \"2030\"), level=[\"cluster\", \"planning_horizon\"], axis=1)\n",
    "\n",
    "    df.columns = pd.MultiIndex.from_tuples(\n",
    "        [parse_index(c) for c in df.columns], names=[\"lv\", \"onw\", \"h2\"]\n",
    "    )\n",
    "\n",
    "    df = df.groupby(level=1).sum()\n",
    "\n",
    "    return df"
   ]
  },
  {
   "cell_type": "markdown",
   "id": "67d40c02-ad31-4c81-85dc-05beb1e2c0a1",
   "metadata": {},
   "source": [
    "## Line Volume Sensitivity"
   ]
  },
  {
   "cell_type": "code",
   "execution_count": null,
   "id": "eec11dc5-82dd-4ca6-8eaa-6e34fa20c995",
   "metadata": {},
   "outputs": [],
   "source": [
    "costs = pd.read_csv(\n",
    "    LV_SCENARIOS + \"/csvs/costs.csv\", header=[0, 1, 2, 3], index_col=[0, 1, 2]\n",
    ")"
   ]
  },
  {
   "cell_type": "code",
   "execution_count": null,
   "id": "c11f7929-cd5b-4cf7-9110-53429b5e036b",
   "metadata": {},
   "outputs": [],
   "source": [
    "costs = costs[str(CLUSTERS)].rename(lambda x: float(x), axis=1, level=0)"
   ]
  },
  {
   "cell_type": "code",
   "execution_count": null,
   "id": "30b4aa10-59fc-4542-b573-0a4cb2893158",
   "metadata": {},
   "outputs": [],
   "source": [
    "df = (\n",
    "    costs.xs(LV_OPTS, level=\"opt\", axis=1)\n",
    "    .xs(\"2030\", level=\"planning_horizon\", axis=1)\n",
    "    .groupby(level=2)\n",
    "    .sum()\n",
    "    .div(1e9)\n",
    ")"
   ]
  },
  {
   "cell_type": "code",
   "execution_count": null,
   "id": "ebefebc9-4c9d-4e7e-9e59-b764896f5177",
   "metadata": {},
   "outputs": [],
   "source": [
    "df = df.groupby(df.index.map(rename_techs_tyndp)).sum()"
   ]
  },
  {
   "cell_type": "code",
   "execution_count": null,
   "id": "d7ac1350-65ab-47bb-aded-cb885bdc2517",
   "metadata": {},
   "outputs": [],
   "source": [
    "df.sum()"
   ]
  },
  {
   "cell_type": "code",
   "execution_count": null,
   "id": "ca19b2fb-bde6-4358-89bf-db995eabfb43",
   "metadata": {},
   "outputs": [],
   "source": [
    "df.sum() - df.sum().max()"
   ]
  },
  {
   "cell_type": "code",
   "execution_count": null,
   "id": "4f9e9fb6-4bba-4829-9392-52266ab85e99",
   "metadata": {},
   "outputs": [],
   "source": [
    "(1 - df.sum() / df.sum().max()) * 100"
   ]
  },
  {
   "cell_type": "code",
   "execution_count": null,
   "id": "da95b708-443b-4790-8785-993a8228fcb2",
   "metadata": {},
   "outputs": [],
   "source": [
    "to_drop = df.index[df.max(axis=1).fillna(0.0) < 1.2]\n",
    "to_drop = to_drop.difference(\n",
    "    [\"DAC\", \"hot water storage\"]\n",
    ")  # exclude dropping to align with onwind sensitivity...\n",
    "df.drop(to_drop, inplace=True)"
   ]
  },
  {
   "cell_type": "code",
   "execution_count": null,
   "id": "0a5c7698-f65c-482a-8710-0242bf748b38",
   "metadata": {},
   "outputs": [],
   "source": [
    "order = preferred_order.intersection(df.index).append(\n",
    "    df.index.difference(preferred_order)\n",
    ")\n",
    "df = df.loc[order]"
   ]
  },
  {
   "cell_type": "code",
   "execution_count": null,
   "id": "629f0e80-ed30-4050-8656-c90d4cfada36",
   "metadata": {},
   "outputs": [],
   "source": [
    "df.columns *= 100"
   ]
  },
  {
   "cell_type": "code",
   "execution_count": null,
   "id": "56ecdd3c-6d71-4c17-b4da-7855e8f661a3",
   "metadata": {},
   "outputs": [],
   "source": [
    "dec = load_decentral()[\"H2 grid\"]\n",
    "dec.name = \"\\nno power\\ntransmission\"\n",
    "dec = pd.DataFrame(dec).T"
   ]
  },
  {
   "cell_type": "code",
   "execution_count": null,
   "id": "9651f702-4c70-4c16-883b-85c3c3dabc16",
   "metadata": {},
   "outputs": [],
   "source": [
    "dec.sum().sum()"
   ]
  },
  {
   "cell_type": "code",
   "execution_count": null,
   "id": "81862c46-5406-4ca1-b601-1b176edd48d9",
   "metadata": {},
   "outputs": [],
   "source": [
    "fig, (ax0, ax1) = plt.subplots(\n",
    "    1,\n",
    "    2,\n",
    "    figsize=(5, 3),\n",
    "    sharey=True,\n",
    "    gridspec_kw={\"width_ratios\": [1, 6], \"wspace\": 0.05},\n",
    ")\n",
    "\n",
    "to_plot = df.T.sort_index()\n",
    "\n",
    "tech_colors = config[\"plotting\"][\"tech_colors\"]\n",
    "colors = [tech_colors[i] for i in df.index]\n",
    "\n",
    "to_plot.plot.area(ax=ax1, stacked=True, linewidth=0, color=colors)\n",
    "\n",
    "dec.plot.bar(ax=ax0, stacked=True, linewidth=0, legend=False, color=tech_colors)\n",
    "\n",
    "handles, labels = ax1.get_legend_handles_labels()\n",
    "\n",
    "handles.reverse()\n",
    "labels.reverse()\n",
    "\n",
    "ax1.set_xlim(100, 200)\n",
    "ax1.set_xlabel(\"Power Grid Reinforcement Restriction\\n[% relative to today's volume]\")\n",
    "\n",
    "ax0.set_ylim([0, 1000])\n",
    "ax0.set_ylabel(\"System Cost\\n[EUR billion per year]\")\n",
    "ax0.grid(axis=\"y\")\n",
    "ax1.grid(axis=\"y\")\n",
    "\n",
    "ax1.axvline(125, color=\"k\", linestyle=\"--\", linewidth=1)\n",
    "\n",
    "ax1.text(127.5, 810, \"TYNDP equivalent\", size=11, color=\"k\")\n",
    "\n",
    "# legend on side\n",
    "ax1.legend(handles, labels, ncol=2, frameon=False, bbox_to_anchor=(1.02, 1.03))\n",
    "\n",
    "for i in [\"top\", \"right\", \"left\", \"bottom\"]:\n",
    "    ax1.spines[i].set_visible(False)\n",
    "    ax0.spines[i].set_visible(False)\n",
    "\n",
    "# legend inside\n",
    "# ax1.legend(handles, labels, ncol=3, frameon=False, bbox_to_anchor=(1.1, 1.48))\n",
    "\n",
    "ax1.set_axisbelow(False)\n",
    "\n",
    "ax0.tick_params(rotation=0, labelsize=10)\n",
    "ax1.tick_params(rotation=0, labelsize=10)\n",
    "ax1.set_xticks([100, 125, 150, 175, 200])\n",
    "\n",
    "fig.savefig(OUTPUT + \"lv-sensitivity.pdf\", bbox_inches=\"tight\")"
   ]
  },
  {
   "cell_type": "markdown",
   "id": "63ffab26-ad74-4775-8ffb-d81493b50ecb",
   "metadata": {},
   "source": [
    "## Onshore Wind Sensitivity"
   ]
  },
  {
   "cell_type": "code",
   "execution_count": null,
   "id": "c6c71dd4-3c5f-4a64-b355-3b4658d79ced",
   "metadata": {},
   "outputs": [],
   "source": [
    "costs = pd.read_csv(\n",
    "    ONW_SCENARIOS + \"/csvs/costs.csv\", header=[0, 1, 2, 3], index_col=[0, 1, 2]\n",
    ")"
   ]
  },
  {
   "cell_type": "code",
   "execution_count": null,
   "id": "27e7e0a7-c1c3-4397-9513-2c0fe3081bcd",
   "metadata": {},
   "outputs": [],
   "source": [
    "costs = costs.xs(\n",
    "    (str(CLUSTERS), \"1.25\", \"2030\"), level=[\"cluster\", \"lv\", \"planning_horizon\"], axis=1\n",
    ")"
   ]
  },
  {
   "cell_type": "code",
   "execution_count": null,
   "id": "2fd7b8ee-8d6c-4408-aa2b-70e0d5567414",
   "metadata": {},
   "outputs": [],
   "source": [
    "costs.columns = [\n",
    "    100 * float(re.search(r\"onwind\\+p([0-9.]*)\", c).groups()[0]) for c in costs.columns\n",
    "]"
   ]
  },
  {
   "cell_type": "code",
   "execution_count": null,
   "id": "d0009c57-bf47-45ef-a5f5-9700ddfacadc",
   "metadata": {},
   "outputs": [],
   "source": [
    "df = costs.groupby(level=2).sum().div(1e9)"
   ]
  },
  {
   "cell_type": "code",
   "execution_count": null,
   "id": "a4d48b62-a968-473f-b361-5ccf483de53e",
   "metadata": {},
   "outputs": [],
   "source": [
    "df = df.groupby(df.index.map(rename_techs_tyndp)).sum()"
   ]
  },
  {
   "cell_type": "code",
   "execution_count": null,
   "id": "dd39c1ce-5036-45b5-9c59-7aaebb86bf1e",
   "metadata": {},
   "outputs": [],
   "source": [
    "df.sum()"
   ]
  },
  {
   "cell_type": "code",
   "execution_count": null,
   "id": "d5132ecb-b7c9-4e2b-9f80-02c5e48f7a76",
   "metadata": {},
   "outputs": [],
   "source": [
    "df.sum() - df.sum().max()"
   ]
  },
  {
   "cell_type": "code",
   "execution_count": null,
   "id": "76c00169-72cb-41ee-89d5-ad78a7461299",
   "metadata": {},
   "outputs": [],
   "source": [
    "(1 - df.sum() / df.sum().min()) * 100"
   ]
  },
  {
   "cell_type": "code",
   "execution_count": null,
   "id": "d182a105-f710-4d60-ae66-2f4b3e733abb",
   "metadata": {},
   "outputs": [],
   "source": [
    "to_drop = df.index[df.max(axis=1).fillna(0.0) < 1.2]\n",
    "print(to_drop)\n",
    "df.drop(to_drop, inplace=True)"
   ]
  },
  {
   "cell_type": "code",
   "execution_count": null,
   "id": "d4c031a0-233a-4d47-806f-e0b7196ac6eb",
   "metadata": {},
   "outputs": [],
   "source": [
    "order = preferred_order.intersection(df.index).append(\n",
    "    df.index.difference(preferred_order)\n",
    ")\n",
    "df = df.loc[order]"
   ]
  },
  {
   "cell_type": "code",
   "execution_count": null,
   "id": "1b678b64-124a-493d-8ab0-e6b7af2e52e1",
   "metadata": {},
   "outputs": [],
   "source": [
    "spec = load_h2().T\n",
    "\n",
    "spec = spec.xs((\"1.0\", 0.0, \"H2 grid\"), level=[\"lv\", \"onw\", \"h2\"])\n",
    "\n",
    "spec.index = [\"no grid\\nexpansion\\nno onshore wind\"]"
   ]
  },
  {
   "cell_type": "code",
   "execution_count": null,
   "id": "ab999096-3670-47ea-8399-72ca941e7d2b",
   "metadata": {},
   "outputs": [],
   "source": [
    "(spec.sum().sum() - 886.040764) / 886.040764"
   ]
  },
  {
   "cell_type": "code",
   "execution_count": null,
   "id": "e21208cf-a338-4e14-a437-78d3eb933ab9",
   "metadata": {},
   "outputs": [],
   "source": [
    "fig, (ax0, ax1) = plt.subplots(\n",
    "    1,\n",
    "    2,\n",
    "    figsize=(5, 3),\n",
    "    sharey=True,\n",
    "    gridspec_kw={\"width_ratios\": [1, 6], \"wspace\": 0.05},\n",
    ")\n",
    "\n",
    "to_plot = df.T.sort_index()\n",
    "\n",
    "tech_colors = config[\"plotting\"][\"tech_colors\"]\n",
    "colors = [tech_colors[i] for i in df.index]\n",
    "\n",
    "to_plot.plot.area(ax=ax1, stacked=True, linewidth=0, color=colors)\n",
    "\n",
    "spec.plot.bar(ax=ax0, stacked=True, linewidth=0, legend=False, color=tech_colors)\n",
    "\n",
    "handles, labels = ax1.get_legend_handles_labels()\n",
    "\n",
    "handles.reverse()\n",
    "labels.reverse()\n",
    "\n",
    "ax1.set_xlim(0, 100)\n",
    "ax1.set_xlabel(\"Fraction of technical onshore\\nwind potential available [%]\")\n",
    "\n",
    "ax0.set_ylim(0, 1000)\n",
    "ax0.set_ylabel(\"System Cost\\n[EUR billion per year]\")\n",
    "ax0.grid(axis=\"y\")\n",
    "ax1.grid(axis=\"y\")\n",
    "\n",
    "ax1.axvline(25, color=\"k\", linestyle=\"--\", linewidth=1)\n",
    "\n",
    "ax1.text(27.5, 900, \"compromise social potential\", size=11, color=\"k\")\n",
    "\n",
    "# legend on side\n",
    "ax1.legend(handles, labels, ncol=2, frameon=False, bbox_to_anchor=(1, 1.02))\n",
    "\n",
    "for i in [\"top\", \"right\", \"left\", \"bottom\"]:\n",
    "    ax1.spines[i].set_visible(False)\n",
    "    ax0.spines[i].set_visible(False)\n",
    "\n",
    "# legend inside\n",
    "# ax.legend(handles, labels, ncol=3, frameon=False, bbox_to_anchor=(1.1, 1.48))\n",
    "\n",
    "ax1.set_axisbelow(False)\n",
    "\n",
    "ax0.tick_params(rotation=0, labelsize=10)\n",
    "ax1.tick_params(rotation=0, labelsize=10)\n",
    "ax1.set_xticks([0, 25, 50, 75, 100])\n",
    "\n",
    "fig.savefig(OUTPUT + \"onw-sensitivity.pdf\", bbox_inches=\"tight\")"
   ]
  },
  {
   "cell_type": "markdown",
   "id": "72b5054b-b950-4c4d-aa8d-9ad5769b2e91",
   "metadata": {},
   "source": [
    "## H2 Network Scenarios"
   ]
  },
  {
   "cell_type": "code",
   "execution_count": null,
   "id": "b721d11f-1c52-4025-9675-0850b5ec2002",
   "metadata": {},
   "outputs": [],
   "source": [
    "df = load_h2()"
   ]
  },
  {
   "cell_type": "code",
   "execution_count": null,
   "id": "d167e88a-e9ad-464d-965a-26f0e68845ca",
   "metadata": {},
   "outputs": [],
   "source": [
    "df.sum().sort_values()"
   ]
  },
  {
   "cell_type": "code",
   "execution_count": null,
   "id": "abe9b3e6-e51a-4b07-996c-2c9bad26ea94",
   "metadata": {},
   "outputs": [],
   "source": [
    "dff = df.sum().unstack(\"h2\")"
   ]
  },
  {
   "cell_type": "code",
   "execution_count": null,
   "id": "b417ca11-2141-4b9e-82fa-0241c3496779",
   "metadata": {},
   "outputs": [],
   "source": [
    "rel_advantage = (((dff[\"no H2 grid\"] / dff[\"H2 grid\"] - 1) * 100).round(1)).unstack().T\n",
    "rel_advantage"
   ]
  },
  {
   "cell_type": "code",
   "execution_count": null,
   "id": "314f3240-2b68-4780-8fc2-5c19a714d77e",
   "metadata": {},
   "outputs": [],
   "source": [
    "abs_advantage = ((dff[\"no H2 grid\"] - dff[\"H2 grid\"]).round().astype(int)).unstack().T\n",
    "abs_advantage"
   ]
  },
  {
   "cell_type": "code",
   "execution_count": null,
   "id": "4c58c8e5-72e4-4dc9-afa1-5a5863f7cbc5",
   "metadata": {},
   "outputs": [],
   "source": [
    "(df.sum() - df.sum().max()).sort_values().round()"
   ]
  },
  {
   "cell_type": "code",
   "execution_count": null,
   "id": "604ff07d-e746-47a3-8f04-c6d101c59302",
   "metadata": {},
   "outputs": [],
   "source": [
    "((1 - df.sum() / df.sum().max()) * 100).sort_values().round(1)"
   ]
  },
  {
   "cell_type": "code",
   "execution_count": null,
   "id": "17254f81-3979-4980-9faa-e5ccd7bc702c",
   "metadata": {},
   "outputs": [],
   "source": [
    "x = df.sum().xs(100.0, level=\"onw\")\n",
    "xx = x / x.min()\n",
    "xx.unstack().round(3)"
   ]
  },
  {
   "cell_type": "code",
   "execution_count": null,
   "id": "710b9474-7112-4e2f-9910-efdfd6fdddab",
   "metadata": {},
   "outputs": [],
   "source": [
    "dff.xs(100.0, level=\"onw\")"
   ]
  },
  {
   "cell_type": "code",
   "execution_count": null,
   "id": "9b617944-c53a-40a2-826c-37988d17d814",
   "metadata": {},
   "outputs": [],
   "source": [
    "df.filter(like=\"H2 pipeline\", axis=0)"
   ]
  },
  {
   "cell_type": "code",
   "execution_count": null,
   "id": "72546910-8e4d-46b4-b733-4d4305165ab2",
   "metadata": {},
   "outputs": [],
   "source": [
    "dff.xs(0.0, level=\"onw\")"
   ]
  },
  {
   "cell_type": "code",
   "execution_count": null,
   "id": "d022561f-717f-4a76-b00c-8fd061961f5d",
   "metadata": {},
   "outputs": [],
   "source": [
    "857.451 / 764.136"
   ]
  },
  {
   "cell_type": "code",
   "execution_count": null,
   "id": "f22a5891-f652-4b65-bb09-e1cd57a64ce4",
   "metadata": {},
   "outputs": [],
   "source": [
    "936.4 / 898.3"
   ]
  },
  {
   "cell_type": "code",
   "execution_count": null,
   "id": "d4fc94de-71b9-46e9-89b3-d38e3604b9c5",
   "metadata": {},
   "outputs": [],
   "source": [
    "tech_colors = config[\"plotting\"][\"tech_colors\"]\n",
    "colors = [tech_colors[i] for i in df.index]"
   ]
  },
  {
   "cell_type": "code",
   "execution_count": null,
   "id": "dfa2dad3-54a3-426b-93fb-f7380a3e79e8",
   "metadata": {},
   "outputs": [],
   "source": [
    "colors = [\n",
    "    \"hydroelectricity\",\n",
    "    \"onshore wind\",\n",
    "    \"offshore wind\",\n",
    "    \"solar PV\",\n",
    "    \"solar thermal\",\n",
    "    \"solar rooftop\",\n",
    "    \"power-to-heat\",\n",
    "    \"gas-to-power/heat\",\n",
    "    \"power-to-gas\",\n",
    "    \"power-to-liquid\",\n",
    "    \"battery storage\",\n",
    "    \"hot water storage\",\n",
    "    \"CCS\",\n",
    "    \"H2 storage\",\n",
    "    \"SMR\",\n",
    "    \"electricity distribution grid\",\n",
    "]"
   ]
  },
  {
   "cell_type": "code",
   "execution_count": null,
   "id": "5307a53e-d71b-4776-b553-80ee157720f1",
   "metadata": {},
   "outputs": [],
   "source": [
    "color_map = {i: tech_colors[i] for i in colors}\n",
    "color_map[\"HVDC transmission\"] = \"darkseagreen\"\n",
    "color_map[\"HVAC transmission\"] = \"rosybrown\"\n",
    "color_map[\"power-to-heat\"] = \"firebrick\""
   ]
  },
  {
   "cell_type": "code",
   "execution_count": null,
   "id": "e7eea741-ade0-4598-a472-365de7a57533",
   "metadata": {},
   "outputs": [],
   "source": [
    "import matplotlib.patches as mpatches\n",
    "\n",
    "fig, ax = plt.subplots(figsize=(10, 1.5))\n",
    "handles = [mpatches.Patch(color=v, label=k) for k, v in color_map.items()]\n",
    "ax.legend(handles=handles, ncol=6)\n",
    "ax.axis(\"off\")\n",
    "plt.savefig(OUTPUT + \"color_legend.pdf\", bbox_inches=\"tight\")"
   ]
  },
  {
   "cell_type": "code",
   "execution_count": null,
   "id": "ef757ac3-ee78-4bc2-aa13-c4975fcc2c0d",
   "metadata": {},
   "outputs": [],
   "source": []
  },
  {
   "cell_type": "code",
   "execution_count": null,
   "id": "4d0501aa-3c43-4db8-a851-f9143ab1a5cf",
   "metadata": {},
   "outputs": [],
   "source": []
  },
  {
   "cell_type": "code",
   "execution_count": null,
   "id": "c2207cc1-083f-4d67-a38c-f63c8e32ec7a",
   "metadata": {},
   "outputs": [],
   "source": [
    "xx = enumerate(df.columns.get_level_values(\"lv\").unique()[::-1])\n",
    "yy = enumerate(df.columns.get_level_values(\"onw\").unique())\n",
    "\n",
    "fig, axs = plt.subplots(2, 2, figsize=(5.5, 5.5), sharex=True, sharey=True)\n",
    "\n",
    "kwargs = dict(stacked=True, color=colors, ylim=(0, 1100), legend=False)\n",
    "\n",
    "for x, y in product(xx, yy):\n",
    "    ax = axs[x[0], y[0]]\n",
    "\n",
    "    toprow_kwargs = (\n",
    "        dict(title=f\"onshore wind\\n{int(y[1])}% potential\\n\") if x[0] == 0 else {}\n",
    "    )\n",
    "\n",
    "    ylabel_value = \"optimal\" if x[1] == \"opt\" else f\"{100 * float(x[1]) - 100:.{0}f}%\"\n",
    "\n",
    "    to_plot = df.xs((x[1], y[1]), axis=1, level=[\"lv\", \"onw\"]).T.sort_index(\n",
    "        ascending=True\n",
    "    )\n",
    "    to_plot.plot.bar(\n",
    "        ax=ax,\n",
    "        **kwargs,\n",
    "        ylabel=f\"line expansion\\n{ylabel_value}\\n\\nbn€/a\",\n",
    "        **toprow_kwargs,\n",
    "    )\n",
    "\n",
    "    ax.set_xlabel(\"\", rotation=0)\n",
    "\n",
    "    ax.tick_params(labelrotation=0)\n",
    "\n",
    "    ax.grid(axis=\"y\")\n",
    "    ax.title.set_size(11)\n",
    "\n",
    "    # ax.patch.set_visible(False)\n",
    "\n",
    "    for i in [\"top\", \"right\", \"left\", \"bottom\"]:\n",
    "        ax.spines[i].set_visible(False)\n",
    "\n",
    "    label = f\"+ {rel_advantage.loc[y[1],x[1]]}%\\n+ {abs_advantage.loc[y[1],x[1]]}\"\n",
    "    ax.text(0.31, 825, label, size=8.5, color=\"k\")\n",
    "\n",
    "\n",
    "handles, labels = ax.get_legend_handles_labels()\n",
    "handles.reverse()\n",
    "labels.reverse()\n",
    "fig.legend(handles, labels, bbox_to_anchor=(1.4, 0.9))\n",
    "\n",
    "plt.tight_layout()\n",
    "\n",
    "plt.savefig(OUTPUT + \"sensitivity-h2.pdf\", bbox_inches=\"tight\")"
   ]
  },
  {
   "cell_type": "code",
   "execution_count": null,
   "id": "49e2d586-f42f-4c8e-9e06-f968d1d5e8fe",
   "metadata": {},
   "outputs": [],
   "source": [
    "df_new = df.xs(100, level=\"onw\", axis=1)\n",
    "\n",
    "xx = enumerate(df_new.columns.get_level_values(\"lv\").unique()[::-1])\n",
    "yy = enumerate(df_new.columns.get_level_values(\"h2\").unique())\n",
    "\n",
    "fig, axs = plt.subplots(2, 2, figsize=(4, 6), sharey=True)\n",
    "\n",
    "plt.subplots_adjust(hspace=0.5, wspace=1)\n",
    "\n",
    "kwargs = dict(stacked=True, color=colors, ylim=(0, 900), legend=False)\n",
    "\n",
    "for x, y in product(xx, yy):\n",
    "    ax = axs[x[0], y[0]]\n",
    "\n",
    "    toprow_kwargs = (\n",
    "        dict(\n",
    "            title=\"with\\nhydrogen grid\\n\"\n",
    "            if y[1] == \"H2 grid\"\n",
    "            else \"without\\nhydrogen grid\\n\"\n",
    "        )\n",
    "        if x[0] == 0\n",
    "        else {}\n",
    "    )\n",
    "\n",
    "    ylabel = (\n",
    "        \"with power\\ngrid expansion\\n\\nbn€/a\"\n",
    "        if x[1] == \"opt\"\n",
    "        else \"without power\\ngrid expansion\\n\\nbn€/a\"\n",
    "    )\n",
    "\n",
    "    to_plot = df_new.xs((x[1], y[1]), axis=1, level=[\"lv\", \"h2\"]).T\n",
    "\n",
    "    to_plot.plot.bar(\n",
    "        ax=ax,\n",
    "        ylabel=ylabel,\n",
    "        **kwargs,\n",
    "        **toprow_kwargs,\n",
    "    )\n",
    "\n",
    "    ax.set_xlabel(\"\", rotation=0)\n",
    "    ax.set_xticks([], [])\n",
    "\n",
    "    ax.tick_params(labelrotation=0)\n",
    "\n",
    "    ax.grid(axis=\"y\")\n",
    "    ax.title.set_size(11)\n",
    "\n",
    "    ax.set_yticks(np.arange(0, 901, 100))\n",
    "\n",
    "    # ax.patch.set_visible(False)\n",
    "\n",
    "    for i in [\"top\", \"right\", \"left\", \"bottom\"]:\n",
    "        ax.spines[i].set_visible(False)\n",
    "\n",
    "handles, labels = ax.get_legend_handles_labels()\n",
    "handles.reverse()\n",
    "labels.reverse()\n",
    "fig.legend(handles, labels, bbox_to_anchor=(1.5, 0.9))\n",
    "\n",
    "fig.text(0.45, 0.32, \"+ 46\\n+ 5.7%\", fontsize=11.5)\n",
    "\n",
    "fig.text(0.45, 0.68, \"+ 31\\n+ 4.1%\", fontsize=11.5)\n",
    "\n",
    "fig.text(0.28, 0.49, \"+ 47\\n+ 6.2%\", fontsize=11.5)\n",
    "\n",
    "fig.text(0.63, 0.49, \"+ 62\\n+ 7.8%\", fontsize=11.5)\n",
    "\n",
    "fig.text(0.45, 0.55, \"+ 93\\n+ 12.2%\", fontsize=11.5, color=\"grey\")\n",
    "\n",
    "\n",
    "def add_arrow(ax0, ax1, pos0, pos1, **arrow_kwargs):\n",
    "    ax0tr = ax0.transData  # Axis 0 -> Display\n",
    "    ax1tr = ax1.transData  # Axis 1 -> Display\n",
    "    figtr = fig.transFigure.inverted()  # Display -> Figure\n",
    "    ptB = figtr.transform(ax0tr.transform(pos0))\n",
    "    ptE = figtr.transform(ax1tr.transform(pos1))\n",
    "    arrow = FancyArrowPatch(\n",
    "        ptB,\n",
    "        ptE,\n",
    "        transform=fig.transFigure,  # Place arrow in figure coord system\n",
    "        **arrow_kwargs,\n",
    "    )\n",
    "    fig.patches.append(arrow)\n",
    "\n",
    "\n",
    "arrow_style = dict(arrowstyle=\"simple\", mutation_scale=15, ec=None)\n",
    "\n",
    "add_arrow(axs[0, 0], axs[0, 1], (0.5, 500), (-0.5, 500), fc=\"olivedrab\", **arrow_style)\n",
    "\n",
    "add_arrow(axs[1, 0], axs[1, 1], (0.5, 500), (-0.5, 500), fc=\"orange\", **arrow_style)\n",
    "\n",
    "add_arrow(axs[0, 0], axs[1, 0], (0, 0), (0, 900), fc=\"orange\", **arrow_style)\n",
    "\n",
    "add_arrow(axs[0, 1], axs[1, 1], (0, 0), (0, 900), fc=\"firebrick\", **arrow_style)\n",
    "\n",
    "add_arrow(axs[0, 0], axs[1, 1], (0.5, 0), (-0.5, 900), fc=\"lightgrey\", **arrow_style)\n",
    "\n",
    "# plt.tight_layout()\n",
    "\n",
    "plt.savefig(OUTPUT + \"sensitivity-h2-new.pdf\", bbox_inches=\"tight\")"
   ]
  },
  {
   "cell_type": "code",
   "execution_count": null,
   "id": "b06c83ca-ae77-4ba2-ab41-8ea37f2ba372",
   "metadata": {},
   "outputs": [],
   "source": []
  },
  {
   "cell_type": "markdown",
   "id": "44b13092-421e-4a87-8cf9-a4907751a309",
   "metadata": {},
   "source": [
    "### H2 vs Electricity Grid"
   ]
  },
  {
   "cell_type": "code",
   "execution_count": null,
   "id": "f6da2824-2d76-4b10-8342-3d83c6c11e9b",
   "metadata": {},
   "outputs": [],
   "source": [
    "levels = [\"lv\", \"onw\", \"h2\"]"
   ]
  },
  {
   "cell_type": "code",
   "execution_count": null,
   "id": "8f1b7027-d171-45dd-b752-91649c68649f",
   "metadata": {},
   "outputs": [],
   "source": [
    "scenA = df.xs((\"1.0\", 100.0, \"H2 grid\"), level=levels, axis=1)\n",
    "scenB = df.xs((\"opt\", 100.0, \"no H2 grid\"), level=levels, axis=1)\n",
    "scenC = df.xs((\"1.0\", 100.0, \"no H2 grid\"), level=levels, axis=1)\n",
    "scenD = df.xs((\"opt\", 100.0, \"H2 grid\"), level=levels, axis=1)"
   ]
  },
  {
   "cell_type": "code",
   "execution_count": null,
   "id": "20dff7d2",
   "metadata": {},
   "outputs": [],
   "source": [
    "scenA.columns = [\"grid expansion\\nelectricity: no\\nhydrogen: yes\"]\n",
    "scenB.columns = [\"grid expansion\\nelectricity: yes\\nhydrogen: no\"]\n",
    "scenC.columns = [\"grid expansion\\nelectricity: no\\nhydrogen: no\"]\n",
    "scenD.columns = [\"grid expansion\\nelectricity: yes\\nhydrogen: yes\"]"
   ]
  },
  {
   "cell_type": "code",
   "execution_count": null,
   "id": "0699e3b8-dc09-44b7-8cb9-9b5279d8f929",
   "metadata": {},
   "outputs": [],
   "source": [
    "to_plot = pd.concat([scenD, scenB, scenA, scenC], axis=1).T"
   ]
  },
  {
   "cell_type": "code",
   "execution_count": null,
   "id": "0348f162-abce-46c2-8d4b-dcbbf358ce65",
   "metadata": {},
   "outputs": [],
   "source": [
    "tsc = to_plot.sum(axis=1)"
   ]
  },
  {
   "cell_type": "code",
   "execution_count": null,
   "id": "2bebafb0-0661-40ab-a865-25f894b2c7b8",
   "metadata": {},
   "outputs": [],
   "source": [
    "base = tsc[\"grid expansion\\nelectricity: yes\\nhydrogen: no\"]"
   ]
  },
  {
   "cell_type": "code",
   "execution_count": null,
   "id": "d5aed672",
   "metadata": {},
   "outputs": [],
   "source": [
    "diff_rel = (100 * tsc / base - 100).round(1)[\n",
    "    \"grid expansion\\nelectricity: no\\nhydrogen: yes\"\n",
    "]"
   ]
  },
  {
   "cell_type": "code",
   "execution_count": null,
   "id": "2fa23c9b-4583-4435-a3d6-49e136949029",
   "metadata": {},
   "outputs": [],
   "source": [
    "diff_abs = (tsc - base).round(1)[\"grid expansion\\nelectricity: no\\nhydrogen: yes\"]"
   ]
  },
  {
   "cell_type": "code",
   "execution_count": null,
   "id": "6f518979-7816-4cf0-850e-211630113e10",
   "metadata": {},
   "outputs": [],
   "source": [
    "diff_abs"
   ]
  },
  {
   "cell_type": "code",
   "execution_count": null,
   "id": "2dd3bd45-5a03-41d3-8cc4-9d451c884075",
   "metadata": {},
   "outputs": [],
   "source": [
    "tsc.values"
   ]
  },
  {
   "cell_type": "code",
   "execution_count": null,
   "id": "8ffe6a1f-5362-4f78-8d0d-0780d3d5a770",
   "metadata": {},
   "outputs": [],
   "source": [
    "fig, ax = plt.subplots(figsize=(9, 5))\n",
    "\n",
    "to_plot.plot.bar(\n",
    "    ax=ax,\n",
    "    stacked=True,\n",
    "    color=colors,\n",
    "    ylim=(0, 900),\n",
    "    ylabel=\"total system cost [bn€/a]\",\n",
    ")\n",
    "\n",
    "handles, labels = ax.get_legend_handles_labels()\n",
    "handles.reverse()\n",
    "labels.reverse()\n",
    "plt.legend(handles, labels, bbox_to_anchor=(1, 1.02))\n",
    "\n",
    "label = f\"+ {diff_rel}%\"\n",
    "ax.text(1.28, 820, label, size=11, color=\"#444444\")\n",
    "\n",
    "label = f\"+ {diff_abs} bn€/a\"\n",
    "ax.text(1.28, 860, label, size=11, color=\"k\")\n",
    "\n",
    "for i, v in enumerate(tsc.astype(int).values):\n",
    "    ax.text(i - 0.07, v + 12, v, size=10, color=\"#444444\")\n",
    "\n",
    "ax.grid(axis=\"y\")\n",
    "plt.xticks(rotation=0, fontsize=11)\n",
    "plt.yticks(np.arange(0, 901, 100), fontsize=11)\n",
    "\n",
    "for i in [\"top\", \"right\", \"left\", \"bottom\"]:\n",
    "    ax.spines[i].set_visible(False)\n",
    "\n",
    "ax.axvline(0.5, color=\"k\", linewidth=1.25, linestyle=\"--\")\n",
    "ax.axvline(2.5, color=\"k\", linewidth=1.25, linestyle=\"--\")\n",
    "\n",
    "plt.tight_layout()\n",
    "\n",
    "plt.savefig(OUTPUT + \"h2-vs-elec-grid.pdf\", bbox_inches=\"tight\")"
   ]
  },
  {
   "cell_type": "markdown",
   "id": "711f4a3f-c5fe-4a05-b571-7e5885663fc5",
   "metadata": {},
   "source": [
    "### Growing Exclusion"
   ]
  },
  {
   "cell_type": "code",
   "execution_count": null,
   "id": "d72e86db-6eaf-47d4-8e19-332c61dc1d39",
   "metadata": {},
   "outputs": [],
   "source": [
    "kwargs = dict(level=[\"lv\", \"onw\", \"h2\"], axis=1)"
   ]
  },
  {
   "cell_type": "code",
   "execution_count": null,
   "id": "9d327c10",
   "metadata": {},
   "outputs": [],
   "source": [
    "costs = pd.read_csv(\n",
    "    DEC_SCENARIOS + \"/csvs/costs.csv\", header=[0, 1, 2, 3], index_col=[0, 1, 2]\n",
    ")"
   ]
  },
  {
   "cell_type": "code",
   "execution_count": null,
   "id": "cbff01ca-03dd-41c8-8339-81d1bc231a09",
   "metadata": {},
   "outputs": [],
   "source": [
    "costs = costs.xs((str(CLUSTERS), \"2030\"), level=[\"cluster\", \"planning_horizon\"], axis=1)"
   ]
  },
  {
   "cell_type": "code",
   "execution_count": null,
   "id": "bf4bf1fa-512d-4f15-ab9d-e4f6987bdeba",
   "metadata": {},
   "outputs": [],
   "source": [
    "scenA = df.xs((\"opt\", 100.0, \"H2 grid\"), **kwargs)\n",
    "scenB = df.xs((\"1.0\", 100.0, \"H2 grid\"), **kwargs)\n",
    "scenC = df.xs((\"1.0\", 0.0, \"H2 grid\"), **kwargs)\n",
    "scenD = df.xs((\"1.0\", 0.0, \"no H2 grid\"), **kwargs)"
   ]
  },
  {
   "cell_type": "code",
   "execution_count": null,
   "id": "0c7b3aaa-11cd-4590-8034-269ec1ae6c79",
   "metadata": {},
   "outputs": [],
   "source": [
    "scenA.columns = [\"least-cost\"]\n",
    "scenB.columns = [\"no grid expansion\"]\n",
    "scenC.columns = [\"no grid expansion\\nno onshore wind\"]\n",
    "scenD.columns = [\"no grid expansion\\nno onshore wind\\nno hydrogen grid\"]"
   ]
  },
  {
   "cell_type": "code",
   "execution_count": null,
   "id": "4c4b4ae2-cdf1-4565-b5e8-eabf5dfae31b",
   "metadata": {},
   "outputs": [],
   "source": [
    "to_plot = pd.concat([scenA, scenB, scenC, scenD], axis=1).T"
   ]
  },
  {
   "cell_type": "code",
   "execution_count": null,
   "id": "5ee7e384-2294-42db-aa78-957ff842f854",
   "metadata": {},
   "outputs": [],
   "source": [
    "to_plot.loc[\"today\", \"today\"] = 700\n",
    "\n",
    "order = to_plot.index[:-1].insert(0, to_plot.index[-1])\n",
    "to_plot = to_plot.loc[order]"
   ]
  },
  {
   "cell_type": "code",
   "execution_count": null,
   "id": "38d8b9ec",
   "metadata": {},
   "outputs": [],
   "source": [
    "to_plot.sum(axis=1) / to_plot.sum(axis=1)[\"least-cost\"]"
   ]
  },
  {
   "cell_type": "code",
   "execution_count": null,
   "id": "a813e234-a71f-47ee-a5fb-305303138f08",
   "metadata": {},
   "outputs": [],
   "source": [
    "fig, ax = plt.subplots(figsize=(10, 5))\n",
    "\n",
    "to_plot.plot.bar(\n",
    "    ax=ax,\n",
    "    stacked=True,\n",
    "    color=colors,\n",
    "    ylim=(0, 1000),\n",
    "    ylabel=\"total system cost [bn€/a]\",\n",
    ")\n",
    "\n",
    "handles, labels = ax.get_legend_handles_labels()\n",
    "handles.reverse()\n",
    "labels.reverse()\n",
    "plt.legend(handles, labels, bbox_to_anchor=(1, 1.05))\n",
    "\n",
    "ax.grid(axis=\"y\")\n",
    "plt.xticks(rotation=0, fontsize=11)\n",
    "plt.yticks(np.arange(0, 1001, 100), fontsize=11)\n",
    "\n",
    "for i in [\"top\", \"right\", \"left\", \"bottom\"]:\n",
    "    ax.spines[i].set_visible(False)\n",
    "\n",
    "plt.tight_layout()\n",
    "\n",
    "plt.savefig(OUTPUT + \"growing-exclusion.pdf\", bbox_inches=\"tight\")"
   ]
  },
  {
   "cell_type": "markdown",
   "id": "aa66bf56",
   "metadata": {},
   "source": [
    "## Decentral Scenarios"
   ]
  },
  {
   "cell_type": "code",
   "execution_count": null,
   "id": "3ec7cd9c-4618-4349-837b-3b69b61ac674",
   "metadata": {},
   "outputs": [],
   "source": [
    "df = load_decentral()"
   ]
  },
  {
   "cell_type": "code",
   "execution_count": null,
   "id": "7c3ee199",
   "metadata": {},
   "outputs": [],
   "source": [
    "to_plot = df.T"
   ]
  },
  {
   "cell_type": "code",
   "execution_count": null,
   "id": "5fe2a30c",
   "metadata": {},
   "outputs": [],
   "source": [
    "tsc = to_plot.sum(axis=1)"
   ]
  },
  {
   "cell_type": "code",
   "execution_count": null,
   "id": "8d671661",
   "metadata": {},
   "outputs": [],
   "source": [
    "diff_rel = (100 * tsc / tsc.min() - 100).round(1)[1]"
   ]
  },
  {
   "cell_type": "code",
   "execution_count": null,
   "id": "993059ab-7417-4dd6-883d-dfc1a74924d0",
   "metadata": {},
   "outputs": [],
   "source": [
    "diff_abs = (tsc - tsc.min()).round(1)[1]"
   ]
  },
  {
   "cell_type": "code",
   "execution_count": null,
   "id": "b9b1bad2-342b-4eba-b712-7ddc29eb26d0",
   "metadata": {},
   "outputs": [],
   "source": [
    "to_plot"
   ]
  },
  {
   "cell_type": "code",
   "execution_count": null,
   "id": "a6611371-bbd9-4612-bcdc-3ec92613f159",
   "metadata": {},
   "outputs": [],
   "source": [
    "tech_colors = config[\"plotting\"][\"tech_colors\"]\n",
    "colors = [tech_colors[i] for i in to_plot.columns]"
   ]
  },
  {
   "cell_type": "code",
   "execution_count": null,
   "id": "68530242",
   "metadata": {},
   "outputs": [],
   "source": [
    "fig, ax = plt.subplots(figsize=(6.5, 5))\n",
    "\n",
    "to_plot.plot.bar(\n",
    "    ax=ax,\n",
    "    stacked=True,\n",
    "    color=colors,\n",
    "    ylim=(0, 1000),\n",
    "    ylabel=\"total system cost [bn€/a]\",\n",
    ")\n",
    "\n",
    "handles, labels = ax.get_legend_handles_labels()\n",
    "handles.reverse()\n",
    "labels.reverse()\n",
    "plt.legend(handles, labels, bbox_to_anchor=(1, 1.02))\n",
    "\n",
    "label = f\"+ {diff_rel}%\"\n",
    "ax.text(0.2, 920, label, size=11, color=\"#444444\")\n",
    "\n",
    "label = f\"+ {diff_abs} bn€/a\"\n",
    "ax.text(0.2, 960, label, size=11, color=\"k\")\n",
    "\n",
    "ax.grid(axis=\"y\")\n",
    "plt.xticks(rotation=0, fontsize=11)\n",
    "plt.yticks(np.arange(0, 1001, 100), fontsize=11)\n",
    "\n",
    "for i in [\"top\", \"right\", \"left\", \"bottom\"]:\n",
    "    ax.spines[i].set_visible(False)\n",
    "\n",
    "plt.tight_layout()\n",
    "\n",
    "plt.savefig(OUTPUT + \"decentral.pdf\", bbox_inches=\"tight\")"
   ]
  },
  {
   "cell_type": "markdown",
   "id": "fcb638c6-78a7-48f7-b917-78242314c227",
   "metadata": {
    "tags": []
   },
   "source": [
    "## TWkm"
   ]
  },
  {
   "cell_type": "code",
   "execution_count": null,
   "id": "e87bec8b-e6a7-4def-b881-27831c8e57c2",
   "metadata": {
    "tags": []
   },
   "outputs": [],
   "source": [
    "kind = \"twkm\"\n",
    "\n",
    "twkm = pd.read_csv(f\"../data/{kind}.csv\", index_col=[0, 1])\n",
    "\n",
    "twkm\n",
    "\n",
    "data = pd.DataFrame()\n",
    "\n",
    "data[\"Electricity network existing\"] = twkm.filter(like=\"old\", axis=1).sum(axis=1)\n",
    "data[\"Electricity network new\"] = twkm.filter(like=\"new\", axis=1).sum(axis=1)\n",
    "data[\"Hydrogen network retrofitted\"] = twkm[\"H2 pipeline retrofitted\"]\n",
    "data[\"Hydrogen network new\"] = twkm[\"H2 pipeline\"]"
   ]
  },
  {
   "cell_type": "code",
   "execution_count": null,
   "id": "3865fb3b-82b7-4412-a634-777b40a0e3eb",
   "metadata": {
    "tags": []
   },
   "outputs": [],
   "source": [
    "kind = \"ewhkm\"\n",
    "\n",
    "twkm = pd.read_csv(f\"../data/{kind}.csv\", index_col=[0, 1])\n",
    "\n",
    "twkm\n",
    "\n",
    "data = pd.DataFrame()\n",
    "\n",
    "data[\"Electricity network (HVAC)\"] = twkm.filter(like=\"AC\", axis=1).sum(axis=1)\n",
    "data[\"Electricity network (HVDC)\"] = twkm.filter(like=\"DC\", axis=1).sum(axis=1)\n",
    "data[\"Hydrogen network retrofitted\"] = twkm[\"H2 pipeline retrofitted\"]\n",
    "data[\"Hydrogen network new\"] = twkm[\"H2 pipeline\"]"
   ]
  },
  {
   "cell_type": "code",
   "execution_count": null,
   "id": "eef138cd-674c-4008-84f2-810fe535cf69",
   "metadata": {
    "tags": []
   },
   "outputs": [],
   "source": [
    "nindex = [\"cost-optimal\\nexpansion\", \"no grid\\nexpansion\"]"
   ]
  },
  {
   "cell_type": "code",
   "execution_count": null,
   "id": "57fcb5d8-198d-46e7-a848-c0001a2e0f43",
   "metadata": {
    "tags": []
   },
   "outputs": [],
   "source": [
    "fig, ax = plt.subplots(\n",
    "    1, 2, sharey=True, figsize=(4, 3.5), gridspec_kw={\"width_ratios\": [1.6, 1]}\n",
    ")\n",
    "\n",
    "kwargs = dict(stacked=True, edgecolor=\"k\", width=0.3)\n",
    "\n",
    "df = data.xs(\"yes\", level=\"h2\").filter(like=\"Electricity\")\n",
    "df.index = nindex\n",
    "df.plot.bar(ax=ax[0], color=[\"#6c9459\", \"#a6be9b\"], position=1, **kwargs)\n",
    "\n",
    "dfh = data.xs(\"yes\", level=\"h2\").filter(like=\"Hydrogen\")\n",
    "dfh.index = nindex\n",
    "dfh.plot.bar(ax=ax[0], color=[\"#904d84\", \"#f081dc\"], position=0, **kwargs)\n",
    "\n",
    "df2 = data.xs(\"no\", level=\"h2\")\n",
    "df2.index = nindex[:2]\n",
    "df2.plot.bar(\n",
    "    ax=ax[1],\n",
    "    color=[\"#6c9459\", \"#a6be9b\"],\n",
    "    legend=False,\n",
    "    edgecolor=\"k\",\n",
    "    width=0.5,\n",
    "    stacked=True,\n",
    ")\n",
    "\n",
    "if kind == \"twkm\":\n",
    "    ax[0].set_ylabel(\"TWkm\")\n",
    "    ax[0].set_ylim([0, 800])\n",
    "\n",
    "if kind == \"ewhkm\":\n",
    "    ax[0].set_ylabel(\"EWhkm\")\n",
    "    ax[0].set_ylim([0, 4])\n",
    "\n",
    "ax[0].set_xlim([-0.5, 1.5])\n",
    "ax[0].set_xlabel(\"\")\n",
    "ax[0].set_title(\"H$_2$ network\")\n",
    "ax[1].set_title(\"no H$_2$ network\")\n",
    "ax[1].set_xlabel(\"\")\n",
    "\n",
    "ax[0].title.set_size(11)\n",
    "ax[1].title.set_size(11)\n",
    "\n",
    "ax[0].grid(axis=\"y\")\n",
    "ax[1].grid(axis=\"y\")\n",
    "\n",
    "for i in [\"top\", \"right\", \"left\", \"bottom\"]:\n",
    "    ax[0].spines[i].set_visible(False)\n",
    "    ax[1].spines[i].set_visible(False)\n",
    "\n",
    "plt.tight_layout()\n",
    "\n",
    "ax[0].legend(bbox_to_anchor=(1.45, 1.6), ncol=1)\n",
    "\n",
    "plt.savefig(f\"{OUTPUT}/{kind}.pdf\", bbox_inches=\"tight\")"
   ]
  },
  {
   "cell_type": "code",
   "execution_count": null,
   "id": "6002ddf1-004b-4798-aade-b80b0b8124e3",
   "metadata": {},
   "outputs": [],
   "source": [
    "twkm.sum(axis=1)"
   ]
  },
  {
   "cell_type": "code",
   "execution_count": null,
   "id": "f14db2bd-cbb7-480e-9d21-f7aaf4377e0b",
   "metadata": {},
   "outputs": [],
   "source": [
    "1 - 379 / 485"
   ]
  },
  {
   "cell_type": "code",
   "execution_count": null,
   "id": "96f3d5ef-6e3f-4d93-86e4-e2c35dc461be",
   "metadata": {},
   "outputs": [],
   "source": [
    "twkm.filter(regex=\"(AC|DC)\", axis=1).sum(axis=1)"
   ]
  },
  {
   "cell_type": "code",
   "execution_count": null,
   "id": "4acb2112-c7f9-480a-9e92-2e0ab2799d9a",
   "metadata": {},
   "outputs": [],
   "source": [
    "twkm.filter(regex=\"H2\", axis=1).sum(axis=1)"
   ]
  },
  {
   "cell_type": "code",
   "execution_count": null,
   "id": "dca7b9f0-e8d4-4dbd-aba8-0b51f5326cb4",
   "metadata": {},
   "outputs": [],
   "source": [
    "322.2 * 1.25"
   ]
  },
  {
   "cell_type": "code",
   "execution_count": null,
   "id": "89a24dfc-2ca6-44cf-b4ca-d73feb28bf33",
   "metadata": {},
   "outputs": [],
   "source": [
    "758.6 / 692.3"
   ]
  },
  {
   "cell_type": "code",
   "execution_count": null,
   "id": "2711d744-ae24-485e-9bd4-299a6968936c",
   "metadata": {},
   "outputs": [],
   "source": [
    "758.6 / 322.2"
   ]
  },
  {
   "cell_type": "code",
   "execution_count": null,
   "id": "0a4c06da-e47d-4c81-aa30-aee13cbff763",
   "metadata": {},
   "outputs": [],
   "source": [
    "758.6 / 322.2"
   ]
  },
  {
   "cell_type": "code",
   "execution_count": null,
   "id": "75bf8aa4-21ef-4627-8618-8a5a6aa4d2b2",
   "metadata": {},
   "outputs": [],
   "source": [
    "692.3 / 322.2"
   ]
  },
  {
   "cell_type": "code",
   "execution_count": null,
   "id": "2ef0e51c-e367-4dc6-a6cf-a7e563ade5d2",
   "metadata": {},
   "outputs": [],
   "source": [
    "twkm"
   ]
  },
  {
   "cell_type": "code",
   "execution_count": null,
   "id": "c55501fa-4bab-451c-bd12-4eb9cb781a5d",
   "metadata": {},
   "outputs": [],
   "source": [
    "twkm.filter(like=\"H2\", axis=1).sum(axis=1)"
   ]
  },
  {
   "cell_type": "markdown",
   "id": "0fa63603-370a-4bbc-8546-268665a04b8e",
   "metadata": {},
   "source": [
    "## Capacities"
   ]
  },
  {
   "cell_type": "code",
   "execution_count": null,
   "id": "af214161-3197-4e20-a46b-ba9c909230e5",
   "metadata": {},
   "outputs": [],
   "source": [
    "df = load_h2_capacities().xs(100.0, axis=1, level=\"onw\").div(1e3)  # GW"
   ]
  },
  {
   "cell_type": "code",
   "execution_count": null,
   "id": "e5054b4d-2488-42c6-b531-676b01aacc8f",
   "metadata": {},
   "outputs": [],
   "source": [
    "index_dict = {\n",
    "    \"offwind-ac\": \"offshore wind (AC)\",\n",
    "    \"offwind-dc\": \"offshore wind (DC)\",\n",
    "    \"onwind\": \"onshore wind\",\n",
    "}\n",
    "\n",
    "column_dict = {\n",
    "    \"1.0\": \"w/o power\",\n",
    "    \"opt\": \"w power\",\n",
    "    \"H2 grid\": \"w H$_2$\",\n",
    "    \"no H2 grid\": \"w/o H$_2$\",\n",
    "}\n",
    "\n",
    "df.rename(index=index_dict, columns=column_dict, inplace=True)"
   ]
  },
  {
   "cell_type": "code",
   "execution_count": null,
   "id": "8891bfd2-6620-4c8f-943a-cecfd0159aa9",
   "metadata": {},
   "outputs": [],
   "source": [
    "df.columns = [\"\\n\".join(col).strip() for col in df.columns.values]"
   ]
  },
  {
   "cell_type": "code",
   "execution_count": null,
   "id": "f46f1be7-a4a6-4023-8415-98d7ca456916",
   "metadata": {},
   "outputs": [],
   "source": [
    "df.sort_index(axis=1, inplace=True)"
   ]
  },
  {
   "cell_type": "code",
   "execution_count": null,
   "id": "4a280f30-ba84-4f30-99da-2ad8ff3d6501",
   "metadata": {},
   "outputs": [],
   "source": [
    "tech_colors = config[\"plotting\"][\"tech_colors\"]"
   ]
  },
  {
   "cell_type": "code",
   "execution_count": null,
   "id": "61a2bfc2-ec84-46df-af1b-5735ed4ea7c3",
   "metadata": {},
   "outputs": [],
   "source": [
    "fig, axs = plt.subplots(1, 4, figsize=(10, 4))\n",
    "\n",
    "groups = [\n",
    "    [\"solar rooftop\", \"solar\"],\n",
    "    [\"onshore wind\"],\n",
    "    [\"offshore wind (AC)\", \"offshore wind (DC)\"],\n",
    "    [\"H2 Electrolysis\", \"SMR CC\", \"SMR\"],\n",
    "]\n",
    "\n",
    "ylims = [\n",
    "    [0, 4000],\n",
    "    [0, 2000],\n",
    "    [0, 300],\n",
    "    [0, 1500],\n",
    "]\n",
    "\n",
    "for ax, group, ylim in zip(axs, groups, ylims):\n",
    "    df.loc[group].T.plot.bar(ax=ax, stacked=True, color=tech_colors)\n",
    "    # ax.set_xlabel('grid expansion')\n",
    "    ax.legend(bbox_to_anchor=(1.02, 1.45))\n",
    "    ax.set_ylabel(\"capacity [GW]\")\n",
    "    ax.set_ylim(ylim)\n",
    "\n",
    "# fig.supxlabel('grid expansion')\n",
    "plt.tight_layout()\n",
    "plt.savefig(OUTPUT + \"capacities.pdf\", bbox_inches=\"tight\")"
   ]
  },
  {
   "cell_type": "code",
   "execution_count": null,
   "id": "eaf398eb-e7da-48ca-ab9b-22ffc35ce941",
   "metadata": {},
   "outputs": [],
   "source": []
  },
  {
   "cell_type": "code",
   "execution_count": null,
   "id": "ebdb43e5-1160-430e-8b08-de5b9a572508",
   "metadata": {},
   "outputs": [],
   "source": []
  }
 ],
 "metadata": {
  "interpreter": {
   "hash": "494d35a45045e3fb9015f1d2cd094f8e1540ef3ea8b346f6f51a6ceb6be203c2"
  },
  "kernelspec": {
   "display_name": "Python 3 (ipykernel)",
   "language": "python",
   "name": "python3"
  },
  "language_info": {
   "codemirror_mode": {
    "name": "ipython",
    "version": 3
   },
   "file_extension": ".py",
   "mimetype": "text/x-python",
   "name": "python",
   "nbconvert_exporter": "python",
   "pygments_lexer": "ipython3",
   "version": "3.10.4"
  }
 },
 "nbformat": 4,
 "nbformat_minor": 5
}
