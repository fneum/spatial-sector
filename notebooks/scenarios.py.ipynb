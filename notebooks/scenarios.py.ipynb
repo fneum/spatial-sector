{
 "cells": [
  {
   "cell_type": "code",
   "execution_count": null,
   "id": "d319d7d7-1a16-46a2-aaae-824930485e1f",
   "metadata": {},
   "outputs": [],
   "source": [
    "import pypsa\n",
    "import yaml\n",
    "import cartopy\n",
    "import sys\n",
    "import re\n",
    "\n",
    "import pandas as pd\n",
    "import numpy as np\n",
    "import geopandas as gpd\n",
    "import xarray as xr\n",
    "import cartopy.crs as ccrs\n",
    "import matplotlib.pyplot as plt\n",
    "\n",
    "from itertools import product\n",
    "from matplotlib.lines import Line2D\n",
    "from vresutils.costdata import annuity\n",
    "\n",
    "path = \"../../../playgrounds/pr/pypsa-eur-sec/\"\n",
    "\n",
    "sys.path.append(path + \"scripts/\")\n",
    "from plot_summary import rename_techs#, preferred_order\n",
    "\n",
    "plt.style.use(['bmh', '../matplotlibrc'])\n",
    "xr.set_options(display_style='html')\n",
    "\n",
    "%matplotlib inline"
   ]
  },
  {
   "cell_type": "code",
   "execution_count": null,
   "id": "3dab3dea-8c21-469e-81a8-1b7f17fac1cb",
   "metadata": {},
   "outputs": [],
   "source": [
    "nodes = 181\n",
    "opt = \"Co2L0-3H-T-H-B-I-A-solar+p3-linemaxext10\"\n",
    "output = \"../results/graphics/\""
   ]
  },
  {
   "cell_type": "code",
   "execution_count": null,
   "id": "f22393b4-8790-4f6c-8712-5649b6d84706",
   "metadata": {},
   "outputs": [],
   "source": [
    "with open(path + \"config.yaml\") as file:\n",
    "    config = yaml.safe_load(file)"
   ]
  },
  {
   "cell_type": "code",
   "execution_count": null,
   "id": "21ac38fa-607a-4b77-9ca8-f00a2732146c",
   "metadata": {},
   "outputs": [],
   "source": [
    "def rename_techs_tyndp(tech):\n",
    "    tech = rename_techs(tech)\n",
    "    if \"heat pump\" in tech or \"resistive heater\" in tech:\n",
    "        return \"power-to-heat\"\n",
    "    elif tech in [\"H2 Electrolysis\", \"methanation\", \"helmeth\", \"H2 liquefaction\"]:\n",
    "        return \"power-to-gas\"\n",
    "    elif tech == \"H2\":\n",
    "        return \"H2 storage\"\n",
    "    elif tech in [\"OCGT\", \"CHP\", \"gas boiler\", \"H2 Fuel Cell\"]:\n",
    "        return \"gas-to-power/heat\"\n",
    "    elif \"solar\" in tech:\n",
    "        return \"solar\"\n",
    "    elif tech == \"Fischer-Tropsch\":\n",
    "        return \"power-to-liquid\"\n",
    "    elif \"offshore wind\" in tech:\n",
    "        return \"offshore wind\"\n",
    "    elif \"CC\" in tech or \"sequestration\" in tech:\n",
    "        return \"CCS\"\n",
    "    else:\n",
    "        return tech"
   ]
  },
  {
   "cell_type": "code",
   "execution_count": null,
   "id": "143ef3c4-7385-4480-a870-1f3f5f9cd278",
   "metadata": {},
   "outputs": [],
   "source": [
    "preferred_order = pd.Index([\n",
    "    'transmission lines',\n",
    "    'electricity distribution grid',\n",
    "    'hydroelectricity',\n",
    "    'hydro reservoir',\n",
    "    'run of river',\n",
    "    'pumped hydro storage',\n",
    "    'solid biomass',\n",
    "    'biogas',\n",
    "    'onshore wind',\n",
    "    'offshore wind',\n",
    "    'offshore wind (AC)',\n",
    "    'offshore wind (DC)',\n",
    "    'solar PV',\n",
    "    'solar thermal',\n",
    "    'solar rooftop',\n",
    "    'solar',\n",
    "    'building retrofitting'\n",
    "    'ground heat pump',\n",
    "    'air heat pump',\n",
    "    'heat pump',\n",
    "    'resistive heater',\n",
    "    'power-to-heat',\n",
    "    'gas-to-power/heat',\n",
    "    'CHP',\n",
    "    'OCGT',\n",
    "    'gas boiler',\n",
    "    'gas',\n",
    "    'natural gas',\n",
    "    'helmeth',\n",
    "    'methanation',\n",
    "    'power-to-gas',\n",
    "    'power-to-H2',\n",
    "    'H2 pipeline',\n",
    "    'H2 liquefaction',\n",
    "    'H2 storage',\n",
    "    'hydrogen storage',\n",
    "    'power-to-liquid',\n",
    "    'battery storage',\n",
    "    'hot water storage',\n",
    "    'CO2 sequestration',\n",
    "    'CCS'\n",
    "])"
   ]
  },
  {
   "cell_type": "markdown",
   "id": "67d40c02-ad31-4c81-85dc-05beb1e2c0a1",
   "metadata": {},
   "source": [
    "## Line Volume Sensitivity"
   ]
  },
  {
   "cell_type": "code",
   "execution_count": null,
   "id": "4dac0082-aff7-4d0e-a9e1-792841995ac3",
   "metadata": {},
   "outputs": [],
   "source": [
    "folder = \"results/20211007-181-lv\""
   ]
  },
  {
   "cell_type": "code",
   "execution_count": null,
   "id": "c393a027-0d3e-455c-ba1d-fac79f0f335c",
   "metadata": {},
   "outputs": [],
   "source": [
    "costs = pd.read_csv(path + folder + \"/csvs/costs.csv\", header=[0,1,2,3], index_col=[0,1,2])"
   ]
  },
  {
   "cell_type": "code",
   "execution_count": null,
   "id": "c11f7929-cd5b-4cf7-9110-53429b5e036b",
   "metadata": {},
   "outputs": [],
   "source": [
    "costs = costs[str(nodes)].rename(lambda x: float(x), axis=1, level=0)"
   ]
  },
  {
   "cell_type": "code",
   "execution_count": null,
   "id": "30b4aa10-59fc-4542-b573-0a4cb2893158",
   "metadata": {},
   "outputs": [],
   "source": [
    "df = costs.xs(opt, level='opt', axis=1).xs('2030', level=\"planning_horizon\", axis=1).groupby(level=2).sum().div(1e9)"
   ]
  },
  {
   "cell_type": "code",
   "execution_count": null,
   "id": "ebefebc9-4c9d-4e7e-9e59-b764896f5177",
   "metadata": {},
   "outputs": [],
   "source": [
    "df = df.groupby(df.index.map(rename_techs_tyndp)).sum()"
   ]
  },
  {
   "cell_type": "code",
   "execution_count": null,
   "id": "d7ac1350-65ab-47bb-aded-cb885bdc2517",
   "metadata": {},
   "outputs": [],
   "source": [
    "df.sum()"
   ]
  },
  {
   "cell_type": "code",
   "execution_count": null,
   "id": "ca19b2fb-bde6-4358-89bf-db995eabfb43",
   "metadata": {},
   "outputs": [],
   "source": [
    "df.sum() - df.sum().max()"
   ]
  },
  {
   "cell_type": "code",
   "execution_count": null,
   "id": "4f9e9fb6-4bba-4829-9392-52266ab85e99",
   "metadata": {},
   "outputs": [],
   "source": [
    "(1 - df.sum() / df.sum().max()) * 100"
   ]
  },
  {
   "cell_type": "code",
   "execution_count": null,
   "id": "da95b708-443b-4790-8785-993a8228fcb2",
   "metadata": {},
   "outputs": [],
   "source": [
    "to_drop = df.index[df.max(axis=1).fillna(0.) < 1.2]\n",
    "to_drop = to_drop.difference([\"DAC\", \"hot water storage\"]) # exclude dropping to align with onwind sensitivity...\n",
    "df.drop(to_drop, inplace=True)"
   ]
  },
  {
   "cell_type": "code",
   "execution_count": null,
   "id": "e63c0f05-7af3-4fe4-a469-d2b14a7d6730",
   "metadata": {},
   "outputs": [],
   "source": [
    "order = preferred_order.intersection(df.index).append(df.index.difference(preferred_order))\n",
    "df = df.loc[order]"
   ]
  },
  {
   "cell_type": "code",
   "execution_count": null,
   "id": "81862c46-5406-4ca1-b601-1b176edd48d9",
   "metadata": {},
   "outputs": [],
   "source": [
    "fig, ax = plt.subplots(figsize=(6,4.5))\n",
    "\n",
    "to_plot = df.T.sort_index()\n",
    "\n",
    "tech_colors = config['plotting']['tech_colors']\n",
    "colors = [tech_colors[i] for i in df.index]\n",
    "\n",
    "to_plot.plot.area(\n",
    "    ax=ax,\n",
    "    stacked=True,\n",
    "    linewidth=0,\n",
    "    color=colors\n",
    ")\n",
    "\n",
    "handles,labels = ax.get_legend_handles_labels()\n",
    "\n",
    "handles.reverse()\n",
    "labels.reverse()\n",
    "\n",
    "ax.set_xlim(1,2)\n",
    "ax.set_xlabel(\"Line volume limit (multiple of today's volume)\")\n",
    "\n",
    "ax.set_ylim([0,1000])\n",
    "ax.set_ylabel(\"System Cost [EUR billion per year]\")\n",
    "ax.grid(axis=\"y\")\n",
    "\n",
    "ax.axvline(\n",
    "    1.25,\n",
    "    color='k',\n",
    "    linestyle=\"--\",\n",
    "    linewidth=1\n",
    ")\n",
    "\n",
    "ax.text(1.275, 810, \"TYNDP equivalent\", size=13, color=\"k\")\n",
    "\n",
    "# legend on side\n",
    "#ax.legend(handles, labels, ncol=1, frameon=False, bbox_to_anchor=(1,1.05))\n",
    "\n",
    "# legend inside\n",
    "ax.legend(handles, labels, ncol=3, frameon=False, bbox_to_anchor=(1.1,1.48))\n",
    "\n",
    "ax.set_axisbelow(False)\n",
    "\n",
    "fig.savefig(output + \"lv-sensitivity.pdf\", bbox_inches='tight')"
   ]
  },
  {
   "cell_type": "markdown",
   "id": "63ffab26-ad74-4775-8ffb-d81493b50ecb",
   "metadata": {},
   "source": [
    "## Onshore Wind Sensitivity"
   ]
  },
  {
   "cell_type": "code",
   "execution_count": null,
   "id": "eb972b6b-0806-4e87-b3a5-97dfddf2bf4a",
   "metadata": {},
   "outputs": [],
   "source": [
    "folder = \"results/20211007-181-onw\""
   ]
  },
  {
   "cell_type": "code",
   "execution_count": null,
   "id": "c6c71dd4-3c5f-4a64-b355-3b4658d79ced",
   "metadata": {},
   "outputs": [],
   "source": [
    "costs = pd.read_csv(path + folder + \"/csvs/costs.csv\", header=[0,1,2,3], index_col=[0,1,2])"
   ]
  },
  {
   "cell_type": "code",
   "execution_count": null,
   "id": "27e7e0a7-c1c3-4397-9513-2c0fe3081bcd",
   "metadata": {},
   "outputs": [],
   "source": [
    "costs = costs.xs([str(nodes), \"1.0\", \"2030\"], level=[\"cluster\", \"lv\", \"planning_horizon\"], axis=1)"
   ]
  },
  {
   "cell_type": "code",
   "execution_count": null,
   "id": "2fd7b8ee-8d6c-4408-aa2b-70e0d5567414",
   "metadata": {},
   "outputs": [],
   "source": [
    "costs.columns = [100 * float(re.search(r'onwind\\+p([0-9.]*)', c).groups()[0]) for c in costs.columns]"
   ]
  },
  {
   "cell_type": "code",
   "execution_count": null,
   "id": "d0009c57-bf47-45ef-a5f5-9700ddfacadc",
   "metadata": {},
   "outputs": [],
   "source": [
    "df = costs.groupby(level=2).sum().div(1e9)"
   ]
  },
  {
   "cell_type": "code",
   "execution_count": null,
   "id": "a4d48b62-a968-473f-b361-5ccf483de53e",
   "metadata": {},
   "outputs": [],
   "source": [
    "df = df.groupby(df.index.map(rename_techs_tyndp)).sum()"
   ]
  },
  {
   "cell_type": "code",
   "execution_count": null,
   "id": "dd39c1ce-5036-45b5-9c59-7aaebb86bf1e",
   "metadata": {},
   "outputs": [],
   "source": [
    "df.sum()"
   ]
  },
  {
   "cell_type": "code",
   "execution_count": null,
   "id": "d5132ecb-b7c9-4e2b-9f80-02c5e48f7a76",
   "metadata": {},
   "outputs": [],
   "source": [
    "df.sum() - df.sum().max()"
   ]
  },
  {
   "cell_type": "code",
   "execution_count": null,
   "id": "76c00169-72cb-41ee-89d5-ad78a7461299",
   "metadata": {},
   "outputs": [],
   "source": [
    "(1 - df.sum() / df.sum().max()) * 100"
   ]
  },
  {
   "cell_type": "code",
   "execution_count": null,
   "id": "d182a105-f710-4d60-ae66-2f4b3e733abb",
   "metadata": {},
   "outputs": [],
   "source": [
    "to_drop = df.index[df.max(axis=1).fillna(0.) < 1.2]\n",
    "print(to_drop)\n",
    "df.drop(to_drop, inplace=True)"
   ]
  },
  {
   "cell_type": "code",
   "execution_count": null,
   "id": "f6ee99de-e60a-4b1d-b597-63d5786083d4",
   "metadata": {},
   "outputs": [],
   "source": [
    "order = preferred_order.intersection(df.index).append(df.index.difference(preferred_order))\n",
    "df = df.loc[order]"
   ]
  },
  {
   "cell_type": "code",
   "execution_count": null,
   "id": "e21208cf-a338-4e14-a437-78d3eb933ab9",
   "metadata": {},
   "outputs": [],
   "source": [
    "fig, ax = plt.subplots(figsize=(6,4.5))\n",
    "\n",
    "to_plot = df.T.sort_index()\n",
    "\n",
    "tech_colors = config['plotting']['tech_colors']\n",
    "colors = [tech_colors[i] for i in df.index]\n",
    "\n",
    "to_plot.plot.area(\n",
    "    ax=ax,\n",
    "    stacked=True,\n",
    "    linewidth=0,\n",
    "    color=colors\n",
    ")\n",
    "\n",
    "handles,labels = ax.get_legend_handles_labels()\n",
    "\n",
    "handles.reverse()\n",
    "labels.reverse()\n",
    "\n",
    "ax.set_xlim(0,100)\n",
    "ax.set_xlabel(\"Fraction of technical onshore wind potential available [%]\")\n",
    "\n",
    "ax.set_ylim(0,1000)\n",
    "ax.set_ylabel(\"System Cost [EUR billion per year]\")\n",
    "ax.grid(axis=\"y\")\n",
    "\n",
    "ax.axvline(\n",
    "    25,\n",
    "    color='k',\n",
    "    linestyle=\"--\",\n",
    "    linewidth=1\n",
    ")\n",
    "\n",
    "ax.text(27.5, 900, \"compromise social potential\", size=13, color=\"k\")\n",
    "\n",
    "# legend on side\n",
    "#ax.legend(handles, labels, ncol=1, frameon=False, bbox_to_anchor=(1,1.05))\n",
    "\n",
    "# legend inside\n",
    "ax.legend(handles, labels, ncol=3, frameon=False, bbox_to_anchor=(1.1,1.48))   \n",
    "\n",
    "ax.set_axisbelow(False)\n",
    "\n",
    "fig.savefig(output + \"onw-sensitivity.pdf\", bbox_inches='tight')"
   ]
  },
  {
   "cell_type": "markdown",
   "id": "72b5054b-b950-4c4d-aa8d-9ad5769b2e91",
   "metadata": {},
   "source": [
    "## H2 Network Scenarios"
   ]
  },
  {
   "cell_type": "code",
   "execution_count": null,
   "id": "2c9ea373-f352-4e03-9bd4-b95e9af24d7e",
   "metadata": {},
   "outputs": [],
   "source": [
    "folder = \"results/20211007-181-h2\""
   ]
  },
  {
   "cell_type": "code",
   "execution_count": null,
   "id": "5c0ae828-525f-47a5-a3d4-a8941239646a",
   "metadata": {},
   "outputs": [],
   "source": [
    "costs = pd.read_csv(path + folder + \"/csvs/costs.csv\", header=[0,1,2,3], index_col=[0,1,2])"
   ]
  },
  {
   "cell_type": "code",
   "execution_count": null,
   "id": "0dbc57ab-5a80-4605-9d59-f20919b7fad7",
   "metadata": {},
   "outputs": [],
   "source": [
    "costs = costs.xs([str(nodes), \"2030\"], level=[\"cluster\", \"planning_horizon\"], axis=1)"
   ]
  },
  {
   "cell_type": "code",
   "execution_count": null,
   "id": "f9a68dc4-6d4c-4bfb-ac3e-0e32dfc1af5b",
   "metadata": {},
   "outputs": [],
   "source": [
    "def parse_index(c):\n",
    "    \n",
    "    lv = c[0]\n",
    "\n",
    "    match = re.search(r'onwind\\+p([0-9.]*)', c[1])\n",
    "    onw = 100. if match is None else 100 * float(match.groups()[0])\n",
    "\n",
    "    h2 = \"no H2 grid\" if \"noH2network\" in c[1] else \"H2 grid\"\n",
    "    \n",
    "    return (lv, onw, h2)"
   ]
  },
  {
   "cell_type": "code",
   "execution_count": null,
   "id": "f98fadcc-d493-42ff-b52a-110ef68ef7f3",
   "metadata": {},
   "outputs": [],
   "source": [
    "costs.columns = pd.MultiIndex.from_tuples([parse_index(c) for c in costs.columns], names=[\"lv\", \"onw\", \"h2\"])"
   ]
  },
  {
   "cell_type": "code",
   "execution_count": null,
   "id": "fe875e3f-3e87-41c2-a34f-0acecdf04d87",
   "metadata": {},
   "outputs": [],
   "source": [
    "df = costs.groupby(level=2).sum().div(1e9)"
   ]
  },
  {
   "cell_type": "code",
   "execution_count": null,
   "id": "1348a76c-9d1d-470b-8325-200e411ce077",
   "metadata": {},
   "outputs": [],
   "source": [
    "df = df.groupby(df.index.map(rename_techs_tyndp)).sum()"
   ]
  },
  {
   "cell_type": "code",
   "execution_count": null,
   "id": "b6c9f9ba-83d4-4e6e-80b8-17397f55bdb0",
   "metadata": {},
   "outputs": [],
   "source": [
    "df.sum().sort_values()"
   ]
  },
  {
   "cell_type": "code",
   "execution_count": null,
   "id": "abe9b3e6-e51a-4b07-996c-2c9bad26ea94",
   "metadata": {},
   "outputs": [],
   "source": [
    "dff = df.sum().unstack(\"h2\")"
   ]
  },
  {
   "cell_type": "code",
   "execution_count": null,
   "id": "b417ca11-2141-4b9e-82fa-0241c3496779",
   "metadata": {},
   "outputs": [],
   "source": [
    "rel_advantage = (((dff[\"no H2 grid\"] / dff[\"H2 grid\"] - 1) * 100).round(1)).unstack().T\n",
    "rel_advantage"
   ]
  },
  {
   "cell_type": "code",
   "execution_count": null,
   "id": "314f3240-2b68-4780-8fc2-5c19a714d77e",
   "metadata": {},
   "outputs": [],
   "source": [
    "abs_advantage = ((dff[\"no H2 grid\"] - dff[\"H2 grid\"]).round().astype(int)).unstack().T\n",
    "abs_advantage"
   ]
  },
  {
   "cell_type": "code",
   "execution_count": null,
   "id": "4c58c8e5-72e4-4dc9-afa1-5a5863f7cbc5",
   "metadata": {},
   "outputs": [],
   "source": [
    "(df.sum() - df.sum().max()).sort_values().round()"
   ]
  },
  {
   "cell_type": "code",
   "execution_count": null,
   "id": "604ff07d-e746-47a3-8f04-c6d101c59302",
   "metadata": {},
   "outputs": [],
   "source": [
    "((1 - df.sum() / df.sum().max()) * 100).sort_values().round()"
   ]
  },
  {
   "cell_type": "code",
   "execution_count": null,
   "id": "17254f81-3979-4980-9faa-e5ccd7bc702c",
   "metadata": {},
   "outputs": [],
   "source": [
    "x = df.sum().xs(100., level='onw')\n",
    "xx = x / x.min()\n",
    "xx.unstack().round(2)"
   ]
  },
  {
   "cell_type": "code",
   "execution_count": null,
   "id": "83cf72f5-da72-4a27-825e-4efd5ef442ad",
   "metadata": {},
   "outputs": [],
   "source": [
    "to_drop = df.index[df.max(axis=1).fillna(0.) < 1.2]\n",
    "print(to_drop)\n",
    "df.drop(to_drop, inplace=True)"
   ]
  },
  {
   "cell_type": "code",
   "execution_count": null,
   "id": "3b29bfbb-079a-4c7f-b9c1-21a1e1c38986",
   "metadata": {},
   "outputs": [],
   "source": [
    "order = preferred_order.intersection(df.index).append(df.index.difference(preferred_order))\n",
    "df = df.loc[order]"
   ]
  },
  {
   "cell_type": "code",
   "execution_count": null,
   "id": "afe04628-0fc5-494f-b632-3d4db079cd28",
   "metadata": {},
   "outputs": [],
   "source": [
    "tech_colors = config['plotting']['tech_colors']\n",
    "colors = [tech_colors[i] for i in df.index]"
   ]
  },
  {
   "cell_type": "code",
   "execution_count": null,
   "id": "4adeca65-101d-4d14-84b2-10caf74c8a64",
   "metadata": {},
   "outputs": [],
   "source": [
    "xx = enumerate(df.columns.get_level_values('lv').unique()[::-1])\n",
    "yy = enumerate(df.columns.get_level_values('onw').unique())\n",
    "\n",
    "fig, axs = plt.subplots(3, 3, figsize=(6.5,6.5), sharex=True, sharey=True)\n",
    "\n",
    "kwargs = dict(\n",
    "    stacked=True,\n",
    "    color=colors,\n",
    "    ylim=(0,1000),\n",
    "    legend=False\n",
    ")\n",
    "\n",
    "for x, y in product(xx, yy):\n",
    "    \n",
    "    ax = axs[x[0], y[0]]\n",
    "    \n",
    "    toprow_kwargs = dict(\n",
    "        title=f\"onshore wind\\n{int(y[1])}% potential\\n\"\n",
    "    ) if x[0] == 0 else {}\n",
    "    \n",
    "    ylabel_value = \"optimal\" if x[1] == \"opt\" else f\"{100 * float(x[1]) - 100:.{0}f}%\"\n",
    "\n",
    "    to_plot = df.xs([x[1], y[1]], axis=1, level=[\"lv\", \"onw\"]).T.sort_index(ascending=True)\n",
    "    to_plot.plot.bar(ax=ax, **kwargs,\n",
    "                     ylabel=f\"line expansion\\n{ylabel_value}\\n\\nbn€/a\",\n",
    "                     **toprow_kwargs)\n",
    "    \n",
    "    ax.set_xlabel('', rotation=0)\n",
    "    \n",
    "    ax.grid(axis='y')\n",
    "    ax.title.set_size(11)\n",
    "    \n",
    "    #ax.patch.set_visible(False)\n",
    "    \n",
    "    for i in ['top', 'right', 'left', 'bottom']:\n",
    "        ax.spines[i].set_visible(False)\n",
    "    \n",
    "    label = f\"+ {rel_advantage.loc[y[1],x[1]]}%\\n+ {abs_advantage.loc[y[1],x[1]]}\"\n",
    "    ax.text(0.28, 820, label, size=8.5, color=\"k\")\n",
    "    \n",
    "\n",
    "handles, labels = ax.get_legend_handles_labels()\n",
    "handles.reverse()\n",
    "labels.reverse()\n",
    "fig.legend(handles, labels, bbox_to_anchor=(1.33,.9))\n",
    "\n",
    "plt.tight_layout()\n",
    "\n",
    "plt.savefig(output + \"sensitivity-h2.pdf\", bbox_inches='tight')"
   ]
  },
  {
   "cell_type": "markdown",
   "id": "44b13092-421e-4a87-8cf9-a4907751a309",
   "metadata": {},
   "source": [
    "### H2 vs Electricity Grid"
   ]
  },
  {
   "cell_type": "code",
   "execution_count": null,
   "id": "2de90810-7b46-4b06-8798-20242125de87",
   "metadata": {},
   "outputs": [],
   "source": [
    "levels = [\"lv\", \"onw\", \"h2\"]"
   ]
  },
  {
   "cell_type": "code",
   "execution_count": null,
   "id": "8f1b7027-d171-45dd-b752-91649c68649f",
   "metadata": {},
   "outputs": [],
   "source": [
    "scenA = df.xs([\"1.0\", 100., \"H2 grid\"], level=levels, axis=1)\n",
    "scenB = df.xs([\"opt\", 100., \"no H2 grid\"], level=levels, axis=1)\n"
   ]
  },
  {
   "cell_type": "code",
   "execution_count": null,
   "id": "17affa4f-ee7e-4cdd-8604-3f1bf3edc42f",
   "metadata": {},
   "outputs": [],
   "source": [
    "scenA.columns = [\"no electricity grid exp.\\nH2 grid exp.\"]\n",
    "scenB.columns = [\"electricity grid exp.\\nno H2 grid exp.\"]\n"
   ]
  },
  {
   "cell_type": "code",
   "execution_count": null,
   "id": "0699e3b8-dc09-44b7-8cb9-9b5279d8f929",
   "metadata": {},
   "outputs": [],
   "source": [
    "to_plot = pd.concat([scenB, scenA], axis=1).T"
   ]
  },
  {
   "cell_type": "code",
   "execution_count": null,
   "id": "541b463c-1f9a-4052-9e32-83c91f98f459",
   "metadata": {},
   "outputs": [],
   "source": [
    "tsc = to_plot.sum(axis=1)"
   ]
  },
  {
   "cell_type": "code",
   "execution_count": null,
   "id": "d62a102d-ef18-492d-965e-8ccb39c9910c",
   "metadata": {},
   "outputs": [],
   "source": [
    "diff_rel = (100 * tsc / tsc.min() - 100).round(1)[1]"
   ]
  },
  {
   "cell_type": "code",
   "execution_count": null,
   "id": "4b5cd25b-620c-4372-80af-15a6747a40a5",
   "metadata": {},
   "outputs": [],
   "source": [
    "diff_abs = (tsc - tsc.min()).round(1)[1]"
   ]
  },
  {
   "cell_type": "code",
   "execution_count": null,
   "id": "8ffe6a1f-5362-4f78-8d0d-0780d3d5a770",
   "metadata": {},
   "outputs": [],
   "source": [
    "fig, ax = plt.subplots(figsize=(6.5,5.3))\n",
    "\n",
    "to_plot.plot.bar(ax=ax, stacked=True, color=colors, ylim=(0,900), ylabel=\"total system cost [bn€/a]\")\n",
    "\n",
    "handles, labels = ax.get_legend_handles_labels()\n",
    "handles.reverse()\n",
    "labels.reverse()\n",
    "plt.legend(handles, labels, bbox_to_anchor=(1,1))\n",
    "\n",
    "label = f\"+ {diff_rel}%\"\n",
    "ax.text(0.28, 820, label, size=11, color=\"#444444\")\n",
    "\n",
    "label = f\"+ {diff_abs} bn€/a\"\n",
    "ax.text(0.28, 860, label, size=11, color=\"k\")\n",
    "\n",
    "ax.grid(axis='y')\n",
    "plt.xticks(rotation=0, fontsize=11)\n",
    "plt.yticks(np.arange(0,901,100), fontsize=11)\n",
    "\n",
    "for i in ['top', 'right', 'left', 'bottom']:\n",
    "    ax.spines[i].set_visible(False)\n",
    "\n",
    "plt.tight_layout()\n",
    "\n",
    "plt.savefig(output + \"h2-vs-elec-grid.pdf\", bbox_inches='tight')"
   ]
  },
  {
   "cell_type": "markdown",
   "id": "711f4a3f-c5fe-4a05-b571-7e5885663fc5",
   "metadata": {},
   "source": [
    "### Growing Exclusion"
   ]
  },
  {
   "cell_type": "code",
   "execution_count": null,
   "id": "d72e86db-6eaf-47d4-8e19-332c61dc1d39",
   "metadata": {},
   "outputs": [],
   "source": [
    "levels = [\"lv\", \"onw\", \"h2\"]"
   ]
  },
  {
   "cell_type": "code",
   "execution_count": null,
   "id": "bf4bf1fa-512d-4f15-ab9d-e4f6987bdeba",
   "metadata": {},
   "outputs": [],
   "source": [
    "scenA = df.xs([\"opt\", 100., \"H2 grid\"], level=levels, axis=1)\n",
    "scenB = df.xs([\"1.0\", 100., \"H2 grid\"], level=levels, axis=1)\n",
    "scenC = df.xs([\"1.0\", 0., \"H2 grid\"], level=levels, axis=1)\n",
    "scenD = df.xs([\"1.0\", 0., \"no H2 grid\"], level=levels, axis=1)"
   ]
  },
  {
   "cell_type": "code",
   "execution_count": null,
   "id": "0c7b3aaa-11cd-4590-8034-269ec1ae6c79",
   "metadata": {},
   "outputs": [],
   "source": [
    "scenA.columns = [\"least-cost\"]\n",
    "scenB.columns = [\"no grid expansion\"]\n",
    "scenC.columns = [\"no grid expansion\\nno onshore wind\"]\n",
    "scenD.columns = [\"no grid expansion\\nno onshore wind\\nno hydrogen grid\"]"
   ]
  },
  {
   "cell_type": "code",
   "execution_count": null,
   "id": "4c4b4ae2-cdf1-4565-b5e8-eabf5dfae31b",
   "metadata": {},
   "outputs": [],
   "source": [
    "to_plot = pd.concat([scenA, scenB, scenC, scenD], axis=1).T"
   ]
  },
  {
   "cell_type": "code",
   "execution_count": null,
   "id": "fa59a324-5a69-4057-bcf6-7a8189ec8e81",
   "metadata": {},
   "outputs": [],
   "source": [
    "to_plot"
   ]
  },
  {
   "cell_type": "code",
   "execution_count": null,
   "id": "5ee7e384-2294-42db-aa78-957ff842f854",
   "metadata": {},
   "outputs": [],
   "source": [
    "to_plot.loc[\"today\", \"today\"] = 700\n",
    "\n",
    "order = to_plot.index[:-1].insert(0, to_plot.index[-1])\n",
    "to_plot = to_plot.loc[order]"
   ]
  },
  {
   "cell_type": "code",
   "execution_count": null,
   "id": "c6f47a07-2e61-4883-9b29-f55d17b3b6e5",
   "metadata": {},
   "outputs": [],
   "source": [
    "to_plot"
   ]
  },
  {
   "cell_type": "code",
   "execution_count": null,
   "id": "a813e234-a71f-47ee-a5fb-305303138f08",
   "metadata": {},
   "outputs": [],
   "source": [
    "fig, ax = plt.subplots(figsize=(10,5.3))\n",
    "\n",
    "to_plot.plot.bar(ax=ax, stacked=True, color=colors, ylim=(0,1000), ylabel=\"total system cost [bn€/a]\")\n",
    "\n",
    "handles, labels = ax.get_legend_handles_labels()\n",
    "handles.reverse()\n",
    "labels.reverse()\n",
    "plt.legend(handles, labels, bbox_to_anchor=(1,1.05))\n",
    "\n",
    "ax.grid(axis='y')\n",
    "plt.xticks(rotation=0, fontsize=11)\n",
    "plt.yticks(np.arange(0,1001,100), fontsize=11)\n",
    "\n",
    "for i in ['top', 'right', 'left', 'bottom']:\n",
    "    ax.spines[i].set_visible(False)\n",
    "\n",
    "plt.tight_layout()\n",
    "\n",
    "plt.savefig(output + \"growing-exclusion.pdf\", bbox_inches='tight')"
   ]
  },
  {
   "cell_type": "markdown",
   "id": "0e3e7a5e-d8eb-47c5-943b-9755589cb50a",
   "metadata": {},
   "source": [
    "### Unused"
   ]
  },
  {
   "cell_type": "code",
   "execution_count": null,
   "id": "56bc8ac2-1c91-4e0e-8a76-b844264357f1",
   "metadata": {},
   "outputs": [],
   "source": [
    "costs4 = pd.DataFrame(costs3.sum()).T/1e9\n",
    "costs4.index = [\"system\"]\n",
    "\n",
    "costs4.loc[\"environment\"] = [180*3.5,50.,50.,50.]\n",
    "\n",
    "costs4.loc[\"health\"] = [600.,50.,50.,50.]\n",
    "\n",
    "costs4.loc[\"acceptance\"] = [50.,400.,200.,0.]\n",
    "\n",
    "costs4"
   ]
  },
  {
   "cell_type": "code",
   "execution_count": null,
   "id": "d61db2a9-fee1-4c2f-b403-57e5111bf031",
   "metadata": {},
   "outputs": [],
   "source": [
    "if True:\n",
    "\n",
    "\n",
    "    fig, ax = plt.subplots()\n",
    "    fig.set_size_inches(7,5)\n",
    "\n",
    "    to_plot = costs4.T\n",
    "\n",
    "    to_plot.plot(kind=\"bar\",stacked=True,linewidth=0,ax=ax)\n",
    "                    # color=[snakemake.config['plotting']['tech_colors'][i] for i in df.index])\n",
    "\n",
    "    handles,labels = ax.get_legend_handles_labels()\n",
    "\n",
    "    handles.reverse()\n",
    "    labels.reverse()\n",
    "    #ax.set_ylim([0,50])\n",
    "\n",
    "    #ax.set_xlim([0,100])\n",
    "\n",
    "    ax.set_ylabel(\"Total costs (schematic)\")\n",
    "\n",
    "    ax.set_xlabel(\"\")\n",
    "\n",
    "    #ax.grid(axis=\"y\")\n",
    "    \n",
    "    plt.xticks(rotation=0)\n",
    "    \n",
    "    #ax.get_yaxis().set_visible(False)\n",
    "    ax.get_yaxis().set_ticks([])\n",
    "\n",
    "    #ax.legend().set_visible(False)\n",
    "\n",
    "\n",
    "    #framealpha stops transparency                                                                                        \n",
    "    #bbox: first is x, second is y\n",
    "    \n",
    "    #ax.plot([1.25,1.25],[2000,-10],color=\"r\",linewidth=2,linestyle=\"--\")\n",
    "\n",
    "    #ax.text(1.26,930,\"TYNDP equivalent\",size=\"14\",color=\"r\")\n",
    "\n",
    "    ax.legend(handles, labels, ncol=1,framealpha=1.)#loc=\"upper center\",                       \n",
    "    fig.tight_layout()\n",
    "\n",
    "    fig.savefig(\"200629-solar3-bar-total.pdf\",transparent=True)\n"
   ]
  },
  {
   "cell_type": "code",
   "execution_count": null,
   "id": "7fc792d6-285d-4153-9e83-5bd1a6d72c11",
   "metadata": {},
   "outputs": [],
   "source": [
    "if True:\n",
    "\n",
    "\n",
    "    fig, ax = plt.subplots()\n",
    "    fig.set_size_inches(7,5)\n",
    "\n",
    "    to_plot = costs4.T\n",
    "\n",
    "    to_plot.plot(kind=\"bar\",stacked=True,linewidth=0,ax=ax)\n",
    "                    # color=[snakemake.config['plotting']['tech_colors'][i] for i in df.index])\n",
    "\n",
    "    handles,labels = ax.get_legend_handles_labels()\n",
    "\n",
    "    handles.reverse()\n",
    "    labels.reverse()\n",
    "    #ax.set_ylim([0,50])\n",
    "\n",
    "    #ax.set_xlim([0,100])\n",
    "\n",
    "    ax.set_ylabel(\"Total costs (schematic)\")\n",
    "\n",
    "    ax.set_xlabel(\"\")\n",
    "\n",
    "    #ax.grid(axis=\"y\")\n",
    "    \n",
    "    plt.xticks(rotation=0)\n",
    "    \n",
    "    #ax.get_yaxis().set_visible(False)\n",
    "    ax.get_yaxis().set_ticks([])\n",
    "\n",
    "    #ax.legend().set_visible(False)\n",
    "\n",
    "\n",
    "    #framealpha stops transparency                                                                                        \n",
    "    #bbox: first is x, second is y\n",
    "    \n",
    "    #ax.plot([1.25,1.25],[2000,-10],color=\"r\",linewidth=2,linestyle=\"--\")\n",
    "\n",
    "    #ax.text(1.26,930,\"TYNDP equivalent\",size=\"14\",color=\"r\")\n",
    "\n",
    "    ax.legend(handles, labels, ncol=1,framealpha=1.)#loc=\"upper center\",                       \n",
    "    fig.tight_layout()\n",
    "\n",
    "    fig.savefig(\"200629-solar3-bar-total.pdf\",transparent=True)\n"
   ]
  },
  {
   "cell_type": "code",
   "execution_count": null,
   "id": "9d02937c-390a-47e7-9593-9407e58e7b22",
   "metadata": {},
   "outputs": [],
   "source": []
  },
  {
   "cell_type": "code",
   "execution_count": null,
   "id": "dca20bdc-31cf-43b0-a320-3ec047a49ced",
   "metadata": {},
   "outputs": [],
   "source": []
  },
  {
   "cell_type": "code",
   "execution_count": null,
   "id": "2b70adb1-33d5-4572-980d-9ecad3d3e0f4",
   "metadata": {},
   "outputs": [],
   "source": []
  }
 ],
 "metadata": {
  "kernelspec": {
   "display_name": "Python 3 (ipykernel)",
   "language": "python",
   "name": "python3"
  },
  "language_info": {
   "codemirror_mode": {
    "name": "ipython",
    "version": 3
   },
   "file_extension": ".py",
   "mimetype": "text/x-python",
   "name": "python",
   "nbconvert_exporter": "python",
   "pygments_lexer": "ipython3",
   "version": "3.9.7"
  }
 },
 "nbformat": 4,
 "nbformat_minor": 5
}
