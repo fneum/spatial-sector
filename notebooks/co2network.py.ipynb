{
 "cells": [
  {
   "cell_type": "code",
   "execution_count": null,
   "id": "3868a428-11ed-47fc-9a37-84e96a8aeef8",
   "metadata": {
    "tags": []
   },
   "outputs": [],
   "source": [
    "import pypsa\n",
    "import yaml\n",
    "import pandas as pd\n",
    "import numpy as np\n",
    "import geopandas as gpd\n",
    "import xarray as xr\n",
    "import seaborn as sns\n",
    "\n",
    "import sys\n",
    "import os\n",
    "\n",
    "import matplotlib.pyplot as plt\n",
    "from matplotlib.lines import Line2D\n",
    "import matplotlib.dates as mdates\n",
    "import matplotlib.colors as mcolors\n",
    "import matplotlib.ticker as ticker\n",
    "from matplotlib.patches import Circle, Patch\n",
    "from matplotlib.legend_handler import HandlerPatch\n",
    "\n",
    "\n",
    "import cartopy.crs as ccrs\n",
    "import cartopy\n",
    "\n",
    "import multiprocessing as mp\n",
    "from itertools import product\n",
    "\n",
    "from pypsa.plot import projected_area_factor\n",
    "from pypsa.descriptors import get_switchable_as_dense as as_dense\n",
    "\n",
    "PATH = \"../workflows\"\n",
    "SCRIPTS_PATH = \"pypsa-eur-sec/scripts/\"\n",
    "\n",
    "sys.path.append(os.path.join(PATH, SCRIPTS_PATH))\n",
    "from plot_summary import rename_techs\n",
    "from plot_network import assign_location\n",
    "from helper import override_component_attrs\n",
    "\n",
    "import holoviews as hv\n",
    "from holoviews import opts, dim\n",
    "\n",
    "hv.extension(\"bokeh\")\n",
    "hv.output(size=200)\n",
    "\n",
    "plt.style.use([\"bmh\", \"matplotlibrc\"])\n",
    "xr.set_options(display_style=\"html\")\n",
    "\n",
    "%matplotlib inline"
   ]
  },
  {
   "cell_type": "code",
   "execution_count": null,
   "id": "52c00bcd-dc0f-4a03-af40-2d0fe2c8d3b5",
   "metadata": {},
   "outputs": [],
   "source": [
    "CLUSTERS = 181\n",
    "LL = \"1.0\"\n",
    "OPTS = \"Co2L0-25H-T-H-B-I-A-solar+p3-linemaxext15-seq200\"\n",
    "RUN = \"20230125-carbon-small\"\n",
    "SCENARIO = f\"elec_s_{CLUSTERS}_lv{LL}__{OPTS}_2050\"\n",
    "OVERRIDES = PATH + \"pypsa-eur-sec/data/override_component_attrs\"\n",
    "\n",
    "OUTPUT = \"../results/graphics-carbon/\"\n",
    "OUTPUT_SCENARIO = f\"{OUTPUT}/{RUN}/{SCENARIO}/\""
   ]
  },
  {
   "cell_type": "code",
   "execution_count": null,
   "id": "622c90a8-f9b8-4183-b6ad-e1db6a0ffe43",
   "metadata": {},
   "outputs": [],
   "source": [
    "if not os.path.exists(OUTPUT_SCENARIO):\n",
    "    os.makedirs(OUTPUT_SCENARIO)"
   ]
  },
  {
   "cell_type": "code",
   "execution_count": null,
   "id": "6fb7d802-eb4f-4198-8bd7-6f06de490a0c",
   "metadata": {},
   "outputs": [],
   "source": [
    "with open(f\"{PATH}/pypsa-eur-sec/config.carbonsmall.yaml\") as file:\n",
    "    config = yaml.safe_load(file)"
   ]
  },
  {
   "cell_type": "code",
   "execution_count": null,
   "id": "e1ae9a0b-00e6-4fe8-83e9-00f2a27cfb64",
   "metadata": {},
   "outputs": [],
   "source": [
    "tech_colors = config[\"plotting\"][\"tech_colors\"]"
   ]
  },
  {
   "cell_type": "code",
   "execution_count": null,
   "id": "dc93fe72-3f2d-4dc4-860d-9d63bcdea2b3",
   "metadata": {},
   "outputs": [],
   "source": [
    "fn = f\"{PATH}/pypsa-eur/resources/regions_onshore_elec_s_{CLUSTERS}.geojson\"\n",
    "nodes = gpd.read_file(fn).set_index(\"name\")\n",
    "\n",
    "fn = f\"{PATH}/pypsa-eur/resources/regions_offshore_elec_s_{CLUSTERS}.geojson\"\n",
    "offnodes = gpd.read_file(fn).set_index(\"name\")\n",
    "\n",
    "joinednodes = pd.concat([offnodes, nodes]).dissolve(by=\"name\")\n",
    "\n",
    "fn = f\"{PATH}/pypsa-eur/resources/country_shapes.geojson\"\n",
    "cts = gpd.read_file(fn).set_index(\"name\")\n",
    "\n",
    "regions = pd.concat(\n",
    "    [\n",
    "        gpd.read_file(f\"{PATH}/pypsa-eur/resources/regions_onshore.geojson\"),\n",
    "        gpd.read_file(f\"{PATH}/pypsa-eur/resources/regions_offshore.geojson\"),\n",
    "    ]\n",
    ")\n",
    "regions = regions.dissolve(\"name\")\n",
    "\n",
    "fn = f\"{PATH}/pypsa-eur/resources/regions_onshore.geojson\"\n",
    "onregions = gpd.read_file(fn).set_index(\"name\")\n",
    "\n",
    "fn = f\"{PATH}/pypsa-eur/resources/regions_onshore.geojson\"\n",
    "offregions = gpd.read_file(fn).set_index(\"name\")\n",
    "\n",
    "epsg = 3035\n",
    "regions[\"Area\"] = regions.to_crs(epsg=epsg).area.div(1e6)\n",
    "onregions[\"Area\"] = onregions.to_crs(epsg=epsg).area.div(1e6)\n",
    "offregions[\"Area\"] = offregions.to_crs(epsg=epsg).area.div(1e6)\n",
    "nodes[\"Area\"] = nodes.to_crs(epsg=epsg).area.div(1e6)\n",
    "offnodes[\"Area\"] = offnodes.to_crs(epsg=epsg).area.div(1e6)\n",
    "joinednodes[\"Area\"] = joinednodes.to_crs(epsg=epsg).area.div(1e6)"
   ]
  },
  {
   "cell_type": "code",
   "execution_count": null,
   "id": "9df4a814-45cf-4706-b4ac-d4056ecfcc25",
   "metadata": {},
   "outputs": [],
   "source": [
    "europe_shape = nodes.dissolve()\n",
    "europe_shape.index = [\"EU\"]"
   ]
  },
  {
   "cell_type": "code",
   "execution_count": null,
   "id": "22e7118a-1605-4872-94db-f2bdb00ea9a5",
   "metadata": {},
   "outputs": [],
   "source": [
    "minx, miny, maxx, maxy = europe_shape.explode(ignore_index=True).total_bounds\n",
    "BOUNDARIES = [minx, maxx - 4, miny, maxy]"
   ]
  },
  {
   "cell_type": "code",
   "execution_count": null,
   "id": "c1b2a0d1-2d97-434e-9937-0c1229247fdc",
   "metadata": {},
   "outputs": [],
   "source": [
    "overrides = override_component_attrs(OVERRIDES)\n",
    "fn = f\"{PATH}/pypsa-eur-sec/results/{RUN}/postnetworks/{SCENARIO}.nc\"\n",
    "network = pypsa.Network(fn, override_component_attrs=overrides)"
   ]
  },
  {
   "cell_type": "code",
   "execution_count": null,
   "id": "f55dfe4d-0722-4765-9841-9858d1b916a0",
   "metadata": {},
   "outputs": [],
   "source": [
    "unique_link_carriers = network.links.carrier.unique()\n",
    "GAS_NETWORK = \"gas pipeline\" in unique_link_carriers\n",
    "H2_NETWORK = any(\"H2 pipeline\" in ulc for ulc in unique_link_carriers)"
   ]
  },
  {
   "cell_type": "markdown",
   "id": "51b7a780-c45f-4a5c-88d2-ad5cfd06a62b",
   "metadata": {},
   "source": [
    "## Utilities"
   ]
  },
  {
   "cell_type": "code",
   "execution_count": null,
   "id": "a13d0fc8-06f1-47d4-a3e7-a178edbf42c7",
   "metadata": {},
   "outputs": [],
   "source": [
    "class HandlerCircle(HandlerPatch):\n",
    "    \"\"\"\n",
    "    Legend Handler used to create circles for legend entries.\n",
    "\n",
    "    This handler resizes the circles in order to match the same dimensional\n",
    "    scaling as in the applied axis.\n",
    "    \"\"\"\n",
    "\n",
    "    def create_artists(\n",
    "        self, legend, orig_handle, xdescent, ydescent, width, height, fontsize, trans\n",
    "    ):\n",
    "        fig = legend.get_figure()\n",
    "        ax = legend.axes\n",
    "\n",
    "        unit = np.diff(ax.transData.transform([(0, 0), (1, 1)]), axis=0)[0][1]\n",
    "        radius = orig_handle.get_radius() * unit * (72 / fig.dpi)\n",
    "        center = 5 - xdescent, 3 - ydescent\n",
    "        p = plt.Circle(center, radius)\n",
    "        self.update_prop(p, orig_handle, legend)\n",
    "        p.set_transform(trans)\n",
    "        return [p]\n",
    "\n",
    "\n",
    "def add_legend_circles(\n",
    "    ax, sizes, labels, scale=1, srid=None, patch_kw={}, legend_kw={}\n",
    "):\n",
    "    if srid is not None:\n",
    "        area_correction = projected_area_factor(ax, n.srid) ** 2\n",
    "        sizes = [s * area_correction for s in sizes]\n",
    "\n",
    "    handles = make_legend_circles_for(sizes, scale, **patch_kw)\n",
    "\n",
    "    legend = ax.legend(\n",
    "        handles, labels, handler_map={Circle: HandlerCircle()}, **legend_kw\n",
    "    )\n",
    "\n",
    "    ax.add_artist(legend)\n",
    "\n",
    "\n",
    "def add_legend_lines(ax, sizes, labels, scale=1, patch_kw={}, legend_kw={}):\n",
    "    handles = [Line2D([0], [0], linewidth=s / scale, **patch_kw) for s in sizes]\n",
    "\n",
    "    legend = ax.legend(handles, labels, **legend_kw)\n",
    "\n",
    "    ax.add_artist(legend)\n",
    "\n",
    "\n",
    "def add_legend_patch(ax, colors, labels, patch_kw={}, legend_kw={}):\n",
    "    handles = [Patch(facecolor=c, **patch_kw) for c in colors]\n",
    "\n",
    "    legend = ax.legend(handles, labels, **legend_kw)\n",
    "\n",
    "    ax.add_artist(legend)\n",
    "\n",
    "\n",
    "def make_legend_circles_for(sizes, scale=1.0, **kw):\n",
    "    return [Circle((0, 0), radius=(s / scale) ** 0.5, **kw) for s in sizes]"
   ]
  },
  {
   "cell_type": "code",
   "execution_count": null,
   "id": "9a1486e2-911d-4152-8ddf-08e48519c879",
   "metadata": {},
   "outputs": [],
   "source": [
    "def nodal_balance(n, carrier, time=slice(None), aggregate=None, energy=True):\n",
    "    if not isinstance(carrier, list):\n",
    "        carrier = [carrier]\n",
    "\n",
    "    one_port_data = {}\n",
    "\n",
    "    for c in n.iterate_components(n.one_port_components):\n",
    "        df = c.df[c.df.bus.map(n.buses.carrier).isin(carrier)]\n",
    "\n",
    "        if df.empty:\n",
    "            continue\n",
    "\n",
    "        s = c.pnl.p.loc[time, df.index] * df.sign\n",
    "\n",
    "        s = s.groupby([df.bus.map(n.buses.location), df.carrier], axis=1).sum()\n",
    "\n",
    "        one_port_data[c.list_name] = s\n",
    "\n",
    "    branch_data = {}\n",
    "\n",
    "    for c in n.iterate_components(n.branch_components):\n",
    "        for col in c.df.columns[c.df.columns.str.startswith(\"bus\")]:\n",
    "            end = col[3:]\n",
    "\n",
    "            df = c.df[c.df[col].map(n.buses.carrier).isin(carrier)]\n",
    "\n",
    "            if df.empty:\n",
    "                continue\n",
    "\n",
    "            s = -c.pnl[f\"p{end}\"].reindex(columns=n.links.index, fill_value=0).loc[time]\n",
    "\n",
    "            s = s.groupby([df[col].map(n.buses.location), df.carrier], axis=1).sum()\n",
    "\n",
    "            branch_data[(c.list_name, end)] = s\n",
    "\n",
    "    branch_balance = pd.concat(branch_data).groupby(level=[0, 2]).sum()\n",
    "    one_port_balance = pd.concat(one_port_data)\n",
    "\n",
    "    def skip_tiny(df, threshold=1e-1):\n",
    "        return df.where(df.abs() > threshold)\n",
    "\n",
    "    branch_balance = skip_tiny(branch_balance)\n",
    "    one_port_balance = skip_tiny(one_port_balance)\n",
    "\n",
    "    balance = pd.concat([one_port_balance, branch_balance]).stack(level=[0, 1])\n",
    "\n",
    "    balance.index.set_names([\"component\", \"bus\"], level=[0, 2], inplace=True)\n",
    "\n",
    "    if energy:\n",
    "        balance = balance * n.snapshot_weightings.generators\n",
    "\n",
    "    if aggregate is not None:\n",
    "        keep_levels = balance.index.names.difference(aggregate)\n",
    "        balance = balance.groupby(level=keep_levels).sum()\n",
    "\n",
    "    return balance"
   ]
  },
  {
   "cell_type": "code",
   "execution_count": null,
   "id": "2a4ef0c5-eb01-46f7-b95e-2b32d3b56625",
   "metadata": {},
   "outputs": [],
   "source": [
    "def get_process_emission():\n",
    "    fn = f\"{PATH}/pypsa-eur-sec/resources/industrial_energy_demand_elec_s_{CLUSTERS}_2050.csv\"\n",
    "    industrial_demand = pd.read_csv(fn, index_col=0)\n",
    "\n",
    "    return industrial_demand[\"process emission\"]"
   ]
  },
  {
   "cell_type": "code",
   "execution_count": null,
   "id": "212b4eee-3395-41f5-84e9-1ad76435b3f6",
   "metadata": {},
   "outputs": [],
   "source": [
    "n = network"
   ]
  },
  {
   "cell_type": "code",
   "execution_count": null,
   "id": "0d05446a-cfa1-46a6-9f92-707d2661b153",
   "metadata": {},
   "outputs": [],
   "source": [
    "pe = get_process_emission()"
   ]
  },
  {
   "cell_type": "code",
   "execution_count": null,
   "id": "58a88edd-d5d9-48d8-b0a1-ee4ddb07d412",
   "metadata": {},
   "outputs": [],
   "source": [
    "ptx = n.links_t.p0.filter(regex=\"(Fischer|methanol|methanation)\")\n",
    "ptx = n.snapshot_weightings.generators @ -ptx.groupby(\n",
    "    ptx.columns.map(n.links.bus0).map(n.buses.location), axis=1\n",
    ").sum().div(\n",
    "    1e6\n",
    ")  # TWh H2"
   ]
  },
  {
   "cell_type": "code",
   "execution_count": null,
   "id": "2d30aac1-14fc-4abd-99c9-de57ab73387f",
   "metadata": {},
   "outputs": [],
   "source": [
    "gh2 = n.snapshot_weightings.generators @ -n.links_t.p1.filter(\n",
    "    like=\"Electrolysis\"\n",
    ").rename(columns=n.links.bus0).div(\n",
    "    1e6\n",
    ")  # TWh H2"
   ]
  },
  {
   "cell_type": "code",
   "execution_count": null,
   "id": "ea52c2b5-7c85-45ae-8d03-4002255e78c7",
   "metadata": {},
   "outputs": [],
   "source": [
    "sto = (\n",
    "    n.stores.filter(like=\"H2\", axis=0)\n",
    "    .e_nom_opt.rename(index=n.stores.bus.map(n.buses.location))\n",
    "    .div(1e6)\n",
    ")  # TWh"
   ]
  },
  {
   "cell_type": "markdown",
   "id": "695a66b5-4c28-4567-8289-9225d16115ef",
   "metadata": {
    "tags": []
   },
   "source": [
    "## CO2 Network"
   ]
  },
  {
   "cell_type": "code",
   "execution_count": null,
   "id": "3025bfb4-e2f0-4041-b7a8-33aead77d2cd",
   "metadata": {},
   "outputs": [],
   "source": [
    "n = network.copy()"
   ]
  },
  {
   "cell_type": "code",
   "execution_count": null,
   "id": "727106fe-3578-4b91-92bb-b6adb95dcb84",
   "metadata": {},
   "outputs": [],
   "source": [
    "crs = ccrs.EqualEarth()\n",
    "\n",
    "seq = n.stores.query(\"carrier == 'co2 stored'\")\n",
    "joinednodes[\"CO2\"] = seq.rename(index=seq.bus.map(n.buses.location)).e_nom_opt.div(\n",
    "    1e6\n",
    ")  # Mt\n",
    "joinednodes[\"CO2\"] = joinednodes[\"CO2\"].where(joinednodes[\"CO2\"] > 0.1)"
   ]
  },
  {
   "cell_type": "code",
   "execution_count": null,
   "id": "617a7735-4389-4a42-b78b-3f6424aeb9ce",
   "metadata": {},
   "outputs": [],
   "source": [
    "balance = nodal_balance(n, \"co2 stored\", aggregate=[\"component\", \"snapshot\"])"
   ]
  },
  {
   "cell_type": "code",
   "execution_count": null,
   "id": "7d4546f2-b87f-440b-aa59-1b413ac17dab",
   "metadata": {},
   "outputs": [],
   "source": [
    "balance = balance.where(balance > 0).drop(\"CO2 pipeline\", level=1).dropna()"
   ]
  },
  {
   "cell_type": "code",
   "execution_count": null,
   "id": "d7c0891c-76ec-4d03-97aa-e9ae8178d735",
   "metadata": {},
   "outputs": [],
   "source": [
    "def rename_techs_tyndp(tech):\n",
    "    tech = rename_techs(tech)\n",
    "    if tech == \"gas\":\n",
    "        return \"fossil gas\"\n",
    "    elif \"oil emissions\" in tech:\n",
    "        return \"oil emissions\"\n",
    "    else:\n",
    "        return tech"
   ]
  },
  {
   "cell_type": "code",
   "execution_count": null,
   "id": "5b0d7b0d-6aaa-403f-8e1c-a2d1c5cb905d",
   "metadata": {},
   "outputs": [],
   "source": [
    "balance = balance.unstack(0).groupby(rename_techs_tyndp).sum().T.stack().div(1e6)  # Mt"
   ]
  },
  {
   "cell_type": "code",
   "execution_count": null,
   "id": "cd115fd1-7532-4647-ab82-d925bb6394ff",
   "metadata": {},
   "outputs": [],
   "source": [
    "carriers = list(balance.index.levels[1])\n",
    "colors = [tech_colors[c] for c in carriers]"
   ]
  },
  {
   "cell_type": "code",
   "execution_count": null,
   "id": "2b86cf5d-635f-4e56-aa43-9c3eab78e2b3",
   "metadata": {},
   "outputs": [],
   "source": [
    "n.madd(\"Carrier\", carriers, color=colors)"
   ]
  },
  {
   "cell_type": "code",
   "execution_count": null,
   "id": "3b3de4df-0d0b-48cc-98c6-ea4fab2d3ba7",
   "metadata": {},
   "outputs": [],
   "source": [
    "assign_location(n)\n",
    "\n",
    "# Drop non-electric buses so they don't clutter the plot\n",
    "n.buses.drop(n.buses.index[n.buses.carrier != \"AC\"], inplace=True)\n",
    "\n",
    "n.mremove(\"Link\", n.links.query(\"carrier != 'CO2 pipeline'\").index)\n",
    "\n",
    "n.links.bus0 = n.links.bus0.str.replace(\" co2 stored\", \"\")\n",
    "n.links.bus1 = n.links.bus1.str.replace(\" co2 stored\", \"\")"
   ]
  },
  {
   "cell_type": "code",
   "execution_count": null,
   "id": "2667b3ca-9956-41ef-af5b-0ccf6dc0a17f",
   "metadata": {},
   "outputs": [],
   "source": [
    "n.links[\"flow\"] = n.snapshot_weightings.generators @ n.links_t.p0"
   ]
  },
  {
   "cell_type": "code",
   "execution_count": null,
   "id": "2c2a84e6-e5f2-4c9c-989a-799721843b48",
   "metadata": {},
   "outputs": [],
   "source": [
    "fig, ax = plt.subplots(figsize=(7, 6), subplot_kw={\"projection\": crs})\n",
    "\n",
    "bus_size_factor = 50\n",
    "\n",
    "n.plot(\n",
    "    bus_sizes=balance / bus_size_factor,\n",
    "    link_colors=\"k\",\n",
    "    branch_components=[\"Link\"],\n",
    "    ax=ax,\n",
    "    geomap=True,\n",
    "    link_widths=n.links.p_nom_opt.where(n.links.p_nom_opt > 1, 0) / 1000,\n",
    "    flow=pd.concat({\"Link\": n.links.flow.where(n.links.flow.abs() > 10).div(25e4)}),\n",
    ")\n",
    "\n",
    "joinednodes = joinednodes.to_crs(crs.proj4_init)\n",
    "\n",
    "joinednodes.plot(\n",
    "    ax=ax,\n",
    "    column=\"CO2\",\n",
    "    cmap=\"Blues\",\n",
    "    linewidths=0,\n",
    "    legend=True,\n",
    "    vmax=50,\n",
    "    vmin=0,\n",
    "    legend_kwds={\n",
    "        \"label\": r\"CO$_2$ sequestration [Mt/a]\",\n",
    "        \"shrink\": 0.7,\n",
    "        \"extend\": \"max\",\n",
    "    },\n",
    ")\n",
    "\n",
    "legend_kw = dict(\n",
    "    loc=\"upper left\",\n",
    "    bbox_to_anchor=(0, 1.16),\n",
    "    ncol=2,\n",
    "    frameon=False,\n",
    ")\n",
    "\n",
    "add_legend_patch(ax, colors, carriers, legend_kw=legend_kw)\n",
    "\n",
    "sizes = [10, 50]\n",
    "labels = [f\"{s} Mt/a\" for s in sizes]\n",
    "add_legend_circles(\n",
    "    ax,\n",
    "    sizes,\n",
    "    labels,\n",
    "    scale=bus_size_factor,\n",
    "    srid=n.srid,\n",
    "    legend_kw=dict(\n",
    "        title=\"carbon capture\", loc=\"upper left\", bbox_to_anchor=(0.97, 1.16)\n",
    "    ),\n",
    "    patch_kw=dict(facecolor=\"lightgrey\", edgecolor=\"k\"),\n",
    ")\n",
    "\n",
    "plt.savefig(f\"{OUTPUT_SCENARIO}/co2network.pdf\", bbox_inches=\"tight\")"
   ]
  },
  {
   "cell_type": "markdown",
   "id": "f4f057ef-5bcb-4f28-b3c8-8d3c609b7e7e",
   "metadata": {
    "tags": []
   },
   "source": [
    "## Sequestration Potential"
   ]
  },
  {
   "cell_type": "code",
   "execution_count": null,
   "id": "0f0577e9-eae9-4fb8-967d-becd2dfeb1d0",
   "metadata": {},
   "outputs": [],
   "source": [
    "offnodes[\"potential\"] = (\n",
    "    n.stores.e_nom_max.filter(like=\"co2 stored\")\n",
    "    .div(1e6)\n",
    "    .rename(lambda x: x.replace(\" co2 stored\", \"\"))\n",
    ")  # Mt"
   ]
  },
  {
   "cell_type": "code",
   "execution_count": null,
   "id": "fa2dd95f-bca1-4ce7-b639-eb8cdfa85f57",
   "metadata": {},
   "outputs": [],
   "source": [
    "crs = ccrs.EqualEarth()\n",
    "\n",
    "fig, ax = plt.subplots(figsize=(7, 6), subplot_kw={\"projection\": crs})\n",
    "\n",
    "n.plot(\n",
    "    bus_sizes=0,\n",
    "    branch_components=[],\n",
    "    geomap=True,\n",
    "    ax=ax,\n",
    ")\n",
    "\n",
    "offnodes = offnodes.to_crs(crs.proj4_init)\n",
    "\n",
    "offnodes.plot(\n",
    "    ax=ax,\n",
    "    column=\"potential\",\n",
    "    cmap=\"Blues\",\n",
    "    linewidths=0,\n",
    "    legend=True,\n",
    "    vmax=400,\n",
    "    vmin=0,\n",
    "    legend_kwds={\n",
    "        \"label\": r\"CO$_2$ sequestration potential [Mt/a]\",\n",
    "        \"shrink\": 0.7,\n",
    "        \"extend\": \"max\",\n",
    "    },\n",
    ")\n",
    "\n",
    "plt.savefig(f\"{OUTPUT}/sequestration_potential.pdf\", bbox_inches=\"tight\")"
   ]
  },
  {
   "cell_type": "markdown",
   "id": "b68cb647-e5bd-4c92-84a2-df7a46f3f81f",
   "metadata": {},
   "source": [
    "## Biomass"
   ]
  },
  {
   "cell_type": "code",
   "execution_count": null,
   "id": "749eb74b-3956-4958-8920-e4d02a1d6f19",
   "metadata": {},
   "outputs": [],
   "source": [
    "from pypsa.descriptors import get_switchable_as_dense as as_dense"
   ]
  },
  {
   "cell_type": "code",
   "execution_count": null,
   "id": "81847ef2-d47c-4fee-a0cb-57e6a3ffaa1d",
   "metadata": {},
   "outputs": [],
   "source": [
    "use = (\n",
    "    n.snapshot_weightings.generators\n",
    "    @ as_dense(network, \"Load\", \"p_set\").filter(like=\"solid biomass\", axis=1)\n",
    ").rename(lambda x: x.replace(\" for industry\", \"\"))"
   ]
  },
  {
   "cell_type": "code",
   "execution_count": null,
   "id": "f0d71e22-12fe-486c-91bf-186d864845f4",
   "metadata": {},
   "outputs": [],
   "source": [
    "pot = n.stores.e_initial.filter(like=\"biomass\")"
   ]
  },
  {
   "cell_type": "code",
   "execution_count": null,
   "id": "bea81bcf-68e3-4c2a-ba53-f8e95e108bd1",
   "metadata": {},
   "outputs": [],
   "source": [
    "df = pd.concat(\n",
    "    dict(pot=pot, use=use, diff_rel=use / pot, diff_abs=pot - use), axis=1\n",
    ").div(1e6)"
   ]
  },
  {
   "cell_type": "code",
   "execution_count": null,
   "id": "c2d8a3e8-986d-4b49-a8a5-85cd790322a4",
   "metadata": {},
   "outputs": [],
   "source": [
    "df.diff_abs.where(df.diff_abs < 0).sum()"
   ]
  },
  {
   "cell_type": "code",
   "execution_count": null,
   "id": "7616eb78-f0d9-45a6-b8ef-c149f1ddd88e",
   "metadata": {},
   "outputs": [],
   "source": [
    "df.nsmallest(10, \"diff_abs\")"
   ]
  },
  {
   "cell_type": "code",
   "execution_count": null,
   "id": "cacec665-f80b-4158-90e5-16f76f12a0c7",
   "metadata": {},
   "outputs": [],
   "source": []
  }
 ],
 "metadata": {
  "interpreter": {
   "hash": "494d35a45045e3fb9015f1d2cd094f8e1540ef3ea8b346f6f51a6ceb6be203c2"
  },
  "kernelspec": {
   "display_name": "Python 3 (ipykernel)",
   "language": "python",
   "name": "python3"
  },
  "language_info": {
   "codemirror_mode": {
    "name": "ipython",
    "version": 3
   },
   "file_extension": ".py",
   "mimetype": "text/x-python",
   "name": "python",
   "nbconvert_exporter": "python",
   "pygments_lexer": "ipython3",
   "version": "3.10.0"
  }
 },
 "nbformat": 4,
 "nbformat_minor": 5
}
