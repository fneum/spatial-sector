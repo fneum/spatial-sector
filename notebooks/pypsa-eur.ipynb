{
 "cells": [
  {
   "cell_type": "code",
   "execution_count": null,
   "metadata": {},
   "outputs": [],
   "source": [
    "import pypsa\n",
    "import geopandas as gpd\n",
    "import cartopy.crs as ccrs\n",
    "import cartopy\n",
    "import matplotlib.pyplot as plt\n",
    "import pandas as pd\n",
    "import xarray as xr\n",
    "from matplotlib.lines import Line2D\n",
    "plt.style.use('bmh')\n",
    "xr.set_options(display_style='html')\n",
    "%matplotlib inline"
   ]
  },
  {
   "cell_type": "code",
   "execution_count": null,
   "metadata": {},
   "outputs": [],
   "source": [
    "path = \"../../../playgrounds/pr/\"\n",
    "clusters = 181\n",
    "output = \"../results/graphics/\""
   ]
  },
  {
   "cell_type": "code",
   "execution_count": null,
   "metadata": {},
   "outputs": [],
   "source": [
    "regions = gpd.read_file(path + \"pypsa-eur/resources_bk/regions_onshore_elec_s_181.geojson\")"
   ]
  },
  {
   "cell_type": "code",
   "execution_count": null,
   "metadata": {},
   "outputs": [],
   "source": [
    "n = pypsa.Network(path + \"pypsa-eur/networks/elec.nc\")"
   ]
  },
  {
   "cell_type": "code",
   "execution_count": null,
   "metadata": {},
   "outputs": [],
   "source": [
    "len(n.buses)"
   ]
  },
  {
   "cell_type": "code",
   "execution_count": null,
   "metadata": {},
   "outputs": [],
   "source": [
    "x = pypsa.Network(path + \"pypsa-eur/networks/elec_s_181.nc\")"
   ]
  },
  {
   "cell_type": "code",
   "execution_count": null,
   "metadata": {},
   "outputs": [],
   "source": [
    "fig, ax = plt.subplots(figsize=(10,10), subplot_kw={\"projection\":ccrs.EqualEarth()})\n",
    "x.plot(ax=ax, boundaries=[-9, 28, 72, 35])\n",
    "\n",
    "handles = [\n",
    " Line2D([0], [0], color='rosybrown', lw=2),\n",
    " Line2D([0], [0], color='darkseagreen', lw=2),]\n",
    "plt.legend(handles, ['HVAC', 'HVDC'], frameon=False, loc=[0.15,.85], fontsize=18)\n",
    "\n",
    "plt.gca().outline_patch.set_visible(False)\n",
    "\n",
    "plt.savefig(output + \"network-s.pdf\", bbox_inches='tight')"
   ]
  },
  {
   "cell_type": "code",
   "execution_count": null,
   "metadata": {},
   "outputs": [],
   "source": [
    "len(n.buses.loc[n.buses.substation_lv==False])"
   ]
  },
  {
   "cell_type": "code",
   "execution_count": null,
   "metadata": {},
   "outputs": [],
   "source": [
    "len(n.buses.loc[n.buses.substation_lv==True])"
   ]
  },
  {
   "cell_type": "code",
   "execution_count": null,
   "metadata": {},
   "outputs": [],
   "source": [
    "len(n.lines)"
   ]
  },
  {
   "cell_type": "code",
   "execution_count": null,
   "metadata": {},
   "outputs": [],
   "source": [
    "len(n.links)"
   ]
  },
  {
   "cell_type": "code",
   "execution_count": null,
   "metadata": {},
   "outputs": [],
   "source": [
    "w = n.lines.v_nom.div(380)\n",
    "c = n.lines.v_nom.map({220: 'teal', 300: 'orange', 380: 'firebrick'})\n",
    "\n",
    "fig, ax = plt.subplots(subplot_kw={\"projection\":ccrs.EqualEarth()})\n",
    "fig.set_size_inches(13,13)\n",
    "n.plot(ax=ax, bus_sizes=0, line_widths=w, line_colors=c, link_colors='royalblue', link_widths=1, color_geomap=None)\n",
    "\n",
    "handles = [Line2D([0], [0], color='teal', lw=2),\n",
    " Line2D([0], [0], color='orange', lw=2),\n",
    " Line2D([0], [0], color='firebrick', lw=2),\n",
    " Line2D([0], [0], color='royalblue', lw=2)]\n",
    "plt.legend(handles, ['HVAC 220 kV', 'HVAC 300 kV', 'HVAC 380 kV', 'HVDC'], frameon=False, loc=[0.2,.85], fontsize=14)\n",
    "plt.gca().outline_patch.set_visible(False)\n",
    "plt.savefig(output + \"network.pdf\",bbox_inches='tight')"
   ]
  },
  {
   "cell_type": "code",
   "execution_count": null,
   "metadata": {},
   "outputs": [],
   "source": [
    "regions = gpd.read_file(path + \"pypsa-eur/resources/regions_onshore.geojson\").append(\n",
    "          gpd.read_file(path + \"pypsa-eur/resources/regions_offshore.geojson\"))\n",
    "regions = regions.dissolve('name') "
   ]
  },
  {
   "cell_type": "code",
   "execution_count": null,
   "metadata": {},
   "outputs": [],
   "source": [
    "regions[\"Area\"] = regions.to_crs(epsg=3035).area.div(1e6)"
   ]
  },
  {
   "cell_type": "code",
   "execution_count": null,
   "metadata": {},
   "outputs": [],
   "source": [
    "onregions = gpd.read_file(path + \"pypsa-eur/resources/regions_onshore.geojson\").set_index('name')\n",
    "onregions[\"Area\"] = onregions.to_crs(epsg=3035).area.div(1e6)"
   ]
  },
  {
   "cell_type": "code",
   "execution_count": null,
   "metadata": {},
   "outputs": [],
   "source": [
    "wind = pd.Series()\n",
    "for profile in ['onwind', 'offwind-ac', 'offwind-dc']:\n",
    "    ds = xr.open_dataset(path + f'pypsa-eur/resources/profile_{profile}.nc')\n",
    "    wind = wind.append((ds.p_nom_max * ds.profile.sum('time')).to_pandas())\n",
    "wind = wind.sum(level=0).reindex(regions.index, fill_value=0)\n",
    "wind_per_skm = wind / regions.Area / 1e3 # GWh "
   ]
  },
  {
   "cell_type": "code",
   "execution_count": null,
   "metadata": {},
   "outputs": [],
   "source": [
    "proj = ccrs.EqualEarth()\n",
    "regions = regions.to_crs(proj.proj4_init)\n",
    "fig, ax = plt.subplots(figsize=(7,7), subplot_kw={\"projection\":proj})\n",
    "regions.plot(ax=ax,column=wind_per_skm, cmap='Blues', linewidths=0,\n",
    "           legend=True, legend_kwds={'label':r'Renewable Potential [GWh/a/km$^2$]', \"shrink\": 0.7})\n",
    "ax.add_feature(cartopy.feature.COASTLINE.with_scale('50m'), linewidth=0.2, zorder=4) \n",
    "ax.add_feature(cartopy.feature.BORDERS.with_scale(\"50m\"), linewidth=0.2, zorder=2)\n",
    "plt.gca().outline_patch.set_visible(False)\n",
    "ax.set_facecolor('white')\n",
    "plt.savefig(output + \"wind-energy-density.pdf\", bbox_inches='tight')"
   ]
  },
  {
   "cell_type": "code",
   "execution_count": null,
   "metadata": {},
   "outputs": [],
   "source": [
    "ds = xr.open_dataset(path + 'pypsa-eur/resources/profile_solar.nc')\n",
    "solar = (ds.p_nom_max * ds.profile.sum('time')).to_pandas()\n",
    "\n",
    "solar = solar.sum(level=0).reindex(onregions.index, fill_value=0)\n",
    "solar_per_skm = solar / onregions.Area / 1e3 # GWh"
   ]
  },
  {
   "cell_type": "code",
   "execution_count": null,
   "metadata": {},
   "outputs": [],
   "source": [
    "proj = ccrs.EqualEarth()\n",
    "onregions = onregions.to_crs(proj.proj4_init)\n",
    "fig, ax = plt.subplots(figsize=(7,7), subplot_kw={\"projection\":proj})\n",
    "onregions.plot(ax=ax,column=solar_per_skm, cmap='Reds', linewidths=0,\n",
    "           legend=True, legend_kwds={'label':r'Renewable Potential [GWh/a/km$^2$]', \"shrink\": 0.7})\n",
    "ax.add_feature(cartopy.feature.COASTLINE.with_scale(\"50m\"), linewidth=0.2, zorder=2) \n",
    "ax.add_feature(cartopy.feature.BORDERS.with_scale(\"50m\"), linewidth=0.2, zorder=2)\n",
    "plt.gca().outline_patch.set_visible(False)\n",
    "ax.set_facecolor('white')\n",
    "plt.savefig(output + \"solar-energy-density.pdf\", bbox_inches='tight')"
   ]
  },
  {
   "cell_type": "code",
   "execution_count": null,
   "metadata": {},
   "outputs": [],
   "source": [
    "elec = pypsa.Network(path + \"pypsa-eur/networks/elec.nc\")"
   ]
  },
  {
   "cell_type": "code",
   "execution_count": null,
   "metadata": {},
   "outputs": [],
   "source": [
    "wind = elec.generators_t.p_max_pu.filter(like='onwind').groupby(elec.generators.bus.map(elec.buses.country), axis=1).mean()[\"DE\"]\n",
    "solar = elec.generators_t.p_max_pu.filter(like='solar').groupby(elec.generators.bus.map(elec.buses.country), axis=1).mean()[\"DE\"]"
   ]
  },
  {
   "cell_type": "code",
   "execution_count": null,
   "metadata": {},
   "outputs": [],
   "source": [
    "sel = (wind.index >= \"2013-02-01\") & (wind.index < \"2013-02-03\") | \\\n",
    "    (wind.index >= \"2013-05-01\") & (wind.index < \"2013-05-03\") | \\\n",
    "    (wind.index >= \"2013-08-01\") & (wind.index < \"2013-08-03\") | \\\n",
    "    (wind.index >= \"2013-11-01\") & (wind.index < \"2013-11-03\")"
   ]
  },
  {
   "cell_type": "code",
   "execution_count": null,
   "metadata": {},
   "outputs": [],
   "source": [
    "sel = (wind.index >= \"2013-01-01\") & (wind.index < \"2014-01-01\")"
   ]
  },
  {
   "cell_type": "code",
   "execution_count": null,
   "metadata": {},
   "outputs": [],
   "source": [
    "fig, ax = plt.subplots(figsize=(16, 3))\n",
    "\n",
    "solar.where(sel).plot(ax=ax, c='#f9d002', alpha=0.5, linewidth=0.75, label=\"Germany Solar\")\n",
    "wind.where(sel).plot(ax=ax, c=\"#235ebc\", label=\"Germany Wind\")\n",
    "\n",
    "plt.ylabel(\"Capacity Factor [-]\")\n",
    "plt.box(None)\n",
    "plt.grid(False)\n",
    "plt.legend(ncol=3, frameon=False, loc=\"upper center\")\n",
    "plt.ylim([0,1])\n",
    "plt.xlabel(None)\n",
    "\n",
    "plt.tight_layout()\n",
    "\n",
    "plt.savefig(output + \"temporal-fullyear.pdf\", bbox_inches='tight')"
   ]
  },
  {
   "cell_type": "code",
   "execution_count": null,
   "metadata": {},
   "outputs": [],
   "source": [
    "time = \"03-2013\"\n",
    "i = elec.generators_t.p_max_pu.loc[time,\"5709 onwind\"]\n",
    "c = elec.generators_t.p_max_pu.filter(like='onwind').groupby(elec.generators.bus.map(elec.buses.country), axis=1).mean().loc[time, \"DE\"]\n",
    "a = elec.generators_t.p_max_pu.filter(like=\"onwind\").mean(axis=1).loc[time]"
   ]
  },
  {
   "cell_type": "code",
   "execution_count": null,
   "metadata": {},
   "outputs": [],
   "source": [
    "fig, ax = plt.subplots(figsize=(5,2))\n",
    "plt.plot(i, label=\"Flensburg\", linewidth=1.5, color=\"teal\")\n",
    "plt.plot(c, label=\"Germany\",  linewidth=1.5, color=\"orange\")\n",
    "plt.plot(a, label=\"Europe\",  linewidth=1.5, color=\"mediumpurple\")\n",
    "plt.legend(ncol=3, frameon=False, loc=[0,1])\n",
    "plt.xticks(rotation=30)\n",
    "plt.ylabel(\"Capacity Factor [-]\")\n",
    "plt.box(None)\n",
    "plt.grid(False)\n",
    "plt.savefig(output + \"ts-wind.pdf\", bbox_inches='tight')"
   ]
  },
  {
   "cell_type": "code",
   "execution_count": null,
   "metadata": {},
   "outputs": [],
   "source": [
    "fig, ax = plt.subplots(figsize=(5,2))\n",
    "i.plot(ax=ax, label=\"Flensburg (Northern Germany)\", linewidth=1.5, color=\"#235ebc\")\n",
    "plt.legend(ncol=3, frameon=False, loc=[0,1])\n",
    "plt.ylabel(\"Capacity Factor [-]\")\n",
    "plt.box(None)\n",
    "plt.grid(False)\n",
    "plt.xlabel(None)\n",
    "plt.savefig(output + \"ts-wind-reduced.pdf\", bbox_inches='tight')"
   ]
  },
  {
   "cell_type": "code",
   "execution_count": null,
   "metadata": {},
   "outputs": [],
   "source": [
    "#time = \"01-03-2013\":\"05-03-2013\"\n",
    "start = \"06-28-2013\"\n",
    "end = \"07-07-2013\"\n",
    "i = elec.generators_t.p_max_pu.loc[start:end,\"5709 solar\"]\n",
    "c = elec.generators_t.p_max_pu.filter(like='solar').groupby(elec.generators.bus.map(elec.buses.country), axis=1).mean().loc[start:end, \"DE\"]\n",
    "a = elec.generators_t.p_max_pu.filter(like=\"solar\").mean(axis=1).loc[start:end]"
   ]
  },
  {
   "cell_type": "code",
   "execution_count": null,
   "metadata": {},
   "outputs": [],
   "source": [
    "fig, ax = plt.subplots(figsize=(5,2))\n",
    "plt.plot(i, label=\"Flensburg\", linewidth=1.5, color=\"teal\")\n",
    "plt.plot(c, label=\"Germany\",  linewidth=1.5, color=\"orange\")\n",
    "plt.plot(a, label=\"Europe\",  linewidth=1.5, color=\"mediumpurple\")\n",
    "plt.legend(ncol=3, frameon=False, loc=[0,1])\n",
    "plt.xticks(rotation=30)\n",
    "plt.ylabel(\"Capacity Factor [-]\")\n",
    "plt.box(None)\n",
    "plt.grid(False)\n",
    "plt.savefig(output + \"ts-solar.pdf\", bbox_inches='tight')"
   ]
  },
  {
   "cell_type": "code",
   "execution_count": null,
   "metadata": {},
   "outputs": [],
   "source": [
    "fig, ax = plt.subplots(figsize=(5,2))\n",
    "i.plot(ax=ax, label=\"Flensburg (Northern Germany)\", linewidth=1.5, color=\"#f9d002\")\n",
    "plt.legend(ncol=3, frameon=False, loc=[0,1])\n",
    "plt.ylabel(\"Capacity Factor [-]\")\n",
    "plt.box(None)\n",
    "plt.grid(False)\n",
    "plt.xlabel(None)\n",
    "plt.savefig(output + \"ts-solar-reduced.pdf\", bbox_inches='tight')"
   ]
  },
  {
   "cell_type": "code",
   "execution_count": null,
   "metadata": {},
   "outputs": [],
   "source": [
    "load = elec.loads_t.p_set.groupby(elec.loads.bus.map(elec.buses.country), axis=1).sum().div(1e3).loc[\"03-2013\"]"
   ]
  },
  {
   "cell_type": "code",
   "execution_count": null,
   "metadata": {},
   "outputs": [],
   "source": [
    "load.columns"
   ]
  },
  {
   "cell_type": "code",
   "execution_count": null,
   "metadata": {},
   "outputs": [],
   "source": [
    "fig, ax = plt.subplots(figsize=(5,2))\n",
    "plt.plot(load.ES, label=\"Spain\", linewidth=1.5, color=\"teal\")\n",
    "plt.plot(load.DE, label=\"Germany\",  linewidth=1.5, color=\"orange\")\n",
    "plt.plot(load.NO, label=\"Norway\",  linewidth=1.5, color=\"mediumpurple\")\n",
    "#plt.plot(load.IE, label=\"Ireland\",  linewidth=1.5, color=\"royalblue\")\n",
    "#plt.plot(load.IT, label=\"Estonia\",  linewidth=1.5, color=\"darksalmon\")\n",
    "plt.legend(ncol=3, frameon=False, loc=[0,1])\n",
    "plt.xticks(rotation=30)\n",
    "plt.ylabel(\"Electricity Load [GW]\")\n",
    "plt.box(None)\n",
    "plt.grid(False)\n",
    "plt.ylim([0,80])\n",
    "plt.savefig(output + \"ts-load.pdf\", bbox_inches='tight')"
   ]
  },
  {
   "cell_type": "code",
   "execution_count": null,
   "metadata": {},
   "outputs": [],
   "source": [
    "fig, ax = plt.subplots(figsize=(5,2))\n",
    "load.DE.plot(ax=ax,label=\"Germany\",  linewidth=1.5, color=\"green\")\n",
    "plt.legend(ncol=3, frameon=False, loc=[0,1])\n",
    "plt.ylabel(\"Electricity Load [GW]\")\n",
    "plt.box(None)\n",
    "plt.grid(False)\n",
    "plt.ylim([0,80])\n",
    "plt.xlabel(None)\n",
    "plt.savefig(output + \"ts-load-reduced.pdf\", bbox_inches='tight')"
   ]
  },
  {
   "cell_type": "code",
   "execution_count": null,
   "metadata": {},
   "outputs": [],
   "source": [
    "smregions = gpd.read_file(path + \"pypsa-eur/resources/regions_onshore.geojson\").set_index('name')\n",
    "elecs = pypsa.Network(path + \"pypsa-eur/networks/elec_s.nc\")"
   ]
  },
  {
   "cell_type": "code",
   "execution_count": null,
   "metadata": {},
   "outputs": [],
   "source": [
    "fig, ax = plt.subplots(figsize=(4,4))\n",
    "smregions.plot(ax=ax, facecolor='steelblue', edgecolor='white')\n",
    "plt.scatter(x=smregions.x, y=smregions.y, color='white', s=5)\n",
    "plt.axis('off')\n",
    "plt.ylim([52, 53])\n",
    "plt.xlim([9,13])"
   ]
  },
  {
   "cell_type": "code",
   "execution_count": null,
   "metadata": {},
   "outputs": [],
   "source": []
  },
  {
   "cell_type": "code",
   "execution_count": null,
   "metadata": {},
   "outputs": [],
   "source": [
    "import atlite"
   ]
  },
  {
   "cell_type": "code",
   "execution_count": null,
   "metadata": {},
   "outputs": [],
   "source": [
    "era5 = atlite.Cutout(path + \"pypsa-eur/cutouts/europe-2013-era5.nc\")"
   ]
  },
  {
   "cell_type": "code",
   "execution_count": null,
   "metadata": {},
   "outputs": [],
   "source": [
    "sarah = atlite.Cutout(path + \"pypsa-eur/cutouts/europe-2013-sarah.nc\")"
   ]
  },
  {
   "cell_type": "code",
   "execution_count": null,
   "metadata": {},
   "outputs": [],
   "source": [
    "fig, ax = plt.subplots(figsize=(7,7), subplot_kw={\"projection\": ccrs.EqualEarth(), 'facecolor': \"white\"})\n",
    "\n",
    "sarah.data.influx_direct.mean('time').plot(\n",
    "    ax=ax,\n",
    "    transform=ccrs.PlateCarree(),\n",
    "    cmap='Oranges',\n",
    "    linewidths=0,\n",
    "    cbar_kwargs={'label':r'Mean Direct Solar Irradiance [W/m$^2$]', \"shrink\": 0.6}\n",
    ")\n",
    "\n",
    "ax.add_feature(cartopy.feature.COASTLINE.with_scale(\"50m\"), linewidth=0.2, zorder=2) \n",
    "ax.add_feature(cartopy.feature.BORDERS.with_scale(\"50m\"), linewidth=0.2, zorder=2)\n",
    "plt.gca().outline_patch.set_visible(False)\n",
    "\n",
    "plt.savefig(output + \"irradiation.png\", dpi=300, bbox_inches='tight')"
   ]
  },
  {
   "cell_type": "code",
   "execution_count": null,
   "metadata": {},
   "outputs": [],
   "source": [
    "fig, ax = plt.subplots(figsize=(7,7), subplot_kw={\"projection\": ccrs.EqualEarth(), 'facecolor': \"white\"})\n",
    "\n",
    "era5.data.wnd100m.mean('time').plot(\n",
    "    ax=ax,\n",
    "    transform=ccrs.PlateCarree(),\n",
    "    cmap='Blues',\n",
    "    linewidths=0,\n",
    "    cbar_kwargs={'label':r'Mean Wind Speeds [m/s]', \"shrink\": 0.7}\n",
    ")\n",
    "\n",
    "\n",
    "ax.add_feature(cartopy.feature.COASTLINE.with_scale(\"50m\"), linewidth=0.2, zorder=2) \n",
    "ax.add_feature(cartopy.feature.BORDERS.with_scale(\"50m\"), linewidth=0.2, zorder=2)\n",
    "plt.gca().outline_patch.set_visible(False)\n",
    "\n",
    "plt.savefig(output + \"windspeeds.png\", dpi=300, bbox_inches='tight')"
   ]
  },
  {
   "cell_type": "code",
   "execution_count": null,
   "metadata": {},
   "outputs": [],
   "source": [
    "fig, ax = plt.subplots(figsize=(7,7), subplot_kw={\"projection\": ccrs.EqualEarth(), 'facecolor': \"white\"})\n",
    "\n",
    "(era5.data.temperature.mean('time') - 273.15).plot(\n",
    "    ax=ax,\n",
    "    transform=ccrs.PlateCarree(),\n",
    "    cmap='Reds',\n",
    "    linewidths=0,\n",
    "    vmin=-5,\n",
    "    vmax=30,\n",
    "    cbar_kwargs={'label':r'Mean Temperatures [°C]', \"shrink\": 0.7}\n",
    ")\n",
    "\n",
    "\n",
    "ax.add_feature(cartopy.feature.COASTLINE.with_scale(\"50m\"), linewidth=0.2, zorder=2) \n",
    "ax.add_feature(cartopy.feature.BORDERS.with_scale(\"50m\"), linewidth=0.2, zorder=2)\n",
    "plt.gca().outline_patch.set_visible(False)\n",
    "\n",
    "plt.savefig(output + \"temperatures.png\", dpi=300, bbox_inches='tight')"
   ]
  },
  {
   "cell_type": "code",
   "execution_count": null,
   "metadata": {},
   "outputs": [],
   "source": [
    "fig, ax = plt.subplots(figsize=(7,7), subplot_kw={\"projection\": ccrs.EqualEarth(), 'facecolor': \"white\"})\n",
    "\n",
    "era5.data.runoff.sum('time').plot(\n",
    "    ax=ax,\n",
    "    transform=ccrs.PlateCarree(),\n",
    "    cmap='Greens',\n",
    "    linewidths=0,\n",
    "    vmin=0,\n",
    "    vmax=2,\n",
    "    cbar_kwargs={'label':r'Total Runoff [?]', \"shrink\": 0.7}\n",
    ")\n",
    "\n",
    "\n",
    "ax.add_feature(cartopy.feature.COASTLINE.with_scale(\"50m\"), linewidth=0.2, zorder=2) \n",
    "ax.add_feature(cartopy.feature.BORDERS.with_scale(\"50m\"), linewidth=0.2, zorder=2)\n",
    "plt.gca().outline_patch.set_visible(False)\n",
    "\n",
    "plt.savefig(output + \"runoff.png\", dpi=300, bbox_inches='tight')"
   ]
  },
  {
   "cell_type": "code",
   "execution_count": null,
   "metadata": {},
   "outputs": [],
   "source": []
  },
  {
   "cell_type": "code",
   "execution_count": null,
   "metadata": {},
   "outputs": [],
   "source": []
  },
  {
   "cell_type": "code",
   "execution_count": null,
   "metadata": {},
   "outputs": [],
   "source": []
  },
  {
   "cell_type": "code",
   "execution_count": null,
   "metadata": {},
   "outputs": [],
   "source": []
  }
 ],
 "metadata": {
  "kernelspec": {
   "display_name": "Python 3 (ipykernel)",
   "language": "python",
   "name": "python3"
  },
  "language_info": {
   "codemirror_mode": {
    "name": "ipython",
    "version": 3
   },
   "file_extension": ".py",
   "mimetype": "text/x-python",
   "name": "python",
   "nbconvert_exporter": "python",
   "pygments_lexer": "ipython3",
   "version": "3.9.7"
  }
 },
 "nbformat": 4,
 "nbformat_minor": 4
}
