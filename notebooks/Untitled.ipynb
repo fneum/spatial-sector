{
 "cells": [
  {
   "cell_type": "code",
   "execution_count": null,
   "id": "79180d3e-b0ea-44f7-9561-27f9b03baea4",
   "metadata": {},
   "outputs": [],
   "source": [
    "import pypsa\n",
    "import pandas as pd\n",
    "import numpy as np\n",
    "import sys\n",
    "import os\n",
    "\n",
    "PATH = \"../workflows\"\n",
    "SCRIPTS_PATH = \"pypsa-eur-sec/scripts/\"\n",
    "\n",
    "sys.path.append(os.path.join(PATH, SCRIPTS_PATH))\n",
    "from helper import override_component_attrs"
   ]
  },
  {
   "cell_type": "code",
   "execution_count": null,
   "id": "14d68084-7673-4f62-b9c6-9f3fe1ff8e76",
   "metadata": {},
   "outputs": [],
   "source": [
    "CLUSTERS = 181\n",
    "LL = \"opt\"\n",
    "OPTS = \"Co2L0-3H-T-H-B-I-A-solar+p3-linemaxext10\"\n",
    "RUN = \"20221227-main\"\n",
    "SCENARIO = f\"elec_s_{CLUSTERS}_lv{LL}__{OPTS}_2050\"\n",
    "OVERRIDES = PATH + \"pypsa-eur-sec/data/override_component_attrs\"\n",
    "\n",
    "OUTPUT = \"../results/graphics-20221227/\"\n",
    "OUTPUT_SCENARIO = f\"{OUTPUT}/{RUN}/{SCENARIO}/\""
   ]
  },
  {
   "cell_type": "code",
   "execution_count": null,
   "id": "aefc92be-2348-4431-a006-1cc1758f4435",
   "metadata": {},
   "outputs": [],
   "source": [
    "if not os.path.exists(OUTPUT_SCENARIO):\n",
    "    os.makedirs(OUTPUT_SCENARIO)"
   ]
  },
  {
   "cell_type": "code",
   "execution_count": null,
   "id": "dc86d93e-8acd-476d-9910-14a28f89c5a4",
   "metadata": {},
   "outputs": [],
   "source": [
    "overrides = override_component_attrs(OVERRIDES)\n",
    "fn = f\"{PATH}/pypsa-eur-sec/results/{RUN}/postnetworks/{SCENARIO}.nc\"\n",
    "n = pypsa.Network(fn, override_component_attrs=overrides)"
   ]
  },
  {
   "cell_type": "code",
   "execution_count": null,
   "id": "d305fc01-6cdc-4424-8083-d074dde3c5cf",
   "metadata": {},
   "outputs": [],
   "source": [
    "ac = \"acn\" if LL == \"1.0\" else \"acy\"\n",
    "hy = \"hyn\" if \"noH2network\" in OPTS else \"hyy\"\n",
    "code = ac + hy"
   ]
  },
  {
   "cell_type": "code",
   "execution_count": null,
   "id": "c8802902-ebdb-4e9c-9ae9-ca69fe499de8",
   "metadata": {},
   "outputs": [],
   "source": [
    "latex = {}"
   ]
  },
  {
   "cell_type": "code",
   "execution_count": null,
   "id": "074a3232-46d4-47b1-8191-7884b0f319e4",
   "metadata": {},
   "outputs": [],
   "source": []
  },
  {
   "cell_type": "code",
   "execution_count": null,
   "id": "da30b0f8-485e-4e20-8c55-b1e2afa0a850",
   "metadata": {},
   "outputs": [],
   "source": [
    "def correlation_electrolysis(regex):\n",
    "\n",
    "    e = n.links.query(\"carrier == 'H2 Electrolysis'\").set_index(\"bus0\").p_nom_opt\n",
    "\n",
    "    df = (\n",
    "        n.generators.filter(regex=regex, axis=0)\n",
    "        .groupby(\"bus\")\n",
    "        .p_nom_opt.sum()\n",
    "        .reindex(n.buses.location)\n",
    "    )\n",
    "    s = df.groupby(df.index).sum().drop(\"EU\")\n",
    "\n",
    "    return np.corrcoef(e, s)[0, 1]"
   ]
  },
  {
   "cell_type": "code",
   "execution_count": null,
   "id": "b023f116-d60d-4991-aaac-067762a4dba4",
   "metadata": {},
   "outputs": [],
   "source": [
    "latex[code + \"correlationsolar\"] = correlation_electrolysis(\"(solar$|solar rooftop)\")"
   ]
  },
  {
   "cell_type": "code",
   "execution_count": null,
   "id": "cf4fc0b3-c0e7-49b8-81c1-776a534be906",
   "metadata": {},
   "outputs": [],
   "source": [
    "latex[code + \"correlationwind\"] = correlation_electrolysis(\"(wind)\")"
   ]
  },
  {
   "cell_type": "code",
   "execution_count": null,
   "id": "e3a61a4f-31ad-4caf-8951-e00442b4df04",
   "metadata": {},
   "outputs": [],
   "source": [
    "df = n.links.filter(regex=\"(OCGT|CHP|Fuel Cell)\", axis=0)\n",
    "\n",
    "cap = df.eval(\"p_nom_opt * efficiency\").groupby(df.carrier).sum().div(1e3)  # GW"
   ]
  },
  {
   "cell_type": "code",
   "execution_count": null,
   "id": "a6a95188-ea1a-494f-8d17-bab533919b4d",
   "metadata": {},
   "outputs": [],
   "source": [
    "cap"
   ]
  },
  {
   "cell_type": "code",
   "execution_count": null,
   "id": "ffa50108-21b4-40a3-ad82-c6d96ae09e3b",
   "metadata": {},
   "outputs": [],
   "source": [
    "latex[code + \"firmcapacity\"] = cap.sum()"
   ]
  },
  {
   "cell_type": "code",
   "execution_count": null,
   "id": "63a78dd1-4da5-496b-9f5e-8483d9ae0967",
   "metadata": {},
   "outputs": [],
   "source": [
    "latex"
   ]
  },
  {
   "cell_type": "code",
   "execution_count": null,
   "id": "5213663c-b04c-4f36-a354-11f200eae300",
   "metadata": {},
   "outputs": [],
   "source": [
    "with open(f\"../paper/{code}-stats.tex\", \"w\") as f:\n",
    "    for k, v in latex.items():\n",
    "        f.write(\"\\\\newcommand{\\\\\" + k + \"}{\" + str(v) + \"}\\n\")"
   ]
  },
  {
   "cell_type": "code",
   "execution_count": null,
   "id": "bc3599a6-3435-4856-82fa-1b1bcfbd2359",
   "metadata": {},
   "outputs": [],
   "source": []
  }
 ],
 "metadata": {
  "kernelspec": {
   "display_name": "Python 3 (ipykernel)",
   "language": "python",
   "name": "python3"
  },
  "language_info": {
   "codemirror_mode": {
    "name": "ipython",
    "version": 3
   },
   "file_extension": ".py",
   "mimetype": "text/x-python",
   "name": "python",
   "nbconvert_exporter": "python",
   "pygments_lexer": "ipython3",
   "version": "3.10.0"
  }
 },
 "nbformat": 4,
 "nbformat_minor": 5
}
