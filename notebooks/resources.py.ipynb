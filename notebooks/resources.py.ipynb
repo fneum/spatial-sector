{
 "cells": [
  {
   "cell_type": "code",
   "execution_count": null,
   "id": "0b71c0bc-9fb6-47b9-b75e-ea6d6df7fd83",
   "metadata": {},
   "outputs": [],
   "source": [
    "import pypsa\n",
    "import yaml\n",
    "import pandas as pd\n",
    "import numpy as np\n",
    "import geopandas as gpd\n",
    "import xarray as xr\n",
    "import cartopy.crs as ccrs\n",
    "import cartopy\n",
    "\n",
    "import matplotlib.pyplot as plt\n",
    "from matplotlib.lines import Line2D\n",
    "import matplotlib.colors as mcolors\n",
    "\n",
    "\n",
    "\n",
    "plt.style.use(['bmh', 'matplotlibrc'])\n",
    "xr.set_options(display_style='html')\n",
    "\n",
    "%matplotlib inline"
   ]
  },
  {
   "cell_type": "code",
   "execution_count": null,
   "id": "ce4faa73-c438-4193-8274-2046d9d2d812",
   "metadata": {},
   "outputs": [],
   "source": [
    "path = \"../../../playgrounds/pr/\"\n",
    "clusters = 181\n",
    "output = \"../results/graphics\"\n",
    "resources = \"resources\" # \"20211007-resources\""
   ]
  },
  {
   "cell_type": "code",
   "execution_count": null,
   "id": "618d5fc8-ef0b-4980-87a0-7dbae216de05",
   "metadata": {},
   "outputs": [],
   "source": [
    "with open(path + \"pypsa-eur-sec/config.yaml\") as file:\n",
    "    config = yaml.safe_load(file)"
   ]
  },
  {
   "cell_type": "code",
   "execution_count": null,
   "id": "28fcd3d0-a18d-4dae-83dd-7b2883117a91",
   "metadata": {},
   "outputs": [],
   "source": [
    "# shapes\n",
    "nodes = gpd.read_file(path + f\"pypsa-eur/{resources}/regions_onshore_elec_s_{clusters}.geojson\").set_index('name')\n",
    "cts = gpd.read_file(path + f\"pypsa-eur/{resources}/country_shapes.geojson\").set_index('name')\n",
    "\n",
    "regions = gpd.read_file(path + f\"pypsa-eur/{resources}/regions_onshore.geojson\").append(\n",
    "          gpd.read_file(path + f\"pypsa-eur/{resources}/regions_offshore.geojson\"))\n",
    "regions = regions.dissolve('name') \n",
    "onregions = gpd.read_file(path + f\"pypsa-eur/{resources}/regions_onshore.geojson\").set_index('name')\n",
    "regions[\"Area\"] = regions.to_crs(epsg=3035).area.div(1e6)\n",
    "onregions[\"Area\"] = onregions.to_crs(epsg=3035).area.div(1e6)\n",
    "nodes[\"Area\"] = nodes.to_crs(epsg=3035).area.div(1e6)"
   ]
  },
  {
   "cell_type": "raw",
   "id": "27903ca3-71d4-48dc-a4e4-cabae75de291",
   "metadata": {},
   "source": [
    "# country-level data\n",
    "\n",
    "energy = pd.read_csv(path + \"pypsa-eur-sec/resources/energy_totals.csv\", index_col=0)\n",
    "transport = pd.read_csv(path + \"pypsa-eur-sec/resources/transport_data.csv\", index_col=0)"
   ]
  },
  {
   "cell_type": "raw",
   "id": "ffb74a09-90e3-447a-af40-eb45f68c5fd0",
   "metadata": {},
   "source": [
    "# nodal-level data\n",
    "pop = pd.read_csv(path + f\"pypsa-eur-sec/resources/pop_layout_elec_s_{clusters}.csv\", index_col=0)\n",
    "idist = pd.read_csv(path + f\"pypsa-eur-sec/resources/industrial_distribution_key_elec_s_{clusters}.csv\", index_col=0)\n",
    "ienergy = pd.read_csv(path + f\"pypsa-eur-sec/resources/industrial_energy_demand_elec_s_{clusters}_2030.csv\", index_col=0)\n",
    "iproduction = pd.read_csv(path + f\"pypsa-eur-sec/resources/industrial_production_elec_s_{clusters}_2030.csv\", index_col=0)\n",
    "biomass = pd.read_csv(path + f\"pypsa-eur-sec/resources/biomass_potentials_s_{clusters}.csv\", index_col=0)"
   ]
  },
  {
   "cell_type": "raw",
   "id": "af83e5cd-bc3c-42bd-b1e2-c1371357c829",
   "metadata": {},
   "source": []
  },
  {
   "cell_type": "markdown",
   "id": "cb91c5cc-5ffa-456b-bc2e-934981b2567a",
   "metadata": {},
   "source": [
    "### Plots"
   ]
  },
  {
   "cell_type": "code",
   "execution_count": null,
   "id": "76dfb4e2-76a8-479a-a0dc-77476f356243",
   "metadata": {},
   "outputs": [],
   "source": [
    "co2 = pd.read_csv(path + \"pypsa-eur-sec/resources/co2_totals.csv\", index_col=0)\n",
    "\n",
    "fig, ax = plt.subplots(figsize=(7,6))\n",
    "co2.plot.barh(ax=ax, stacked=True, cmap='tab20')\n",
    "plt.savefig(output + \"/co2.pdf\")"
   ]
  },
  {
   "cell_type": "markdown",
   "id": "4a469cf6-c3e0-4c9f-b377-ab02ec23f42e",
   "metadata": {},
   "source": [
    "### Industrial Production Fuel Switching"
   ]
  },
  {
   "cell_type": "code",
   "execution_count": null,
   "id": "2dc7ff11-90df-47fd-95cb-0a7f1b8efa8f",
   "metadata": {},
   "outputs": [],
   "source": [
    "iproduction_today = pd.read_csv(path + \"pypsa-eur-sec/resources/industrial_production_per_country.csv\", index_col=0).sum()\n",
    "iproduction_tomorrow = pd.read_csv(path + \"pypsa-eur-sec/resources/industrial_production_per_country_tomorrow_2030.csv\", index_col=0).sum()\n",
    "iratios = pd.read_csv(path + \"pypsa-eur-sec/resources/industry_sector_ratios.csv\", index_col=0)\n",
    "ienergy_today = pd.read_csv(path + \"pypsa-eur-sec/resources/industrial_energy_demand_per_country_today.csv\", index_col=0, header=[0,1]).sum(level=1, axis=1)"
   ]
  },
  {
   "cell_type": "code",
   "execution_count": null,
   "id": "f18f055e-a7c5-4403-a12b-38511b3baace",
   "metadata": {},
   "outputs": [],
   "source": [
    "iproduction_today"
   ]
  },
  {
   "cell_type": "code",
   "execution_count": null,
   "id": "75ec1264-7659-4103-b392-f6efc00ce0bb",
   "metadata": {},
   "outputs": [],
   "source": [
    "ienergy_today.rename({\"gas\": \"methane\"}, inplace=True)"
   ]
  },
  {
   "cell_type": "code",
   "execution_count": null,
   "id": "05f0c4df-c08a-43f3-b249-1bb945ab43a1",
   "metadata": {},
   "outputs": [],
   "source": [
    "iratios.rename({\"elec\": \"electricity\", \"naphtha\": \"liquid\"}, inplace=True)\n",
    "iratios.loc[\"solid\",:] = iratios.loc[[\"coke\", \"coal\"]].sum()\n",
    "iratios.drop([\"coke\", \"coal\", \"process emission\", \"process emission from feedstock\"], axis=0, inplace=True)"
   ]
  },
  {
   "cell_type": "code",
   "execution_count": null,
   "id": "47fc203e-0e72-4f25-9432-9ef401a77540",
   "metadata": {},
   "outputs": [],
   "source": [
    "ienergy_tomorrow = iratios * iproduction_tomorrow / 1e3\n",
    "bc = [\"Chlorine\", \"HVC\", \"HVC (mechanical recycling)\", \"HVC (chemical recycling)\", \"Methanol\"]"
   ]
  },
  {
   "cell_type": "code",
   "execution_count": null,
   "id": "bd3ccae3-a140-4384-9977-a17899acfdee",
   "metadata": {},
   "outputs": [],
   "source": [
    "ienergy_tomorrow[\"Basic chemicals (without ammonia)\"] = ienergy_tomorrow[bc].sum(axis=1)\n",
    "ienergy_tomorrow.drop(bc, axis=1, inplace=True)\n",
    "ienergy_today[\"DRI + Electric arc\"] = 0.\n",
    "ienergy_today.loc[\"hydrogen\",:] = 0.\n",
    "ienergy_tomorrow.loc[\"other\",:] = 0.\n",
    "ienergy_tomorrow.loc[\"waste\",:] = 0."
   ]
  },
  {
   "cell_type": "code",
   "execution_count": null,
   "id": "ea02ec5c-f0e9-4124-b60e-90cbc8f75592",
   "metadata": {},
   "outputs": [],
   "source": [
    "ienergy_tomorrow.sort_index(axis=1, inplace=True)\n",
    "ienergy_today.sort_index(axis=1, inplace=True)\n",
    "\n",
    "ienergy_tomorrow.sort_index(axis=0, inplace=True)\n",
    "ienergy_today.sort_index(axis=0, inplace=True)"
   ]
  },
  {
   "cell_type": "code",
   "execution_count": null,
   "id": "a53230c8-4e1b-421e-892f-9e518352ffa3",
   "metadata": {},
   "outputs": [],
   "source": [
    "tech_colors = config[\"plotting\"][\"tech_colors\"]"
   ]
  },
  {
   "cell_type": "code",
   "execution_count": null,
   "id": "6339e15f-6a68-460b-bef1-69ba892c5c6a",
   "metadata": {},
   "outputs": [],
   "source": [
    "tech_colors[\"electricity\"] = '#ace37f'\n",
    "tech_colors[\"hydrogen\"] = '#f073da'"
   ]
  },
  {
   "cell_type": "code",
   "execution_count": null,
   "id": "742fdf9b-5fb1-4ab0-a6ec-81906d09d737",
   "metadata": {},
   "outputs": [],
   "source": [
    "fig, ax = plt.subplots(figsize=(4,6))\n",
    "\n",
    "ienergy_tomorrow.T.plot.barh(ax=ax, stacked=True, width=.3, color=tech_colors, position=1, edgecolor='k')\n",
    "ienergy_today.T.plot.barh(ax=ax, stacked=True, width=.3, color=tech_colors, position=0, edgecolor='k')\n",
    "\n",
    "\n",
    "plt.xlabel(\"Final energy and non-energy [TWh/a]\")\n",
    "plt.xlim(-50, 1300)\n",
    "plt.ylim(-1,23)\n",
    "handles, labels = ax.get_legend_handles_labels()\n",
    "n = ienergy_today.shape[0]\n",
    "plt.legend(handles[:n], labels[:n])\n",
    "plt.savefig(output + \"/fec_industry_today_tomorrow.pdf\", bbox_inches='tight')"
   ]
  },
  {
   "cell_type": "code",
   "execution_count": null,
   "id": "d20118f5-e305-4691-9455-88679b6c418c",
   "metadata": {},
   "outputs": [],
   "source": [
    "df = ienergy_tomorrow.sum(axis=1).sort_values(ascending=False)\n",
    "df = df.loc[df>0]"
   ]
  },
  {
   "cell_type": "code",
   "execution_count": null,
   "id": "01997d5d-f092-4ea8-aae0-802fb33ac240",
   "metadata": {},
   "outputs": [],
   "source": [
    "fig, ax = plt.subplots(figsize=(3,4))\n",
    "\n",
    "df.plot.bar(ax=ax, width=.3, edgecolor='k')\n",
    "\n",
    "plt.ylabel(\"Final energy and non-energy [TWh/a]\")\n",
    "plt.xlabel(\"\")\n",
    "\n",
    "plt.savefig(output + \"/fec_industry_tomorrow_by_carrier.pdf\", bbox_inches='tight')"
   ]
  },
  {
   "cell_type": "markdown",
   "id": "e3d23bfd-b585-427c-864f-7419add7b309",
   "metadata": {},
   "source": [
    "## Process Emissions"
   ]
  },
  {
   "cell_type": "code",
   "execution_count": null,
   "id": "95d8441e-d6a0-4ae8-bbbf-dfbf0376b996",
   "metadata": {},
   "outputs": [],
   "source": [
    "pe = pd.read_csv(path + \"pypsa-eur-sec/resources/industry_sector_ratios.csv\", index_col=0).filter(like='process emission', axis=0).sum()"
   ]
  },
  {
   "cell_type": "code",
   "execution_count": null,
   "id": "f9bc246b-3839-454f-9391-8d54400bdca5",
   "metadata": {},
   "outputs": [],
   "source": [
    "pe_today = iproduction_today * pe / 1e3"
   ]
  },
  {
   "cell_type": "code",
   "execution_count": null,
   "id": "41c3de9f-d735-4e80-bad3-514ae2af008d",
   "metadata": {},
   "outputs": [],
   "source": [
    "pe_tomorrow = iproduction_tomorrow * pe / 1e3"
   ]
  },
  {
   "cell_type": "code",
   "execution_count": null,
   "id": "8ed79693-d281-4d04-89d5-ecdfb45ac8c4",
   "metadata": {},
   "outputs": [],
   "source": [
    "fig, ax = plt.subplots(figsize=(4,6))\n",
    "\n",
    "pe_tomorrow.plot.barh(ax=ax, width=.3, color='peachpuff', position=1, edgecolor='k')\n",
    "pe_today.plot.barh(ax=ax, width=.3, color='indianred', position=0, edgecolor='k')\n",
    "\n",
    "plt.xlabel(f\"Process emissions [MtCO$_2$/a]\")\n",
    "plt.xlim(-4, 110)\n",
    "plt.ylim(-1,27)\n",
    "handles, labels = ax.get_legend_handles_labels()\n",
    "plt.legend(handles[:n], [f\"2050:  {pe_tomorrow.sum():.0f} MtCO$_2$/a\", f\"today: {pe_today.sum():.0f} MtCO$_2$/a\"])\n",
    "plt.savefig(output + \"/process-emissions.pdf\", bbox_inches='tight')"
   ]
  },
  {
   "cell_type": "markdown",
   "id": "847cd565-7c7e-4481-98d1-00b56a72861b",
   "metadata": {},
   "source": [
    "### Power Plants"
   ]
  },
  {
   "cell_type": "code",
   "execution_count": null,
   "id": "b388a304-9c8e-4f2a-85a0-1d432a6ee1ab",
   "metadata": {},
   "outputs": [],
   "source": [
    "df = pd.read_csv(path + \"pypsa-eur/resources/powerplants.csv\", index_col=0)\n",
    "\n",
    "df = gpd.GeoDataFrame(df, geometry=gpd.points_from_xy(df.lon, df.lat), crs=\"EPSG:4326\")\n",
    "\n",
    "df.Fueltype = df.Fueltype.str.strip().replace(\"CCGT, Thermal\", \"CCGT\")\n",
    "\n",
    "df = df.loc[~df.Fueltype.isin(['Other', 'Pv', 'Storage Technologies'])]\n",
    "\n",
    "colors = {\n",
    "    \"Bioenergy\": '#80c944',\n",
    "    \"CCGT\": '#a85522',\n",
    "    \"Geothermal\": 'red',\n",
    "    \"Hard Coal\": 'black',\n",
    "    \"Lignite\": '#826837',\n",
    "    \"Hydro\": \"#235ebc\",\n",
    "    \"Nuclear\": \"#ff8c00\",\n",
    "    \"OCGT\": '#e0986c',\n",
    "    \"Oil\": '#c9c9c9',\n",
    "    \"Waste\": \"purple\",\n",
    "}\n",
    "\n",
    "crs = ccrs.AlbersEqualArea()\n",
    "\n",
    "df = df.cx[-12:30, 35:72]\n",
    "df = df.to_crs(crs.proj4_init)\n",
    "\n",
    "fig, ax = plt.subplots(figsize=(9.5,9.5), subplot_kw={\"projection\": crs})\n",
    "\n",
    "ax.add_feature(cartopy.feature.COASTLINE.with_scale(\"50m\"), linewidth=0.2, zorder=2) \n",
    "ax.add_feature(cartopy.feature.BORDERS.with_scale(\"50m\"), linewidth=0.2, zorder=2)\n",
    "\n",
    "df.plot(\n",
    "    ax=ax,\n",
    "    column='Fueltype',\n",
    "    markersize=df['Capacity']/35,\n",
    "    alpha=0.75,\n",
    "    legend=True,\n",
    "    cmap=mcolors.ListedColormap(pd.Series(df.Fueltype.unique()).sort_values().map(colors).values),\n",
    "    legend_kwds=dict(title=\"Technology (size ~ capacity)\", frameon=False)\n",
    ")\n",
    "\n",
    "\n",
    "\n",
    "plt.gca().outline_patch.set_visible(False)\n",
    "ax.set_facecolor('white')\n",
    "plt.savefig(output + \"/powerplants.pdf\", bbox_inches='tight')"
   ]
  },
  {
   "cell_type": "markdown",
   "id": "ea648e6f-e467-43a1-8051-f8a0608d03e0",
   "metadata": {},
   "source": [
    "### Hotmaps"
   ]
  },
  {
   "cell_type": "code",
   "execution_count": null,
   "id": "3562badc-1db4-4a40-84bd-13f489c13c71",
   "metadata": {},
   "outputs": [],
   "source": [
    "def prepare_hotmaps_database():\n",
    "    \"\"\"\n",
    "    Load hotmaps database of industrial sites.\n",
    "    \"\"\"\n",
    "\n",
    "    df = pd.read_csv(path + \"pypsa-eur-sec/data/Industrial_Database.csv\", sep=\";\", index_col=0)\n",
    "\n",
    "    df[[\"srid\", \"coordinates\"]] = df.geom.str.split(';', expand=True)\n",
    "\n",
    "    # remove those sites without valid locations\n",
    "    df.drop(df.index[df.coordinates.isna()], inplace=True)\n",
    "\n",
    "    df['coordinates'] = gpd.GeoSeries.from_wkt(df['coordinates'])\n",
    "\n",
    "    gdf = gpd.GeoDataFrame(df, geometry='coordinates', crs=\"EPSG:4326\")\n",
    "\n",
    "    return gdf"
   ]
  },
  {
   "cell_type": "code",
   "execution_count": null,
   "id": "f5c0c7f0-9aca-4179-864e-ed64430f042c",
   "metadata": {},
   "outputs": [],
   "source": [
    "\n",
    "crs = ccrs.AlbersEqualArea()\n",
    "\n",
    "hotmaps = prepare_hotmaps_database()\n",
    "hotmaps = hotmaps.cx[-12:30, 35:72]\n",
    "hotmaps = hotmaps.to_crs(crs.proj4_init)\n",
    "\n",
    "fig, ax = plt.subplots(figsize=(9.5,9.5), subplot_kw={\"projection\": crs})\n",
    "\n",
    "ax.add_feature(cartopy.feature.COASTLINE.with_scale(\"50m\"), linewidth=0.2, zorder=2) \n",
    "ax.add_feature(cartopy.feature.BORDERS.with_scale(\"50m\"), linewidth=0.2, zorder=2)\n",
    "\n",
    "hotmaps.plot(\n",
    "    ax=ax,\n",
    "    column='Subsector',\n",
    "    markersize=hotmaps['Emissions_ETS_2014']/3e4,\n",
    "    alpha=0.5,\n",
    "    legend=True,\n",
    "    #transform=ccrs.epsg(3395),\n",
    "    legend_kwds=dict(title=\"Industry Sector (size ~ emissions)\", frameon=False)\n",
    ")\n",
    "\n",
    "\n",
    "\n",
    "plt.gca().outline_patch.set_visible(False)\n",
    "ax.set_facecolor('white')\n",
    "\n",
    "plt.savefig(output + \"/hotmaps.pdf\", bbox_inches='tight')"
   ]
  },
  {
   "cell_type": "markdown",
   "id": "ae392a84-c879-4297-baa4-18e48e140670",
   "metadata": {},
   "source": [
    "### Salt Caverns"
   ]
  },
  {
   "cell_type": "code",
   "execution_count": null,
   "id": "e1b76868-a30d-4280-97dd-167ecc9896ce",
   "metadata": {},
   "outputs": [],
   "source": [
    "cavern_nodes = pd.read_csv(\"../../../playgrounds/pr/pypsa-eur-sec/resources/salt_cavern_potentials_s_181.csv\", index_col=0)\n",
    "cavern_nodes = cavern_nodes.where(cavern_nodes>0.5)"
   ]
  },
  {
   "cell_type": "code",
   "execution_count": null,
   "id": "34aea126-6a37-4d73-9a33-1c5f56f8a09d",
   "metadata": {},
   "outputs": [],
   "source": [
    "cavern_regions = gpd.read_file(\"../../../playgrounds/pr/pypsa-eur/resources/regions_onshore_elec_s_181.geojson\").set_index('name')"
   ]
  },
  {
   "cell_type": "code",
   "execution_count": null,
   "id": "75380497-1217-41a8-9bb1-a26b43410b0e",
   "metadata": {},
   "outputs": [],
   "source": [
    "cavern_offregions = gpd.read_file(\"../../../playgrounds/pr/pypsa-eur/resources/regions_offshore_elec_s_181.geojson\").set_index('name')"
   ]
  },
  {
   "cell_type": "code",
   "execution_count": null,
   "id": "2bfbb98e-41d0-43fc-81c0-e6c3bf2b4e12",
   "metadata": {},
   "outputs": [],
   "source": [
    "cavern_regions.to_crs(crs.proj4_init).total_bounds"
   ]
  },
  {
   "cell_type": "code",
   "execution_count": null,
   "id": "619cd68d-1749-45fb-b979-c039df2e480e",
   "metadata": {},
   "outputs": [],
   "source": [
    "def plot_salt_caverns_by_node(\n",
    "    cavern_nodes,\n",
    "    cavern_regions,\n",
    "    storage_type='onshore',\n",
    "    cmap = \"GnBu\",\n",
    "    vmin = 1,\n",
    "    vmax = 3000,\n",
    "    fn = None,\n",
    "    label = r\"H$_2$ Storage Potential [TWh]\",\n",
    "):\n",
    "\n",
    "    crs = ccrs.EqualEarth()\n",
    "\n",
    "    cavern_regions = cavern_regions.to_crs(crs.proj4_init)\n",
    "    \n",
    "    fig, ax = plt.subplots(figsize=(7,7), subplot_kw={\"projection\": crs})\n",
    "\n",
    "    cavern_regions.plot(\n",
    "        ax=ax,\n",
    "        column=cavern_nodes[storage_type].reindex(cavern_regions.index),\n",
    "        #transform=ccrs.PlateCarree(),\n",
    "        cmap=cmap,\n",
    "        linewidths=0,\n",
    "        legend=True,\n",
    "        vmin=vmin,\n",
    "        vmax=vmax,\n",
    "        legend_kwds={\n",
    "            'label': label,\n",
    "            \"shrink\": 0.7,\n",
    "            \"extend\": \"max\",\n",
    "        },\n",
    "        norm=mcolors.LogNorm(vmin=1, vmax=vmax) \n",
    "    )\n",
    "\n",
    "    plt.title(f\"{storage_type.capitalize()} Salt Cavern H$_2$ Storage Potentials\")\n",
    "    \n",
    "    plt.xlim(-1e6, 2.6e6)\n",
    "    plt.ylim(4.3e6, 7.8e6)\n",
    "\n",
    "    #plt.xlim(-14.5, 31.5)\n",
    "    #plt.ylim(34, 72)\n",
    "\n",
    "    ax.add_feature(cartopy.feature.COASTLINE.with_scale(\"50m\"), linewidth=0.2, zorder=2) \n",
    "    ax.add_feature(cartopy.feature.BORDERS.with_scale(\"50m\"), linewidth=0.2, zorder=2)\n",
    "\n",
    "    plt.gca().outline_patch.set_visible(False)\n",
    "    ax.set_facecolor('white')\n",
    "\n",
    "    if fn is None:\n",
    "        plt.savefig(f\"{output}/cavern-potentials-{storage_type}.pdf\", bbox_inches='tight')"
   ]
  },
  {
   "cell_type": "code",
   "execution_count": null,
   "id": "ac7049b1-6c16-4c81-9a46-2bd42734b14c",
   "metadata": {},
   "outputs": [],
   "source": [
    "plot_salt_caverns_by_node(cavern_nodes, cavern_regions, storage_type='onshore')"
   ]
  },
  {
   "cell_type": "code",
   "execution_count": null,
   "id": "4bc4f0d1-4d26-4f64-ae25-487b0e5b5e57",
   "metadata": {},
   "outputs": [],
   "source": [
    "plot_salt_caverns_by_node(cavern_nodes, cavern_regions, storage_type='nearshore')"
   ]
  },
  {
   "cell_type": "code",
   "execution_count": null,
   "id": "ba1a0b95-7fd8-43e0-a93c-ff915b8d1366",
   "metadata": {},
   "outputs": [],
   "source": [
    "plot_salt_caverns_by_node(cavern_nodes, cavern_offregions, storage_type='offshore')"
   ]
  },
  {
   "cell_type": "code",
   "execution_count": null,
   "id": "d2376e96-d3b7-478d-b1ec-bd798315bc99",
   "metadata": {},
   "outputs": [],
   "source": [
    "caverns = gpd.read_file(\"../../../playgrounds/pr/pypsa-eur-sec/data/h2_salt_caverns_GWh_per_sqkm.geojson\")\n",
    "\n",
    "crs = ccrs.EqualEarth()\n",
    "\n",
    "caverns = caverns.to_crs(crs.proj4_init)\n",
    "\n",
    "fig, ax = plt.subplots(figsize=(7,7), subplot_kw={\"projection\": crs})\n",
    "\n",
    "ax.add_feature(cartopy.feature.COASTLINE.with_scale(\"50m\"), linewidth=0.2, zorder=2) \n",
    "ax.add_feature(cartopy.feature.BORDERS.with_scale(\"50m\"), linewidth=0.2, zorder=2)\n",
    "\n",
    "caverns.plot(\n",
    "    ax=ax,\n",
    "    column='storage_type',\n",
    "    cmap=\"tab10_r\", # \"tab10_r\",\n",
    "    legend=True,\n",
    "    linewidth=0,\n",
    "    #transform=ccrs.epsg(3395),\n",
    "    legend_kwds=dict(title=\"Salt Caverns for\\nHydrogen Storage\", frameon=False, loc=(0.2,.8))\n",
    ")\n",
    "\n",
    "\n",
    "plt.xlim(-1e6, 2.6e6)\n",
    "plt.ylim(4.3e6, 7.8e6)\n",
    "\n",
    "plt.gca().outline_patch.set_visible(False)\n",
    "ax.set_facecolor('white')\n",
    "\n",
    "plt.savefig(output + \"/caverns.pdf\", bbox_inches='tight')"
   ]
  },
  {
   "cell_type": "markdown",
   "id": "1751b0e3-b587-4864-a04b-3c6d549e37de",
   "metadata": {},
   "source": [
    "## Biomass potentials"
   ]
  },
  {
   "cell_type": "code",
   "execution_count": null,
   "id": "59b0cbd5-0bf1-4f19-8c4c-0253c72cc532",
   "metadata": {},
   "outputs": [],
   "source": [
    "bio = pd.read_csv(path + f\"pypsa-eur-sec/resources/biomass_potentials_s_{clusters}.csv\", index_col=0).div(1e6) # TWh/a"
   ]
  },
  {
   "cell_type": "code",
   "execution_count": null,
   "id": "44abd552-ae0a-43a9-97e2-ea908fd29541",
   "metadata": {},
   "outputs": [],
   "source": [
    "def plot_biomass_potentials(bio, nodes, kind, fn=None):\n",
    "\n",
    "    crs = ccrs.EqualEarth()\n",
    "    nodes = nodes.to_crs(crs.proj4_init)\n",
    "\n",
    "    fig, ax = plt.subplots(figsize=(7,7), subplot_kw={\"projection\": crs})\n",
    "\n",
    "    ax.add_feature(cartopy.feature.COASTLINE.with_scale(\"50m\"), linewidth=0.2, zorder=2) \n",
    "    ax.add_feature(cartopy.feature.BORDERS.with_scale(\"50m\"), linewidth=0.2, zorder=2)\n",
    "\n",
    "    nkind = \"disregarded biomass\" if kind == \"not included\" else kind\n",
    "    label = f\"{nkind} potentials [TWh/a]\"\n",
    "\n",
    "    nodes.plot(\n",
    "        ax=ax,\n",
    "        column=bio[kind],\n",
    "        cmap=\"Greens\", # \"tab10_r\",\n",
    "        legend=True,\n",
    "        linewidth=0,\n",
    "        legend_kwds={\n",
    "            'label': label,\n",
    "            \"shrink\": 0.7,\n",
    "            \"extend\": \"max\",\n",
    "        },\n",
    "    )\n",
    "    \n",
    "    total = bio[kind].sum()\n",
    "\n",
    "    ax.text(-.8e6, 7.4e6, f'total: {total:.0f} TWh/a', fontsize=15, color='#343434')\n",
    "\n",
    "    plt.xlim(-1e6, 2.6e6)\n",
    "    plt.ylim(4.3e6, 7.8e6)\n",
    "\n",
    "    plt.gca().outline_patch.set_visible(False)\n",
    "    ax.set_facecolor('white')\n",
    "    \n",
    "    if fn is None:\n",
    "        plt.savefig(output + f\"/biomass-{kind}.pdf\", bbox_inches='tight')"
   ]
  },
  {
   "cell_type": "code",
   "execution_count": null,
   "id": "3da2f01f-6a65-438c-a491-2471b807d474",
   "metadata": {},
   "outputs": [],
   "source": [
    "for kind in bio.columns:\n",
    "    plot_biomass_potentials(bio, nodes, kind)"
   ]
  },
  {
   "cell_type": "code",
   "execution_count": null,
   "id": "46060414-b153-46c2-aa34-98d63128fa03",
   "metadata": {},
   "outputs": [],
   "source": []
  },
  {
   "cell_type": "markdown",
   "id": "6ea2de59-1819-4696-ae17-2d517ca7ed01",
   "metadata": {},
   "source": [
    "## Ammonia Production"
   ]
  },
  {
   "cell_type": "code",
   "execution_count": null,
   "id": "bb918a6b-657b-4b59-8dca-f4864bff68e0",
   "metadata": {},
   "outputs": [],
   "source": [
    "df = pd.read_csv(path + f\"pypsa-eur-sec/resources/ammonia_production.csv\", index_col=0) # kt/a"
   ]
  },
  {
   "cell_type": "code",
   "execution_count": null,
   "id": "fb8000b6-c5bc-4be3-97dd-94d24cff719a",
   "metadata": {},
   "outputs": [],
   "source": [
    "def plot_ammonia_production(df, cts, year, fn=None):\n",
    "    \n",
    "    year = str(year)\n",
    "\n",
    "    crs = ccrs.EqualEarth()\n",
    "    cts = cts.to_crs(crs.proj4_init)\n",
    "\n",
    "    fig, ax = plt.subplots(figsize=(7,7), subplot_kw={\"projection\": crs})\n",
    "\n",
    "    ax.add_feature(cartopy.feature.COASTLINE.with_scale(\"50m\"), linewidth=0.2, zorder=2) \n",
    "    ax.add_feature(cartopy.feature.BORDERS.with_scale(\"50m\"), linewidth=0.2, zorder=2)\n",
    "\n",
    "    cts.plot(\n",
    "        ax=ax,\n",
    "        column=df[year].reindex(cts.index),\n",
    "        cmap=\"Purples\", # \"tab10_r\",\n",
    "        legend=True,\n",
    "        linewidth=0,\n",
    "        legend_kwds={\n",
    "            'label': \"Ammonia Production [kt]\",\n",
    "            \"shrink\": 0.7,\n",
    "        },\n",
    "    )\n",
    "    \n",
    "    total = df[year].sum()\n",
    "    ax.text(-.85e6, 7.4e6, f'total: {total:.0f} kt ({year})', fontsize=12, color='#343434')\n",
    "\n",
    "    plt.xlim(-1e6, 2.6e6)\n",
    "    plt.ylim(4.3e6, 7.8e6)\n",
    "\n",
    "    plt.gca().outline_patch.set_visible(False)\n",
    "    ax.set_facecolor('white')\n",
    "    \n",
    "    if fn is None:\n",
    "        plt.savefig(output + f\"/ammonia-{year}.pdf\", bbox_inches='tight')"
   ]
  },
  {
   "cell_type": "code",
   "execution_count": null,
   "id": "4c79177d-ca13-4e49-a3ef-b78d1d04fb45",
   "metadata": {},
   "outputs": [],
   "source": [
    "plot_ammonia_production(df, cts, 2017)"
   ]
  },
  {
   "cell_type": "code",
   "execution_count": null,
   "id": "c52cf527-b722-4c13-9bd2-1deb4654a404",
   "metadata": {},
   "outputs": [],
   "source": [
    "cts"
   ]
  },
  {
   "cell_type": "markdown",
   "id": "910f2473-c216-4aef-9a6b-36f9bb0d8dc2",
   "metadata": {},
   "source": [
    "### Gas Network"
   ]
  },
  {
   "cell_type": "code",
   "execution_count": null,
   "id": "4da60411-c07b-44a4-8849-c5774f9629db",
   "metadata": {},
   "outputs": [],
   "source": [
    "from shapely import wkt"
   ]
  },
  {
   "cell_type": "code",
   "execution_count": null,
   "id": "09fcb254-b12a-403f-89cf-05af0dce3575",
   "metadata": {},
   "outputs": [],
   "source": [
    "import sys\n",
    "path = \"../../../playgrounds/pr/pypsa-eur-sec/\"\n",
    "sys.path.append(path + \"scripts/\")\n",
    "from build_gas_input_locations import build_gas_input_locations, load_bus_regions"
   ]
  },
  {
   "cell_type": "code",
   "execution_count": null,
   "id": "02a30a3b-9ee0-4011-931b-b43fe0b303d5",
   "metadata": {},
   "outputs": [],
   "source": [
    "lng_fn = path + \"data/gas_network/scigrid-gas/data/IGGIELGN_LNGs.geojson\"\n",
    "entry_fn = path + \"data/gas_network/scigrid-gas/data/IGGIELGN_BorderPoints.geojson\"\n",
    "prod_fn = path + \"data/gas_network/scigrid-gas/data/IGGIELGN_Productions.geojson\"\n",
    "planned_lng_fn = path + \"data/gas_network/planned_LNGs.csv\"\n",
    "\n",
    "regions_onshore=path + \"../pypsa-eur/resources/regions_onshore_elec_s_181.geojson\"\n",
    "regions_offshore= path + \"../pypsa-eur/resources/regions_offshore_elec_s_181.geojson\""
   ]
  },
  {
   "cell_type": "code",
   "execution_count": null,
   "id": "ce516e26-e2be-40aa-8b1f-5f0bb3415926",
   "metadata": {},
   "outputs": [],
   "source": [
    "regions = load_bus_regions(\n",
    "    regions_onshore,\n",
    "    regions_offshore\n",
    ")\n",
    "\n",
    "# add a buffer to eastern countries because some\n",
    "# entry points are still in Russian or Ukrainian territory.\n",
    "buffer = 9000 # meters\n",
    "eastern_countries = ['FI', 'EE', 'LT', 'LV', 'PL', 'SK', 'HU', 'RO']\n",
    "add_buffer_b = regions.index.str[:2].isin(eastern_countries)\n",
    "regions.loc[add_buffer_b] = regions[add_buffer_b].to_crs(3035).buffer(buffer).to_crs(4326)\n",
    "\n",
    "countries = regions.index.str[:2].unique().str.replace(\"GB\", \"UK\")"
   ]
  },
  {
   "cell_type": "code",
   "execution_count": null,
   "id": "050835d8-a4eb-402d-8692-069c67de8129",
   "metadata": {},
   "outputs": [],
   "source": [
    "pts = build_gas_input_locations(\n",
    "    lng_fn,\n",
    "    planned_lng_fn,\n",
    "    entry_fn,\n",
    "    prod_fn,\n",
    "    countries,\n",
    ")"
   ]
  },
  {
   "cell_type": "code",
   "execution_count": null,
   "id": "f881862a-383e-4296-9d1d-04ed762bf0ad",
   "metadata": {},
   "outputs": [],
   "source": [
    "sums = pts.groupby('type').p_nom.sum()\n",
    "\n",
    "for t in ['lng', 'production', 'pipeline']:\n",
    "    pts.loc[pts['type'] == t, \"p_nom\"] /= sums[t]"
   ]
  },
  {
   "cell_type": "code",
   "execution_count": null,
   "id": "290ae1c4-8879-45aa-b4f8-229869b05f9d",
   "metadata": {},
   "outputs": [],
   "source": [
    "pts[\"type\"] = pts[\"type\"].replace(dict(production='Fossil Extraction', lng='LNG Terminal', pipeline=\"Entrypoint\"))"
   ]
  },
  {
   "cell_type": "code",
   "execution_count": null,
   "id": "d4738e3b-a45e-4494-8f12-aa2a3951f4c6",
   "metadata": {},
   "outputs": [],
   "source": [
    "df = pd.read_csv(path + \"resources/gas_network.csv\", index_col=0)\n",
    "for col in [\"geometry\"]:\n",
    "    df[col] = df[col].apply(wkt.loads)\n",
    "\n",
    "df = gpd.GeoDataFrame(df, geometry=\"geometry\", crs=\"EPSG:4326\")"
   ]
  },
  {
   "cell_type": "code",
   "execution_count": null,
   "id": "92ddd252-a764-4cda-9248-52a6db862708",
   "metadata": {
    "tags": []
   },
   "outputs": [],
   "source": [
    "crs = ccrs.AlbersEqualArea()\n",
    "\n",
    "df = df.to_crs(crs.proj4_init)\n",
    "pts = pts.to_crs(crs.proj4_init)\n",
    "\n",
    "fig, ax = plt.subplots(figsize=(9.5,9.5), subplot_kw={\"projection\": crs})\n",
    "\n",
    "ax.add_feature(cartopy.feature.COASTLINE.with_scale(\"50m\"), linewidth=0.2, zorder=2) \n",
    "ax.add_feature(cartopy.feature.BORDERS.with_scale(\"50m\"), linewidth=0.2, zorder=2)\n",
    "\n",
    "df.plot(\n",
    "    ax=ax,\n",
    "    column=df['p_nom'].div(1e3),\n",
    "    linewidths=df['p_nom'].clip(upper=50e3).div(2e4),\n",
    "    cmap=\"Spectral_r\",\n",
    "    vmax=60,\n",
    "    legend=True,\n",
    "    legend_kwds=dict(label=\"Gas Pipeline Capacity [GW]\", shrink=0.7, extend='max')\n",
    ")\n",
    "\n",
    "pts.plot(\n",
    "    ax=ax,\n",
    "    column='type',\n",
    "    markersize=pts['p_nom'] * 300,\n",
    "    legend=True,\n",
    ")\n",
    "\n",
    "\n",
    "plt.gca().outline_patch.set_visible(False)\n",
    "ax.set_facecolor('white')\n",
    "plt.savefig(output + \"/gas_network.pdf\", bbox_inches='tight')"
   ]
  },
  {
   "cell_type": "code",
   "execution_count": null,
   "id": "61c7ac71-266d-4d4d-aa81-1a4332e443ac",
   "metadata": {},
   "outputs": [],
   "source": []
  },
  {
   "cell_type": "code",
   "execution_count": null,
   "id": "2d98b4dd-755b-422e-a20b-14d9b4f7edf6",
   "metadata": {},
   "outputs": [],
   "source": []
  }
 ],
 "metadata": {
  "kernelspec": {
   "display_name": "Python 3 (ipykernel)",
   "language": "python",
   "name": "python3"
  },
  "language_info": {
   "codemirror_mode": {
    "name": "ipython",
    "version": 3
   },
   "file_extension": ".py",
   "mimetype": "text/x-python",
   "name": "python",
   "nbconvert_exporter": "python",
   "pygments_lexer": "ipython3",
   "version": "3.9.7"
  }
 },
 "nbformat": 4,
 "nbformat_minor": 5
}
