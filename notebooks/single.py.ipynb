{
 "cells": [
  {
   "cell_type": "code",
   "execution_count": null,
   "id": "3868a428-11ed-47fc-9a37-84e96a8aeef8",
   "metadata": {
    "tags": []
   },
   "outputs": [],
   "source": [
    "import pypsa\n",
    "import yaml\n",
    "import pandas as pd\n",
    "import numpy as np\n",
    "import geopandas as gpd\n",
    "import xarray as xr\n",
    "import cartopy.crs as ccrs\n",
    "import cartopy\n",
    "import sys\n",
    "\n",
    "import matplotlib.pyplot as plt\n",
    "from matplotlib.lines import Line2D\n",
    "import matplotlib.dates as mdates\n",
    "import matplotlib.colors as mcolors\n",
    "import matplotlib.ticker as ticker\n",
    "\n",
    "import multiprocessing as mp\n",
    "from itertools import product\n",
    "\n",
    "from sklearn.decomposition import PCA\n",
    "from sklearn.preprocessing import StandardScaler\n",
    "\n",
    "from matplotlib.patches import Circle, Patch\n",
    "from matplotlib.legend_handler import HandlerPatch\n",
    "from pypsa.plot import projected_area_factor\n",
    "\n",
    "from pypsa.descriptors import get_switchable_as_dense as as_dense\n",
    "\n",
    "path = \"../../../playgrounds/pr/pypsa-eur-sec/\"\n",
    "sys.path.append(path + \"scripts/\")\n",
    "from plot_summary import rename_techs\n",
    "from plot_network import make_legend_circles_for, assign_location\n",
    "from helper import override_component_attrs\n",
    "\n",
    "plt.style.use(['bmh', 'matplotlibrc'])\n",
    "xr.set_options(display_style='html')\n",
    "import os\n",
    "\n",
    "%matplotlib inline"
   ]
  },
  {
   "cell_type": "code",
   "execution_count": null,
   "id": "52c00bcd-dc0f-4a03-af40-2d0fe2c8d3b5",
   "metadata": {},
   "outputs": [],
   "source": [
    "path = \"../../../playgrounds/pr/\"\n",
    "clusters = 181\n",
    "scenario = f\"elec_s_{clusters}_lv1.25__Co2L0-3H-T-H-B-I-A-solar+p3-linemaxext10_2030\"\n",
    "OVERRIDES = path + \"pypsa-eur-sec/data/override_component_attrs\"\n",
    "\n",
    "output_resources = \"../results/graphics\"\n",
    "output = f\"{output_resources}/{scenario}\"\n",
    "resources = \"resources\" # \"20211007-resources\"\n",
    "run = \"20211218-181-lv\""
   ]
  },
  {
   "cell_type": "code",
   "execution_count": null,
   "id": "622c90a8-f9b8-4183-b6ad-e1db6a0ffe43",
   "metadata": {},
   "outputs": [],
   "source": [
    "if not os.path.exists(output):\n",
    "    os.mkdir(output)"
   ]
  },
  {
   "cell_type": "code",
   "execution_count": null,
   "id": "6fb7d802-eb4f-4198-8bd7-6f06de490a0c",
   "metadata": {},
   "outputs": [],
   "source": [
    "with open(path + \"pypsa-eur-sec/config.yaml\") as file:\n",
    "    config = yaml.safe_load(file)"
   ]
  },
  {
   "cell_type": "code",
   "execution_count": null,
   "id": "e1ae9a0b-00e6-4fe8-83e9-00f2a27cfb64",
   "metadata": {},
   "outputs": [],
   "source": [
    "tech_colors = config[\"plotting\"][\"tech_colors\"]"
   ]
  },
  {
   "cell_type": "code",
   "execution_count": null,
   "id": "32c63fdf-3558-4dad-b1d5-aec6f7934dd6",
   "metadata": {},
   "outputs": [],
   "source": [
    "# shapes\n",
    "nodes = gpd.read_file(path + f\"pypsa-eur/{resources}/regions_onshore_elec_s_{clusters}.geojson\").set_index('name')\n",
    "offnodes = gpd.read_file(path + f\"pypsa-eur/{resources}/regions_offshore_elec_s_{clusters}.geojson\").set_index('name')\n",
    "cts = gpd.read_file(path + f\"pypsa-eur/{resources}/country_shapes.geojson\").set_index('name')\n",
    "\n",
    "regions = pd.concat([\n",
    "    gpd.read_file(path + f\"pypsa-eur/{resources}/regions_onshore.geojson\"),\n",
    "    gpd.read_file(path + f\"pypsa-eur/{resources}/regions_offshore.geojson\")\n",
    "])\n",
    "regions = regions.dissolve('name') \n",
    "onregions = gpd.read_file(path + f\"pypsa-eur/{resources}/regions_onshore.geojson\").set_index('name')\n",
    "offregions = gpd.read_file(path + f\"pypsa-eur/{resources}/regions_onshore.geojson\").set_index('name')\n",
    "regions[\"Area\"] = regions.to_crs(epsg=3035).area.div(1e6)\n",
    "onregions[\"Area\"] = onregions.to_crs(epsg=3035).area.div(1e6)\n",
    "offregions[\"Area\"] = offregions.to_crs(epsg=3035).area.div(1e6)"
   ]
  },
  {
   "cell_type": "code",
   "execution_count": null,
   "id": "9df4a814-45cf-4706-b4ac-d4056ecfcc25",
   "metadata": {},
   "outputs": [],
   "source": [
    "europe_shape = nodes.dissolve()\n",
    "europe_shape.index = [\"EU\"]"
   ]
  },
  {
   "cell_type": "code",
   "execution_count": null,
   "id": "f0635d35-68f1-47fd-86e6-7bcc10eb25c4",
   "metadata": {},
   "outputs": [],
   "source": [
    "minx, miny, maxx, maxy = europe_shape.explode(ignore_index=True).total_bounds\n",
    "BOUNDARIES = [minx, maxx-4, miny, maxy]"
   ]
  },
  {
   "cell_type": "code",
   "execution_count": null,
   "id": "8570150a-ea32-4e8a-9599-3b05c28cf935",
   "metadata": {},
   "outputs": [],
   "source": [
    "overrides = override_component_attrs(OVERRIDES)\n",
    "n = pypsa.Network(\n",
    "    f\"{path}/pypsa-eur-sec/results/{run}/postnetworks/{scenario}.nc\",\n",
    "    override_component_attrs=overrides\n",
    ")"
   ]
  },
  {
   "cell_type": "code",
   "execution_count": null,
   "id": "49dcc78f-c79c-4f79-a658-295189336a43",
   "metadata": {},
   "outputs": [],
   "source": [
    "GAS_NETWORK = \"gas pipeline\" in n.links.carrier.unique()"
   ]
  },
  {
   "cell_type": "markdown",
   "id": "df8ac2f5-4bfc-4cf3-94b6-6fbaa131712e",
   "metadata": {
    "jp-MarkdownHeadingCollapsed": true,
    "tags": []
   },
   "source": [
    "## Playgrounds"
   ]
  },
  {
   "cell_type": "markdown",
   "id": "51b7a780-c45f-4a5c-88d2-ad5cfd06a62b",
   "metadata": {},
   "source": [
    "## Utilities"
   ]
  },
  {
   "cell_type": "code",
   "execution_count": null,
   "id": "a13d0fc8-06f1-47d4-a3e7-a178edbf42c7",
   "metadata": {},
   "outputs": [],
   "source": [
    "class HandlerCircle(HandlerPatch):\n",
    "    \"\"\"\n",
    "    Legend Handler used to create circles for legend entries. \n",
    "    \n",
    "    This handler resizes the circles in order to match the same dimensional \n",
    "    scaling as in the applied axis.\n",
    "    \"\"\"\n",
    "    def create_artists(\n",
    "        self, legend, orig_handle, xdescent, ydescent, width, height, fontsize, trans\n",
    "    ):\n",
    "        fig = legend.get_figure()\n",
    "        ax = legend.axes\n",
    "\n",
    "        unit = np.diff(ax.transData.transform([(0, 0), (1, 1)]), axis=0)[0][1]\n",
    "        # Note: the factor 55 is derived emprically!\n",
    "        radius = orig_handle.get_radius() * unit * (72 / fig.dpi)\n",
    "        center = 5 - xdescent, 3 - ydescent\n",
    "        p = plt.Circle(center, radius)\n",
    "        self.update_prop(p, orig_handle, legend)\n",
    "        p.set_transform(trans)\n",
    "        return [p]\n",
    "\n",
    "def add_legend_circles(ax, sizes, labels, scale=1, srid=None, patch_kw={}, legend_kw={}):\n",
    "    \n",
    "    if srid is not None:\n",
    "        area_correction = projected_area_factor(ax, n.srid)**2 \n",
    "        sizes = [s * area_correction for s in sizes]\n",
    "    \n",
    "    handles = make_legend_circles_for(sizes, scale, **patch_kw)\n",
    "    \n",
    "    legend = ax.legend(\n",
    "        handles, labels,\n",
    "        handler_map={Circle: HandlerCircle()},\n",
    "        **legend_kw\n",
    "    )\n",
    "\n",
    "    ax.add_artist(legend)\n",
    "    \n",
    "\n",
    "def add_legend_lines(ax, sizes, labels, scale=1, patch_kw={}, legend_kw={}):\n",
    "    \n",
    "    handles = [Line2D([0], [0], linewidth=s/scale, **patch_kw) for s in sizes]\n",
    "    \n",
    "    legend = ax.legend(handles, labels, **legend_kw)\n",
    "    \n",
    "    ax.add_artist(legend)\n",
    "    \n",
    "    \n",
    "def add_legend_patch(ax, colors, labels, patch_kw={}, legend_kw={}):\n",
    "    \n",
    "    handles = [Patch(facecolor=c, **patch_kw) for c in colors]\n",
    "    \n",
    "    legend = ax.legend(handles, labels, **legend_kw)\n",
    "    \n",
    "    ax.add_artist(legend)"
   ]
  },
  {
   "cell_type": "code",
   "execution_count": null,
   "id": "cde6c898-c123-4c10-9538-645156c9e6ec",
   "metadata": {},
   "outputs": [],
   "source": [
    "def nodal_balance(n, carrier, time=slice(None), aggregate=None, energy=True):\n",
    "\n",
    "    one_port_data = {}\n",
    "\n",
    "    for c in n.iterate_components(n.one_port_components):\n",
    "\n",
    "        df = c.df[c.df.bus.map(n.buses.carrier) == carrier]\n",
    "\n",
    "        if df.empty: continue\n",
    "\n",
    "        s = c.pnl.p.loc[time, df.index] * df.sign\n",
    "\n",
    "        s = s.groupby([df.bus.map(n.buses.location), df.carrier], axis=1).sum()\n",
    "\n",
    "        one_port_data[c.list_name] = s\n",
    "\n",
    "    branch_data = {}\n",
    "\n",
    "    for c in n.iterate_components(n.branch_components):\n",
    "        for col in c.df.columns[c.df.columns.str.startswith('bus')]:\n",
    "\n",
    "            end = col[3:]\n",
    "\n",
    "            df = c.df[c.df[col].map(n.buses.carrier) == carrier]\n",
    "\n",
    "            if df.empty: continue\n",
    "\n",
    "            s = - c.pnl[f\"p{end}\"].loc[time, df.index]\n",
    "\n",
    "            s = s.groupby([df[col].map(n.buses.location), df.carrier], axis=1).sum()\n",
    "\n",
    "            branch_data[(c.list_name, end)] = s\n",
    "\n",
    "    \n",
    "    branch_balance = pd.concat(branch_data).stack(level=[0,1]).unstack(level=1).sum(axis=1)\n",
    "    one_port_balance = pd.concat(one_port_data).stack(level=[0,1])\n",
    "\n",
    "    balance = pd.concat([one_port_balance, branch_balance])\n",
    "    \n",
    "    if energy:\n",
    "        balance = balance.unstack('snapshot').mul(n.snapshot_weightings.generators).stack()\n",
    "    \n",
    "    if aggregate is not None:\n",
    "        balance = balance.unstack(aggregate).sum(axis=1)\n",
    "        \n",
    "    return balance"
   ]
  },
  {
   "cell_type": "markdown",
   "id": "9d20fceb-dd51-424f-8e42-dae87b8c3617",
   "metadata": {},
   "source": [
    "## Gini, Lorenz, Equity"
   ]
  },
  {
   "cell_type": "code",
   "execution_count": null,
   "id": "bfda854f-c07a-429b-aba0-6e65f5aeb11b",
   "metadata": {},
   "outputs": [],
   "source": [
    "def cumulative_share(n, carrier, sortby='supply/demand'):\n",
    "    \n",
    "    to_drop = [\n",
    "        \"AC\",\n",
    "        \"DC\",\n",
    "        \"H2 pipeline\",\n",
    "        \"gas pipeline\",\n",
    "        \"gas pipeline new\",\n",
    "        \"H2 pipeline retrofitted\"\n",
    "    ]\n",
    "    \n",
    "    balance = nodal_balance(n, carrier, aggregate=[\"snapshot\"])  \n",
    "\n",
    "    #balance = balance.droplevel(0).unstack('carrier')\n",
    "    balance = balance.groupby(['bus', 'carrier']).sum().unstack('carrier')\n",
    "    balance.drop(balance.columns.intersection(to_drop), axis=1, inplace=True)\n",
    "\n",
    "    supply = balance.where(balance>0).sum(axis=1)\n",
    "    demand = -balance.where(balance<0).sum(axis=1)\n",
    "\n",
    "    supply /= supply.sum() / 100\n",
    "    demand /= demand.sum() / 100\n",
    "\n",
    "    df = pd.concat({\"supply\": supply, \"demand\": demand}, axis=1)\n",
    "    \n",
    "    df[\"sortby\"] = df.eval(sortby)\n",
    "\n",
    "    df.sort_values(by='sortby', inplace=True)\n",
    "    \n",
    "    df.drop(\"sortby\", axis=1, inplace=True)\n",
    "    \n",
    "    lead = pd.DataFrame({'supply': [0], 'demand': [0]})\n",
    "    \n",
    "    df = pd.concat([lead, df])\n",
    "\n",
    "    return df.cumsum()"
   ]
  },
  {
   "cell_type": "code",
   "execution_count": null,
   "id": "6fac7646-f19f-4deb-89b9-e26f62078f1a",
   "metadata": {},
   "outputs": [],
   "source": [
    "def plot_lorenz(n, carriers, sortby='supply/demand', fn=None):\n",
    "\n",
    "    fig, ax = plt.subplots(figsize=(3.5,3.5))\n",
    "\n",
    "    linspace = np.linspace(0,100,100)\n",
    "    plt.plot(linspace, linspace, c='darkgrey', linestyle=':', linewidth=1)\n",
    "\n",
    "    nice_names = {\n",
    "        \"AC\": \"electricity\",\n",
    "        \"H2\": \"hydrogen\",\n",
    "        \"gas\": \"methane\",\n",
    "    }\n",
    "\n",
    "    for carrier in carriers:\n",
    "        df = cumulative_share(n, carrier, sortby)\n",
    "        plt.plot(\n",
    "            df.demand,\n",
    "            df.supply,\n",
    "            label=nice_names[carrier],\n",
    "            color=tech_colors[nice_names[carrier]]\n",
    "        )\n",
    "\n",
    "    plt.xlabel(f\"Cumulative Share of Demand [%]\")\n",
    "    plt.ylabel(f\"Cumulative Share of Supply [%]\")\n",
    "    plt.ylim(-1,101)\n",
    "    plt.xlim(-1,101)\n",
    "    plt.legend()\n",
    "    \n",
    "    if fn is None:\n",
    "        plt.savefig(f\"{output}/lorenz.pdf\", bbox_inches='tight')"
   ]
  },
  {
   "cell_type": "code",
   "execution_count": null,
   "id": "23f4e1e8-712d-4682-86bf-fe7d2ffc72c0",
   "metadata": {},
   "outputs": [],
   "source": [
    "carriers = [\"AC\", \"H2\", \"gas\"] if GAS_NETWORK else [\"AC\", \"H2\"]\n",
    "plot_lorenz(n, carriers=carriers, sortby='supply/demand')"
   ]
  },
  {
   "cell_type": "markdown",
   "id": "c04fe3c2-b905-45ae-b948-77b56cfee8d2",
   "metadata": {},
   "source": [
    "## Nodal price duration curve"
   ]
  },
  {
   "cell_type": "code",
   "execution_count": null,
   "id": "7f4254b4-4317-404c-a0c0-6564511f0859",
   "metadata": {},
   "outputs": [],
   "source": [
    "carriers = [\n",
    "    'AC',\n",
    "    'H2',\n",
    "    'residential rural heat',\n",
    "    'services rural heat',\n",
    "    'residential urban decentral heat',\n",
    "    'services urban decentral heat',\n",
    "    'urban central heat',\n",
    "    'low voltage'\n",
    "]\n",
    "\n",
    "if GAS_NETWORK:\n",
    "    carriers.append(\"gas\")"
   ]
  },
  {
   "cell_type": "code",
   "execution_count": null,
   "id": "d2ff03a6-a5ad-4562-ab9b-c1c960a899b2",
   "metadata": {},
   "outputs": [],
   "source": [
    "def plot_price_duration_curve(carrier):\n",
    "\n",
    "    df = n.buses_t.marginal_price.loc[:,n.buses.carrier==carrier]\n",
    "\n",
    "    df = df.stack()\n",
    "\n",
    "    to_plot = df.sort_values(ascending=False).reset_index(drop=True)\n",
    "\n",
    "    to_plot.index = [i / len(df) * 100 for i in to_plot.index]\n",
    "\n",
    "    fig, ax = plt.subplots(figsize=(4,2.5))\n",
    "    to_plot.plot(\n",
    "        ax=ax,\n",
    "    )\n",
    "    plt.xlabel(\"share of snapshots and nodes [%]\")\n",
    "    plt.ylabel(\"nodal price [EUR/MWh]\")\n",
    "    plt.axvline(0, linewidth=0.5, linestyle=':', color='grey')\n",
    "    plt.axvline(100, linewidth=0.5, linestyle=':', color='grey')\n",
    "    plt.axhline(0, linewidth=0.5, linestyle=':', color='grey')\n",
    "\n",
    "    if carrier == 'H2':\n",
    "        title = 'Hydrogen'\n",
    "        plt.ylim([-20, 350])\n",
    "    elif carrier == 'AC':\n",
    "        title = \"Electricity\"\n",
    "        plt.ylim([-100, 1000])\n",
    "    else:\n",
    "        title = carrier\n",
    "\n",
    "    plt.title(title, fontsize=12, color='#343434')\n",
    "    plt.savefig(f\"{output}/price-duration-{carrier}.pdf\", bbox_inches='tight')\n",
    "    \n",
    "    plt.close()"
   ]
  },
  {
   "cell_type": "code",
   "execution_count": null,
   "id": "1fea23f3-2ef9-449e-8c1e-2d52e0d2c75b",
   "metadata": {},
   "outputs": [],
   "source": [
    "for carrier in carriers:\n",
    "    plot_price_duration_curve(carrier)"
   ]
  },
  {
   "cell_type": "markdown",
   "id": "695a66b5-4c28-4567-8289-9225d16115ef",
   "metadata": {
    "tags": []
   },
   "source": [
    "## Maps: Flow Patterns"
   ]
  },
  {
   "cell_type": "code",
   "execution_count": null,
   "id": "885d98eb-d0bd-4e3b-aed2-082f49c968c4",
   "metadata": {},
   "outputs": [],
   "source": [
    "def plot_h2_flow(\n",
    "    network,\n",
    "    min_energy=2e6, # MWh net transported\n",
    "    bus_sizes=0,\n",
    "    fn=None\n",
    "):\n",
    "    \n",
    "    crs = ccrs.EqualEarth()\n",
    "\n",
    "    n = network.copy()\n",
    "    if \"H2 pipeline\" not in n.links.carrier.unique():\n",
    "        return\n",
    "\n",
    "    assign_location(n)\n",
    "\n",
    "    bus_size_factor = 4e5\n",
    "    linewidth_factor = 15e5\n",
    "    # MW below which not drawn\n",
    "    line_lower_threshold = 1e2\n",
    "    bus_color = tech_colors[\"H2 Electrolysis\"]\n",
    "    link_color = \"c\"\n",
    "\n",
    "    # Drop non-electric buses so they don't clutter the plot\n",
    "    n.buses.drop(n.buses.index[n.buses.carrier != \"AC\"], inplace=True)\n",
    "\n",
    "    n.mremove(\"Link\", n.links[~n.links.carrier.str.contains(\"H2 pipeline\")].index)\n",
    "\n",
    "    n.links.bus0 = n.links.bus0.str.replace(\" H2\", \"\")\n",
    "    n.links.bus1 = n.links.bus1.str.replace(\" H2\", \"\")\n",
    "\n",
    "    n.links[\"flow\"] = n.snapshot_weightings.generators @ n.links_t.p0\n",
    "\n",
    "    positive_order = n.links.bus0 < n.links.bus1\n",
    "    swap_buses = {\"bus0\": \"bus1\", \"bus1\": \"bus0\"}\n",
    "    n.links.loc[~positive_order] = n.links.rename(columns=swap_buses)\n",
    "    n.links.loc[~positive_order, \"flow\"] = - n.links.loc[~positive_order, \"flow\"]\n",
    "    n.links.index = n.links.apply(lambda x: f\"H2 pipeline {x.bus0} -> {x.bus1}\", axis=1)\n",
    "    n.links = n.links.groupby(n.links.index).agg(dict(flow='sum', bus0='first', bus1='first', carrier='first', p_nom_opt='sum'))\n",
    "\n",
    "    n.links.flow = n.links.flow.where(n.links.flow.abs() > min_energy)\n",
    "\n",
    "    fig, ax = plt.subplots(\n",
    "        figsize=(7, 6),\n",
    "        subplot_kw={\"projection\": crs}\n",
    "    )\n",
    "\n",
    "    n.plot(\n",
    "        bus_sizes=bus_sizes,\n",
    "        bus_colors={\"electrolysis\": bus_color} if isinstance(bus_sizes, pd.Series) else bus_color,\n",
    "        link_colors=link_color,\n",
    "        projection=crs,\n",
    "        branch_components=[\"Link\"],\n",
    "        ax=ax,\n",
    "        geomap=True,\n",
    "        flow=pd.concat({\"Link\": n.links.flow.div(linewidth_factor)})\n",
    "    )\n",
    "    \n",
    "    colors = [link_color]\n",
    "    labels = [\"Hydrogen network\"]\n",
    "    add_legend_patch(ax, colors, labels,\n",
    "                     patch_kw=dict(edgecolor='k'),\n",
    "                     legend_kw=dict(loc='upper left'))\n",
    "    \n",
    "    if fn is not None:\n",
    "        plt.savefig(fn, bbox_inches='tight')"
   ]
  },
  {
   "cell_type": "code",
   "execution_count": null,
   "id": "13a638c1-1ecb-4c9f-b1a6-8e212cf1ecd5",
   "metadata": {},
   "outputs": [],
   "source": [
    "plot_h2_flow(n, bus_sizes=0, min_energy=0, fn=f\"{output}/h2-flow-map.pdf\")"
   ]
  },
  {
   "cell_type": "code",
   "execution_count": null,
   "id": "0225aaa3-bffc-4963-bdbc-a906ee46b39a",
   "metadata": {},
   "outputs": [],
   "source": [
    "plot_h2_flow(n, min_energy=10e6, bus_sizes=0, fn=f\"{output}/h2-flow-map-backbone.pdf\")"
   ]
  },
  {
   "cell_type": "code",
   "execution_count": null,
   "id": "32336878-6146-41e1-84f3-c06f79274b8f",
   "metadata": {},
   "outputs": [],
   "source": [
    "def plot_gas_flow(\n",
    "    network,\n",
    "    min_energy=2e6, # MWh net transported\n",
    "    max_energy=100e6,\n",
    "    bus_sizes=0,\n",
    "    fn=None\n",
    "):\n",
    "    \n",
    "    crs = ccrs.EqualEarth()\n",
    "\n",
    "    n = network.copy()\n",
    "    if \"gas pipeline\" not in n.links.carrier.unique():\n",
    "        return\n",
    "\n",
    "    assign_location(n)\n",
    "\n",
    "    bus_size_factor = 4e5\n",
    "    linewidth_factor = 15e5\n",
    "    # MW below which not drawn\n",
    "    line_lower_threshold = 1e2\n",
    "    bus_color = tech_colors[\"H2 Electrolysis\"]\n",
    "    link_color = \"indianred\"\n",
    "\n",
    "    # Drop non-electric buses so they don't clutter the plot\n",
    "    n.buses.drop(n.buses.index[n.buses.carrier != \"AC\"], inplace=True)\n",
    "\n",
    "    n.mremove(\"Link\", n.links[~n.links.carrier.str.contains(\"gas pipeline\")].index)\n",
    "\n",
    "    n.links.bus0 = n.links.bus0.str.replace(\" gas\", \"\")\n",
    "    n.links.bus1 = n.links.bus1.str.replace(\" gas\", \"\")\n",
    "\n",
    "    n.links[\"flow\"] = n.snapshot_weightings.generators @ n.links_t.p0\n",
    "\n",
    "    positive_order = n.links.bus0 < n.links.bus1\n",
    "    swap_buses = {\"bus0\": \"bus1\", \"bus1\": \"bus0\"}\n",
    "    n.links.loc[~positive_order] = n.links.rename(columns=swap_buses)\n",
    "    n.links.loc[~positive_order, \"flow\"] = - n.links.loc[~positive_order, \"flow\"]\n",
    "    n.links.index = n.links.apply(lambda x: f\"gas pipeline {x.bus0} -> {x.bus1}\", axis=1)\n",
    "    n.links = n.links.groupby(n.links.index).agg(dict(flow='sum', bus0='first', bus1='first', carrier='first', p_nom_opt='sum'))\n",
    "\n",
    "    n.links.flow = n.links.flow.where(n.links.flow.abs() > min_energy)\n",
    "    \n",
    "    n.links.flow = n.links.flow.clip(upper=max_energy)\n",
    "    \n",
    "    print(n.links.flow.abs().max())\n",
    "\n",
    "    fig, ax = plt.subplots(\n",
    "        figsize=(7, 6),\n",
    "        subplot_kw={\"projection\": crs}\n",
    "    )\n",
    "\n",
    "    n.plot(\n",
    "        bus_sizes=bus_sizes,\n",
    "        bus_colors={\"electrolysis\": bus_color} if isinstance(bus_sizes, pd.Series) else bus_color,\n",
    "        link_colors=link_color,\n",
    "        projection=crs,\n",
    "        branch_components=[\"Link\"],\n",
    "        ax=ax,\n",
    "        geomap=True,\n",
    "        flow=pd.concat({\"Link\": n.links.flow.div(linewidth_factor)})\n",
    "    )\n",
    "    \n",
    "    colors = [link_color]\n",
    "    labels = [\"Gas network\"]\n",
    "    add_legend_patch(ax, colors, labels,\n",
    "                     patch_kw=dict(edgecolor='k'),\n",
    "                     legend_kw=dict(loc='upper left'))\n",
    "    \n",
    "    if fn is not None:\n",
    "        plt.savefig(fn, bbox_inches='tight')"
   ]
  },
  {
   "cell_type": "code",
   "execution_count": null,
   "id": "d544bc00-4d72-4912-a361-b961045b4ddf",
   "metadata": {},
   "outputs": [],
   "source": [
    "plot_gas_flow(n, bus_sizes=0, min_energy=0, max_energy=100e6, fn=f\"{output}/gas-flow-map.pdf\")"
   ]
  },
  {
   "cell_type": "code",
   "execution_count": null,
   "id": "13418add-21e5-4048-88a3-8fd01c2087d6",
   "metadata": {},
   "outputs": [],
   "source": [
    "plot_gas_flow(n, bus_sizes=0, min_energy=10e6, max_energy=100e6, fn=f\"{output}/gas-flow-map-backbone.pdf\")"
   ]
  },
  {
   "cell_type": "code",
   "execution_count": null,
   "id": "116272ab-dcf7-4888-825b-0693b79ce0d8",
   "metadata": {},
   "outputs": [],
   "source": [
    "def plot_elec_flow(\n",
    "    network,\n",
    "    min_energy=2e6, # MWh\n",
    "    fn=None\n",
    "):\n",
    "    \n",
    "    crs = ccrs.EqualEarth()\n",
    "\n",
    "    n = network.copy()\n",
    "\n",
    "    assign_location(n)\n",
    "\n",
    "    # bus_size_factor = 1e5\n",
    "\n",
    "    # Drop non-electric buses so they don't clutter the plot\n",
    "    n.buses.drop(n.buses.index[n.buses.carrier != \"AC\"], inplace=True)\n",
    "\n",
    "    n.mremove(\"Link\", n.links.index[n.links.carrier != \"DC\"])\n",
    "\n",
    "    fig, ax = plt.subplots(\n",
    "        figsize=(7, 6),\n",
    "        subplot_kw={\"projection\": crs}\n",
    "    )\n",
    "    \n",
    "    link_flow = n.snapshot_weightings.generators @ n.links_t.p0\n",
    "    line_flow = n.snapshot_weightings.generators @ n.lines_t.p0\n",
    "    \n",
    "    link_flow = link_flow.where(link_flow.abs() > min_energy)\n",
    "    line_flow = line_flow.where(line_flow.abs() > min_energy)\n",
    "\n",
    "    n.plot(\n",
    "        branch_components=[\"Line\", \"Link\"],\n",
    "        ax=ax,\n",
    "        geomap=True,\n",
    "        bus_sizes=0,\n",
    "        flow=pd.concat({\n",
    "            \"Link\": link_flow.div(4e5),\n",
    "            \"Line\": line_flow.div(4e5)\n",
    "        }, axis=0)\n",
    "    )\n",
    "    \n",
    "    colors = ['rosybrown', 'darkseagreen']\n",
    "    labels = [\"HVAC lines\", \"HVDC links\"]\n",
    "    add_legend_patch(ax, colors, labels,\n",
    "                     patch_kw=dict(edgecolor='k'),\n",
    "                     legend_kw=dict(loc='upper left'))\n",
    "    \n",
    "    if fn is not None:\n",
    "        plt.savefig(fn, bbox_inches='tight')"
   ]
  },
  {
   "cell_type": "code",
   "execution_count": null,
   "id": "8f9ec456-fd3b-4220-9400-f2e3ead3006b",
   "metadata": {},
   "outputs": [],
   "source": [
    "plot_elec_flow(n, min_energy=0, fn=f\"{output}/elec-flow-map.pdf\")"
   ]
  },
  {
   "cell_type": "code",
   "execution_count": null,
   "id": "aea45902-b56a-44df-8017-5a194650f69e",
   "metadata": {},
   "outputs": [],
   "source": [
    "plot_elec_flow(n, min_energy=10e6, fn=f\"{output}/elec-flow-map-backbone.pdf\")"
   ]
  },
  {
   "cell_type": "markdown",
   "id": "7ca6889a-e1a9-4e48-9f33-9f85a2f690cc",
   "metadata": {},
   "source": [
    "## Maps: Curtailment and Line Loading"
   ]
  },
  {
   "cell_type": "code",
   "execution_count": null,
   "id": "9bb8a2ce-0dc7-41db-ac3b-8b2ce0b6df61",
   "metadata": {},
   "outputs": [],
   "source": [
    "def congestion_frequency(n, c):\n",
    "    pnl = n.pnl(c)\n",
    "    return n.snapshot_weightings.generators @ (\n",
    "        pnl.mu_upper.applymap(lambda x: x > 1) |\n",
    "        pnl.mu_lower.applymap(lambda x: x > 1)\n",
    "    )"
   ]
  },
  {
   "cell_type": "code",
   "execution_count": null,
   "id": "844d7abf-591b-472e-aafb-f4b5d2b33bf4",
   "metadata": {},
   "outputs": [],
   "source": [
    "def congestion_rent(n, c):\n",
    "    df = n.df(c)\n",
    "    pnl = n.pnl(c)\n",
    "\n",
    "    lmp = n.buses_t.marginal_price\n",
    "    lmp0 = lmp.reindex(columns=df.bus0).T.reset_index(drop=True)\n",
    "    lmp1 = lmp.reindex(columns=df.bus1).T.reset_index(drop=True)\n",
    "    lmp_diff = (lmp0 - lmp1).abs().T\n",
    "    lmp_diff.columns = df.index\n",
    "\n",
    "    congestion_rent = lmp_diff * pnl.p0.abs().multiply(n.snapshot_weightings.generators, axis=0) / 1e6\n",
    "\n",
    "    return congestion_rent.sum()"
   ]
  },
  {
   "cell_type": "code",
   "execution_count": null,
   "id": "4aad3031-170e-49f6-929e-34c4bca34f00",
   "metadata": {},
   "outputs": [],
   "source": [
    "def plot_congestion_rent(network, fn=None):\n",
    "                         \n",
    "    n = network.copy()\n",
    "\n",
    "    avail = n.generators_t.p_max_pu * n.generators.p_nom_opt\n",
    "    dispatch = n.generators_t.p\n",
    "\n",
    "    curtail = n.snapshot_weightings.generators @ (avail - dispatch)\n",
    "\n",
    "    curtail = curtail.groupby([n.generators.bus.map(n.buses.location), n.generators.carrier]).sum().unstack()\n",
    "\n",
    "    carriers = {\n",
    "        \"offwind-ac\": \"Offshore Wind (AC)\",\n",
    "        \"offwind-dc\": \"Offshore Wind (DC)\",\n",
    "        \"onwind\": \"Onshore Wind\",\n",
    "        \"ror\": \"Run of River\",\n",
    "        \"solar\": \"Utility-scale Solar PV\",\n",
    "        \"solar rooftop\": \"Rooftop Solar PV\",\n",
    "    }\n",
    "    curtail = curtail[carriers.keys()].drop(\"EU\", axis=0).stack().div(1e6)\n",
    "\n",
    "    n.buses.drop(n.buses.index[n.buses.carrier != \"AC\"], inplace=True)\n",
    "    n.mremove(\"Link\", n.links.index[n.links.carrier != \"DC\"])\n",
    "\n",
    "    congestion_rent_link = congestion_rent(n, \"Link\")\n",
    "    congestion_rent_line = congestion_rent(n, \"Line\")\n",
    "    \n",
    "    cmap= plt.cm.OrRd\n",
    "    norm = mcolors.LogNorm(vmin=10, vmax=2000)\n",
    "    sm = plt.cm.ScalarMappable(cmap=cmap, norm=norm)\n",
    "    sm.set_array([])  \n",
    "\n",
    "    crs = ccrs.EqualEarth()\n",
    "\n",
    "    fig, ax = plt.subplots(\n",
    "        figsize=(7, 6),\n",
    "        subplot_kw={\"projection\": crs}\n",
    "    )\n",
    "    \n",
    "    line_colors = pd.Series(list(map(mcolors.to_hex, cmap(norm(congestion_rent_line)))), index=congestion_rent_line.index)\n",
    "    \n",
    "    link_colors = pd.Series(list(map(mcolors.to_hex, cmap(norm(congestion_rent_link)))), index=congestion_rent_link.index)\n",
    "    \n",
    "    bus_size_factor = 50\n",
    "    line_width_factor = 7e3\n",
    "\n",
    "    n.plot(\n",
    "        geomap=True,\n",
    "        ax=ax,\n",
    "        bus_sizes=curtail / bus_size_factor,\n",
    "        bus_colors=tech_colors,\n",
    "        line_colors=line_colors,\n",
    "        link_colors=link_colors,\n",
    "        line_widths=n.lines.s_nom_opt / line_width_factor,\n",
    "        link_widths=n.links.p_nom_opt / line_width_factor,\n",
    "        boundaries=BOUNDARIES,\n",
    "    )\n",
    "    \n",
    "    cbar = plt.colorbar(sm, orientation='vertical', shrink=0.7, ax=ax, label='Congestion Rent [Million €]', extend='max')\n",
    "    \n",
    "    sizes = [5, 10]\n",
    "    labels = [f\"{s} TWh\" for s in sizes]\n",
    "    add_legend_circles(ax, sizes, labels, scale=bus_size_factor, srid=n.srid,\n",
    "                       legend_kw=dict(title='Curtailment', loc=\"upper left\"),\n",
    "                       patch_kw=dict(facecolor='lightgrey', edgecolor='k'))\n",
    "\n",
    "    colors = [tech_colors[c] for c in carriers.keys()]\n",
    "    labels = carriers.values()\n",
    "    add_legend_patch(ax, colors, labels,\n",
    "                     patch_kw=dict(edgecolor='k'),\n",
    "                     legend_kw=dict(bbox_to_anchor=(1.25,1.15), ncol=3))\n",
    "    \n",
    "    if fn is None:\n",
    "        plt.savefig(f\"{output}/map_congestion.pdf\", bbox_inches='tight')"
   ]
  },
  {
   "cell_type": "code",
   "execution_count": null,
   "id": "3868c649-20bd-4c72-acb0-bba20c4f77bd",
   "metadata": {},
   "outputs": [],
   "source": [
    "plot_congestion_rent(n)"
   ]
  },
  {
   "cell_type": "code",
   "execution_count": null,
   "id": "588ca92b-b426-4507-87c0-39067da022cc",
   "metadata": {},
   "outputs": [],
   "source": [
    "def plot_line_loading(network, fn=None):\n",
    "                         \n",
    "    n = network.copy()\n",
    "\n",
    "    n.mremove(\"Bus\", n.buses.index[n.buses.carrier != \"AC\"])\n",
    "    n.mremove(\"Link\", n.links.index[n.links.carrier != \"DC\"])\n",
    "    \n",
    "    line_loading = n.lines_t.p0.abs().mean() / (n.lines.s_nom_opt * n.lines.s_max_pu) * 100\n",
    "    \n",
    "    link_loading = n.links_t.p0.abs().mean() / (n.links.p_nom_opt * n.links.p_max_pu) * 100\n",
    "\n",
    "    crs = ccrs.EqualEarth()\n",
    "\n",
    "    fig, ax = plt.subplots(\n",
    "        figsize=(7, 6),\n",
    "        subplot_kw={\"projection\": crs}\n",
    "    )\n",
    "    \n",
    "    cmap= plt.cm.OrRd\n",
    "    norm = mcolors.Normalize(vmin=0, vmax=100)\n",
    "    sm = plt.cm.ScalarMappable(cmap=cmap, norm=norm)\n",
    "    sm.set_array([])  \n",
    "\n",
    "    line_colors = pd.Series(list(map(mcolors.to_hex, cmap(norm(line_loading)))), index=line_loading.index)\n",
    "    \n",
    "    link_colors = pd.Series(list(map(mcolors.to_hex, cmap(norm(link_loading)))), index=link_loading.index)\n",
    "    \n",
    "    n.plot(\n",
    "        geomap=True,\n",
    "        ax=ax,\n",
    "        bus_sizes=0.005,\n",
    "        bus_colors='k',\n",
    "        line_colors=line_colors,\n",
    "        line_widths=n.lines.s_nom_opt / 4e3,\n",
    "        link_colors=link_colors,\n",
    "        link_widths=n.links.p_nom_opt / 4e3,\n",
    "    )\n",
    "    \n",
    "\n",
    "    cbar = plt.colorbar(sm, orientation='vertical', shrink=0.7, ax=ax, label='Average Loading / N-1 Compliant Rating [%]')\n",
    "\n",
    "    axins = ax.inset_axes([0.05, 0.8, 0.3, 0.2])\n",
    "    curve = line_loading.sort_values().reset_index(drop=True)\n",
    "    curve.index = [c / curve.size * 100 for c in curve.index]\n",
    "    curve.plot(ax=axins, ylim=(-5,105), yticks=[0,25,50,75,100], c='firebrick', linewidth=1.5)\n",
    "    axins.annotate('loading [%]', (3,83), color='darkgrey', fontsize=9)\n",
    "    axins.annotate('lines [%]', (55,7), color='darkgrey', fontsize=9)\n",
    "    axins.grid(True)\n",
    "    \n",
    "    if fn is None:\n",
    "        plt.savefig(f\"{output}/map_avg_lineloading.pdf\", bbox_inches='tight')"
   ]
  },
  {
   "cell_type": "code",
   "execution_count": null,
   "id": "ff085e7a-ef95-4395-b2b7-726c1c02c0e6",
   "metadata": {},
   "outputs": [],
   "source": [
    "plot_line_loading(n)"
   ]
  },
  {
   "cell_type": "code",
   "execution_count": null,
   "id": "af1c7744-bf7d-45f7-ae76-211d4e995880",
   "metadata": {},
   "outputs": [],
   "source": [
    "def plot_pipeline_loading(network, min_capacity=0, fn=None):\n",
    "                         \n",
    "    n = network.copy()\n",
    "\n",
    "    n.mremove(\"Bus\", n.buses.index[n.buses.carrier != \"AC\"])\n",
    "    n.mremove(\"Link\", n.links.index[~n.links.carrier.str.contains(\"H2 pipeline\")])\n",
    "    \n",
    "    n.mremove(\"Link\", n.links.index[n.links.p_nom_opt<min_capacity])\n",
    "    n.links.bus0 = n.links.bus0.str.replace(\" H2\", \"\")\n",
    "    n.links.bus1 = n.links.bus1.str.replace(\" H2\", \"\")\n",
    "    \n",
    "    link_loading = n.links_t.p0.abs().mean() / n.links.p_nom_opt * 100\n",
    "\n",
    "    crs = ccrs.EqualEarth()\n",
    "\n",
    "    fig, ax = plt.subplots(\n",
    "        figsize=(7, 6),\n",
    "        subplot_kw={\"projection\": crs}\n",
    "    )\n",
    "    \n",
    "    cmap= plt.cm.OrRd\n",
    "    norm = mcolors.Normalize(vmin=0, vmax=100)\n",
    "    sm = plt.cm.ScalarMappable(cmap=cmap, norm=norm)\n",
    "    sm.set_array([])  \n",
    "    \n",
    "    link_colors = pd.Series(list(map(mcolors.to_hex, cmap(norm(link_loading)))), index=link_loading.index)\n",
    "    \n",
    "    n.plot(\n",
    "        geomap=True,\n",
    "        ax=ax,\n",
    "        bus_sizes=0.005,\n",
    "        bus_colors='k',\n",
    "        link_colors=link_colors,\n",
    "        link_widths=n.links.p_nom_opt / 6e3,\n",
    "        branch_components=[\"Link\"],\n",
    "    )\n",
    "    \n",
    "\n",
    "    axins = ax.inset_axes([0.05, 0.8, 0.3, 0.2])\n",
    "    curve = link_loading.sort_values().reset_index(drop=True)\n",
    "    curve.index = [c / curve.size * 100 for c in curve.index]\n",
    "    curve.plot(ax=axins, ylim=(-5,105), yticks=[0,25,50,75,100], c='firebrick', linewidth=1.5)\n",
    "    axins.annotate('loading [%]', (3,83), color='darkgrey', fontsize=9)\n",
    "    axins.annotate('pipes [%]', (55,7), color='darkgrey', fontsize=9)\n",
    "    axins.grid(True)\n",
    "\n",
    "    cbar = plt.colorbar(sm, orientation='vertical', shrink=0.7, ax=ax, label='Average Loading / Pipe Capacity [%]')\n",
    "\n",
    "    if fn is None:\n",
    "        plt.savefig(f\"{output}/map_avg_pipelineloading.pdf\", bbox_inches='tight')"
   ]
  },
  {
   "cell_type": "code",
   "execution_count": null,
   "id": "739fcf81-eb13-4590-93d5-7a9c7801ca93",
   "metadata": {},
   "outputs": [],
   "source": [
    "plot_pipeline_loading(n, min_capacity=1000)"
   ]
  },
  {
   "cell_type": "markdown",
   "id": "f98dae66-88e8-4e22-9296-18e865c900d5",
   "metadata": {},
   "source": [
    "## Stats: TWkm"
   ]
  },
  {
   "cell_type": "code",
   "execution_count": null,
   "id": "662eff74-294c-4b1a-b8e1-8f07887981b3",
   "metadata": {},
   "outputs": [],
   "source": [
    "selection = ['H2 pipeline', 'H2 pipeline retrofitted', 'gas pipeline', 'gas pipeline new', \"DC\"]"
   ]
  },
  {
   "cell_type": "code",
   "execution_count": null,
   "id": "109a30b9-1a4b-4520-9989-ca79ccd9b3d3",
   "metadata": {},
   "outputs": [],
   "source": [
    "twkm = n.links.loc[n.links.carrier.isin(selection)]"
   ]
  },
  {
   "cell_type": "code",
   "execution_count": null,
   "id": "f7c22776-eca1-445f-abd0-1a301d1ecd37",
   "metadata": {},
   "outputs": [],
   "source": [
    "twkm = twkm.eval(\"length*p_nom_opt\").groupby(twkm.carrier).sum() / 1e6 # TWkm"
   ]
  },
  {
   "cell_type": "code",
   "execution_count": null,
   "id": "52e984cb-5a30-46be-95e7-5875d0e48df0",
   "metadata": {},
   "outputs": [],
   "source": [
    "twkm[\"AC\"] = n.lines.eval(\"length*s_nom_opt\").sum() / 1e6 # TWkm"
   ]
  },
  {
   "cell_type": "code",
   "execution_count": null,
   "id": "b560cc7a-fd87-4630-93e7-6bfe30c2899c",
   "metadata": {},
   "outputs": [],
   "source": [
    "twkm"
   ]
  },
  {
   "cell_type": "markdown",
   "id": "0042b376-142e-4a83-b2ca-a7d587a85d12",
   "metadata": {
    "tags": []
   },
   "source": [
    "## Stats: Energy Moved"
   ]
  },
  {
   "cell_type": "code",
   "execution_count": null,
   "id": "19f2e04b-746c-413c-836c-5ce5deebc03e",
   "metadata": {},
   "outputs": [],
   "source": [
    "energy_transport = [\"DC\", \"H2 pipeline\", \"H2 pipeline retrofitted\", \"gas pipeline\", \"gas pipeline_new\"]"
   ]
  },
  {
   "cell_type": "code",
   "execution_count": null,
   "id": "04d6f8f2-53eb-4e77-bf1e-6a2803415df9",
   "metadata": {},
   "outputs": [],
   "source": [
    "transport = n.links.query(\"carrier in @energy_transport\")"
   ]
  },
  {
   "cell_type": "code",
   "execution_count": null,
   "id": "b5557f84-f037-4bbc-b9cd-a04d1fc3ab33",
   "metadata": {},
   "outputs": [],
   "source": [
    "df = (n.snapshot_weightings.generators @ n.links_t.p0[transport.index].abs()).mul(transport.length).groupby(transport.carrier).sum()"
   ]
  },
  {
   "cell_type": "code",
   "execution_count": null,
   "id": "c4fc5140-b80d-4008-8354-76a738b488e3",
   "metadata": {},
   "outputs": [],
   "source": [
    "df[\"AC\"] = (n.snapshot_weightings.generators @ n.lines_t.p0.abs()).mul(n.lines.length).sum()"
   ]
  },
  {
   "cell_type": "code",
   "execution_count": null,
   "id": "85a0a342-d0a9-4024-9838-8c3cfdd2a57a",
   "metadata": {},
   "outputs": [],
   "source": [
    "df.div(8760*1e6).round(0) # TWhkm/h"
   ]
  },
  {
   "cell_type": "markdown",
   "id": "16d92671-05d5-499b-b9dd-78c6e4c790a6",
   "metadata": {},
   "source": [
    "## Original Gas and Electricity Network"
   ]
  },
  {
   "cell_type": "code",
   "execution_count": null,
   "id": "09d0e095-b9ad-4d27-92dd-07611d9ee71e",
   "metadata": {},
   "outputs": [],
   "source": [
    "def plot_original_gas_network(network):\n",
    "\n",
    "    n = network.copy()\n",
    "    \n",
    "    lw_factor = 20e3\n",
    "    color = 'indianred'\n",
    "\n",
    "    n.mremove(\"Bus\", n.buses.index[n.buses.carrier != \"AC\"])\n",
    "    n.mremove(\"Link\", n.links.index[~n.links.carrier.str.contains(\"gas pipeline\")])\n",
    "\n",
    "    n.links.bus0 = n.links.bus0.str.replace(\" gas\", \"\")\n",
    "    n.links.bus1 = n.links.bus1.str.replace(\" gas\", \"\")\n",
    "    \n",
    "    crs = ccrs.EqualEarth()\n",
    "\n",
    "    fig, ax = plt.subplots(\n",
    "        figsize=(7, 6),\n",
    "        subplot_kw={\"projection\": crs}\n",
    "    )\n",
    "\n",
    "\n",
    "    n.plot(\n",
    "        geomap=True,\n",
    "        ax=ax,\n",
    "        bus_sizes=0.005,\n",
    "        bus_colors='k',\n",
    "        link_colors=color,\n",
    "        link_widths=n.links.p_nom / lw_factor,\n",
    "        branch_components=[\"Link\"],\n",
    "    )\n",
    "    \n",
    "    handles = []\n",
    "    labels = []\n",
    "\n",
    "    for s in (100, 50, 20):\n",
    "        handles.append(plt.Line2D([0], [0], color=color,\n",
    "                                  linewidth=s * 1e3 / lw_factor))\n",
    "        labels.append(\"{} GW\".format(s))\n",
    "    l1_1 = ax.legend(handles, labels,\n",
    "                     loc=\"upper left\", bbox_to_anchor=(0.05, 1.01),\n",
    "                     frameon=False,\n",
    "                     labelspacing=0.8, handletextpad=1.5,\n",
    "                     title='Today\\'s gas transmission')\n",
    "    ax.add_artist(l1_1)\n",
    "    \n",
    "    fig.savefig(\n",
    "        f\"{output_resources}/gas-network-today-map.pdf\",\n",
    "        bbox_inches=\"tight\"\n",
    "    )"
   ]
  },
  {
   "cell_type": "code",
   "execution_count": null,
   "id": "8975454b-4200-42bb-acbe-0ebbabd9b3fd",
   "metadata": {},
   "outputs": [],
   "source": [
    "plot_original_gas_network(n)"
   ]
  },
  {
   "cell_type": "code",
   "execution_count": null,
   "id": "98f32688-61c0-4cf4-b56b-8ae7007c0f15",
   "metadata": {},
   "outputs": [],
   "source": [
    "def plot_original_electricity_network(network):\n",
    "\n",
    "    n = network.copy()\n",
    "    \n",
    "    lw_factor = 3e3\n",
    "\n",
    "    n.mremove(\"Bus\", n.buses.index[n.buses.carrier != \"AC\"])\n",
    "    n.mremove(\"Link\", n.links.index[~n.links.carrier.str.contains(\"DC\")])\n",
    "    \n",
    "    crs = ccrs.EqualEarth()\n",
    "\n",
    "    fig, ax = plt.subplots(\n",
    "        figsize=(7, 6),\n",
    "        subplot_kw={\"projection\": crs}\n",
    "    )\n",
    "\n",
    "\n",
    "    n.plot(\n",
    "        geomap=True,\n",
    "        ax=ax,\n",
    "        bus_sizes=0.005,\n",
    "        bus_colors='k',\n",
    "        link_colors=n.links.p_nom.apply(lambda x: 'darkseagreen' if x > 0 else 'skyblue'),\n",
    "        link_widths=1.5,\n",
    "        line_widths=n.lines.s_nom / lw_factor\n",
    "    )\n",
    "    \n",
    "    handles = []\n",
    "    labels = []\n",
    "\n",
    "    for s in (20, 10):\n",
    "        handles.append(plt.Line2D([0], [0], color='rosybrown',\n",
    "                                  linewidth=s * 1e3 / lw_factor))\n",
    "        labels.append(\"{} GW HVAC today\".format(s))\n",
    "    l1_1 = ax.legend(handles, labels,\n",
    "                     loc=\"upper left\", bbox_to_anchor=(0.025, 1.01),\n",
    "                     frameon=False,\n",
    "                     labelspacing=0.8, handletextpad=1.5,\n",
    "                     #title='Today\\'s AC transmission'\n",
    "                    )\n",
    "    ax.add_artist(l1_1)\n",
    "    \n",
    "    handles = [\n",
    "        Line2D([0], [0], color='darkseagreen', lw=1.5),\n",
    "        Line2D([0], [0], color='skyblue', lw=1.5),\n",
    "    ]\n",
    "    l2 = ax.legend(handles, ['HVDC existing', \"HVDC planned\"], frameon=False, loc=[0.04,0.78], labelspacing=0.8, handletextpad=1.5,)\n",
    "    \n",
    "    ax.add_artist(l2)\n",
    "    \n",
    "    fig.savefig(\n",
    "        f\"{output_resources}/electricity-network-today-map.pdf\",\n",
    "        bbox_inches=\"tight\"\n",
    "    )"
   ]
  },
  {
   "cell_type": "code",
   "execution_count": null,
   "id": "652fd996-9b30-44c6-be2a-160d4bc49bf3",
   "metadata": {},
   "outputs": [],
   "source": [
    "plot_original_electricity_network(n)"
   ]
  },
  {
   "cell_type": "markdown",
   "id": "df00bf4e-6585-408b-81db-3b7c5a81f0f8",
   "metadata": {},
   "source": [
    "## Stats: Onshore Wind Potential"
   ]
  },
  {
   "cell_type": "code",
   "execution_count": null,
   "id": "07a8cde8-7e99-494e-b8e7-a23c70f1dc2c",
   "metadata": {},
   "outputs": [],
   "source": [
    "n.generators.p_nom_max.groupby([n.generators.carrier, n.generators.bus.map(n.buses.country)]).sum().div(1e3).unstack(0).round()[\"onwind\"]"
   ]
  },
  {
   "cell_type": "markdown",
   "id": "1576a3a9-9fc6-4a77-8c79-d37b57c3ca52",
   "metadata": {},
   "source": [
    "## Maps: Nodal Prices"
   ]
  },
  {
   "cell_type": "code",
   "execution_count": null,
   "id": "df904d0f-386e-430b-84c6-650a164a822b",
   "metadata": {},
   "outputs": [],
   "source": [
    "df = n.buses_t.marginal_price.mean().groupby([n.buses.location, n.buses.carrier]).first().unstack()"
   ]
  },
  {
   "cell_type": "code",
   "execution_count": null,
   "id": "b680da07-bea2-4942-8886-5208867d4a92",
   "metadata": {},
   "outputs": [],
   "source": [
    "def plot_nodal_prices(df, geodf, carrier, label, vmin, vmax, cmap=\"Blues\", fn=None):\n",
    "    \n",
    "    proj = ccrs.EqualEarth()\n",
    "    geodf = geodf.to_crs(proj.proj4_init)\n",
    "\n",
    "    fig, ax = plt.subplots(figsize=(7,7), subplot_kw={\"projection\": proj})\n",
    "\n",
    "    geodf.plot(\n",
    "        ax=ax,\n",
    "        column=df[carrier].reindex(geodf.index),\n",
    "        #transform=ccrs.PlateCarree(),\n",
    "        cmap=cmap,\n",
    "        linewidths=0,\n",
    "        legend=True,\n",
    "        vmin=vmin,\n",
    "        vmax=vmax,\n",
    "        legend_kwds={\n",
    "            'label': label,\n",
    "            \"shrink\": 0.7,\n",
    "            \"extend\": \"max\",\n",
    "        }\n",
    "    )\n",
    "\n",
    "    ax.add_feature(cartopy.feature.COASTLINE.with_scale(\"50m\"), linewidth=0.2, zorder=2) \n",
    "    ax.add_feature(cartopy.feature.BORDERS.with_scale(\"50m\"), linewidth=0.2, zorder=2)\n",
    "\n",
    "    plt.gca().outline_patch.set_visible(False)\n",
    "    ax.set_facecolor('white')\n",
    "\n",
    "    if fn is None:\n",
    "        plt.savefig(f\"{output}/nodal-prices-{carrier}.pdf\", bbox_inches='tight')"
   ]
  },
  {
   "cell_type": "code",
   "execution_count": null,
   "id": "b40ec594-9d88-4dfb-9e83-582b45d5adcf",
   "metadata": {},
   "outputs": [],
   "source": [
    "plot_nodal_prices(df, nodes, 'AC', \"mean electricity price [€/MWh]\", 50, 120)"
   ]
  },
  {
   "cell_type": "code",
   "execution_count": null,
   "id": "5feebe0b-2678-4d5d-9d15-38fecca8b2ee",
   "metadata": {},
   "outputs": [],
   "source": [
    "plot_nodal_prices(df, nodes, 'H2', \"mean hydrogen price [€/MWh]\", 80, 140, \"RdPu\")"
   ]
  },
  {
   "cell_type": "code",
   "execution_count": null,
   "id": "aa27e9c5-7c54-439c-8a59-7393c493caff",
   "metadata": {},
   "outputs": [],
   "source": [
    "df.filter(like='heat', axis=1).describe()"
   ]
  },
  {
   "cell_type": "code",
   "execution_count": null,
   "id": "647c61a9-d7b2-4ad9-8d37-db151c9424c4",
   "metadata": {},
   "outputs": [],
   "source": [
    "df.filter(like='heat', axis=1).stack().describe()"
   ]
  },
  {
   "cell_type": "code",
   "execution_count": null,
   "id": "35737253-3907-4b44-90ba-9d55414331b3",
   "metadata": {},
   "outputs": [],
   "source": [
    "plot_nodal_prices(df, nodes, 'residential urban decentral heat', \"mean heat price [€/MWh]\", 0, 80, \"OrRd\")"
   ]
  },
  {
   "cell_type": "code",
   "execution_count": null,
   "id": "67c10f76-e5d7-4cb1-90fb-3ee2a1d8d9b8",
   "metadata": {},
   "outputs": [],
   "source": [
    "plot_nodal_prices(df, nodes, 'urban central heat', \"mean heat price [€/MWh]\", 0, 80, \"OrRd\")"
   ]
  },
  {
   "cell_type": "code",
   "execution_count": null,
   "id": "8f7288a2-3c7e-46c6-85a7-a9aead774be0",
   "metadata": {},
   "outputs": [],
   "source": [
    "plot_nodal_prices(df, nodes, 'residential rural heat', \"mean heat price [€/MWh]\", 0, 80, \"OrRd\")"
   ]
  },
  {
   "cell_type": "code",
   "execution_count": null,
   "id": "dc4f1f9f-13f4-4695-a6d6-37190d6627f9",
   "metadata": {},
   "outputs": [],
   "source": [
    "if GAS_NETWORK:\n",
    "    plot_nodal_prices(df, nodes, 'gas', \"mean gas price [€/MWh]\", 0, 30, \"OrRd\")"
   ]
  },
  {
   "cell_type": "markdown",
   "id": "3b87330b-fe0e-4b48-9b3a-be5b5f0e62a0",
   "metadata": {},
   "source": [
    "## Maps: LCOE"
   ]
  },
  {
   "cell_type": "code",
   "execution_count": null,
   "id": "14af0d66-922b-4516-a9c8-76826189f351",
   "metadata": {},
   "outputs": [],
   "source": [
    "def calculate_lcoe(n, carrier, p_nom_threshold=1000):\n",
    "\n",
    "    gen_i = n.generators.loc[n.generators.carrier == carrier].index\n",
    "    gen = n.snapshot_weightings.generators @ n.generators_t.p.loc[:, gen_i]\n",
    "\n",
    "    oc = gen * n.generators.loc[gen_i, \"marginal_cost\"]\n",
    "    ic = n.generators.eval('capital_cost * p_nom_opt').loc[gen_i]\n",
    "\n",
    "    lcoe = (ic + oc) / gen\n",
    "    \n",
    "    lcoe = lcoe.where(n.generators.p_nom_opt > p_nom_threshold).dropna()\n",
    "    \n",
    "    lcoe.index = lcoe.index.map(n.generators.bus.map(n.buses.location))\n",
    "\n",
    "    return lcoe"
   ]
  },
  {
   "cell_type": "code",
   "execution_count": null,
   "id": "2ea65548-ddce-42a1-94ca-8ea41c3e7fee",
   "metadata": {
    "tags": []
   },
   "outputs": [],
   "source": [
    "def plot_lcoe(n, geodf, carrier, label, vmin, vmax, cmap=\"Blues\", fn=None):\n",
    "    \n",
    "    lcoe = calculate_lcoe(n, carrier)\n",
    "    \n",
    "    proj = ccrs.EqualEarth()\n",
    "    geodf = geodf.to_crs(proj.proj4_init)\n",
    "\n",
    "    fig, ax = plt.subplots(figsize=(7,7), subplot_kw={\"projection\": proj})\n",
    "\n",
    "    geodf.plot(\n",
    "        ax=ax,\n",
    "        column=lcoe.reindex(geodf.index),\n",
    "        #transform=ccrs.PlateCarree(),\n",
    "        cmap=cmap,\n",
    "        linewidths=0,\n",
    "        legend=True,\n",
    "        vmin=vmin,\n",
    "        vmax=vmax,\n",
    "        legend_kwds={\n",
    "            'label': label,\n",
    "            \"shrink\": 0.7,\n",
    "            \"extend\": \"max\",\n",
    "        }\n",
    "    )\n",
    "\n",
    "    ax.add_feature(cartopy.feature.COASTLINE.with_scale(\"50m\"), linewidth=0.2, zorder=2) \n",
    "    ax.add_feature(cartopy.feature.BORDERS.with_scale(\"50m\"), linewidth=0.2, zorder=2)\n",
    "\n",
    "    plt.gca().outline_patch.set_visible(False)\n",
    "    ax.set_facecolor('white')\n",
    "    \n",
    "    plt.xlim(-1e6, 2.6e6)\n",
    "    plt.ylim(4.3e6, 7.8e6)\n",
    "\n",
    "    if fn is None:\n",
    "        plt.savefig(f\"{output}/lcoe-{carrier}.pdf\", bbox_inches='tight')"
   ]
  },
  {
   "cell_type": "code",
   "execution_count": null,
   "id": "88aa6cd9-09f4-4ed3-b3bb-a9e93f428632",
   "metadata": {},
   "outputs": [],
   "source": [
    "plot_lcoe(n, nodes, 'onwind', \"onshore wind LCOE [€/MWh]\", 0, 100)"
   ]
  },
  {
   "cell_type": "code",
   "execution_count": null,
   "id": "b8608419-2b32-4acf-93b4-8889e2557034",
   "metadata": {},
   "outputs": [],
   "source": [
    "plot_lcoe(n, offnodes, 'offwind-dc', \"offshore wind (DC) LCOE [€/MWh]\", 0, 100)"
   ]
  },
  {
   "cell_type": "code",
   "execution_count": null,
   "id": "163d9f0d-d321-4ffd-96a2-bca51dd64765",
   "metadata": {},
   "outputs": [],
   "source": [
    "plot_lcoe(n, offnodes, 'offwind-ac', \"offshore wind (AC) LCOE [€/MWh]\", 0, 100)"
   ]
  },
  {
   "cell_type": "code",
   "execution_count": null,
   "id": "c9bb65a8-dd53-4f8f-b0d2-9301d290b171",
   "metadata": {},
   "outputs": [],
   "source": [
    "n.generators.carrier.unique()"
   ]
  },
  {
   "cell_type": "code",
   "execution_count": null,
   "id": "79fd6334-85db-4557-aebf-79b34317f6aa",
   "metadata": {},
   "outputs": [],
   "source": [
    "plot_lcoe(n, nodes, 'solar rooftop', \"rooftop solar LCOE [€/MWh]\", 0, 100, \"Oranges\")"
   ]
  },
  {
   "cell_type": "code",
   "execution_count": null,
   "id": "bbf15b44-47b0-4be2-a9d3-9c06f2101b96",
   "metadata": {},
   "outputs": [],
   "source": [
    "plot_lcoe(n, nodes, 'solar', \"utility solar LCOE [€/MWh]\", 0, 100, \"Oranges\")"
   ]
  },
  {
   "cell_type": "markdown",
   "id": "815984a8-4d7d-4c3d-9439-835bf2d04244",
   "metadata": {},
   "source": [
    "## Maps: Market Values"
   ]
  },
  {
   "cell_type": "code",
   "execution_count": null,
   "id": "f530e335-636a-40c9-93d5-14543df16d1b",
   "metadata": {},
   "outputs": [],
   "source": [
    "def market_values(n, carrier='onwind'):\n",
    "\n",
    "    gen = n.generators_t.p.loc[:, n.generators.carrier == carrier]\n",
    "    gen.columns = gen.columns.map(n.generators.bus)\n",
    "\n",
    "    lmp = n.buses_t.marginal_price.loc[:, gen.columns]\n",
    "\n",
    "    mv = (gen * lmp).sum() / gen.sum()\n",
    "    \n",
    "    mv.index = mv.index.map(n.buses.location)\n",
    "\n",
    "    return mv"
   ]
  },
  {
   "cell_type": "code",
   "execution_count": null,
   "id": "934a9411-7a59-40fb-a12e-6deb904253de",
   "metadata": {
    "tags": []
   },
   "outputs": [],
   "source": [
    "def plot_market_values(n, geodf, carrier, label, cmap=\"Blues\", fn=None):\n",
    "    \n",
    "    mv = market_values(n, carrier)\n",
    "    \n",
    "    proj = ccrs.EqualEarth()\n",
    "    geodf = geodf.to_crs(proj.proj4_init)\n",
    "\n",
    "    fig, ax = plt.subplots(figsize=(7,7), subplot_kw={\"projection\": proj})\n",
    "\n",
    "    geodf.plot(\n",
    "        ax=ax,\n",
    "        column=mv.reindex(geodf.index),\n",
    "        #transform=ccrs.PlateCarree(),\n",
    "        cmap=cmap,\n",
    "        linewidths=0,\n",
    "        legend=True,\n",
    "        #vmin=vmin,\n",
    "        #vmax=vmax,\n",
    "        legend_kwds={\n",
    "            'label': label,\n",
    "            \"shrink\": 0.7,\n",
    "            #\"extend\": \"max\",\n",
    "        }\n",
    "    )\n",
    "\n",
    "    ax.add_feature(cartopy.feature.COASTLINE.with_scale(\"50m\"), linewidth=0.2, zorder=2) \n",
    "    ax.add_feature(cartopy.feature.BORDERS.with_scale(\"50m\"), linewidth=0.2, zorder=2)\n",
    "\n",
    "    plt.gca().outline_patch.set_visible(False)\n",
    "    ax.set_facecolor('white')\n",
    "\n",
    "    if fn is None:\n",
    "        plt.savefig(f\"{output}/market-values-{carrier}.pdf\", bbox_inches='tight')"
   ]
  },
  {
   "cell_type": "code",
   "execution_count": null,
   "id": "94fd06e1-04be-4d7f-b84f-d71c554ff064",
   "metadata": {},
   "outputs": [],
   "source": [
    "n.generators.carrier.unique()"
   ]
  },
  {
   "cell_type": "code",
   "execution_count": null,
   "id": "e4aecd59-a8ed-4e98-bf9f-4e0b4a39ca6c",
   "metadata": {},
   "outputs": [],
   "source": [
    "plot_market_values(n, nodes, 'solar', 'utility-solar market value [€/MWh]', \"Oranges\")"
   ]
  },
  {
   "cell_type": "code",
   "execution_count": null,
   "id": "1131e692-7886-4210-b13c-a353ccc1efda",
   "metadata": {},
   "outputs": [],
   "source": [
    "plot_market_values(n, nodes, 'solar rooftop', 'rooftop solar market value [€/MWh]', \"Oranges\")"
   ]
  },
  {
   "cell_type": "code",
   "execution_count": null,
   "id": "7bb992d5-b513-459b-a675-38ea661c5a1e",
   "metadata": {},
   "outputs": [],
   "source": [
    "plot_market_values(n, nodes, 'onwind', 'onshore wind market value [€/MWh]', \"Blues\")"
   ]
  },
  {
   "cell_type": "code",
   "execution_count": null,
   "id": "9225591a-3aa9-4f5d-9df2-5f6a33d15af6",
   "metadata": {},
   "outputs": [],
   "source": [
    "plot_market_values(n, offnodes, 'offwind-dc', 'offshore wind (DC) market value [€/MWh]', \"Blues\")"
   ]
  },
  {
   "cell_type": "code",
   "execution_count": null,
   "id": "662b4051-4857-4842-ae23-64d47cd0f366",
   "metadata": {},
   "outputs": [],
   "source": [
    "plot_market_values(n, offnodes, 'offwind-ac', 'offshore wind (AC) market value [€/MWh]', \"Blues\")"
   ]
  },
  {
   "cell_type": "code",
   "execution_count": null,
   "id": "e21b396c-7367-4e02-9590-4802cc9a5f6a",
   "metadata": {},
   "outputs": [],
   "source": [
    "plot_market_values(n, nodes, 'ror', 'run-of-river market value [€/MWh]', \"Greens\")"
   ]
  },
  {
   "cell_type": "markdown",
   "id": "5b57db3e-a2ef-447c-a8a5-96d8f2c323df",
   "metadata": {},
   "source": [
    "## Maps: regional demands"
   ]
  },
  {
   "cell_type": "code",
   "execution_count": null,
   "id": "5ffe405c-3d79-4ac7-94bd-5967e1b31005",
   "metadata": {},
   "outputs": [],
   "source": [
    "title = {\n",
    "    \"electricity\": 'Electricity Demand [TWh/a]',\n",
    "    \"H2\": \"Hydrogen Demand [TWh/a]\",\n",
    "    \"heat\": \"Heat Demand [TWh/a]\",\n",
    "    \"solid biomass\": \"Solid Biomass Demand [TWh/a]\",\n",
    "    \"gas\": \"Methane Demand [TWh/a]\",\n",
    "    \"oil\": \"(Synthetic) Oil Demand [TWh/a]\",\n",
    "}\n",
    "\n",
    "cmap = {\n",
    "    \"electricity\": \"Blues\",\n",
    "    \"H2\": \"RdPu\",\n",
    "    \"heat\": \"Reds\",\n",
    "    \"solid biomass\": \"Greens\",\n",
    "    \"gas\": \"Oranges\",\n",
    "    \"oil\": \"Greys\",\n",
    "}\n",
    "\n",
    "regex = {\n",
    "    \"electricity\": r\"(electricity|EV)\",\n",
    "    \"H2\": r\"(H2|fuel cell)\",\n",
    "    \"heat\": r\"heat\",\n",
    "    \"solid biomass\": r\"biomass\",\n",
    "    \"oil\": r\"( oil|naphtha|kerosene)\",\n",
    "    \"gas\": r\"gas\",\n",
    "}"
   ]
  },
  {
   "cell_type": "code",
   "execution_count": null,
   "id": "5a77c2c0-e555-4e23-acb1-8621e69cc4bc",
   "metadata": {},
   "outputs": [],
   "source": [
    "demand = as_dense(n, \"Load\", \"p_set\").div(1e6) # TWh\n",
    "demand_grouped = demand.groupby([n.loads.carrier, n.loads.bus.map(n.buses.location)], axis=1).sum()\n",
    "demand_by_region = (n.snapshot_weightings.generators @ demand_grouped).unstack(level=0)"
   ]
  },
  {
   "cell_type": "code",
   "execution_count": null,
   "id": "df7775dd-3234-475f-8617-ef7088bb60c2",
   "metadata": {},
   "outputs": [],
   "source": [
    "def plot_regional_demands(df, geodf, carrier):\n",
    "\n",
    "    to_plot = df.filter(regex=regex[carrier]).sum(axis=1).drop(\"EU\")\n",
    "    \n",
    "    proj = ccrs.EqualEarth()\n",
    "    geodf = geodf.to_crs(proj.proj4_init)\n",
    "\n",
    "    fig, ax = plt.subplots(figsize=(7,7), subplot_kw={\"projection\": proj})\n",
    "\n",
    "    geodf.plot(\n",
    "        ax=ax,\n",
    "        column=to_plot,\n",
    "        #transform=ccrs.PlateCarree(),\n",
    "        cmap=cmap[carrier],\n",
    "        linewidths=0,\n",
    "        legend=True,\n",
    "        legend_kwds={\n",
    "            'label': title[carrier],\n",
    "            \"shrink\": 0.7,\n",
    "            \"extend\": 'max'\n",
    "        })\n",
    "\n",
    "    ax.add_feature(cartopy.feature.COASTLINE.with_scale(\"50m\"), linewidth=0.2, zorder=2) \n",
    "    ax.add_feature(cartopy.feature.BORDERS.with_scale(\"50m\"), linewidth=0.2, zorder=2)\n",
    "\n",
    "    plt.gca().outline_patch.set_visible(False)\n",
    "    ax.set_facecolor('white')\n",
    "\n",
    "    plt.savefig(f\"{output_resources}/demand-map-{carrier}.pdf\", bbox_inches='tight')"
   ]
  },
  {
   "cell_type": "code",
   "execution_count": null,
   "id": "2f0fb342-c1b6-4916-ab8b-d0cff9d27475",
   "metadata": {},
   "outputs": [],
   "source": [
    "plot_regional_demands(demand_by_region, nodes, \"electricity\")"
   ]
  },
  {
   "cell_type": "code",
   "execution_count": null,
   "id": "38c8c85d-5b22-4b36-8fa8-21625df76024",
   "metadata": {},
   "outputs": [],
   "source": [
    "plot_regional_demands(demand_by_region, nodes, \"H2\")"
   ]
  },
  {
   "cell_type": "code",
   "execution_count": null,
   "id": "ca7e441a-f183-4b93-867e-0f35aa3a3f04",
   "metadata": {},
   "outputs": [],
   "source": [
    "plot_regional_demands(demand_by_region, nodes, \"heat\")"
   ]
  },
  {
   "cell_type": "code",
   "execution_count": null,
   "id": "4b52079d-5be9-425a-b1b1-50f89c7e8ac6",
   "metadata": {},
   "outputs": [],
   "source": [
    "if GAS_NETWORK:\n",
    "    plot_regional_demands(demand_by_region, nodes, \"gas\")"
   ]
  },
  {
   "cell_type": "markdown",
   "id": "b9d950f6-619a-485f-84a9-14ac84b91fa4",
   "metadata": {},
   "source": [
    "## Maps: system-level demands"
   ]
  },
  {
   "cell_type": "code",
   "execution_count": null,
   "id": "bfe9f221-8e79-4a91-85d9-05dffe55376d",
   "metadata": {},
   "outputs": [],
   "source": [
    "def plot_system_demands(df, shape, carrier):\n",
    "    \n",
    "    shape[\"value\"] = df.filter(regex=regex[carrier]).sum(axis=1).loc[\"EU\"]\n",
    "    \n",
    "    proj = ccrs.EqualEarth()\n",
    "    shape = shape.to_crs(proj.proj4_init)\n",
    "\n",
    "    fig, ax = plt.subplots(figsize=(7,7), subplot_kw={\"projection\": proj})\n",
    "\n",
    "    shape.plot(\n",
    "        ax=ax,\n",
    "        column=shape.value,\n",
    "        #transform=ccrs.PlateCarree(),\n",
    "        cmap=cmap[carrier],\n",
    "        linewidths=0,\n",
    "        vmin=0,\n",
    "        vmax=shape.value.max() * 2,\n",
    "        legend=True,\n",
    "        legend_kwds={\n",
    "            'label': title[carrier],\n",
    "            \"shrink\": 0.7,\n",
    "        })\n",
    "\n",
    "    ax.add_feature(cartopy.feature.COASTLINE.with_scale(\"50m\"), linewidth=0.2, zorder=2) \n",
    "\n",
    "    plt.gca().outline_patch.set_visible(False)\n",
    "    ax.set_facecolor('white')\n",
    "\n",
    "    plt.savefig(f\"{output_resources}/demand-map-{carrier}.pdf\", bbox_inches='tight')"
   ]
  },
  {
   "cell_type": "code",
   "execution_count": null,
   "id": "7e37cf5d-3f9b-4657-a829-28328767839b",
   "metadata": {},
   "outputs": [],
   "source": [
    "plot_system_demands(demand_by_region, europe_shape, \"solid biomass\")"
   ]
  },
  {
   "cell_type": "code",
   "execution_count": null,
   "id": "3163cced-4267-4de1-853c-f6bf867e70d1",
   "metadata": {},
   "outputs": [],
   "source": [
    "plot_system_demands(demand_by_region, europe_shape, \"oil\")"
   ]
  },
  {
   "cell_type": "code",
   "execution_count": null,
   "id": "1d33b207-8e69-49a8-94cc-c457e186fa23",
   "metadata": {},
   "outputs": [],
   "source": [
    "if not GAS_NETWORK:\n",
    "    plot_system_demands(demand_by_region, europe_shape, \"gas\")"
   ]
  },
  {
   "cell_type": "markdown",
   "id": "f625ce08-750e-49e2-b899-f248d7d9497c",
   "metadata": {},
   "source": [
    "## Potential Used"
   ]
  },
  {
   "cell_type": "code",
   "execution_count": null,
   "id": "e1c98f26-7185-409e-b50d-a45925f08df9",
   "metadata": {},
   "outputs": [],
   "source": [
    "pot_used = n.generators.p_nom_opt / n.generators.p_nom_max * 100"
   ]
  },
  {
   "cell_type": "code",
   "execution_count": null,
   "id": "62447b55-287d-432f-a5e0-88b00f567e01",
   "metadata": {},
   "outputs": [],
   "source": [
    "df = pot_used.groupby([n.generators.bus.map(n.buses.location), n.generators.carrier]).sum().unstack().drop(\"EU\")"
   ]
  },
  {
   "cell_type": "code",
   "execution_count": null,
   "id": "09e1e9de-a100-4f28-a568-9a55ce009154",
   "metadata": {},
   "outputs": [],
   "source": [
    "def plot_potential_used(df, geodf, carrier, cmap=\"Blues\", fn=None):\n",
    "    \n",
    "    proj = ccrs.EqualEarth()\n",
    "    geodf = geodf.to_crs(proj.proj4_init)\n",
    "\n",
    "    fig, ax = plt.subplots(figsize=(7,7), subplot_kw={\"projection\": proj})\n",
    "\n",
    "    geodf.plot(\n",
    "        ax=ax,\n",
    "        column=df[carrier].reindex(geodf.index),\n",
    "        #transform=ccrs.PlateCarree(),\n",
    "        cmap=cmap,\n",
    "        linewidths=0,\n",
    "        legend=True,\n",
    "        vmax=100,\n",
    "        vmin=0,\n",
    "        legend_kwds={\n",
    "            'label': \"share of technical potential used [%]\",\n",
    "            \"shrink\": 0.7,\n",
    "        },\n",
    "    )\n",
    "\n",
    "    ax.add_feature(cartopy.feature.COASTLINE.with_scale(\"50m\"), linewidth=0.2, zorder=2) \n",
    "    ax.add_feature(cartopy.feature.BORDERS.with_scale(\"50m\"), linewidth=0.2, zorder=2)\n",
    "\n",
    "    plt.gca().outline_patch.set_visible(False)\n",
    "    ax.set_facecolor('white')\n",
    "\n",
    "    if fn is None:\n",
    "        plt.savefig(f\"{output}/potential-used-onw-{carrier}.pdf\", bbox_inches='tight')"
   ]
  },
  {
   "cell_type": "code",
   "execution_count": null,
   "id": "a0f02aa2-be89-41e0-a9be-556932cf336c",
   "metadata": {},
   "outputs": [],
   "source": [
    "plot_potential_used(df, offnodes, \"offwind-ac\")"
   ]
  },
  {
   "cell_type": "code",
   "execution_count": null,
   "id": "ed8fa47d-a38d-4a99-8422-c5dcdd1f1de5",
   "metadata": {},
   "outputs": [],
   "source": [
    "plot_potential_used(df, offnodes, \"offwind-dc\")"
   ]
  },
  {
   "cell_type": "code",
   "execution_count": null,
   "id": "ca7ea9ae-febc-43b0-972e-cf4579f2bc84",
   "metadata": {},
   "outputs": [],
   "source": [
    "plot_potential_used(df, nodes, \"onwind\")"
   ]
  },
  {
   "cell_type": "code",
   "execution_count": null,
   "id": "516c653e-6abc-48e8-beaa-b852fbd141ce",
   "metadata": {},
   "outputs": [],
   "source": [
    "plot_potential_used(df, nodes, \"solar\", cmap=\"Oranges\")"
   ]
  },
  {
   "cell_type": "code",
   "execution_count": null,
   "id": "3296799c-402a-4d50-a2ac-22d6ca94f4a5",
   "metadata": {},
   "outputs": [],
   "source": [
    "plot_potential_used(df, nodes, \"solar rooftop\", cmap=\"Oranges\")"
   ]
  },
  {
   "cell_type": "markdown",
   "id": "70f127c5-49f8-413a-a15a-64f19a66f1d0",
   "metadata": {},
   "source": [
    "## Import and Export"
   ]
  },
  {
   "cell_type": "code",
   "execution_count": null,
   "id": "1556e5e7-3b1d-4750-8c2e-62661c883cac",
   "metadata": {},
   "outputs": [],
   "source": [
    "balance = nodal_balance(n, \"AC\", aggregate=[\"snapshot\"])"
   ]
  },
  {
   "cell_type": "code",
   "execution_count": null,
   "id": "4aa2e993-d83c-406b-a952-e814d06423fe",
   "metadata": {},
   "outputs": [],
   "source": [
    "h2_balance = nodal_balance(n, 'H2', aggregate=[\"snapshot\"])\n",
    "h2_io = h2_balance.droplevel(0).unstack('carrier').filter(like=\"H2 pipeline\").sum(axis=1)\n",
    "\n",
    "ac_balance = nodal_balance(n, 'AC', aggregate=[\"snapshot\"])\n",
    "ac_io = ac_balance.droplevel(0).unstack('carrier')[['AC', 'DC']].sum(axis=1)\n",
    "\n",
    "io = ac_io + h2_io\n",
    "\n",
    "io = pd.concat({'electricity': ac_io, 'hydrogen': h2_io, 'total': io}, axis=1).div(1e6)"
   ]
  },
  {
   "cell_type": "code",
   "execution_count": null,
   "id": "81656260-a00d-4cb3-9c74-5357288f12a9",
   "metadata": {},
   "outputs": [],
   "source": [
    "if GAS_NETWORK:\n",
    "\n",
    "    gas_balance = nodal_balance(n, \"gas\", aggregate=[\"snapshot\"])\n",
    "\n",
    "    gas_io = gas_balance.groupby(['bus', 'carrier']).sum().unstack().filter(like=\"gas pipeline\").sum(axis=1)\n",
    "\n",
    "    io['gas'] = gas_io.div(1e6)\n",
    "\n",
    "    io['total'] += io['gas']"
   ]
  },
  {
   "cell_type": "code",
   "execution_count": null,
   "id": "17e70695-d7e6-4634-a8ef-53099fce7613",
   "metadata": {},
   "outputs": [],
   "source": [
    "def plot_import_export(df, geodf, carrier, cmap=\"PiYG\", unit=\"TWh\", fn=None, lim=None):\n",
    "    \n",
    "    crs = ccrs.EqualEarth()\n",
    "    geodf = geodf.to_crs(crs.proj4_init)\n",
    "    \n",
    "    if lim is None:\n",
    "        lim = df[carrier].abs().max()\n",
    "\n",
    "    fig, ax = plt.subplots(figsize=(7,7), subplot_kw={\"projection\": crs})\n",
    "\n",
    "    geodf.plot(\n",
    "        ax=ax,\n",
    "        column=-df[carrier].reindex(geodf.index),\n",
    "        #transform=ccrs.PlateCarree(),\n",
    "        cmap=cmap,\n",
    "        linewidths=0,\n",
    "        legend=True,\n",
    "        vmin=-lim,\n",
    "        vmax=lim,\n",
    "        legend_kwds={\n",
    "            'label': f\"{carrier} balance [{unit}]\",\n",
    "            \"shrink\": 0.7,\n",
    "        },\n",
    "    )\n",
    "\n",
    "    ax.add_feature(cartopy.feature.COASTLINE.with_scale(\"50m\"), linewidth=0.2, zorder=2) \n",
    "    ax.add_feature(cartopy.feature.BORDERS.with_scale(\"50m\"), linewidth=0.2, zorder=2)\n",
    "\n",
    "    plt.gca().outline_patch.set_visible(False)\n",
    "    ax.set_facecolor('white')\n",
    "\n",
    "    if fn is None:\n",
    "        plt.savefig(f\"{output}/import-export-{carrier}-{lim}.pdf\", bbox_inches='tight')"
   ]
  },
  {
   "cell_type": "code",
   "execution_count": null,
   "id": "b1d36e10-3be7-41ae-a158-4551cd5583b4",
   "metadata": {},
   "outputs": [],
   "source": [
    "plot_import_export(io, nodes, 'electricity', cmap='PRGn', lim=200)"
   ]
  },
  {
   "cell_type": "code",
   "execution_count": null,
   "id": "321c8531-fd25-4c38-a828-c086da90997f",
   "metadata": {},
   "outputs": [],
   "source": [
    "plot_import_export(io, nodes, 'electricity', cmap='PRGn', lim=100)"
   ]
  },
  {
   "cell_type": "code",
   "execution_count": null,
   "id": "5c792809-e959-4dc1-86d1-a269c8448d37",
   "metadata": {},
   "outputs": [],
   "source": [
    "plot_import_export(io, nodes, 'hydrogen', cmap='PRGn', lim=200)"
   ]
  },
  {
   "cell_type": "code",
   "execution_count": null,
   "id": "72b54b86-c9e0-41eb-95ce-f49ad46b68eb",
   "metadata": {},
   "outputs": [],
   "source": [
    "if GAS_NETWORK:\n",
    "    plot_import_export(io, nodes, 'gas', cmap='PRGn', lim=200)"
   ]
  },
  {
   "cell_type": "code",
   "execution_count": null,
   "id": "5ef632a9-8ed2-4085-b8a7-4e30ecd28a92",
   "metadata": {},
   "outputs": [],
   "source": [
    "if GAS_NETWORK:\n",
    "    plot_import_export(io, nodes, 'gas', cmap='PRGn', lim=60)"
   ]
  },
  {
   "cell_type": "code",
   "execution_count": null,
   "id": "09a904fe-1454-4dd8-8789-1806790c5a31",
   "metadata": {},
   "outputs": [],
   "source": [
    "plot_import_export(io, nodes, 'total', cmap='PRGn', lim=200)"
   ]
  },
  {
   "cell_type": "markdown",
   "id": "ede96a55-4239-4867-a18f-eca0c0c41b7d",
   "metadata": {
    "tags": []
   },
   "source": [
    "## Capacities Built"
   ]
  },
  {
   "cell_type": "code",
   "execution_count": null,
   "id": "e9cd2a6e-13bc-4a6a-b46a-f5f86aa17d62",
   "metadata": {},
   "outputs": [],
   "source": [
    "def plot_capacity_built(df, geodf, carrier, cmap=\"Blues\", unit=\"GW\", fn=None):\n",
    "    \n",
    "    proj = ccrs.EqualEarth()\n",
    "    geodf = geodf.to_crs(proj.proj4_init)\n",
    "    \n",
    "    fig, ax = plt.subplots(figsize=(7,7), subplot_kw={\"projection\": proj})\n",
    "\n",
    "    geodf.plot(\n",
    "        ax=ax,\n",
    "        column=df[carrier].reindex(geodf.index),\n",
    "        #transform=ccrs.PlateCarree(),\n",
    "        cmap=cmap,\n",
    "        linewidths=0,\n",
    "        legend=True,\n",
    "        vmin=0,\n",
    "        legend_kwds={\n",
    "            'label': f\"{carrier} capacity [{unit}]\",\n",
    "            \"shrink\": 0.7,\n",
    "        },\n",
    "    )\n",
    "\n",
    "    ax.add_feature(cartopy.feature.COASTLINE.with_scale(\"50m\"), linewidth=0.2, zorder=2) \n",
    "    ax.add_feature(cartopy.feature.BORDERS.with_scale(\"50m\"), linewidth=0.2, zorder=2)\n",
    "\n",
    "    plt.gca().outline_patch.set_visible(False)\n",
    "    ax.set_facecolor('white')\n",
    "\n",
    "    if fn is None:\n",
    "        plt.savefig(f\"{output}/capacities-built-{carrier}.pdf\", bbox_inches='tight')"
   ]
  },
  {
   "cell_type": "code",
   "execution_count": null,
   "id": "79f64e67-2db5-4898-8181-e5d08e04c15d",
   "metadata": {},
   "outputs": [],
   "source": [
    "p_caps = pd.concat([\n",
    "    n.generators.groupby([n.generators.bus.map(n.buses.location), \"carrier\"]).p_nom_opt.sum().unstack().drop([\"oil\", \"gas\"], axis=1),\n",
    "    n.links.groupby([n.links.bus0.map(n.buses.location), \"carrier\"]).p_nom_opt.sum().unstack().drop([\"DC\", \"H2 pipeline\"], axis=1),\n",
    "    n.storage_units.groupby([n.storage_units.bus.map(n.buses.location), \"carrier\"]).p_nom_opt.sum().unstack(),\n",
    "], axis=1).div(1e3) # GW"
   ]
  },
  {
   "cell_type": "code",
   "execution_count": null,
   "id": "b7bbaa64-38bb-4265-9654-566862d109b2",
   "metadata": {},
   "outputs": [],
   "source": [
    "p_caps = p_caps.loc[:,p_caps.count() > 1]"
   ]
  },
  {
   "cell_type": "code",
   "execution_count": null,
   "id": "67ec2d8b-c202-4934-9396-49dff425e165",
   "metadata": {},
   "outputs": [],
   "source": [
    "for i in p_caps.columns:\n",
    "    \n",
    "    if \"off\" in i:\n",
    "        gdf = offnodes\n",
    "    else:\n",
    "        gdf = nodes\n",
    "        \n",
    "    if \"wind\" in i:\n",
    "        cmap = \"Blues\"\n",
    "    elif \"heat\" in i or \"water tank\" in i:\n",
    "        cmap = \"Reds\"\n",
    "    elif \"solar\" in i:\n",
    "        cmap = \"Oranges\"\n",
    "    elif i in [\"hydro\", \"PHS\", \"ror\"]:\n",
    "        cmap = \"GnBu\"\n",
    "    elif \"H2\" in i or i in [\"Fischer-Tropsch\", \"Sabatier\"]:\n",
    "        cmap = \"RdPu\"\n",
    "    elif \"battery\" in i or \"distribution\" in i or \"BEV\" in i or \"V2G\" in i:\n",
    "        cmap = \"Greens\"\n",
    "    \n",
    "    \n",
    "    if p_caps[i].max() > 1:\n",
    "        plot_capacity_built(p_caps, gdf, i, cmap);"
   ]
  },
  {
   "cell_type": "code",
   "execution_count": null,
   "id": "a7667a01-7f48-48d3-9746-705a68db46da",
   "metadata": {},
   "outputs": [],
   "source": [
    "e_caps = n.stores.groupby([n.stores.bus.map(n.buses.location), \"carrier\"]).e_nom_opt.sum().unstack().div(1e3) # GWh\n",
    "e_caps = e_caps.loc[:,e_caps.count() > 1]"
   ]
  },
  {
   "cell_type": "code",
   "execution_count": null,
   "id": "4cee75f5-0955-4ec2-a4fa-03a0a5c75a1f",
   "metadata": {},
   "outputs": [],
   "source": [
    "e_caps"
   ]
  },
  {
   "cell_type": "code",
   "execution_count": null,
   "id": "708b45eb-8490-4406-beff-7e5a3400bfd2",
   "metadata": {},
   "outputs": [],
   "source": [
    "for i in e_caps.columns:\n",
    "        \n",
    "    if \"water tank\" in i:\n",
    "        cmap = \"Reds\"\n",
    "    elif \"solar\" in i:\n",
    "        cmap = \"Oranges\"\n",
    "    elif \"H2\" in i or \"gas\" in i:\n",
    "        cmap = \"RdPu\"\n",
    "    elif \"battery\" in i or \"Li ion\":\n",
    "        cmap = \"Greens\"\n",
    "    \n",
    "    \n",
    "    if e_caps[i].max() > 1:\n",
    "        plot_capacity_built(e_caps, gdf, i, cmap, unit=\"GWh\");"
   ]
  },
  {
   "cell_type": "markdown",
   "id": "e20b421a-4601-47ed-b975-7939678d3f34",
   "metadata": {},
   "source": [
    "## Capacity Factors Renewables"
   ]
  },
  {
   "cell_type": "code",
   "execution_count": null,
   "id": "9e74ee51-2ff0-4246-8486-c11ecc3a90e9",
   "metadata": {},
   "outputs": [],
   "source": [
    "df = n.generators_t.p_max_pu.mean().groupby(\n",
    "    [n.generators.carrier, n.generators.bus.map(n.buses.location)]\n",
    ").first().unstack(0).mul(100)"
   ]
  },
  {
   "cell_type": "code",
   "execution_count": null,
   "id": "e136406d-e4b4-4de1-a250-3e2fcdb7bf43",
   "metadata": {},
   "outputs": [],
   "source": [
    "cop = n.links_t.efficiency.mean().groupby([n.links.carrier, n.links.bus0.map(n.buses.location)]).first().unstack(0)"
   ]
  },
  {
   "cell_type": "code",
   "execution_count": null,
   "id": "20bcfbdd-4d1b-44af-8aa9-bb549dc41812",
   "metadata": {},
   "outputs": [],
   "source": [
    "df[\"ground-sourced heat pump\"] = cop.filter(like='ground').mean(axis=1)\n",
    "df[\"air-sourced heat pump\"] = cop.filter(like='air').mean(axis=1)"
   ]
  },
  {
   "cell_type": "code",
   "execution_count": null,
   "id": "222d0c9d-91d1-4c0f-b2d9-b8f405d72e6b",
   "metadata": {},
   "outputs": [],
   "source": [
    "df[\"solar thermal\"] =  df.filter(like=\"solar thermal\").mean(axis=1)"
   ]
  },
  {
   "cell_type": "code",
   "execution_count": null,
   "id": "c733549b-8152-4626-852c-a83b11d697fc",
   "metadata": {},
   "outputs": [],
   "source": [
    "techs = [\n",
    "    \"offwind-ac\",\n",
    "    \"offwind-dc\",\n",
    "    \"onwind\", \n",
    "    \"solar\",\n",
    "    \"solar thermal\",\n",
    "    \"ror\",\n",
    "    \"air-sourced heat pump\",\n",
    "    \"ground-sourced heat pump\"\n",
    "]\n",
    "df = df[techs]"
   ]
  },
  {
   "cell_type": "code",
   "execution_count": null,
   "id": "02316ce5-af0e-41dd-9edc-23cf65cb1d34",
   "metadata": {},
   "outputs": [],
   "source": [
    "def plot_capacity_factors(df, geodf, carrier, cmap=\"Blues\", vmax=100, vmin=0, label=\"capacity factors [%]\", fn=None):\n",
    "    \n",
    "    proj = ccrs.EqualEarth()\n",
    "    geodf = geodf.to_crs(proj.proj4_init)\n",
    "\n",
    "    fig, ax = plt.subplots(figsize=(7,7), subplot_kw={\"projection\": proj})\n",
    "\n",
    "    geodf.plot(\n",
    "        ax=ax,\n",
    "        column=df[carrier].reindex(geodf.index),\n",
    "        #transform=ccrs.PlateCarree(),\n",
    "        cmap=cmap,\n",
    "        linewidths=0,\n",
    "        legend=True,\n",
    "        vmax=vmax,\n",
    "        vmin=vmin,\n",
    "        legend_kwds={\n",
    "            'label': label,\n",
    "            \"shrink\": 0.7,\n",
    "            #\"extend\": \"max\",\n",
    "        },\n",
    "    )\n",
    "\n",
    "    ax.add_feature(cartopy.feature.COASTLINE.with_scale(\"50m\"), linewidth=0.2, zorder=2) \n",
    "    ax.add_feature(cartopy.feature.BORDERS.with_scale(\"50m\"), linewidth=0.2, zorder=2)\n",
    "\n",
    "    plt.gca().outline_patch.set_visible(False)\n",
    "    ax.set_facecolor('white')\n",
    "\n",
    "    if fn is None:\n",
    "        plt.savefig(f\"{output_resources}/cf-{carrier}.pdf\", bbox_inches='tight')"
   ]
  },
  {
   "cell_type": "code",
   "execution_count": null,
   "id": "4de0bcb5-1b2f-4cf8-9451-5428bb430bae",
   "metadata": {},
   "outputs": [],
   "source": [
    "plot_capacity_factors(df, nodes, \"onwind\", vmax=55)"
   ]
  },
  {
   "cell_type": "code",
   "execution_count": null,
   "id": "7c1c853b-3c9c-42b6-8a31-859d4c748a3f",
   "metadata": {},
   "outputs": [],
   "source": [
    "plot_capacity_factors(df, nodes, \"solar\", \"Oranges\", vmax=15)"
   ]
  },
  {
   "cell_type": "code",
   "execution_count": null,
   "id": "7d476df1-5b41-4e81-80eb-8a6e9222ee48",
   "metadata": {},
   "outputs": [],
   "source": [
    "plot_capacity_factors(df, nodes, \"solar thermal\", \"Oranges\", vmax=15)"
   ]
  },
  {
   "cell_type": "code",
   "execution_count": null,
   "id": "3ad2395f-0e0a-4bde-88b8-9301b10e52f3",
   "metadata": {},
   "outputs": [],
   "source": [
    "plot_capacity_factors(df, offnodes, \"offwind-dc\", vmax=55)"
   ]
  },
  {
   "cell_type": "code",
   "execution_count": null,
   "id": "4239d64c-4bea-4fc8-b4b8-760e97822461",
   "metadata": {},
   "outputs": [],
   "source": [
    "plot_capacity_factors(df, offnodes, \"offwind-ac\", vmax=55)"
   ]
  },
  {
   "cell_type": "code",
   "execution_count": null,
   "id": "4265b5cb-4c02-441c-b2f8-ce8ec4e9024f",
   "metadata": {},
   "outputs": [],
   "source": [
    "plot_capacity_factors(df, nodes, \"air-sourced heat pump\", cmap='Greens', vmax=4, vmin=2, label=\"mean COP [-]\")"
   ]
  },
  {
   "cell_type": "code",
   "execution_count": null,
   "id": "80a6add1-8069-463b-a7c0-359f660611a5",
   "metadata": {},
   "outputs": [],
   "source": [
    "plot_capacity_factors(df, nodes, \"ground-sourced heat pump\", cmap='Greens', vmax=4, vmin=2, label=\"mean COP [-]\")"
   ]
  },
  {
   "cell_type": "markdown",
   "id": "ef0c2a30-0df3-41b7-8eb8-b433344389e3",
   "metadata": {},
   "source": [
    "## Demand Totals"
   ]
  },
  {
   "cell_type": "code",
   "execution_count": null,
   "id": "6810e52b-e59b-4b85-becb-3cd09fb4f3c5",
   "metadata": {},
   "outputs": [],
   "source": [
    "df = n.links.loc[n.links.carrier=='H2 Electrolysis'].set_index('bus0').p_nom_opt.div(1e3).reindex(nodes.index) # GW"
   ]
  },
  {
   "cell_type": "code",
   "execution_count": null,
   "id": "58c1cf96-5502-49a0-9386-1632bcf042d0",
   "metadata": {},
   "outputs": [],
   "source": [
    "plt.style.use([\"bmh\", 'matplotlibrc'])"
   ]
  },
  {
   "cell_type": "code",
   "execution_count": null,
   "id": "c647dbb2-0c8c-4328-952d-151e308b2197",
   "metadata": {},
   "outputs": [],
   "source": [
    "mapping = {\n",
    "    'H2 for industry': \"hydrogen\",\n",
    "    'H2 for shipping': \"hydrogen\",\n",
    "    'agriculture electricity': \"electricity\",\n",
    "    'agriculture heat': \"heat\",\n",
    "    'agriculture machinery oil': \"oil\",\n",
    "    'agriculture machinery oil emissions': \"emissions\",\n",
    "    'electricity': \"electricity\",\n",
    "    'gas for industry': \"methane\",\n",
    "    'industry electricity': \"electricity\",\n",
    "    'kerosene for aviation': \"oil\",\n",
    "    'land transport EV': \"electricity\",\n",
    "    'land transport fuel cell': \"hydrogen\",\n",
    "    'low-temperature heat for industry': \"heat\",\n",
    "    'naphtha for industry': \"oil\",\n",
    "    'oil emissions': \"emissions\",\n",
    "    'process emissions': \"emissions\",\n",
    "    'residential rural heat': \"heat\",\n",
    "    'residential urban decentral heat': \"heat\",\n",
    "    'services rural heat': \"heat\",\n",
    "    'services urban decentral heat': \"heat\",\n",
    "    'solid biomass for industry': \"solid biomass\",\n",
    "    'urban central heat': \"heat\"\n",
    "}"
   ]
  },
  {
   "cell_type": "code",
   "execution_count": null,
   "id": "7217bb36-b327-4758-b969-b37ce816cc18",
   "metadata": {},
   "outputs": [],
   "source": [
    "mapping_sector = {\n",
    "    'H2 for industry': (\"hydrogen\", \"industry\"),\n",
    "    'H2 for shipping': (\"hydrogen\", \"shipping\"),\n",
    "    'agriculture electricity': (\"electricity\", \"agriculture\"),\n",
    "    'agriculture heat': (\"heat\", \"agriculture\"),\n",
    "    'agriculture machinery oil': (\"oil\", \"agriculture\"),\n",
    "    'agriculture machinery oil emissions': (\"emissions\", \"agriculture\"),\n",
    "    'electricity': (\"electricity\", \"residential\"),\n",
    "    'gas for industry': (\"methane\", \"industry\"),\n",
    "    'industry electricity': (\"electricity\", \"industry\"),\n",
    "    'kerosene for aviation': (\"oil\", \"aviation\"),\n",
    "    'land transport EV': (\"electricity\", \"land transport\"),\n",
    "    'land transport fuel cell': (\"hydrogen\", \"land transport\"),\n",
    "    'low-temperature heat for industry': (\"heat\", \"industry\"),\n",
    "    'naphtha for industry': (\"oil\", \"industry\"),\n",
    "    'oil emissions': (\"emissions\", \"other\"),\n",
    "    'process emissions': (\"emissions\", \"process\"),\n",
    "    'residential rural heat': (\"heat\", \"residential rural\"),\n",
    "    'residential urban decentral heat': (\"heat\", \"residential urban\"),\n",
    "    'services rural heat': (\"heat\", \"services rural\"),\n",
    "    'services urban decentral heat': (\"heat\", \"services urban\"),\n",
    "    'solid biomass for industry': (\"solid biomass\", \"industry\"),\n",
    "    'urban central heat': (\"heat\", \"district heating\")\n",
    "}"
   ]
  },
  {
   "cell_type": "code",
   "execution_count": null,
   "id": "fe4c65bb-92e8-4936-aa2a-5447036101a2",
   "metadata": {},
   "outputs": [],
   "source": [
    "order = [\n",
    "    \"electricity\",\n",
    "    \"heat\",\n",
    "    \"hydrogen\",\n",
    "    \"methane\",\n",
    "    \"oil\",\n",
    "    \"solid biomass\",\n",
    "]"
   ]
  },
  {
   "cell_type": "code",
   "execution_count": null,
   "id": "45824922-5345-4b98-9143-a90c2032b114",
   "metadata": {},
   "outputs": [],
   "source": [
    "df = demand_by_region.sum()"
   ]
  },
  {
   "cell_type": "code",
   "execution_count": null,
   "id": "b1e77731-e73f-4457-9ff8-4d7e420ba6da",
   "metadata": {},
   "outputs": [],
   "source": [
    "df.index = pd.MultiIndex.from_tuples([(mapping[i], i) for i in df.index])"
   ]
  },
  {
   "cell_type": "code",
   "execution_count": null,
   "id": "b871fe1e-7c33-4a19-b4e4-4b24dd56dc8b",
   "metadata": {},
   "outputs": [],
   "source": [
    "df.drop(\"emissions\", inplace=True)"
   ]
  },
  {
   "cell_type": "code",
   "execution_count": null,
   "id": "59300e55-3278-44f7-ba44-e1a5d6cbc14d",
   "metadata": {},
   "outputs": [],
   "source": [
    "fig, ax = plt.subplots(figsize=(5,5))\n",
    "\n",
    "df.unstack().loc[order].plot.bar(ax=ax, stacked=True, cmap='tab20', edgecolor='k', ylim=(-100, 4500))\n",
    "\n",
    "plt.legend(bbox_to_anchor=(1,1))\n",
    "\n",
    "plt.ylabel(\"Final energy and non-energy demand [TWh/a]\")\n",
    "\n",
    "plt.savefig(f\"{output_resources}/demand-by-carrier.pdf\")"
   ]
  },
  {
   "cell_type": "code",
   "execution_count": null,
   "id": "cb4e8734-2a4c-4c06-b1f9-e9a44cf71f57",
   "metadata": {},
   "outputs": [],
   "source": [
    "df = demand_by_region.sum()"
   ]
  },
  {
   "cell_type": "code",
   "execution_count": null,
   "id": "b77f742f-c21b-40ba-b8ec-0d9b71e008d1",
   "metadata": {},
   "outputs": [],
   "source": [
    "df.index = pd.MultiIndex.from_tuples([mapping_sector[i] for i in df.index])"
   ]
  },
  {
   "cell_type": "code",
   "execution_count": null,
   "id": "17ff7dec-e427-4bbe-8399-eb4c40605c20",
   "metadata": {},
   "outputs": [],
   "source": [
    "df = df.loc[df>0]"
   ]
  },
  {
   "cell_type": "code",
   "execution_count": null,
   "id": "b4cf3265-e8a4-49ed-ba52-a1f95e837836",
   "metadata": {},
   "outputs": [],
   "source": [
    "colors = config[\"plotting\"][\"tech_colors\"]"
   ]
  },
  {
   "cell_type": "code",
   "execution_count": null,
   "id": "7ba36311-baa9-4b67-bced-2b642c2811e3",
   "metadata": {},
   "outputs": [],
   "source": [
    "fig, ax = plt.subplots(figsize=(4.5,4.5))\n",
    "\n",
    "df.unstack().loc[order].T.plot.barh(ax=ax, color=colors, stacked=True, edgecolor='k', xlim=(-100, 3500))\n",
    "\n",
    "plt.legend(bbox_to_anchor=(1,1))\n",
    "\n",
    "plt.xlabel(\"Final energy and non-energy demand [TWh/a]\")\n",
    "\n",
    "plt.savefig(f\"{output_resources}/demand-by-sector-carrier.pdf\")"
   ]
  },
  {
   "cell_type": "code",
   "execution_count": null,
   "id": "4ba1a0d0-3307-4636-b8b5-1dd6d11085f4",
   "metadata": {},
   "outputs": [],
   "source": [
    "fig, ax = plt.subplots(figsize=(4.5,4.5))\n",
    "\n",
    "df.unstack().loc[order].plot.barh(ax=ax, stacked=True, cmap='tab20', edgecolor='k', xlim=(-100, 4500))\n",
    "\n",
    "plt.legend(bbox_to_anchor=(1,1))\n",
    "\n",
    "plt.xlabel(\"Final energy and non-energy demand [TWh/a]\")\n",
    "\n",
    "plt.savefig(f\"{output_resources}/demand-by-carrier-sector.pdf\")"
   ]
  },
  {
   "cell_type": "markdown",
   "id": "28da4f4b-65b7-483e-aa99-62d8ae6fc5e0",
   "metadata": {
    "tags": []
   },
   "source": [
    "## Balance Time Series"
   ]
  },
  {
   "cell_type": "code",
   "execution_count": null,
   "id": "21ac38fa-607a-4b77-9ca8-f00a2732146c",
   "metadata": {},
   "outputs": [],
   "source": [
    "def rename_techs_tyndp(tech):\n",
    "    tech = rename_techs(tech)\n",
    "    #if \"heat pump\" in tech or \"resistive heater\" in tech:\n",
    "    #    return \"power-to-heat\"\n",
    "    #elif tech in [\"H2 Electrolysis\", \"methanation\", \"helmeth\", \"H2 liquefaction\"]:\n",
    "    #    return \"power-to-gas\"\n",
    "    if tech == \"H2\":\n",
    "        return \"H2 storage\"\n",
    "    #elif tech in [\"OCGT\", \"CHP\", \"gas boiler\", \"H2 Fuel Cell\"]:\n",
    "    #    return \"gas-to-power/heat\"\n",
    "    #elif \"solar\" in tech:\n",
    "    #    return \"solar\"\n",
    "    elif tech == \"Fischer-Tropsch\":\n",
    "        return \"power-to-liquid\"\n",
    "    elif \"offshore wind\" in tech:\n",
    "        return \"offshore wind\"\n",
    "#    if \"heat pump\" in tech:\n",
    "#        return \"heat pump\"\n",
    "    elif tech == \"gas\":\n",
    "        return \"fossil gas\"\n",
    "    #elif \"CC\" in tech or \"sequestration\" in tech:\n",
    "    #    return \"CCS\"\n",
    "    elif tech in [\"industry electricity\", \"agriculture electricity\"]:\n",
    "        return \"industry electricity\"\n",
    "    elif \"oil emissions\" in tech:\n",
    "        return \"oil emissions\"\n",
    "    else:\n",
    "        return tech"
   ]
  },
  {
   "cell_type": "code",
   "execution_count": null,
   "id": "e1285d21-9944-407f-ade9-08643766f843",
   "metadata": {},
   "outputs": [],
   "source": [
    "preferred_order = pd.Index([\n",
    "    'H2 storage',\n",
    "    'hydrogen storage',\n",
    "    'battery storage',\n",
    "    'BEV charger',\n",
    "    'V2G',\n",
    "    'hot water storage',\n",
    "    'co2',\n",
    "    'hydroelectricity',\n",
    "    'hydro reservoir',\n",
    "    'pumped hydro storage',\n",
    "    'run of river',\n",
    "    'transmission lines',\n",
    "    'electricity distribution grid',\n",
    "    'solid biomass',\n",
    "    'biogas',\n",
    "    'onshore wind',\n",
    "    'offshore wind',\n",
    "    'offshore wind (AC)',\n",
    "    'offshore wind (DC)',\n",
    "    'solar PV',\n",
    "    'solar thermal',\n",
    "    'solar rooftop',\n",
    "    'solar',\n",
    "    'building retrofitting'\n",
    "    'ground heat pump',\n",
    "    'air heat pump',\n",
    "    'heat pump',\n",
    "    'resistive heater',\n",
    "    'power-to-heat',\n",
    "    'gas-to-power/heat',\n",
    "    'CHP',\n",
    "    'OCGT',\n",
    "    'gas boiler',\n",
    "    'gas',\n",
    "    'natural gas',\n",
    "    'helmeth',\n",
    "    'methanation',\n",
    "    'power-to-gas',\n",
    "    'power-to-H2',\n",
    "    'H2 pipeline',\n",
    "    'H2 pipeline retrofitted',\n",
    "    'gas pipeline',\n",
    "    'gas pipeline new',\n",
    "    'H2 liquefaction',\n",
    "    'power-to-liquid',\n",
    "    'CO2 sequestration',\n",
    "    'CCS'\n",
    "])"
   ]
  },
  {
   "cell_type": "code",
   "execution_count": null,
   "id": "405243fd-8e69-4617-b8f7-3f9286525a4b",
   "metadata": {},
   "outputs": [],
   "source": [
    "def datetime_xticks(df, ax, number_timestamps=10, minor_attr=\"day\", minor_fmt='%d', major_attr=\"month\", major_fmt='%b'):\n",
    "    # https://stackoverflow.com/questions/30133280/pandas-bar-plot-changes-date-format\n",
    "\n",
    "    # Create list of monthly timestamps by selecting the first weekly timestamp of each\n",
    "    # month (in this example, the first Sunday of each month)\n",
    "    daily_timestamps = [timestamp for idx, timestamp in enumerate(df.index)\n",
    "                          if (getattr(timestamp, minor_attr) != getattr(df.index[idx-1], minor_attr)) | (idx == 0)]\n",
    "\n",
    "    # Automatically select appropriate number of timestamps so that x-axis does\n",
    "    # not get overcrowded with tick labels\n",
    "    step = 1\n",
    "    while len(daily_timestamps[::step]) > number_timestamps:\n",
    "        step += 1\n",
    "    timestamps = daily_timestamps[::step]\n",
    "\n",
    "    # Create tick labels from timestamps\n",
    "    labels = [ts.strftime(f'{minor_fmt}\\n{major_fmt}')\n",
    "              if (getattr(ts, major_attr) != getattr(timestamps[idx-1], major_attr)) | (idx == 0)# | (idx == len(timestamps)-1)\n",
    "              else ts.strftime(minor_fmt) for idx, ts in enumerate(timestamps)]\n",
    "\n",
    "    # Set major ticks and labels\n",
    "    ax.set_xticks([df.index.get_loc(ts) for ts in timestamps])\n",
    "    ax.set_xticklabels(labels)\n",
    "\n",
    "    # Set minor ticks without labels\n",
    "    ax.set_xticks([df.index.get_loc(ts) for ts in daily_timestamps], minor=True)\n",
    "\n",
    "    # Rotate and center labels\n",
    "    ax.figure.autofmt_xdate(rotation=0, ha='center')"
   ]
  },
  {
   "cell_type": "code",
   "execution_count": null,
   "id": "5a3ea7cb-001e-4134-8a42-11f9da60f7bb",
   "metadata": {},
   "outputs": [],
   "source": [
    "def plot_balance_timeseries(n, carrier, time, ylims=None, resample=\"\", balance=None, fn=None):\n",
    "\n",
    "    if balance is None:\n",
    "        balance = nodal_balance(n, carrier, time=time, energy=False)\n",
    "\n",
    "    df = balance.groupby(['carrier', 'snapshot']).sum().unstack(0).div(1e3)\n",
    "\n",
    "    df = df.groupby(df.columns.map(rename_techs_tyndp), axis=1).sum()\n",
    "    \n",
    "    if resample:\n",
    "        df = df.resample(resample).mean()\n",
    "\n",
    "    df = df.loc[:, ~df.columns.isin([\"H2 pipeline\", \"transmission lines\"])]\n",
    "\n",
    "    order = preferred_order.intersection(df.columns).append(df.columns.difference(preferred_order))\n",
    "    df = df.loc[:,order]\n",
    "\n",
    "    colors = df.columns.map(tech_colors)\n",
    "\n",
    "    fig, ax = plt.subplots(figsize=(10,4))\n",
    "\n",
    "    dft = df.loc[time]\n",
    "\n",
    "    pos = dft.where(dft>0)\n",
    "    neg = dft.where(dft<0)\n",
    "\n",
    "    kwargs = dict(\n",
    "        ax=ax,\n",
    "        linewidth=0,\n",
    "        color=colors,\n",
    "        width=1.0\n",
    "    )\n",
    "\n",
    "    pos.plot.bar(**kwargs, stacked=True)\n",
    "    neg.plot.bar(**kwargs, stacked=True)\n",
    "\n",
    "    handles, labels = ax.get_legend_handles_labels()\n",
    "\n",
    "    half = int(len(handles)/2)\n",
    "    plt.legend(\n",
    "        handles=handles[:half],\n",
    "        labels=labels[:half],\n",
    "        bbox_to_anchor=(1,1.05),\n",
    "    )\n",
    "\n",
    "    if ylims is None:\n",
    "        ylim = np.ceil(max(-neg.sum(axis=1).min(), pos.sum(axis=1).max()) / 100)*100\n",
    "    else:\n",
    "        ylim = ylims[carrier] if isinstance(ylims, dict) else ylims\n",
    "\n",
    "    plt.ylim([-ylim, ylim])\n",
    "    plt.xlabel('')\n",
    "    unit = \"kt/h\" if \"co2\" in carrier else \"GW\"\n",
    "    plt.ylabel(f\"{carrier} balance [{unit}]\")\n",
    "\n",
    "    if \"W\" in resample or \"D\" in resample:\n",
    "        datetime_xticks(dft, ax, number_timestamps=12, minor_attr='month', minor_fmt='%d')\n",
    "    else:\n",
    "        datetime_xticks(dft, ax)\n",
    "\n",
    "    ax.axhline(0, color='grey', linewidth=0.5)\n",
    "\n",
    "    if fn is None:\n",
    "        plt.savefig(f\"{output}/ts-balance-{carrier}-{resample}-{time}.pdf\", bbox_inches='tight')\n",
    "        \n",
    "    plt.close()"
   ]
  },
  {
   "cell_type": "code",
   "execution_count": null,
   "id": "ff327c09-dd3a-4608-aa07-666299f6af8b",
   "metadata": {},
   "outputs": [],
   "source": [
    "carriers = [\n",
    "    'AC',\n",
    "    'co2',\n",
    "    'co2 stored',\n",
    "    'gas',\n",
    "    'H2',\n",
    "    'residential rural heat', \n",
    "    'services rural heat', \n",
    "    'residential urban decentral heat',\n",
    "    'services urban decentral heat',\n",
    "    'urban central heat',\n",
    "    'oil',\n",
    "    'low voltage'\n",
    "]"
   ]
  },
  {
   "cell_type": "code",
   "execution_count": null,
   "id": "6d98eb28-6825-4a26-8102-6913a380d9a6",
   "metadata": {},
   "outputs": [],
   "source": [
    "ylims = {\n",
    "    'AC': 2200,\n",
    "    'co2': 150,\n",
    "    'co2 stored': 100,\n",
    "    'gas': 700,\n",
    "    'H2': 800,\n",
    "    'residential rural heat': 200, \n",
    "    'services rural heat': 100, \n",
    "    'residential urban decentral heat': 200,\n",
    "    'services urban decentral heat': 100,\n",
    "    'urban central heat': 600,\n",
    "    'oil': 200,\n",
    "    'low voltage': 1000\n",
    "}"
   ]
  },
  {
   "cell_type": "code",
   "execution_count": null,
   "id": "c1f4f9e9-574b-4605-ad07-eea65aa49a08",
   "metadata": {},
   "outputs": [],
   "source": [
    "months = pd.date_range(\"2013-01\", \"2014-01\", freq=\"M\", closed='right').format(formatter=lambda x: x.strftime('%Y-%m'))"
   ]
  },
  {
   "cell_type": "code",
   "execution_count": null,
   "id": "19431362-f3af-4a36-a38e-91360c9a2d0e",
   "metadata": {},
   "outputs": [],
   "source": [
    "variants = [(n,x,y,ylims) for x in [\"residential rural heat\"] for y in months]\n",
    "nprocesses = mp.cpu_count()\n",
    "with mp.Pool(processes=6) as pool:\n",
    "    x = pool.starmap(plot_balance_timeseries, variants)"
   ]
  },
  {
   "cell_type": "code",
   "execution_count": null,
   "id": "5ef6732d-3bec-487d-af3d-ee61994c936b",
   "metadata": {},
   "outputs": [],
   "source": [
    "for carrier in carriers:\n",
    "    plot_balance_timeseries(n, carrier, \"2013\", resample='D', ylims=ylims)"
   ]
  },
  {
   "cell_type": "code",
   "execution_count": null,
   "id": "c4f6af44-868b-4400-9126-3a5bd7f0a9dc",
   "metadata": {},
   "outputs": [],
   "source": [
    "heat_nodes = [\n",
    "    'residential rural heat', \n",
    "    'services rural heat', \n",
    "    'residential urban decentral heat',\n",
    "    'services urban decentral heat',\n",
    "    'urban central heat',\n",
    "]\n",
    "ylim = 1200\n",
    "for month in months:\n",
    "    balance = pd.concat([nodal_balance(n, c, time=month, energy=False) for c in heat_nodes])\n",
    "    plot_balance_timeseries(n, \"total heat\", month, ylims=ylim, balance=balance)\n",
    "\n",
    "balance = pd.concat([nodal_balance(n, c, time=\"2013\", energy=False) for c in heat_nodes])\n",
    "plot_balance_timeseries(n, \"total heat\", \"2013\", resample='D', ylims=1200, balance=balance)\n",
    "#plot_balance_timeseries(n, \"total heat\", \"2013\", resample='W', ylims=1200, balance=balance)"
   ]
  },
  {
   "cell_type": "code",
   "execution_count": null,
   "id": "f4cf614c-7052-4026-b307-fca8d010d2f9",
   "metadata": {},
   "outputs": [],
   "source": [
    "elec_nodes = [\n",
    "    'AC', \n",
    "    'low voltage',\n",
    "]\n",
    "ylim = 2400\n",
    "for month in months:\n",
    "    balance = pd.concat([nodal_balance(n, c, time=month, energy=False) for c in elec_nodes])\n",
    "    plot_balance_timeseries(n, \"total electricity\", month, ylims=ylim, balance=balance)\n",
    "    \n",
    "\n",
    "balance = pd.concat([nodal_balance(n, c, time=\"2013\", energy=False) for c in elec_nodes])\n",
    "plot_balance_timeseries(n, \"total electricity\", \"2013\", resample='D', ylims=ylim, balance=balance)\n",
    "#plot_balance_timeseries(n, \"total electricity\", \"2013\", resample='W', ylims=ylim, balance=balance)"
   ]
  },
  {
   "cell_type": "code",
   "execution_count": null,
   "id": "b9a9953e-dafc-42e9-929d-3bc4940d3b5d",
   "metadata": {},
   "outputs": [],
   "source": [
    "#for carrier in carriers:\n",
    "#    plot_balance_timeseries(n, carrier, \"2013\", resample='W', ylims=ylims)"
   ]
  },
  {
   "cell_type": "markdown",
   "id": "36d5834c-1815-45a1-b75a-8957684ad1a8",
   "metadata": {
    "tags": []
   },
   "source": [
    "## Utilisation Factor Time Series"
   ]
  },
  {
   "cell_type": "code",
   "execution_count": null,
   "id": "02659d10-f7dd-4f00-8a08-cbf70f64a7c2",
   "metadata": {
    "tags": []
   },
   "outputs": [],
   "source": [
    "import seaborn as sns"
   ]
  },
  {
   "cell_type": "code",
   "execution_count": null,
   "id": "ab95b442-d051-4f1f-92d5-2d160cb6ec4b",
   "metadata": {
    "tags": []
   },
   "outputs": [],
   "source": [
    "def aggregate_techs(tech):\n",
    "    if \"solar thermal\" in tech:\n",
    "        return \"solar thermal\"\n",
    "    elif \"solar\" in tech:\n",
    "        return \"solar PV\"\n",
    "    elif \"offwind\" in tech:\n",
    "        return \"offshore wind\"\n",
    "    elif \"onwind\" in tech:\n",
    "        return \"onshore wind\"\n",
    "    elif \"ror\" in tech:\n",
    "        return \"run of river\"\n",
    "    elif \"ground heat pump\" in tech:\n",
    "        return \"ground-sourced heat pump\"\n",
    "    elif \"air heat pump\" in tech:\n",
    "        return \"air-sourced heat pump\"\n",
    "    elif \"water tank\" in tech:\n",
    "        return \"thermal energy storage\"\n",
    "    elif tech == 'H2':\n",
    "        return \"hydrogen storage\"\n",
    "    elif tech == 'Li ion':\n",
    "        return \"electric vehicle batteries\"\n",
    "    elif \"gas boiler\" in tech:\n",
    "        return \"gas boiler\"\n",
    "    elif \"resistive heater\" in tech:\n",
    "        return \"resistive heater\"\n",
    "    elif \"CHP\" in tech:\n",
    "        return \"CHP\"\n",
    "    else:\n",
    "        return tech"
   ]
  },
  {
   "cell_type": "code",
   "execution_count": null,
   "id": "2850891d-b4fe-4e3b-ba66-e21f4f38b83b",
   "metadata": {
    "tags": []
   },
   "outputs": [],
   "source": [
    "def unstack_day_hour(cfc):\n",
    "\n",
    "    df = cfc.groupby(cfc.index.hour).agg(list)\n",
    "\n",
    "    columns = pd.date_range(cfc.index[0], cfc.index[-1], freq='D').strftime(\"%-d %b\")\n",
    "\n",
    "    return pd.DataFrame(df.tolist(), index=df.index, columns=columns)"
   ]
  },
  {
   "cell_type": "code",
   "execution_count": null,
   "id": "ff8f60f9-332b-4979-a89a-2bd09ec42823",
   "metadata": {
    "tags": []
   },
   "outputs": [],
   "source": [
    "def plot_cf_heatmap(df, vmin=0, vmax=80, cmap='Greens', label='capacity factors [%]', fn=None):\n",
    "    fig, ax = plt.subplots(figsize=(6,2.5))\n",
    "    sns.heatmap(\n",
    "        df,\n",
    "        cmap=cmap,\n",
    "        ax=ax,\n",
    "        vmin=vmin,\n",
    "        vmax=vmax,\n",
    "        cbar_kws=dict(label=label, extend=\"max\")\n",
    "    )\n",
    "    plt.ylabel(\"hour of the day\")\n",
    "    plt.xlabel(\"day of the year\")\n",
    "    plt.yticks(rotation=0)\n",
    "    plt.title(carrier, fontsize=12)\n",
    "    plt.tight_layout()\n",
    "    if fn is None:\n",
    "        plt.savefig(f'{output}/cf-ts-{carrier}.pdf', bbox_inches='tight')\n",
    "    else:\n",
    "        plt.savefig(fn, bbox_inches='tight')\n",
    "    plt.close()"
   ]
  },
  {
   "cell_type": "code",
   "execution_count": null,
   "id": "71758235-d4ca-454e-89e2-921b48a1dc1d",
   "metadata": {
    "tags": []
   },
   "outputs": [],
   "source": [
    "cf = n.buses_t.marginal_price.groupby(n.buses.carrier, axis=1).mean()"
   ]
  },
  {
   "cell_type": "code",
   "execution_count": null,
   "id": "66e81c3d-062e-4ddd-b442-8067d9a50982",
   "metadata": {
    "tags": []
   },
   "outputs": [],
   "source": [
    "for carrier in cf.columns:\n",
    "    cfc = cf[carrier]\n",
    "    df = unstack_day_hour(cfc)\n",
    "    vmax = np.ceil(cfc.quantile(.99) / 10) * 10\n",
    "    plot_cf_heatmap(df, cmap='Spectral_r', label=\"Nodal Price [EUR/MWh]\", vmax=vmax, fn=f'{output}/price-ts-{carrier}.pdf')"
   ]
  },
  {
   "cell_type": "code",
   "execution_count": null,
   "id": "726c7f64-9409-426f-98eb-8c7a2ac6cce4",
   "metadata": {
    "tags": []
   },
   "outputs": [],
   "source": [
    "cf = n.links_t.efficiency.groupby(n.links.carrier, axis=1).mean()\n",
    "cf = cf.groupby(cf.columns.map(aggregate_techs), axis=1).mean()"
   ]
  },
  {
   "cell_type": "code",
   "execution_count": null,
   "id": "b9754c72-1703-4107-896b-022ff0e6de70",
   "metadata": {
    "tags": []
   },
   "outputs": [],
   "source": [
    "for carrier in cf.columns:\n",
    "    cfc = cf[carrier]\n",
    "    df = unstack_day_hour(cfc)\n",
    "    plot_cf_heatmap(df, vmin=1, vmax=4, cmap='Greens', label=\"COP [-]\", fn=f'{output_resources}/cop-ts-{carrier}.pdf')"
   ]
  },
  {
   "cell_type": "code",
   "execution_count": null,
   "id": "0fad2526-7ed1-489c-afdd-380fae4a5d1a",
   "metadata": {
    "tags": []
   },
   "outputs": [],
   "source": [
    "cf = n.links_t.p_max_pu.groupby(n.links.carrier, axis=1).mean() * 100\n",
    "cf = cf.groupby(cf.columns.map(aggregate_techs), axis=1).mean()"
   ]
  },
  {
   "cell_type": "code",
   "execution_count": null,
   "id": "3dc06410-09a9-4efe-a1d9-5d20157244b6",
   "metadata": {
    "tags": []
   },
   "outputs": [],
   "source": [
    "for carrier in cf.columns:\n",
    "    cfc = cf[carrier]\n",
    "    df = unstack_day_hour(cfc)\n",
    "    plot_cf_heatmap(df, cmap='viridis', vmin=40, vmax=100)"
   ]
  },
  {
   "cell_type": "code",
   "execution_count": null,
   "id": "3b1c3bcf-9e1b-40b8-8e19-db7e6f643b8b",
   "metadata": {
    "tags": []
   },
   "outputs": [],
   "source": [
    "cf = n.stores_t.e.groupby(n.stores.carrier, axis=1).sum() / n.stores.e_nom_opt.groupby(n.stores.carrier).sum() * 100\n",
    "cf = cf.groupby(cf.columns.map(aggregate_techs), axis=1).mean()"
   ]
  },
  {
   "cell_type": "code",
   "execution_count": null,
   "id": "f490504e-6c05-40a8-8f81-f41c80cb7f5d",
   "metadata": {
    "tags": []
   },
   "outputs": [],
   "source": [
    "for carrier in cf.columns:\n",
    "    cfc = cf[carrier]\n",
    "    df = unstack_day_hour(cfc)\n",
    "    plot_cf_heatmap(df, cmap='Purples', vmin=0, vmax=100, label='SOC [%]')"
   ]
  },
  {
   "cell_type": "code",
   "execution_count": null,
   "id": "5c3cd0b4-5133-4bf6-982f-6d8f456e1bd1",
   "metadata": {
    "tags": []
   },
   "outputs": [],
   "source": [
    "cf = n.links_t.p0.groupby(n.links.carrier, axis=1).sum() / n.links.p_nom_opt.groupby(n.links.carrier).sum() * 100\n",
    "cf = cf.groupby(cf.columns.map(aggregate_techs), axis=1).mean()"
   ]
  },
  {
   "cell_type": "code",
   "execution_count": null,
   "id": "96171fb0-7685-496b-a229-34fc53260086",
   "metadata": {
    "tags": []
   },
   "outputs": [],
   "source": [
    "bidirectional = (cf < 0).any()"
   ]
  },
  {
   "cell_type": "code",
   "execution_count": null,
   "id": "b6ad5eec-7f5a-478b-b12f-414fa434b786",
   "metadata": {
    "tags": []
   },
   "outputs": [],
   "source": [
    "cfb = cf.loc[:,~bidirectional]"
   ]
  },
  {
   "cell_type": "code",
   "execution_count": null,
   "id": "0eb9e174-ce2f-4871-b2d4-4b6d804dc190",
   "metadata": {
    "tags": []
   },
   "outputs": [],
   "source": [
    "for carrier in cfb.columns:\n",
    "    cfc = cfb[carrier]\n",
    "    df = unstack_day_hour(cfc)\n",
    "    plot_cf_heatmap(df, cmap='Reds', vmax=100)"
   ]
  },
  {
   "cell_type": "code",
   "execution_count": null,
   "id": "f3d1ec48-225d-4fc4-bb50-58303fd4f1ad",
   "metadata": {
    "tags": []
   },
   "outputs": [],
   "source": [
    "cfb = cf.loc[:,bidirectional]"
   ]
  },
  {
   "cell_type": "code",
   "execution_count": null,
   "id": "7d10f1e9-57fd-4226-9982-b74b4af13185",
   "metadata": {
    "tags": []
   },
   "outputs": [],
   "source": [
    "for carrier in cfb.columns:\n",
    "    cfc = cfb[carrier]\n",
    "    df = unstack_day_hour(cfc)\n",
    "    plot_cf_heatmap(df, cmap='RdBu', vmin=-100, vmax=100)"
   ]
  },
  {
   "cell_type": "code",
   "execution_count": null,
   "id": "100a6491-fc38-4cc6-aec0-f20734d43fc8",
   "metadata": {
    "tags": []
   },
   "outputs": [],
   "source": [
    "cf = n.generators_t.p_max_pu.groupby(n.generators.carrier, axis=1).mean() * 100\n",
    "cf = cf.groupby(cf.columns.map(aggregate_techs), axis=1).mean()"
   ]
  },
  {
   "cell_type": "code",
   "execution_count": null,
   "id": "8fd31f89-1b6c-4e4e-ad1e-ea353c1c65a0",
   "metadata": {
    "tags": []
   },
   "outputs": [],
   "source": [
    "for carrier in cf.columns:\n",
    "    cfc = cf[carrier]\n",
    "    df = unstack_day_hour(cfc)\n",
    "    plot_cf_heatmap(df, cmap='Blues', fn=f'{output_resources}/cf-raw-ts-{carrier}.pdf')"
   ]
  },
  {
   "cell_type": "markdown",
   "id": "89285f97-86ba-45f5-a6b9-d65e64f7899c",
   "metadata": {
    "tags": []
   },
   "source": [
    "## Demand Time Series"
   ]
  },
  {
   "cell_type": "code",
   "execution_count": null,
   "id": "e8d0d198-19ff-4f5f-a5a2-1bc55dc0d44d",
   "metadata": {
    "tags": []
   },
   "outputs": [],
   "source": [
    "kwargs = dict(ylim=[0,1], xlabel='', figsize=(8,2))"
   ]
  },
  {
   "cell_type": "code",
   "execution_count": null,
   "id": "aceef029-76a7-4e92-b1ac-9cdc80814b73",
   "metadata": {
    "tags": []
   },
   "outputs": [],
   "source": [
    "trans = n.loads_t.p_set.filter(like='land transport EV').sum(axis=1)\n",
    "trans /= trans.max()"
   ]
  },
  {
   "cell_type": "code",
   "execution_count": null,
   "id": "875e675b-ed44-4248-84c2-09be04688fc4",
   "metadata": {
    "tags": []
   },
   "outputs": [],
   "source": [
    "trans[\"12-2013\"].plot(**kwargs, c='#444444')\n",
    "plt.savefig(output + \"bev-demand-month.pdf\", bbox_inches='tight')"
   ]
  },
  {
   "cell_type": "code",
   "execution_count": null,
   "id": "335fe47b-bba9-434f-b61d-7b6f74136b15",
   "metadata": {
    "tags": []
   },
   "outputs": [],
   "source": [
    "trans.resample('D').mean().plot(**kwargs, c='#444444')\n",
    "plt.savefig(output + \"bev-demand-year.pdf\", bbox_inches='tight')"
   ]
  },
  {
   "cell_type": "code",
   "execution_count": null,
   "id": "636253d4-5b3d-4298-ada1-fbf3cfa2411f",
   "metadata": {},
   "outputs": [],
   "source": [
    "avail = n.links_t.p_max_pu.mean(axis=1)\n",
    "avail[\"12-2013\"].plot(**kwargs, c='#baf238')\n",
    "plt.savefig(output + \"bev-availability-month.pdf\", bbox_inches='tight')"
   ]
  },
  {
   "cell_type": "code",
   "execution_count": null,
   "id": "1998ac52-cdd6-4a6a-a1ad-98c282fa2444",
   "metadata": {
    "tags": []
   },
   "outputs": [],
   "source": [
    "avail.resample('D').mean().plot(**kwargs, c='#baf238')\n",
    "plt.savefig(output + \"bev-availability-year.pdf\", bbox_inches='tight')"
   ]
  },
  {
   "cell_type": "code",
   "execution_count": null,
   "id": "64abd051-516c-4397-9137-72c5b8b952a7",
   "metadata": {},
   "outputs": [],
   "source": [
    "heat = n.loads_t.p_set.filter(like='heat').sum(axis=1)\n",
    "heat /= heat.max()\n",
    "heat[\"02-2013\"].plot(**kwargs, c='#cc1f1f')\n",
    "plt.savefig(output + \"heat-demand-month.pdf\", bbox_inches='tight')"
   ]
  },
  {
   "cell_type": "code",
   "execution_count": null,
   "id": "d15cfd63-797f-4204-acd4-d377fe3df9a0",
   "metadata": {},
   "outputs": [],
   "source": [
    "heat.plot(**kwargs, c='#cc1f1f')\n",
    "plt.savefig(output + \"heat-demand-year.pdf\", bbox_inches='tight')"
   ]
  },
  {
   "cell_type": "code",
   "execution_count": null,
   "id": "9d508c2c-3d9b-44bd-b90d-06d10978f7e3",
   "metadata": {},
   "outputs": [],
   "source": [
    "elec = n.loads_t.p_set.loc[:,n.loads.bus.map(n.buses.carrier) == 'low voltage'].sum(axis=1)\n",
    "elec /= elec.max()\n",
    "elec[\"02-2013\"].plot(**kwargs, c='#110d63')\n",
    "plt.savefig(output + \"elec-demand-month.pdf\", bbox_inches='tight')"
   ]
  },
  {
   "cell_type": "code",
   "execution_count": null,
   "id": "4642b1b9-59f0-4d8b-9b57-edf506601794",
   "metadata": {},
   "outputs": [],
   "source": [
    "elec.plot(**kwargs, c='#110d63')\n",
    "plt.savefig(output + \"elec-demand-year.pdf\", bbox_inches='tight')"
   ]
  },
  {
   "cell_type": "markdown",
   "id": "44054a9b-7cb6-4a7e-b75e-2b24e2619db2",
   "metadata": {},
   "source": [
    "## Trade"
   ]
  },
  {
   "cell_type": "code",
   "execution_count": null,
   "id": "c31a9f04-d9df-4317-99c9-81f04208fadb",
   "metadata": {},
   "outputs": [],
   "source": [
    "import holoviews as hv\n",
    "from holoviews import opts, dim\n",
    "hv.extension('bokeh')\n",
    "hv.output(size=200)"
   ]
  },
  {
   "cell_type": "code",
   "execution_count": null,
   "id": "b6d321ce-2fc5-4661-9ab1-2312c59f84a4",
   "metadata": {},
   "outputs": [],
   "source": [
    "aggregate = {\n",
    "    'LV': 'Baltics',\n",
    "    'LT': 'Baltics',\n",
    "    'EE': 'Baltics',\n",
    "    'BE': 'Benelux',\n",
    "    'NL': 'Benelux',\n",
    "    'LU': 'Benelux',\n",
    "    'AL': 'Balkan',\n",
    "    'RS': 'Balkan',\n",
    "    'BA': 'Balkan',\n",
    "    'MK': 'Balkan',\n",
    "    'ME': 'Balkan',\n",
    "    'HR': 'Balkan',\n",
    "    'BG': 'Balkan',\n",
    "    'RO': 'Balkan',\n",
    "    'PT': 'Iberian Peninsula',\n",
    "    'ES': 'Iberian Peninsula',\n",
    "    'IE': \"Ireland\", #\"British Isles\",\n",
    "    'GB': \"United Kingdom\", #\"British Isles\",\n",
    "    'DK': \"Scandinavia\",\n",
    "    'SE': \"Scandinavia\",\n",
    "    'NO': \"Scandinavia\",\n",
    "    'FI': \"Scandinavia\",\n",
    "    'DE': \"DE-AT-CH\",\n",
    "    'CH': \"DE-AT-CH\",\n",
    "    'AT': \"DE-AT-CH\",\n",
    "    'SI': \"PL-SI-SK-CZ-HU\",\n",
    "    'SK': \"PL-SI-SK-CZ-HU\",\n",
    "    'CZ': \"PL-SI-SK-CZ-HU\",\n",
    "    'HU': \"PL-SI-SK-CZ-HU\",\n",
    "    'PL': \"PL-SI-SK-CZ-HU\",\n",
    "    'FR': \"France\",\n",
    "    'GR': \"Greece\",\n",
    "    'IT': \"Italy\",\n",
    "}"
   ]
  },
  {
   "cell_type": "code",
   "execution_count": null,
   "id": "1f40da24-5a9b-4453-b453-85240fcc00c4",
   "metadata": {},
   "outputs": [],
   "source": [
    "def crossborder_flows(c, carrier):\n",
    "    if not isinstance(carrier, list):\n",
    "        carrier = [carrier]\n",
    "        \n",
    "    sel = n.df(c).carrier.isin(carrier)\n",
    "    return pd.concat({\n",
    "        \"source\": n.df(c).loc[sel].bus0.str[:2].replace(aggregate),\n",
    "        \"target\": n.df(c).loc[sel].bus1.str[:2].replace(aggregate),\n",
    "        \"value\": (n.snapshot_weightings.generators @ n.pnl(c).p0.loc[:,sel]).div(1e6) # TWh\n",
    "    }, axis=1)"
   ]
  },
  {
   "cell_type": "code",
   "execution_count": null,
   "id": "d48ae5cc-9f28-4cc9-ad93-a3118ac759ae",
   "metadata": {},
   "outputs": [],
   "source": [
    "def clean_flows(df):\n",
    "    \n",
    "    asc = df.source < df.target\n",
    "    df_p = df[asc]\n",
    "    swap = {\"source\": \"target\", \"target\": \"source\"}\n",
    "    df_n = df[~asc].rename(columns=swap)\n",
    "    df_n.value *= -1\n",
    "    df = pd.concat([df_p, df_n])\n",
    "    \n",
    "    df = df.groupby(['source', 'target'], as_index=False).sum()\n",
    "    \n",
    "    pos = df.value > 0\n",
    "    swap = {\"source\": \"target\", \"target\": \"source\"}\n",
    "    df = pd.concat([df[pos], df[~pos].rename(columns=swap)])\n",
    "    df.value = df.value.abs()\n",
    "    \n",
    "    df = df.loc[df[\"source\"] != df[\"target\"]]\n",
    "    df = df.sort_values('source')\n",
    "    #df = df.reset_index(drop=True)\n",
    "    \n",
    "    return df"
   ]
  },
  {
   "cell_type": "code",
   "execution_count": null,
   "id": "0c3ee584-f7d5-400c-aef4-c12c91ee1adb",
   "metadata": {},
   "outputs": [],
   "source": [
    "df = clean_flows(crossborder_flows(\"Link\", [\"H2 pipeline\", \"H2 pipeline retrofitted\"]))"
   ]
  },
  {
   "cell_type": "code",
   "execution_count": null,
   "id": "b01e6050-ce9f-4433-9e9f-aeae0678aac4",
   "metadata": {},
   "outputs": [],
   "source": [
    "def plot_trade_chord(df, name, fn=None):\n",
    "\n",
    "    chord = hv.Chord(df)\n",
    "\n",
    "    chord.opts(\n",
    "        opts.Chord(\n",
    "            cmap='Category20',\n",
    "            edge_cmap='Category20',\n",
    "            edge_color='source', \n",
    "            node_color='index',\n",
    "            label_index='index', \n",
    "            #node_size=0,\n",
    "    ))\n",
    "    \n",
    "    if fn is None:\n",
    "        hv.save(chord, f'{output}/chord-{name}.html')\n",
    "    \n",
    "    return chord"
   ]
  },
  {
   "cell_type": "code",
   "execution_count": null,
   "id": "b1b4f300-5a8c-4e4a-abb3-5a4ea6a51eb5",
   "metadata": {},
   "outputs": [],
   "source": [
    "df = clean_flows(\n",
    "    crossborder_flows(\"Link\", [\"H2 pipeline\", \"H2 pipeline retrofitted\"])\n",
    ")\n",
    "plot_trade_chord(df, \"H2\")"
   ]
  },
  {
   "cell_type": "raw",
   "id": "87774e4c-ead6-482a-8c0f-74b0d710cc6c",
   "metadata": {},
   "source": [
    "df = clean_flows(\n",
    "    crossborder_flows(\"Link\", \"gas pipeline\")\n",
    ")\n",
    "plot_trade_chord(df, \"gas\")"
   ]
  },
  {
   "cell_type": "code",
   "execution_count": null,
   "id": "944d8677-fb28-4f3d-86ef-0c0fed180d75",
   "metadata": {},
   "outputs": [],
   "source": [
    "df = clean_flows(\n",
    "    pd.concat([\n",
    "        crossborder_flows(\"Line\", \"AC\"),\n",
    "        crossborder_flows(\"Link\", \"DC\")\n",
    "    ])\n",
    ")\n",
    "plot_trade_chord(df, \"elec\")"
   ]
  },
  {
   "cell_type": "markdown",
   "id": "e1b349ad-b14a-4b74-aa98-153982a18957",
   "metadata": {
    "tags": []
   },
   "source": [
    "## Principal Flow Patterns"
   ]
  },
  {
   "cell_type": "code",
   "execution_count": null,
   "id": "4679738a-eaaf-4024-b304-ccf6818eb2a5",
   "metadata": {},
   "outputs": [],
   "source": [
    "X = n.buses_t.marginal_price.loc[:,n.buses.carrier=='AC']"
   ]
  },
  {
   "cell_type": "code",
   "execution_count": null,
   "id": "05fd6f40-7d4e-404b-bc37-068765c096ee",
   "metadata": {},
   "outputs": [],
   "source": [
    "balance = nodal_balance(n, \"AC\")\n",
    "X = - balance.droplevel(0).unstack('carrier')[['AC', 'DC']].sum(axis=1).unstack(level=0)"
   ]
  },
  {
   "cell_type": "code",
   "execution_count": null,
   "id": "732dde1d-6af4-48b9-9613-f34dd343dacf",
   "metadata": {},
   "outputs": [],
   "source": [
    "sc = StandardScaler(with_std=False)\n",
    "X_std = sc.fit_transform(X)"
   ]
  },
  {
   "cell_type": "code",
   "execution_count": null,
   "id": "82156785-091b-41f0-be76-62c4b95de2b7",
   "metadata": {},
   "outputs": [],
   "source": [
    "pca = PCA()\n",
    "X_pca = pca.fit_transform(X_std)"
   ]
  },
  {
   "cell_type": "code",
   "execution_count": null,
   "id": "f5c9cfca-2769-4cf9-b786-e74c0b01b3fe",
   "metadata": {},
   "outputs": [],
   "source": [
    "eigvec_std = pd.DataFrame(sc.inverse_transform(pca.components_), columns =X.columns).T"
   ]
  },
  {
   "cell_type": "code",
   "execution_count": null,
   "id": "dad34d3a-883d-43e9-828d-fd66878f4436",
   "metadata": {},
   "outputs": [],
   "source": [
    "eigvec = pd.DataFrame(pca.components_, columns =X.columns).T"
   ]
  },
  {
   "cell_type": "code",
   "execution_count": null,
   "id": "7dd9de88-a69d-48a7-9b1f-9d1bf2074d87",
   "metadata": {},
   "outputs": [],
   "source": [
    "plt.plot(np.cumsum(pca.explained_variance_ratio_))\n",
    "plt.xlabel('number of components')\n",
    "plt.ylabel('cumulative explained variance');"
   ]
  },
  {
   "cell_type": "code",
   "execution_count": null,
   "id": "e4dabc43-d25e-4acd-8910-25000660935f",
   "metadata": {},
   "outputs": [],
   "source": [
    "eigval = pd.Series(pca.explained_variance_ratio_)"
   ]
  },
  {
   "cell_type": "code",
   "execution_count": null,
   "id": "2e32d37f-2bd6-4e64-8505-624db79f0f9d",
   "metadata": {},
   "outputs": [],
   "source": [
    "(eigvec_std * eigval).sum(axis=1) # check that gives X.sum()"
   ]
  },
  {
   "cell_type": "code",
   "execution_count": null,
   "id": "6d85c8ff-f1d6-492a-a352-114c52b120f3",
   "metadata": {},
   "outputs": [],
   "source": [
    "proj = ccrs.PlateCarree()\n",
    "cmap = 'RdBu'\n",
    "label= 'test'\n",
    "\n",
    "fig, axes = plt.subplots(1,4,figsize=(20,7), subplot_kw={\"projection\": proj})\n",
    "\n",
    "kwargs = dict(\n",
    "    transform=ccrs.PlateCarree(),\n",
    "    cmap=cmap,\n",
    "    linewidths=0,\n",
    "    vmin=-0.5,\n",
    "    vmax=0.5,\n",
    ")\n",
    "\n",
    "legend_kwargs = dict(\n",
    "    legend=True,\n",
    "    legend_kwds={\n",
    "        'label': label,\n",
    "        \"shrink\": 0.7,\n",
    "        \"extend\": \"max\",\n",
    "    }\n",
    ")\n",
    "\n",
    "values = eigvec\n",
    "#values = eigvec_std * eigval\n",
    "\n",
    "for i, ax in enumerate(axes):\n",
    "    \n",
    "    #if i == len(axes) - 1:\n",
    "    kwargs.update(legend_kwargs)\n",
    "    \n",
    "    nodes.plot(\n",
    "        ax=ax,\n",
    "        column=values[i],\n",
    "        **kwargs\n",
    "    )\n",
    "    \n",
    "    ax.set_title(fr\"$\\lambda_{i} = {eigval[i]:.2f}$\")\n",
    "\n",
    "    ax.add_feature(cartopy.feature.COASTLINE.with_scale(\"50m\"), linewidth=0.2, zorder=2) \n",
    "    ax.add_feature(cartopy.feature.BORDERS.with_scale(\"50m\"), linewidth=0.2, zorder=2)\n",
    "\n",
    "    ax.outline_patch.set_visible(False)\n",
    "    #plt.gca().outline_patch.set_visible(False)\n",
    "    \n",
    "plt.tight_layout()\n",
    "\n",
    "plt.savefig(\"test.pdf\", bbox_inches='tight')"
   ]
  },
  {
   "cell_type": "code",
   "execution_count": null,
   "id": "2d45afa0-0f3c-4c50-bf84-d6cd3d126739",
   "metadata": {},
   "outputs": [],
   "source": [
    "crs = ccrs.EuroPP()\n",
    "\n",
    "fig, ax = plt.subplots(\n",
    "    figsize=(7, 6),\n",
    "    subplot_kw={\"projection\": crs}\n",
    ")\n",
    "\n",
    "n.plot(\n",
    "    branch_components=[\"Line\"],\n",
    "    ax=ax,\n",
    "    geomap=True,\n",
    "    flow=pd.concat({\"Line\": vectors[0]*1e3})\n",
    ")\n",
    "\n",
    "plt.savefig(\"test.pdf\", bbox_inches='tight')"
   ]
  },
  {
   "cell_type": "code",
   "execution_count": null,
   "id": "0ee33c4d-21de-4e42-84ea-b2519ec0b7db",
   "metadata": {},
   "outputs": [],
   "source": []
  },
  {
   "cell_type": "code",
   "execution_count": null,
   "id": "d9e2d100-bb12-4564-a4fd-cfa67e5186a2",
   "metadata": {},
   "outputs": [],
   "source": []
  },
  {
   "cell_type": "code",
   "execution_count": null,
   "id": "557057db-4c3c-48d9-a8f5-08d99f5108ae",
   "metadata": {},
   "outputs": [],
   "source": []
  }
 ],
 "metadata": {
  "kernelspec": {
   "display_name": "Python 3 (ipykernel)",
   "language": "python",
   "name": "python3"
  },
  "language_info": {
   "codemirror_mode": {
    "name": "ipython",
    "version": 3
   },
   "file_extension": ".py",
   "mimetype": "text/x-python",
   "name": "python",
   "nbconvert_exporter": "python",
   "pygments_lexer": "ipython3",
   "version": "3.9.7"
  }
 },
 "nbformat": 4,
 "nbformat_minor": 5
}
