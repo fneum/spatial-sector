{
 "cells": [
  {
   "cell_type": "code",
   "execution_count": null,
   "id": "3868a428-11ed-47fc-9a37-84e96a8aeef8",
   "metadata": {
    "tags": []
   },
   "outputs": [],
   "source": [
    "import pypsa\n",
    "import yaml\n",
    "import pandas as pd\n",
    "import numpy as np\n",
    "import geopandas as gpd\n",
    "import xarray as xr\n",
    "import seaborn as sns\n",
    "\n",
    "import sys\n",
    "import os\n",
    "\n",
    "import matplotlib.pyplot as plt\n",
    "from matplotlib.lines import Line2D\n",
    "import matplotlib.dates as mdates\n",
    "import matplotlib.colors as mcolors\n",
    "import matplotlib.ticker as ticker\n",
    "from matplotlib.patches import Circle, Patch\n",
    "from matplotlib.legend_handler import HandlerPatch\n",
    "\n",
    "\n",
    "import cartopy.crs as ccrs\n",
    "import cartopy\n",
    "\n",
    "import multiprocessing as mp\n",
    "from itertools import product\n",
    "\n",
    "from pypsa.plot import projected_area_factor\n",
    "from pypsa.descriptors import get_switchable_as_dense as as_dense\n",
    "\n",
    "PATH = \"../workflows\"\n",
    "SCRIPTS_PATH = \"pypsa-eur-sec/scripts/\"\n",
    "\n",
    "sys.path.append(os.path.join(PATH, SCRIPTS_PATH))\n",
    "from plot_summary import rename_techs\n",
    "from plot_network import assign_location\n",
    "from helper import override_component_attrs\n",
    "\n",
    "import holoviews as hv\n",
    "from holoviews import opts, dim\n",
    "\n",
    "hv.extension(\"bokeh\")\n",
    "hv.output(size=200)\n",
    "\n",
    "plt.style.use([\"bmh\", \"matplotlibrc\"])\n",
    "xr.set_options(display_style=\"html\")\n",
    "\n",
    "%matplotlib inline"
   ]
  },
  {
   "cell_type": "code",
   "execution_count": null,
   "id": "52c00bcd-dc0f-4a03-af40-2d0fe2c8d3b5",
   "metadata": {},
   "outputs": [],
   "source": [
    "CLUSTERS = 181\n",
    "LL = \"1.0\"\n",
    "OPTS = \"Co2L0-3H-T-H-B-I-A-solar+p3-linemaxext10-onwind+p0\"\n",
    "RUN = \"20221227-main\"\n",
    "SCENARIO = f\"elec_s_{CLUSTERS}_lv{LL}__{OPTS}_2050\"\n",
    "OVERRIDES = PATH + \"pypsa-eur-sec/data/override_component_attrs\"\n",
    "\n",
    "OUTPUT = \"../results/graphics-20221227/\"\n",
    "OUTPUT_SCENARIO = f\"{OUTPUT}/{RUN}/{SCENARIO}/\""
   ]
  },
  {
   "cell_type": "code",
   "execution_count": null,
   "id": "622c90a8-f9b8-4183-b6ad-e1db6a0ffe43",
   "metadata": {},
   "outputs": [],
   "source": [
    "if not os.path.exists(OUTPUT_SCENARIO):\n",
    "    os.makedirs(OUTPUT_SCENARIO)"
   ]
  },
  {
   "cell_type": "code",
   "execution_count": null,
   "id": "6fb7d802-eb4f-4198-8bd7-6f06de490a0c",
   "metadata": {},
   "outputs": [],
   "source": [
    "with open(f\"{PATH}/pypsa-eur-sec/config.main.yaml\") as file:\n",
    "    config = yaml.safe_load(file)"
   ]
  },
  {
   "cell_type": "code",
   "execution_count": null,
   "id": "e1ae9a0b-00e6-4fe8-83e9-00f2a27cfb64",
   "metadata": {},
   "outputs": [],
   "source": [
    "tech_colors = config[\"plotting\"][\"tech_colors\"]"
   ]
  },
  {
   "cell_type": "code",
   "execution_count": null,
   "id": "32c63fdf-3558-4dad-b1d5-aec6f7934dd6",
   "metadata": {},
   "outputs": [],
   "source": [
    "fn = f\"{PATH}/pypsa-eur/resources/regions_onshore_elec_s_{CLUSTERS}.geojson\"\n",
    "nodes = gpd.read_file(fn).set_index(\"name\")\n",
    "\n",
    "fn = f\"{PATH}/pypsa-eur/resources/regions_offshore_elec_s_{CLUSTERS}.geojson\"\n",
    "offnodes = gpd.read_file(fn).set_index(\"name\")\n",
    "\n",
    "fn = f\"{PATH}/pypsa-eur/resources/country_shapes.geojson\"\n",
    "cts = gpd.read_file(fn).set_index(\"name\")\n",
    "\n",
    "regions = pd.concat(\n",
    "    [\n",
    "        gpd.read_file(f\"{PATH}/pypsa-eur/resources/regions_onshore.geojson\"),\n",
    "        gpd.read_file(f\"{PATH}/pypsa-eur/resources/regions_offshore.geojson\"),\n",
    "    ]\n",
    ")\n",
    "regions = regions.dissolve(\"name\")\n",
    "\n",
    "fn = f\"{PATH}/pypsa-eur/resources/regions_onshore.geojson\"\n",
    "onregions = gpd.read_file(fn).set_index(\"name\")\n",
    "\n",
    "fn = f\"{PATH}/pypsa-eur/resources/regions_onshore.geojson\"\n",
    "offregions = gpd.read_file(fn).set_index(\"name\")\n",
    "\n",
    "epsg = 3035\n",
    "regions[\"Area\"] = regions.to_crs(epsg=epsg).area.div(1e6)\n",
    "onregions[\"Area\"] = onregions.to_crs(epsg=epsg).area.div(1e6)\n",
    "offregions[\"Area\"] = offregions.to_crs(epsg=epsg).area.div(1e6)\n",
    "nodes[\"Area\"] = nodes.to_crs(epsg=epsg).area.div(1e6)"
   ]
  },
  {
   "cell_type": "code",
   "execution_count": null,
   "id": "9df4a814-45cf-4706-b4ac-d4056ecfcc25",
   "metadata": {},
   "outputs": [],
   "source": [
    "europe_shape = nodes.dissolve()\n",
    "europe_shape.index = [\"EU\"]"
   ]
  },
  {
   "cell_type": "code",
   "execution_count": null,
   "id": "22e7118a-1605-4872-94db-f2bdb00ea9a5",
   "metadata": {},
   "outputs": [],
   "source": [
    "minx, miny, maxx, maxy = europe_shape.explode(ignore_index=True).total_bounds\n",
    "BOUNDARIES = [minx, maxx - 4, miny, maxy]"
   ]
  },
  {
   "cell_type": "code",
   "execution_count": null,
   "id": "8570150a-ea32-4e8a-9599-3b05c28cf935",
   "metadata": {},
   "outputs": [],
   "source": [
    "overrides = override_component_attrs(OVERRIDES)\n",
    "fn = f\"{PATH}/pypsa-eur-sec/results/{RUN}/postnetworks/{SCENARIO}.nc\"\n",
    "n = pypsa.Network(fn, override_component_attrs=overrides)"
   ]
  },
  {
   "cell_type": "code",
   "execution_count": null,
   "id": "14216101-de0d-4d02-b15d-1075441f1277",
   "metadata": {},
   "outputs": [],
   "source": [
    "unique_link_carriers = n.links.carrier.unique()\n",
    "GAS_NETWORK = \"gas pipeline\" in unique_link_carriers\n",
    "H2_NETWORK = any(\"H2 pipeline\" in ulc for ulc in unique_link_carriers)"
   ]
  },
  {
   "cell_type": "markdown",
   "id": "ab78e819-f92d-4034-9c65-bc343ef737a0",
   "metadata": {
    "tags": []
   },
   "source": [
    "## Utilities"
   ]
  },
  {
   "cell_type": "code",
   "execution_count": null,
   "id": "a13d0fc8-06f1-47d4-a3e7-a178edbf42c7",
   "metadata": {},
   "outputs": [],
   "source": [
    "class HandlerCircle(HandlerPatch):\n",
    "    \"\"\"\n",
    "    Legend Handler used to create circles for legend entries.\n",
    "\n",
    "    This handler resizes the circles in order to match the same dimensional\n",
    "    scaling as in the applied axis.\n",
    "    \"\"\"\n",
    "\n",
    "    def create_artists(\n",
    "        self, legend, orig_handle, xdescent, ydescent, width, height, fontsize, trans\n",
    "    ):\n",
    "        fig = legend.get_figure()\n",
    "        ax = legend.axes\n",
    "\n",
    "        unit = np.diff(ax.transData.transform([(0, 0), (1, 1)]), axis=0)[0][1]\n",
    "        radius = orig_handle.get_radius() * unit * (72 / fig.dpi)\n",
    "        center = 5 - xdescent, 3 - ydescent\n",
    "        p = plt.Circle(center, radius)\n",
    "        self.update_prop(p, orig_handle, legend)\n",
    "        p.set_transform(trans)\n",
    "        return [p]\n",
    "\n",
    "\n",
    "def add_legend_circles(\n",
    "    ax, sizes, labels, scale=1, srid=None, patch_kw={}, legend_kw={}\n",
    "):\n",
    "    if srid is not None:\n",
    "        area_correction = projected_area_factor(ax, n.srid) ** 2\n",
    "        sizes = [s * area_correction for s in sizes]\n",
    "\n",
    "    handles = make_legend_circles_for(sizes, scale, **patch_kw)\n",
    "\n",
    "    legend = ax.legend(\n",
    "        handles, labels, handler_map={Circle: HandlerCircle()}, **legend_kw\n",
    "    )\n",
    "\n",
    "    ax.add_artist(legend)\n",
    "\n",
    "\n",
    "def add_legend_lines(ax, sizes, labels, scale=1, patch_kw={}, legend_kw={}):\n",
    "    handles = [Line2D([0], [0], linewidth=s / scale, **patch_kw) for s in sizes]\n",
    "\n",
    "    legend = ax.legend(handles, labels, **legend_kw)\n",
    "\n",
    "    ax.add_artist(legend)\n",
    "\n",
    "\n",
    "def add_legend_patch(ax, colors, labels, patch_kw={}, legend_kw={}):\n",
    "    handles = [Patch(facecolor=c, **patch_kw) for c in colors]\n",
    "\n",
    "    legend = ax.legend(handles, labels, **legend_kw)\n",
    "\n",
    "    ax.add_artist(legend)\n",
    "\n",
    "\n",
    "def make_legend_circles_for(sizes, scale=1.0, **kw):\n",
    "    return [Circle((0, 0), radius=(s / scale) ** 0.5, **kw) for s in sizes]"
   ]
  },
  {
   "cell_type": "code",
   "execution_count": null,
   "id": "bec15b92-49c7-432c-a7c2-05868239b9f5",
   "metadata": {},
   "outputs": [],
   "source": [
    "def nodal_balance(n, carrier, time=slice(None), aggregate=None, energy=True):\n",
    "    if not isinstance(carrier, list):\n",
    "        carrier = [carrier]\n",
    "\n",
    "    one_port_data = {}\n",
    "\n",
    "    for c in n.iterate_components(n.one_port_components):\n",
    "        df = c.df[c.df.bus.map(n.buses.carrier).isin(carrier)]\n",
    "\n",
    "        if df.empty:\n",
    "            continue\n",
    "\n",
    "        s = c.pnl.p.loc[time, df.index] * df.sign\n",
    "\n",
    "        s = s.groupby([df.bus.map(n.buses.location), df.carrier], axis=1).sum()\n",
    "\n",
    "        one_port_data[c.list_name] = s\n",
    "\n",
    "    branch_data = {}\n",
    "\n",
    "    for c in n.iterate_components(n.branch_components):\n",
    "        for col in c.df.columns[c.df.columns.str.startswith(\"bus\")]:\n",
    "            end = col[3:]\n",
    "\n",
    "            df = c.df[c.df[col].map(n.buses.carrier).isin(carrier)]\n",
    "\n",
    "            if df.empty:\n",
    "                continue\n",
    "\n",
    "            s = -c.pnl[f\"p{end}\"].loc[time, df.index]\n",
    "\n",
    "            s = s.groupby([df[col].map(n.buses.location), df.carrier], axis=1).sum()\n",
    "\n",
    "            branch_data[(c.list_name, end)] = s\n",
    "\n",
    "    branch_balance = pd.concat(branch_data).groupby(level=[0, 2]).sum()\n",
    "    one_port_balance = pd.concat(one_port_data)\n",
    "\n",
    "    def skip_tiny(df, threshold=1e-1):\n",
    "        return df.where(df.abs() > threshold)\n",
    "\n",
    "    branch_balance = skip_tiny(branch_balance)\n",
    "    one_port_balance = skip_tiny(one_port_balance)\n",
    "\n",
    "    balance = pd.concat([one_port_balance, branch_balance]).stack(level=[0, 1])\n",
    "\n",
    "    balance.index.set_names([\"component\", \"bus\"], level=[0, 2], inplace=True)\n",
    "\n",
    "    if energy:\n",
    "        balance = balance * n.snapshot_weightings.generators\n",
    "\n",
    "    if aggregate is not None:\n",
    "        keep_levels = balance.index.names.difference(aggregate)\n",
    "        balance = balance.groupby(level=keep_levels).sum()\n",
    "\n",
    "    return balance"
   ]
  },
  {
   "cell_type": "code",
   "execution_count": null,
   "id": "f3443217-dd70-4d52-8d2f-af07a8fbc146",
   "metadata": {},
   "outputs": [],
   "source": [
    "def get_import_export_balance(n, with_methanol=False):\n",
    "    io = pd.DataFrame()\n",
    "\n",
    "    io[\"oil\"] = get_import_export_oil(with_methanol).eval(\"demand - supply\")\n",
    "\n",
    "    balance = nodal_balance(n, \"AC\", aggregate=[\"snapshot\"])\n",
    "    h2_balance = nodal_balance(n, \"H2\", aggregate=[\"snapshot\"])\n",
    "    io[\"hydrogen\"] = (\n",
    "        h2_balance.droplevel(0)\n",
    "        .unstack(\"carrier\")\n",
    "        .filter(like=\"H2 pipeline\")\n",
    "        .sum(axis=1)\n",
    "    ).div(1e6)\n",
    "\n",
    "    ac_balance = nodal_balance(n, \"AC\", aggregate=[\"snapshot\"])\n",
    "    io[\"electricity\"] = (\n",
    "        ac_balance.droplevel(0).unstack(\"carrier\")[[\"AC\", \"DC\"]].sum(axis=1).div(1e6)\n",
    "    )\n",
    "\n",
    "    if GAS_NETWORK:\n",
    "        gas_balance = nodal_balance(n, \"gas\", aggregate=[\"snapshot\"])\n",
    "\n",
    "        io[\"gas\"] = (\n",
    "            gas_balance.groupby([\"bus\", \"carrier\"])\n",
    "            .sum()\n",
    "            .unstack()\n",
    "            .filter(like=\"gas pipeline\")\n",
    "            .sum(axis=1)\n",
    "            .div(1e6)\n",
    "        )\n",
    "\n",
    "    else:\n",
    "        io[\"gas\"] = get_import_export_gas().eval(\"demand - supply\")\n",
    "\n",
    "    io[\"total\"] = io.sum(axis=1)\n",
    "\n",
    "    return io.fillna(0.0)"
   ]
  },
  {
   "cell_type": "code",
   "execution_count": null,
   "id": "06be0dd9-e081-428c-9c3a-09abe0b76fc5",
   "metadata": {},
   "outputs": [],
   "source": [
    "def get_import_export_gas():\n",
    "    io = pd.DataFrame()\n",
    "\n",
    "    fn = f\"{PATH}/pypsa-eur-sec/resources/industrial_energy_demand_elec_s_{CLUSTERS}_2050.csv\"\n",
    "    industrial_demand = pd.read_csv(fn, index_col=0)\n",
    "\n",
    "    fn = f\"{PATH}/pypsa-eur-sec/resources/biomass_potentials_s_{CLUSTERS}.csv\"\n",
    "    biogas_potentials = pd.read_csv(fn, index_col=0)[\"biogas\"].div(1e6)  # TWh\n",
    "\n",
    "    e = n.stores_t.e.loc[:, \"EU biogas\"]\n",
    "    biogas_used = (e[0] - e[-1]) / e[0]\n",
    "\n",
    "    biogas_generation = biogas_potentials * biogas_used\n",
    "\n",
    "    gas_cc_consumption = n.snapshot_weightings.generators @ (\n",
    "        n.links_t.p0.loc[:, \"gas for industry CC\"]\n",
    "        + n.links_t.p1.loc[:, \"gas for industry CC\"]\n",
    "    ).div(1e6)\n",
    "\n",
    "    gas_consumption = n.snapshot_weightings.generators @ n.links_t.p0.filter(\n",
    "        regex=\"(OCGT|gas (boiler|CHP)|SMR)\", axis=1\n",
    "    )\n",
    "    grouper = gas_consumption.index.map(n.links.bus1.map(n.buses.location))\n",
    "    io[\"demand\"] = (\n",
    "        gas_consumption.groupby(grouper).sum().div(1e6) + industrial_demand[\"methane\"]\n",
    "    )  # TWh\n",
    "\n",
    "    gas_generation = n.snapshot_weightings.generators @ n.links_t.p1.filter(\n",
    "        regex=\"(Sabatier|helmeth)\", axis=1\n",
    "    ).mul(-1)\n",
    "    grouper = gas_generation.index.map(n.links.bus0.map(n.buses.location))\n",
    "    io[\"supply\"] = (\n",
    "        gas_generation.groupby(grouper).sum().div(1e6) + biogas_generation\n",
    "    )  # TWh, assuming biogas potentials uniformly exhausted\n",
    "\n",
    "    fossil_gas = n.snapshot_weightings.generators @ n.generators_t.p.loc[\n",
    "        :, \"EU gas\"\n",
    "    ].div(1e6)\n",
    "    io.at[\"fossil\", \"supply\"] = fossil_gas\n",
    "\n",
    "    assert abs(io[\"supply\"].sum() - gas_cc_consumption - io[\"demand\"].sum()) < 1\n",
    "\n",
    "    return io.fillna(0.0)"
   ]
  },
  {
   "cell_type": "code",
   "execution_count": null,
   "id": "350c97fc-3fe6-41bf-a127-a7bacfabab58",
   "metadata": {},
   "outputs": [],
   "source": [
    "def get_import_export_oil(with_methanol=False):\n",
    "    io = pd.DataFrame()\n",
    "\n",
    "    fn = f\"{PATH}/pypsa-eur-sec/resources/industrial_energy_demand_elec_s_{CLUSTERS}_2050.csv\"\n",
    "    industrial_demand = pd.read_csv(fn, index_col=0)\n",
    "\n",
    "    fn = f\"{PATH}/pypsa-eur-sec/resources/pop_layout_elec_s_{CLUSTERS}.csv\"\n",
    "    pop_layout = pd.read_csv(fn, index_col=0)\n",
    "\n",
    "    fn = f\"{PATH}/pypsa-eur-sec/resources/pop_weighted_energy_totals_s_{CLUSTERS}.csv\"\n",
    "    nodal_energy_totals = pd.read_csv(fn, index_col=0)\n",
    "\n",
    "    oil = [\n",
    "        \"total international aviation\",\n",
    "        \"total domestic aviation\",\n",
    "        \"total agriculture machinery\",\n",
    "    ]\n",
    "    if with_methanol:\n",
    "        oil.append(\"total domestic navigation\")\n",
    "\n",
    "    io[\"demand\"] = industrial_demand[\"naphtha\"] + nodal_energy_totals[oil].sum(axis=1)\n",
    "\n",
    "    if with_methanol:\n",
    "        fn = f\"{PATH}/pypsa-eur-sec/resources/shipping_demand_s_{CLUSTERS}.csv\"\n",
    "        efficiency = (\n",
    "            config[\"sector\"][\"shipping_oil_efficiency\"]\n",
    "            / config[\"sector\"][\"shipping_methanol_efficiency\"]\n",
    "        )\n",
    "        io[\"demand\"] += pd.read_csv(fn, index_col=0).squeeze() * efficiency\n",
    "        regex = \"(Fischer-Tropsch|methanolisation)\"\n",
    "    else:\n",
    "        regex = \"Fischer-Tropsch\"\n",
    "\n",
    "    oil_generation = n.snapshot_weightings.generators @ n.links_t.p1.filter(\n",
    "        regex=regex, axis=1\n",
    "    ).mul(-1)\n",
    "    grouper = oil_generation.index.map(n.links.bus0.map(n.buses.location))\n",
    "    io[\"supply\"] = oil_generation.groupby(grouper).sum().div(1e6)  # TWh\n",
    "\n",
    "    fossil_oil = n.snapshot_weightings.generators @ n.generators_t.p.loc[\n",
    "        :, \"EU oil\"\n",
    "    ].div(1e6)\n",
    "    io.at[\"fossil\", \"supply\"] = fossil_oil\n",
    "\n",
    "    # assert abs(io[\"supply\"].sum() - io[\"demand\"].sum()) < 1\n",
    "\n",
    "    return io.fillna(0.0)"
   ]
  },
  {
   "cell_type": "markdown",
   "id": "05a6b6a3-9891-497a-aad8-7ea4bbf30938",
   "metadata": {
    "tags": []
   },
   "source": [
    "## Nodal Balance CSV Exports"
   ]
  },
  {
   "cell_type": "code",
   "execution_count": null,
   "id": "5d559b79-a992-42a1-9847-2aa0838db5e0",
   "metadata": {},
   "outputs": [],
   "source": [
    "carriers = [\n",
    "    \"AC\",\n",
    "    \"co2\",\n",
    "    \"co2 stored\",\n",
    "    \"gas\",\n",
    "    \"H2\",\n",
    "    \"oil\",\n",
    "    \"methanol\",\n",
    "]\n",
    "\n",
    "for carrier in carriers:\n",
    "    print(carrier)\n",
    "    df = (\n",
    "        nodal_balance(n, carrier, aggregate=[\"bus\", \"component\"], energy=False)\n",
    "        .unstack()\n",
    "        .fillna(0.0)\n",
    "        .div(1e3)\n",
    "        .round(1)\n",
    "    )\n",
    "    df.to_csv(f\"{OUTPUT_SCENARIO}/balance-ts-{carrier}.csv\")"
   ]
  },
  {
   "cell_type": "code",
   "execution_count": null,
   "id": "3a7123fc-10cd-4850-ba2e-21c5e260a3ef",
   "metadata": {},
   "outputs": [],
   "source": [
    "carrier = [\"AC\", \"low voltage\"]\n",
    "df = (\n",
    "    nodal_balance(n, carrier, aggregate=[\"bus\", \"component\"], energy=False)\n",
    "    .unstack()\n",
    "    .fillna(0.0)\n",
    "    .div(1e3)\n",
    "    .round(1)\n",
    ")\n",
    "df.to_csv(f\"{OUTPUT_SCENARIO}/balance-ts-total-electricity.csv\")"
   ]
  },
  {
   "cell_type": "code",
   "execution_count": null,
   "id": "a6c0d369-e047-41a7-811e-d147a1d87042",
   "metadata": {},
   "outputs": [],
   "source": [
    "carrier = [\n",
    "    \"residential rural heat\",\n",
    "    \"services rural heat\",\n",
    "    \"residential urban decentral heat\",\n",
    "    \"services urban decentral heat\",\n",
    "    \"urban central heat\",\n",
    "]\n",
    "df = (\n",
    "    nodal_balance(n, carrier, aggregate=[\"bus\", \"component\"], energy=False)\n",
    "    .unstack()\n",
    "    .fillna(0.0)\n",
    "    .div(1e3)\n",
    "    .round(1)\n",
    ")\n",
    "df.to_csv(f\"{OUTPUT_SCENARIO}/balance-ts-total-heat.csv\")"
   ]
  },
  {
   "cell_type": "markdown",
   "id": "261e0b33-2a23-4f73-82ab-60f3f2a7a8f5",
   "metadata": {
    "tags": []
   },
   "source": [
    "## Liquid Hydrocarbon Demand"
   ]
  },
  {
   "cell_type": "raw",
   "id": "5dff4f61-12ab-43ae-97e9-bc8efef2b97e",
   "metadata": {},
   "source": [
    "(n.snapshot_weightings.generators @ as_dense(n, \"Load\", \"p_set\")[['agriculture machinery oil', 'naphtha for industry', 'kerosene for aviation']]).div(1e6).sum()"
   ]
  },
  {
   "cell_type": "raw",
   "id": "b5939d78-e460-446a-b047-a18d747351c0",
   "metadata": {},
   "source": [
    "(n.snapshot_weightings.generators @ as_dense(n, \"Load\", \"p_set\")[\"EU methanol shipping methanol\"]).sum() / 1e6"
   ]
  },
  {
   "cell_type": "code",
   "execution_count": null,
   "id": "e893908b-51d8-415c-9317-305034d77e0c",
   "metadata": {},
   "outputs": [],
   "source": [
    "n.storage_units.eval(\"capital_cost * p_nom_opt\").div(1e9).groupby(\n",
    "    n.storage_units.carrier\n",
    ").sum()"
   ]
  },
  {
   "cell_type": "code",
   "execution_count": null,
   "id": "ac0efb9a-2015-4330-a626-18bb1cb43854",
   "metadata": {},
   "outputs": [],
   "source": [
    "n.generators.eval(\"capital_cost * p_nom_opt\").div(1e9).groupby(\n",
    "    n.generators.carrier\n",
    ").sum()"
   ]
  },
  {
   "cell_type": "markdown",
   "id": "f97481d3-564e-43f4-9e2c-34b4e896bd40",
   "metadata": {
    "tags": []
   },
   "source": [
    "## Curtailment"
   ]
  },
  {
   "cell_type": "code",
   "execution_count": null,
   "id": "abad9c24-cdc9-4199-95fd-ebbe3df6781a",
   "metadata": {},
   "outputs": [],
   "source": [
    "available = n.snapshot_weightings.generators @ (\n",
    "    n.generators_t.p_max_pu * n.generators.p_nom_opt\n",
    ")"
   ]
  },
  {
   "cell_type": "code",
   "execution_count": null,
   "id": "5a8bd421-d85c-416f-8a22-5389fcc83e8d",
   "metadata": {},
   "outputs": [],
   "source": [
    "used = n.snapshot_weightings.generators @ n.generators_t.p"
   ]
  },
  {
   "cell_type": "code",
   "execution_count": null,
   "id": "b47aca1a-860e-43a1-bc30-80bac6ee9615",
   "metadata": {},
   "outputs": [],
   "source": [
    "available = (\n",
    "    available.groupby(n.generators.carrier).sum().drop([\"gas\", \"oil\"]).div(1e6)\n",
    ")  # TWh"
   ]
  },
  {
   "cell_type": "code",
   "execution_count": null,
   "id": "b171014b-7f03-473a-b6ba-60a3c1e7c74e",
   "metadata": {},
   "outputs": [],
   "source": [
    "used = used.groupby(n.generators.carrier).sum().drop([\"gas\", \"oil\"]).div(1e6)  # TWh"
   ]
  },
  {
   "cell_type": "code",
   "execution_count": null,
   "id": "6cf53093-a02a-4afc-9070-e731ce7fa4da",
   "metadata": {},
   "outputs": [],
   "source": [
    "curtailed = available - used"
   ]
  },
  {
   "cell_type": "code",
   "execution_count": null,
   "id": "3c64aa2a-9747-4467-82bd-213011155fb7",
   "metadata": {},
   "outputs": [],
   "source": [
    "pd.concat(\n",
    "    {\"curtailed\": curtailed, \"available\": available, \"used\": used}, axis=1\n",
    ").to_csv(f\"{OUTPUT_SCENARIO}/curtailment.csv\")"
   ]
  },
  {
   "cell_type": "markdown",
   "id": "9aa050dc-547d-48db-8a36-77fce55b3fca",
   "metadata": {
    "tags": []
   },
   "source": [
    "## Storage SOC"
   ]
  },
  {
   "cell_type": "code",
   "execution_count": null,
   "id": "10b23587-09d9-4fee-aaa3-375af04e7c54",
   "metadata": {},
   "outputs": [],
   "source": [
    "fig, axs = plt.subplots(5, 1, figsize=(10, 12))\n",
    "\n",
    "ax = axs[0]\n",
    "n.stores_t.e.filter(like=\"H2 Store\", axis=1).sum(axis=1).div(1e6).plot(\n",
    "    ax=ax,\n",
    "    ylabel=\"SOC [TWh]\",\n",
    "    xlabel=\"\",\n",
    "    color=tech_colors[\"hydrogen storage\"],\n",
    "    ylim=(0, 65),\n",
    ")\n",
    "ax.set_title(\"Hydrogen Storage (full year)\", fontsize=11)\n",
    "\n",
    "ax = axs[2]\n",
    "n.stores_t.e.filter(like=\"water tank\", axis=1).sum(axis=1).div(1e6).plot(\n",
    "    ax=ax,\n",
    "    ylabel=\"SOC [TWh]\",\n",
    "    xlabel=\"\",\n",
    "    color=tech_colors[\"hot water storage\"],\n",
    "    ylim=(0, 65),\n",
    ")\n",
    "ax.set_title(\"Hot Water Storage (full year)\", fontsize=11)\n",
    "\n",
    "ax = axs[1]\n",
    "n.stores_t.e.filter(like=\"H2 Store\", axis=1).sum(axis=1).loc[\"2013-07\":\"2013-08\"].div(\n",
    "    1e6\n",
    ").plot(ax=ax, ylabel=\"SOC [TWh]\", xlabel=\"\", color=tech_colors[\"hydrogen storage\"])\n",
    "ax.set_title(\"Hydrogen Storage (July/August)\", fontsize=11)\n",
    "\n",
    "ax = axs[3]\n",
    "n.stores_t.e.filter(like=\"water tank\", axis=1).sum(axis=1).loc[\"2013-07\":\"2013-08\"].div(\n",
    "    1e6\n",
    ").plot(ax=ax, ylabel=\"SOC [TWh]\", xlabel=\"\", color=tech_colors[\"hot water storage\"])\n",
    "ax.set_title(\"Hot Water Storage (July/August)\", fontsize=11)\n",
    "\n",
    "ax = axs[4]\n",
    "n.stores_t.e.filter(like=\"battery\", axis=1).sum(axis=1).loc[\"2013-07\":\"2013-08\"].div(\n",
    "    1e6\n",
    ").plot(ax=ax, ylabel=\"SOC [TWh]\", xlabel=\"\", color=tech_colors[\"battery\"], ylim=(0, 8))\n",
    "ax.set_title(\"Battery Storage (July/August)\", fontsize=11)\n",
    "\n",
    "plt.tight_layout()\n",
    "\n",
    "plt.savefig(f\"{OUTPUT_SCENARIO}/soc.pdf\", bbox_inches=\"tight\")"
   ]
  },
  {
   "cell_type": "markdown",
   "id": "da59ea64-8df9-4d58-a9ba-d69ecfc1da47",
   "metadata": {
    "tags": []
   },
   "source": [
    "## Gini, Lorenz, Equity"
   ]
  },
  {
   "cell_type": "code",
   "execution_count": null,
   "id": "446a2b60-ec9d-4295-827e-e2fcbed2dfa3",
   "metadata": {},
   "outputs": [],
   "source": [
    "def cumulative_share(n, carrier, sortby=\"supply/demand\", df=None):\n",
    "    if df is None:\n",
    "        to_drop = [\n",
    "            \"AC\",\n",
    "            \"DC\",\n",
    "            \"H2 pipeline\",\n",
    "            \"gas pipeline\",\n",
    "            \"gas pipeline new\",\n",
    "            \"H2 pipeline retrofitted\",\n",
    "        ]\n",
    "\n",
    "        balance = nodal_balance(n, carrier, aggregate=[\"snapshot\"])\n",
    "\n",
    "        balance = balance.groupby([\"bus\", \"carrier\"]).sum().unstack(\"carrier\")\n",
    "        balance.drop(balance.columns.intersection(to_drop), axis=1, inplace=True)\n",
    "\n",
    "        supply = balance.where(balance > 0).sum(axis=1)\n",
    "        demand = -balance.where(balance < 0).sum(axis=1)\n",
    "\n",
    "        df = pd.concat({\"supply\": supply, \"demand\": demand}, axis=1)\n",
    "\n",
    "    df = df.div(df.sum()) * 100\n",
    "\n",
    "    df[\"sortby\"] = df.eval(sortby)\n",
    "\n",
    "    df.sort_values(by=\"sortby\", inplace=True)\n",
    "\n",
    "    df.drop(\"sortby\", axis=1, inplace=True)\n",
    "\n",
    "    lead = pd.DataFrame({\"supply\": [0], \"demand\": [0]})\n",
    "\n",
    "    df = pd.concat([lead, df])\n",
    "\n",
    "    return df.cumsum()"
   ]
  },
  {
   "cell_type": "code",
   "execution_count": null,
   "id": "6fac7646-f19f-4deb-89b9-e26f62078f1a",
   "metadata": {},
   "outputs": [],
   "source": [
    "def plot_lorenz(n, carriers, sortby=\"supply/demand\", dfs={}, fn=None):\n",
    "    for c in set(carriers).difference(dfs.keys()):\n",
    "        dfs[c] = None\n",
    "\n",
    "    fig, ax = plt.subplots(figsize=(3.5, 3.5))\n",
    "\n",
    "    linspace = np.linspace(0, 100, 100)\n",
    "    ax.plot(linspace, linspace, c=\"darkgrey\", linestyle=\":\", linewidth=1)\n",
    "\n",
    "    nice_names = {\n",
    "        \"AC\": \"electricity\",\n",
    "        \"H2\": \"hydrogen\",\n",
    "        \"gas\": \"methane\",\n",
    "        \"oil\": \"oil\",\n",
    "    }\n",
    "\n",
    "    for carrier in carriers:\n",
    "        df = cumulative_share(n, carrier, sortby, df=dfs[carrier])\n",
    "        ax.plot(\n",
    "            df.demand,\n",
    "            df.supply,\n",
    "            label=nice_names[carrier],\n",
    "            color=tech_colors[nice_names[carrier]],\n",
    "        )\n",
    "\n",
    "    ax.set_xlabel(f\"Cumulative Share of Demand [%]\")\n",
    "    ax.set_ylabel(f\"Cumulative Share of Supply [%]\")\n",
    "    ax.set_ylim(-1, 101)\n",
    "    ax.set_xlim(-1, 101)\n",
    "    ax.legend()\n",
    "\n",
    "    if fn is not None:\n",
    "        plt.savefig(fn, bbox_inches=\"tight\")\n",
    "        plt.close()"
   ]
  },
  {
   "cell_type": "code",
   "execution_count": null,
   "id": "774978e7-4f6c-4bb6-bb17-a38f02ff9d57",
   "metadata": {},
   "outputs": [],
   "source": [
    "carriers = [\"oil\", \"gas\", \"H2\", \"AC\"]\n",
    "\n",
    "dfs = {\"oil\": get_import_export_oil()}\n",
    "if not GAS_NETWORK:\n",
    "    dfs[\"gas\"] = get_import_export_gas()\n",
    "\n",
    "plot_lorenz(\n",
    "    n,\n",
    "    carriers=carriers,\n",
    "    sortby=\"supply/demand\",\n",
    "    dfs=dfs,\n",
    "    fn=f\"{OUTPUT_SCENARIO}/lorenz.pdf\",\n",
    ")"
   ]
  },
  {
   "cell_type": "markdown",
   "id": "c04fe3c2-b905-45ae-b948-77b56cfee8d2",
   "metadata": {
    "tags": []
   },
   "source": [
    "## Nodal price duration curve"
   ]
  },
  {
   "cell_type": "code",
   "execution_count": null,
   "id": "d2ff03a6-a5ad-4562-ab9b-c1c960a899b2",
   "metadata": {},
   "outputs": [],
   "source": [
    "def plot_price_duration_curve(n, carrier, fn=None):\n",
    "    df = n.buses_t.marginal_price.loc[:, n.buses.carrier == carrier]\n",
    "\n",
    "    df = df.stack()\n",
    "\n",
    "    to_plot = df.sort_values(ascending=False).reset_index(drop=True)\n",
    "\n",
    "    to_plot.index = [i / len(df) * 100 for i in to_plot.index]\n",
    "\n",
    "    fig, ax = plt.subplots(figsize=(4, 2.5))\n",
    "    to_plot.plot(\n",
    "        ax=ax,\n",
    "    )\n",
    "    plt.xlabel(\"share of snapshots and nodes [%]\")\n",
    "    plt.ylabel(\"nodal price [EUR/MWh]\")\n",
    "    plt.axvline(0, linewidth=0.5, linestyle=\":\", color=\"grey\")\n",
    "    plt.axvline(100, linewidth=0.5, linestyle=\":\", color=\"grey\")\n",
    "    plt.axhline(0, linewidth=0.5, linestyle=\":\", color=\"grey\")\n",
    "\n",
    "    if carrier == \"H2\":\n",
    "        title = \"Hydrogen\"\n",
    "        plt.ylim([-20, 350])\n",
    "    elif carrier == \"AC\":\n",
    "        title = \"Electricity\"\n",
    "        plt.ylim([-100, 1000])\n",
    "    else:\n",
    "        title = carrier\n",
    "\n",
    "    plt.title(title, fontsize=12, color=\"#343434\")\n",
    "\n",
    "    if fn is not None:\n",
    "        plt.savefig(fn, bbox_inches=\"tight\")\n",
    "        plt.close()"
   ]
  },
  {
   "cell_type": "code",
   "execution_count": null,
   "id": "7f4254b4-4317-404c-a0c0-6564511f0859",
   "metadata": {},
   "outputs": [],
   "source": [
    "carriers = [\n",
    "    \"AC\",\n",
    "    \"H2\",\n",
    "    \"residential rural heat\",\n",
    "    \"services rural heat\",\n",
    "    \"residential urban decentral heat\",\n",
    "    \"services urban decentral heat\",\n",
    "    \"urban central heat\",\n",
    "    \"low voltage\",\n",
    "]\n",
    "\n",
    "if GAS_NETWORK:\n",
    "    carriers.append(\"gas\")"
   ]
  },
  {
   "cell_type": "code",
   "execution_count": null,
   "id": "1fea23f3-2ef9-449e-8c1e-2d52e0d2c75b",
   "metadata": {},
   "outputs": [],
   "source": [
    "for carrier in carriers:\n",
    "    plot_price_duration_curve(\n",
    "        n, carrier, fn=f\"{OUTPUT_SCENARIO}/price-duration-{carrier}.pdf\"\n",
    "    )"
   ]
  },
  {
   "cell_type": "markdown",
   "id": "695a66b5-4c28-4567-8289-9225d16115ef",
   "metadata": {
    "tags": []
   },
   "source": [
    "## Maps: Flow Patterns"
   ]
  },
  {
   "cell_type": "code",
   "execution_count": null,
   "id": "3e2d574a-ae21-4e2c-965e-8a7dbe7ef216",
   "metadata": {},
   "outputs": [],
   "source": [
    "def plot_h2_flow(\n",
    "    network, regions=None, series=None, min_energy=2e6, lim=100, fn=None\n",
    "):  # MWh net transported\n",
    "    crs = ccrs.EqualEarth()\n",
    "\n",
    "    n = network.copy()\n",
    "\n",
    "    assign_location(n)\n",
    "\n",
    "    linewidth_factor = 8e5\n",
    "    # MW below which not drawn\n",
    "    line_lower_threshold = 1e2\n",
    "    link_color = \"k\"\n",
    "\n",
    "    # Drop non-electric buses so they don't clutter the plot\n",
    "    n.buses.drop(n.buses.index[n.buses.carrier != \"AC\"], inplace=True)\n",
    "\n",
    "    n.mremove(\"Link\", n.links[~n.links.carrier.str.contains(\"H2 pipeline\")].index)\n",
    "\n",
    "    n.links.bus0 = n.links.bus0.str.replace(\" H2\", \"\")\n",
    "    n.links.bus1 = n.links.bus1.str.replace(\" H2\", \"\")\n",
    "\n",
    "    n.links[\"flow\"] = n.snapshot_weightings.generators @ n.links_t.p0\n",
    "\n",
    "    positive_order = n.links.bus0 < n.links.bus1\n",
    "    swap_buses = {\"bus0\": \"bus1\", \"bus1\": \"bus0\"}\n",
    "    n.links.loc[~positive_order] = n.links.rename(columns=swap_buses)\n",
    "    n.links.loc[~positive_order, \"flow\"] = -n.links.loc[~positive_order, \"flow\"]\n",
    "    n.links.index = n.links.apply(lambda x: f\"H2 pipeline {x.bus0} -> {x.bus1}\", axis=1)\n",
    "    n.links = n.links.groupby(n.links.index).agg(\n",
    "        dict(flow=\"sum\", bus0=\"first\", bus1=\"first\", carrier=\"first\", p_nom_opt=\"sum\")\n",
    "    )\n",
    "\n",
    "    n.links.flow = n.links.flow.where(n.links.flow.abs() > min_energy)\n",
    "\n",
    "    fig, ax = plt.subplots(figsize=(7, 6), subplot_kw={\"projection\": crs})\n",
    "\n",
    "    n.plot(\n",
    "        bus_sizes=0,\n",
    "        link_colors=link_color,\n",
    "        branch_components=[\"Link\"],\n",
    "        ax=ax,\n",
    "        geomap=True,\n",
    "        flow=pd.concat({\"Link\": n.links.flow.div(linewidth_factor)}),\n",
    "    )\n",
    "\n",
    "    if regions is not None:\n",
    "        regions = regions.to_crs(crs.proj4_init)\n",
    "\n",
    "        regions.plot(\n",
    "            ax=ax,\n",
    "            column=-series.reindex(regions.index),\n",
    "            cmap=\"PRGn\",\n",
    "            linewidths=0,\n",
    "            legend=True,\n",
    "            vmax=lim,\n",
    "            vmin=-lim,\n",
    "            legend_kwds={\n",
    "                \"label\": \"Hydrogen balance [TWh]\",\n",
    "                \"shrink\": 0.7,\n",
    "                \"extend\": \"both\",\n",
    "            },\n",
    "        )\n",
    "\n",
    "    colors = [link_color]\n",
    "    labels = [\"Hydrogen flows [TWh]\"]\n",
    "    add_legend_patch(\n",
    "        ax,\n",
    "        colors,\n",
    "        labels,\n",
    "        patch_kw=dict(edgecolor=\"k\"),\n",
    "        legend_kw=dict(loc=\"upper left\"),\n",
    "    )\n",
    "\n",
    "    if fn is not None:\n",
    "        plt.savefig(fn, bbox_inches=\"tight\")\n",
    "        plt.close()"
   ]
  },
  {
   "cell_type": "code",
   "execution_count": null,
   "id": "32336878-6146-41e1-84f3-c06f79274b8f",
   "metadata": {},
   "outputs": [],
   "source": [
    "def plot_gas_flow(\n",
    "    network,\n",
    "    min_energy=2e6,  # MWh net transported\n",
    "    max_energy=100e6,\n",
    "    fn=None,\n",
    "):\n",
    "    crs = ccrs.EqualEarth()\n",
    "\n",
    "    n = network.copy()\n",
    "\n",
    "    assign_location(n)\n",
    "\n",
    "    linewidth_factor = 15e5\n",
    "    # MW below which not drawn\n",
    "    line_lower_threshold = 1e2\n",
    "    link_color = \"indianred\"\n",
    "\n",
    "    # Drop non-electric buses so they don't clutter the plot\n",
    "    n.buses.drop(n.buses.index[n.buses.carrier != \"AC\"], inplace=True)\n",
    "\n",
    "    n.mremove(\"Link\", n.links[~n.links.carrier.str.contains(\"gas pipeline\")].index)\n",
    "\n",
    "    n.links.bus0 = n.links.bus0.str.replace(\" gas\", \"\")\n",
    "    n.links.bus1 = n.links.bus1.str.replace(\" gas\", \"\")\n",
    "\n",
    "    n.links[\"flow\"] = n.snapshot_weightings.generators @ n.links_t.p0\n",
    "\n",
    "    positive_order = n.links.bus0 < n.links.bus1\n",
    "    swap_buses = {\"bus0\": \"bus1\", \"bus1\": \"bus0\"}\n",
    "    n.links.loc[~positive_order] = n.links.rename(columns=swap_buses)\n",
    "    n.links.loc[~positive_order, \"flow\"] = -n.links.loc[~positive_order, \"flow\"]\n",
    "    n.links.index = n.links.apply(\n",
    "        lambda x: f\"gas pipeline {x.bus0} -> {x.bus1}\", axis=1\n",
    "    )\n",
    "    n.links = n.links.groupby(n.links.index).agg(\n",
    "        dict(flow=\"sum\", bus0=\"first\", bus1=\"first\", carrier=\"first\", p_nom_opt=\"sum\")\n",
    "    )\n",
    "\n",
    "    n.links.flow = n.links.flow.where(n.links.flow.abs() > min_energy)\n",
    "\n",
    "    n.links.flow = n.links.flow.clip(upper=max_energy)\n",
    "\n",
    "    fig, ax = plt.subplots(figsize=(7, 6), subplot_kw={\"projection\": crs})\n",
    "\n",
    "    n.plot(\n",
    "        bus_sizes=0,\n",
    "        link_colors=link_color,\n",
    "        projection=crs,\n",
    "        branch_components=[\"Link\"],\n",
    "        ax=ax,\n",
    "        geomap=True,\n",
    "        flow=pd.concat({\"Link\": n.links.flow.div(linewidth_factor)}),\n",
    "    )\n",
    "\n",
    "    colors = [link_color]\n",
    "    labels = [\"Gas network\"]\n",
    "    add_legend_patch(\n",
    "        ax,\n",
    "        colors,\n",
    "        labels,\n",
    "        patch_kw=dict(edgecolor=\"k\"),\n",
    "        legend_kw=dict(loc=\"upper left\"),\n",
    "    )\n",
    "\n",
    "    if fn is not None:\n",
    "        plt.savefig(fn, bbox_inches=\"tight\")\n",
    "        plt.close()"
   ]
  },
  {
   "cell_type": "code",
   "execution_count": null,
   "id": "7e4fa3dd-9922-41f0-a5df-86e40e8b9f81",
   "metadata": {},
   "outputs": [],
   "source": [
    "def plot_elec_flow(network, min_energy=2e6, fn=None):  # MWh\n",
    "    crs = ccrs.EqualEarth()\n",
    "\n",
    "    n = network.copy()\n",
    "\n",
    "    assign_location(n)\n",
    "\n",
    "    # Drop non-electric buses so they don't clutter the plot\n",
    "    n.buses.drop(n.buses.index[n.buses.carrier != \"AC\"], inplace=True)\n",
    "\n",
    "    n.mremove(\"Link\", n.links.index[n.links.carrier != \"DC\"])\n",
    "\n",
    "    fig, ax = plt.subplots(figsize=(7, 6), subplot_kw={\"projection\": crs})\n",
    "\n",
    "    link_flow = n.snapshot_weightings.generators @ n.links_t.p0\n",
    "    line_flow = n.snapshot_weightings.generators @ n.lines_t.p0\n",
    "\n",
    "    link_flow = link_flow.where(link_flow.abs() > min_energy)\n",
    "    line_flow = line_flow.where(line_flow.abs() > min_energy)\n",
    "\n",
    "    n.plot(\n",
    "        ax=ax,\n",
    "        geomap=True,\n",
    "        bus_sizes=0,\n",
    "        flow=pd.concat(\n",
    "            {\"Link\": link_flow.div(4e5), \"Line\": line_flow.div(4e5)}, axis=0\n",
    "        ),\n",
    "        branch_components=[\"Line\", \"Link\"],\n",
    "    )\n",
    "\n",
    "    colors = [\"rosybrown\", \"darkseagreen\"]\n",
    "    labels = [\"HVAC lines\", \"HVDC links\"]\n",
    "    add_legend_patch(\n",
    "        ax,\n",
    "        colors,\n",
    "        labels,\n",
    "        patch_kw=dict(edgecolor=\"k\"),\n",
    "        legend_kw=dict(loc=\"upper left\"),\n",
    "    )\n",
    "\n",
    "    if fn is not None:\n",
    "        plt.savefig(fn, bbox_inches=\"tight\")\n",
    "        plt.close()"
   ]
  },
  {
   "cell_type": "code",
   "execution_count": null,
   "id": "e1addf38-4f11-49ab-bf59-abee7548810d",
   "metadata": {},
   "outputs": [],
   "source": [
    "if H2_NETWORK:\n",
    "    io = get_import_export_balance(n)\n",
    "    plot_h2_flow(\n",
    "        n,\n",
    "        nodes,\n",
    "        io[\"hydrogen\"],\n",
    "        lim=200,\n",
    "        min_energy=0,\n",
    "        fn=f\"{OUTPUT_SCENARIO}/h2-flow-map.pdf\",\n",
    "    )\n",
    "    plot_h2_flow(\n",
    "        n,\n",
    "        nodes,\n",
    "        io[\"hydrogen\"],\n",
    "        lim=200,\n",
    "        min_energy=2e6,\n",
    "        fn=f\"{OUTPUT_SCENARIO}/h2-flow-map-backbone.pdf\",\n",
    "    )"
   ]
  },
  {
   "cell_type": "code",
   "execution_count": null,
   "id": "d544bc00-4d72-4912-a361-b961045b4ddf",
   "metadata": {},
   "outputs": [],
   "source": [
    "if GAS_NETWORK:\n",
    "    plot_gas_flow(\n",
    "        n, min_energy=0, max_energy=100e6, fn=f\"{OUTPUT_SCENARIO}/gas-flow-map.pdf\"\n",
    "    )\n",
    "    plot_gas_flow(\n",
    "        n,\n",
    "        min_energy=10e6,\n",
    "        max_energy=100e6,\n",
    "        fn=f\"{OUTPUT_SCENARIO}/gas-flow-map-backbone.pdf\",\n",
    "    )"
   ]
  },
  {
   "cell_type": "code",
   "execution_count": null,
   "id": "8f9ec456-fd3b-4220-9400-f2e3ead3006b",
   "metadata": {},
   "outputs": [],
   "source": [
    "plot_elec_flow(n, min_energy=0, fn=f\"{OUTPUT_SCENARIO}/elec-flow-map.pdf\")\n",
    "plot_elec_flow(n, min_energy=10e6, fn=f\"{OUTPUT_SCENARIO}/elec-flow-map-backbone.pdf\")"
   ]
  },
  {
   "cell_type": "markdown",
   "id": "0877e041",
   "metadata": {
    "tags": []
   },
   "source": [
    "## Maps: Curtailment and Line Loading"
   ]
  },
  {
   "cell_type": "code",
   "execution_count": null,
   "id": "9bb8a2ce-0dc7-41db-ac3b-8b2ce0b6df61",
   "metadata": {},
   "outputs": [],
   "source": [
    "def congestion_frequency(n, c):\n",
    "    pnl = n.pnl(c)\n",
    "    return n.snapshot_weightings.generators @ (\n",
    "        pnl.mu_upper.applymap(lambda x: x > 1) | pnl.mu_lower.applymap(lambda x: x > 1)\n",
    "    )"
   ]
  },
  {
   "cell_type": "code",
   "execution_count": null,
   "id": "844d7abf-591b-472e-aafb-f4b5d2b33bf4",
   "metadata": {},
   "outputs": [],
   "source": [
    "def congestion_rent(n, c):\n",
    "    df = n.df(c)\n",
    "    pnl = n.pnl(c)\n",
    "\n",
    "    lmp = n.buses_t.marginal_price\n",
    "    lmp0 = lmp.reindex(columns=df.bus0).T.reset_index(drop=True)\n",
    "    lmp1 = lmp.reindex(columns=df.bus1).T.reset_index(drop=True)\n",
    "    lmp_diff = (lmp0 - lmp1).abs().T\n",
    "    lmp_diff.columns = df.index\n",
    "\n",
    "    congestion_rent = (\n",
    "        lmp_diff * pnl.p0.abs().multiply(n.snapshot_weightings.generators, axis=0) / 1e6\n",
    "    )\n",
    "\n",
    "    return congestion_rent.sum()"
   ]
  },
  {
   "cell_type": "code",
   "execution_count": null,
   "id": "da6401d7",
   "metadata": {},
   "outputs": [],
   "source": [
    "def curtailment(n, carriers=None):\n",
    "    avail = n.generators_t.p_max_pu * n.generators.p_nom_opt\n",
    "    dispatch = n.generators_t.p\n",
    "\n",
    "    curtail = n.snapshot_weightings.generators @ (avail - dispatch)\n",
    "\n",
    "    curtail = (\n",
    "        curtail.groupby([n.generators.bus.map(n.buses.location), n.generators.carrier])\n",
    "        .sum()\n",
    "        .unstack()\n",
    "    )\n",
    "\n",
    "    if carriers is not None:\n",
    "        curtail = curtail[carriers]\n",
    "\n",
    "    return curtail.drop(\"EU\", axis=0).stack().div(1e6)"
   ]
  },
  {
   "cell_type": "code",
   "execution_count": null,
   "id": "4aad3031-170e-49f6-929e-34c4bca34f00",
   "metadata": {},
   "outputs": [],
   "source": [
    "def plot_congestion_rent(network, fn=None):\n",
    "    n = network.copy()\n",
    "\n",
    "    carriers = {\n",
    "        \"offwind-ac\": \"Offshore Wind (AC)\",\n",
    "        \"offwind-dc\": \"Offshore Wind (DC)\",\n",
    "        \"onwind\": \"Onshore Wind\",\n",
    "        \"ror\": \"Run of River\",\n",
    "        \"solar\": \"Utility-scale Solar PV\",\n",
    "        \"solar rooftop\": \"Rooftop Solar PV\",\n",
    "    }\n",
    "\n",
    "    curtail = curtailment(n, carriers.keys())\n",
    "\n",
    "    n.buses.drop(n.buses.index[n.buses.carrier != \"AC\"], inplace=True)\n",
    "    n.mremove(\"Link\", n.links.index[n.links.carrier != \"DC\"])\n",
    "\n",
    "    congestion_rent_link = congestion_rent(n, \"Link\")\n",
    "    congestion_rent_line = congestion_rent(n, \"Line\")\n",
    "\n",
    "    cmap = plt.cm.OrRd\n",
    "    norm = mcolors.LogNorm(vmin=10, vmax=2000)\n",
    "    sm = plt.cm.ScalarMappable(cmap=cmap, norm=norm)\n",
    "    sm.set_array([])\n",
    "\n",
    "    crs = ccrs.EqualEarth()\n",
    "\n",
    "    fig, ax = plt.subplots(figsize=(7, 6), subplot_kw={\"projection\": crs})\n",
    "\n",
    "    line_colors = pd.Series(\n",
    "        list(map(mcolors.to_hex, cmap(norm(congestion_rent_line)))),\n",
    "        index=congestion_rent_line.index,\n",
    "    )\n",
    "\n",
    "    link_colors = pd.Series(\n",
    "        list(map(mcolors.to_hex, cmap(norm(congestion_rent_link)))),\n",
    "        index=congestion_rent_link.index,\n",
    "    )\n",
    "\n",
    "    bus_size_factor = 50\n",
    "    line_width_factor = 7e3\n",
    "\n",
    "    n.plot(\n",
    "        geomap=True,\n",
    "        ax=ax,\n",
    "        bus_sizes=curtail / bus_size_factor,\n",
    "        bus_colors=tech_colors,\n",
    "        line_colors=line_colors,\n",
    "        link_colors=link_colors,\n",
    "        line_widths=n.lines.s_nom_opt / line_width_factor,\n",
    "        link_widths=n.links.p_nom_opt / line_width_factor,\n",
    "        boundaries=BOUNDARIES,\n",
    "    )\n",
    "\n",
    "    cbar = plt.colorbar(\n",
    "        sm,\n",
    "        orientation=\"vertical\",\n",
    "        shrink=0.7,\n",
    "        ax=ax,\n",
    "        label=\"Congestion Rent [Million €]\",\n",
    "        extend=\"max\",\n",
    "    )\n",
    "\n",
    "    sizes = [5, 10]\n",
    "    labels = [f\"{s} TWh\" for s in sizes]\n",
    "    add_legend_circles(\n",
    "        ax,\n",
    "        sizes,\n",
    "        labels,\n",
    "        scale=bus_size_factor,\n",
    "        srid=n.srid,\n",
    "        legend_kw=dict(title=\"Curtailment\", loc=\"upper left\"),\n",
    "        patch_kw=dict(facecolor=\"lightgrey\", edgecolor=\"k\"),\n",
    "    )\n",
    "\n",
    "    sizes = [10, 20]\n",
    "    labels = [f\"{s} GW\" for s in sizes]\n",
    "    add_legend_lines(\n",
    "        ax,\n",
    "        sizes,\n",
    "        labels,\n",
    "        scale=line_width_factor / 1e3,\n",
    "        legend_kw=dict(title=\"Line Capacity\", bbox_to_anchor=(0.5, 1)),\n",
    "        patch_kw=dict(color=\"lightgrey\"),\n",
    "    )\n",
    "\n",
    "    colors = [tech_colors[c] for c in carriers.keys()]\n",
    "    labels = carriers.values()\n",
    "    add_legend_patch(\n",
    "        ax,\n",
    "        colors,\n",
    "        labels,\n",
    "        patch_kw=dict(edgecolor=\"k\"),\n",
    "        legend_kw=dict(bbox_to_anchor=(1.25, 1.15), ncol=3),\n",
    "    )\n",
    "\n",
    "    if fn is not None:\n",
    "        plt.savefig(fn, bbox_inches=\"tight\")\n",
    "        plt.close()"
   ]
  },
  {
   "cell_type": "code",
   "execution_count": null,
   "id": "588ca92b-b426-4507-87c0-39067da022cc",
   "metadata": {},
   "outputs": [],
   "source": [
    "def plot_line_loading(network, fn=None):\n",
    "    line_width_factor = 4e3\n",
    "\n",
    "    n = network.copy()\n",
    "\n",
    "    n.mremove(\"Bus\", n.buses.index[n.buses.carrier != \"AC\"])\n",
    "    n.mremove(\"Link\", n.links.index[n.links.carrier != \"DC\"])\n",
    "\n",
    "    line_loading = (\n",
    "        n.lines_t.p0.abs().mean() / (n.lines.s_nom_opt * n.lines.s_max_pu) * 100\n",
    "    )\n",
    "\n",
    "    link_loading = (\n",
    "        n.links_t.p0.abs().mean() / (n.links.p_nom_opt * n.links.p_max_pu) * 100\n",
    "    )\n",
    "\n",
    "    crs = ccrs.EqualEarth()\n",
    "\n",
    "    fig, ax = plt.subplots(figsize=(7, 6), subplot_kw={\"projection\": crs})\n",
    "\n",
    "    cmap = plt.cm.OrRd\n",
    "    norm = mcolors.Normalize(vmin=0, vmax=100)\n",
    "    sm = plt.cm.ScalarMappable(cmap=cmap, norm=norm)\n",
    "    sm.set_array([])\n",
    "\n",
    "    line_colors = pd.Series(\n",
    "        list(map(mcolors.to_hex, cmap(norm(line_loading)))), index=line_loading.index\n",
    "    )\n",
    "\n",
    "    link_colors = pd.Series(\n",
    "        list(map(mcolors.to_hex, cmap(norm(link_loading)))), index=link_loading.index\n",
    "    )\n",
    "\n",
    "    n.plot(\n",
    "        geomap=True,\n",
    "        ax=ax,\n",
    "        bus_sizes=0.005,\n",
    "        bus_colors=\"k\",\n",
    "        line_colors=line_colors,\n",
    "        line_widths=n.lines.s_nom_opt / line_width_factor,\n",
    "        link_colors=link_colors,\n",
    "        link_widths=n.links.p_nom_opt / line_width_factor,\n",
    "    )\n",
    "\n",
    "    cbar = plt.colorbar(\n",
    "        sm,\n",
    "        orientation=\"vertical\",\n",
    "        shrink=0.7,\n",
    "        ax=ax,\n",
    "        label=\"Average Loading / N-1 Compliant Rating [%]\",\n",
    "    )\n",
    "\n",
    "    sizes = [10, 20]\n",
    "    labels = [f\"{s} GW\" for s in sizes]\n",
    "    add_legend_lines(\n",
    "        ax,\n",
    "        sizes,\n",
    "        labels,\n",
    "        scale=line_width_factor / 1e3,\n",
    "        legend_kw=dict(title=\"Line Capacity\", bbox_to_anchor=(1.03, 0.62)),\n",
    "        patch_kw=dict(color=\"lightgrey\"),\n",
    "    )\n",
    "\n",
    "    axins = ax.inset_axes([0.05, 0.8, 0.3, 0.2])\n",
    "    curve = line_loading.sort_values().reset_index(drop=True)\n",
    "    curve.index = [c / curve.size * 100 for c in curve.index]\n",
    "    curve.plot(\n",
    "        ax=axins,\n",
    "        ylim=(-5, 105),\n",
    "        yticks=[0, 25, 50, 75, 100],\n",
    "        c=\"firebrick\",\n",
    "        linewidth=1.5,\n",
    "    )\n",
    "    axins.annotate(\"loading [%]\", (3, 83), color=\"darkgrey\", fontsize=9)\n",
    "    axins.annotate(\"lines [%]\", (55, 7), color=\"darkgrey\", fontsize=9)\n",
    "    axins.grid(True)\n",
    "\n",
    "    if fn is not None:\n",
    "        plt.savefig(fn, bbox_inches=\"tight\")\n",
    "        plt.close()"
   ]
  },
  {
   "cell_type": "code",
   "execution_count": null,
   "id": "7a758249-38b3-48c2-88cd-32ef33f9af19",
   "metadata": {},
   "outputs": [],
   "source": [
    "def plot_pipeline_loading(network, min_capacity=0, fn=None):\n",
    "    line_width_factor = 6e3\n",
    "\n",
    "    n = network.copy()\n",
    "\n",
    "    n.mremove(\"Bus\", n.buses.index[n.buses.carrier != \"AC\"])\n",
    "    n.mremove(\"Link\", n.links.index[~n.links.carrier.str.contains(\"H2 pipeline\")])\n",
    "\n",
    "    n.mremove(\"Link\", n.links.index[n.links.p_nom_opt < min_capacity])\n",
    "    n.links.bus0 = n.links.bus0.str.replace(\" H2\", \"\")\n",
    "    n.links.bus1 = n.links.bus1.str.replace(\" H2\", \"\")\n",
    "\n",
    "    link_loading = n.links_t.p0.abs().mean() / n.links.p_nom_opt * 100\n",
    "\n",
    "    crs = ccrs.EqualEarth()\n",
    "\n",
    "    fig, ax = plt.subplots(figsize=(7, 6), subplot_kw={\"projection\": crs})\n",
    "\n",
    "    cmap = plt.cm.OrRd\n",
    "    norm = mcolors.Normalize(vmin=0, vmax=100)\n",
    "    sm = plt.cm.ScalarMappable(cmap=cmap, norm=norm)\n",
    "    sm.set_array([])\n",
    "\n",
    "    link_colors = pd.Series(\n",
    "        list(map(mcolors.to_hex, cmap(norm(link_loading)))), index=link_loading.index\n",
    "    )\n",
    "\n",
    "    n.plot(\n",
    "        geomap=True,\n",
    "        ax=ax,\n",
    "        bus_sizes=0.005,\n",
    "        bus_colors=\"k\",\n",
    "        link_colors=link_colors,\n",
    "        link_widths=n.links.p_nom_opt / line_width_factor,\n",
    "        branch_components=[\"Link\"],\n",
    "    )\n",
    "\n",
    "    sizes = [10, 20]\n",
    "    labels = [f\"{s} GW\" for s in sizes]\n",
    "    add_legend_lines(\n",
    "        ax,\n",
    "        sizes,\n",
    "        labels,\n",
    "        scale=line_width_factor / 1e3,\n",
    "        legend_kw=dict(title=\"Pipe Capacity\", bbox_to_anchor=(1.03, 0.62)),\n",
    "        patch_kw=dict(color=\"lightgrey\"),\n",
    "    )\n",
    "\n",
    "    axins = ax.inset_axes([0.05, 0.8, 0.3, 0.2])\n",
    "    curve = link_loading.sort_values().reset_index(drop=True)\n",
    "    curve.index = [c / curve.size * 100 for c in curve.index]\n",
    "    curve.plot(\n",
    "        ax=axins,\n",
    "        ylim=(-5, 105),\n",
    "        yticks=[0, 25, 50, 75, 100],\n",
    "        c=\"firebrick\",\n",
    "        linewidth=1.5,\n",
    "    )\n",
    "    axins.annotate(\"loading [%]\", (3, 83), color=\"darkgrey\", fontsize=9)\n",
    "    axins.annotate(\"pipes [%]\", (55, 7), color=\"darkgrey\", fontsize=9)\n",
    "    axins.grid(True)\n",
    "\n",
    "    cbar = plt.colorbar(\n",
    "        sm,\n",
    "        orientation=\"vertical\",\n",
    "        shrink=0.7,\n",
    "        ax=ax,\n",
    "        label=\"Average Loading / Pipe Capacity [%]\",\n",
    "    )\n",
    "\n",
    "    if fn is not None:\n",
    "        plt.savefig(fn, bbox_inches=\"tight\")\n",
    "        plt.close()"
   ]
  },
  {
   "cell_type": "code",
   "execution_count": null,
   "id": "bbb60397-f6e2-409c-aed6-53f109bfad75",
   "metadata": {},
   "outputs": [],
   "source": [
    "plot_congestion_rent(n, fn=f\"{OUTPUT_SCENARIO}/map_congestion.pdf\")"
   ]
  },
  {
   "cell_type": "code",
   "execution_count": null,
   "id": "ff085e7a-ef95-4395-b2b7-726c1c02c0e6",
   "metadata": {},
   "outputs": [],
   "source": [
    "plot_line_loading(n, fn=f\"{OUTPUT_SCENARIO}/map_avg_lineloading.pdf\")"
   ]
  },
  {
   "cell_type": "code",
   "execution_count": null,
   "id": "739fcf81-eb13-4590-93d5-7a9c7801ca93",
   "metadata": {},
   "outputs": [],
   "source": [
    "if H2_NETWORK:\n",
    "    plot_pipeline_loading(\n",
    "        n, min_capacity=1000, fn=f\"{OUTPUT_SCENARIO}/map_avg_pipelineloading.pdf\"\n",
    "    )"
   ]
  },
  {
   "cell_type": "markdown",
   "id": "f98dae66-88e8-4e22-9296-18e865c900d5",
   "metadata": {
    "tags": []
   },
   "source": [
    "## Stats: TWkm"
   ]
  },
  {
   "cell_type": "code",
   "execution_count": null,
   "id": "662eff74-294c-4b1a-b8e1-8f07887981b3",
   "metadata": {},
   "outputs": [],
   "source": [
    "def calculate_twkm(n, selection=None, decimals=1, which=\"optimal\"):\n",
    "    if selection is None:\n",
    "        selection = [\n",
    "            \"H2 pipeline\",\n",
    "            \"H2 pipeline retrofitted\",\n",
    "            \"gas pipeline\",\n",
    "            \"gas pipeline new\",\n",
    "            \"DC\",\n",
    "        ]\n",
    "\n",
    "    twkm = n.links.loc[n.links.carrier.isin(selection)]\n",
    "\n",
    "    if which == \"optimal\":\n",
    "        link_request = \"p_nom_opt\"\n",
    "        line_request = \"s_nom_opt\"\n",
    "    elif which == \"added\":\n",
    "        link_request = \"(p_nom_opt - p_nom)\"\n",
    "        line_request = \"(s_nom_opt - s_nom)\"\n",
    "    elif which == \"existing\":\n",
    "        link_request = \"p_nom\"\n",
    "        line_request = \"s_nom\"\n",
    "\n",
    "    twkm = twkm.eval(f\"length*{link_request}\").groupby(twkm.carrier).sum() / 1e6  # TWkm\n",
    "    twkm[\"AC\"] = n.lines.eval(f\"length*{line_request}\").sum() / 1e6  # TWkm\n",
    "\n",
    "    twkm.index.name = None\n",
    "\n",
    "    return twkm.round(decimals)"
   ]
  },
  {
   "cell_type": "code",
   "execution_count": null,
   "id": "d3154639-aed5-4b8f-9e44-807c4399443d",
   "metadata": {},
   "outputs": [],
   "source": [
    "twkm = calculate_twkm(n, which=\"optimal\")"
   ]
  },
  {
   "cell_type": "code",
   "execution_count": null,
   "id": "586c7978-ce70-492f-bf6c-b547a8baac4e",
   "metadata": {},
   "outputs": [],
   "source": [
    "twkm"
   ]
  },
  {
   "cell_type": "code",
   "execution_count": null,
   "id": "885984f6",
   "metadata": {},
   "outputs": [],
   "source": [
    "pd.DataFrame(\n",
    "    {key: calculate_twkm(n, which=key) for key in [\"optimal\", \"added\", \"existing\"]}\n",
    ").stack().to_csv(f\"{OUTPUT_SCENARIO}/twkm.csv\")"
   ]
  },
  {
   "cell_type": "markdown",
   "id": "0042b376-142e-4a83-b2ca-a7d587a85d12",
   "metadata": {
    "tags": []
   },
   "source": [
    "## Stats: Energy Moved"
   ]
  },
  {
   "cell_type": "code",
   "execution_count": null,
   "id": "19f2e04b-746c-413c-836c-5ce5deebc03e",
   "metadata": {},
   "outputs": [],
   "source": [
    "def calculate_energy_moved(n, selection=None, decimals=2):\n",
    "    if selection is None:\n",
    "        selection = [\n",
    "            \"DC\",\n",
    "            \"H2 pipeline\",\n",
    "            \"H2 pipeline retrofitted\",\n",
    "            \"gas pipeline\",\n",
    "            \"gas pipeline_new\",\n",
    "        ]\n",
    "\n",
    "    transport = n.links.query(\"carrier in @selection\")\n",
    "\n",
    "    df = (\n",
    "        (n.snapshot_weightings.generators @ n.links_t.p0[transport.index].abs())\n",
    "        .mul(transport.length)\n",
    "        .groupby(transport.carrier)\n",
    "        .sum()\n",
    "    )\n",
    "\n",
    "    df[\"AC\"] = (\n",
    "        (n.snapshot_weightings.generators @ n.lines_t.p0.abs())\n",
    "        .mul(n.lines.length)\n",
    "        .sum()\n",
    "    )\n",
    "\n",
    "    return df.div(1e12).round(decimals)  # EWhkm"
   ]
  },
  {
   "cell_type": "code",
   "execution_count": null,
   "id": "1237068e-5f04-485e-9d8d-d40cbbc5f516",
   "metadata": {},
   "outputs": [],
   "source": [
    "calculate_energy_moved(n).to_csv(f\"{OUTPUT_SCENARIO}/ewhkm.csv\")"
   ]
  },
  {
   "cell_type": "markdown",
   "id": "1576a3a9-9fc6-4a77-8c79-d37b57c3ca52",
   "metadata": {
    "tags": []
   },
   "source": [
    "## Maps: Nodal Prices"
   ]
  },
  {
   "cell_type": "code",
   "execution_count": null,
   "id": "b40ec594-9d88-4dfb-9e83-582b45d5adcf",
   "metadata": {},
   "outputs": [],
   "source": [
    "def get_nodal_prices(n):\n",
    "    return (\n",
    "        n.buses_t.marginal_price.mean()\n",
    "        .groupby([n.buses.location, n.buses.carrier])\n",
    "        .first()\n",
    "        .unstack()\n",
    "    )"
   ]
  },
  {
   "cell_type": "code",
   "execution_count": null,
   "id": "b680da07-bea2-4942-8886-5208867d4a92",
   "metadata": {},
   "outputs": [],
   "source": [
    "def plot_nodal_prices(df, geodf, carrier, label, vmin, vmax, cmap=\"Blues\", fn=True):\n",
    "    proj = ccrs.EqualEarth()\n",
    "    geodf = geodf.to_crs(proj.proj4_init)\n",
    "\n",
    "    fig, ax = plt.subplots(figsize=(7, 7), subplot_kw={\"projection\": proj})\n",
    "\n",
    "    geodf.plot(\n",
    "        ax=ax,\n",
    "        column=df[carrier].reindex(geodf.index),\n",
    "        cmap=cmap,\n",
    "        linewidths=0,\n",
    "        legend=True,\n",
    "        vmin=vmin,\n",
    "        vmax=vmax,\n",
    "        legend_kwds={\n",
    "            \"label\": label,\n",
    "            \"shrink\": 0.7,\n",
    "            \"extend\": \"max\",\n",
    "        },\n",
    "    )\n",
    "\n",
    "    ax.add_feature(cartopy.feature.COASTLINE.with_scale(\"50m\"), linewidth=0.2, zorder=2)\n",
    "    ax.add_feature(cartopy.feature.BORDERS.with_scale(\"50m\"), linewidth=0.2, zorder=2)\n",
    "\n",
    "    ax.set_frame_on(False)\n",
    "    ax.set_facecolor(\"white\")\n",
    "\n",
    "    if fn:\n",
    "        if not isinstance(fn, str):\n",
    "            fn = f\"{OUTPUT_SCENARIO}/nodal-prices-{carrier}.pdf\"\n",
    "        plt.savefig(fn, bbox_inches=\"tight\")\n",
    "        plt.close()"
   ]
  },
  {
   "cell_type": "code",
   "execution_count": null,
   "id": "898cf70c-c020-4c6e-9ded-74954bad1c0d",
   "metadata": {},
   "outputs": [],
   "source": [
    "df = get_nodal_prices(n)"
   ]
  },
  {
   "cell_type": "code",
   "execution_count": null,
   "id": "8d17932f",
   "metadata": {},
   "outputs": [],
   "source": [
    "carrier = \"AC\"\n",
    "plot_nodal_prices(df, nodes, carrier, \"mean electricity price [€/MWh]\", 50, 120)"
   ]
  },
  {
   "cell_type": "code",
   "execution_count": null,
   "id": "5feebe0b-2678-4d5d-9d15-38fecca8b2ee",
   "metadata": {},
   "outputs": [],
   "source": [
    "carrier = \"H2\"\n",
    "plot_nodal_prices(df, nodes, carrier, \"mean hydrogen price [€/MWh]\", 80, 140, \"RdPu\")"
   ]
  },
  {
   "cell_type": "code",
   "execution_count": null,
   "id": "35737253-3907-4b44-90ba-9d55414331b3",
   "metadata": {},
   "outputs": [],
   "source": [
    "carrier = \"residential urban decentral heat\"\n",
    "plot_nodal_prices(\n",
    "    df,\n",
    "    nodes,\n",
    "    carrier,\n",
    "    \"mean heat price [€/MWh]\",\n",
    "    0,\n",
    "    80,\n",
    "    \"OrRd\",\n",
    ")"
   ]
  },
  {
   "cell_type": "code",
   "execution_count": null,
   "id": "67c10f76-e5d7-4cb1-90fb-3ee2a1d8d9b8",
   "metadata": {},
   "outputs": [],
   "source": [
    "carrier = \"urban central heat\"\n",
    "plot_nodal_prices(df, nodes, carrier, \"mean heat price [€/MWh]\", 0, 80, \"OrRd\")"
   ]
  },
  {
   "cell_type": "code",
   "execution_count": null,
   "id": "8f7288a2-3c7e-46c6-85a7-a9aead774be0",
   "metadata": {},
   "outputs": [],
   "source": [
    "carrier = \"residential rural heat\"\n",
    "plot_nodal_prices(df, nodes, carrier, \"mean heat price [€/MWh]\", 0, 80, \"OrRd\")"
   ]
  },
  {
   "cell_type": "code",
   "execution_count": null,
   "id": "dc4f1f9f-13f4-4695-a6d6-37190d6627f9",
   "metadata": {},
   "outputs": [],
   "source": [
    "if GAS_NETWORK:\n",
    "    carrier = \"gas\"\n",
    "    plot_nodal_prices(df, nodes, carrier, \"mean gas price [€/MWh]\", 0, 30, \"OrRd\")"
   ]
  },
  {
   "cell_type": "markdown",
   "id": "3b87330b-fe0e-4b48-9b3a-be5b5f0e62a0",
   "metadata": {
    "tags": []
   },
   "source": [
    "## Maps: LCOE"
   ]
  },
  {
   "cell_type": "code",
   "execution_count": null,
   "id": "14af0d66-922b-4516-a9c8-76826189f351",
   "metadata": {},
   "outputs": [],
   "source": [
    "def calculate_lcoe(n, carrier, p_nom_threshold=1000):\n",
    "    gen_i = n.generators.loc[n.generators.carrier == carrier].index\n",
    "    gen = n.snapshot_weightings.generators @ n.generators_t.p.loc[:, gen_i]\n",
    "\n",
    "    oc = gen * n.generators.loc[gen_i, \"marginal_cost\"]\n",
    "    ic = n.generators.eval(\"capital_cost * p_nom_opt\").loc[gen_i]\n",
    "\n",
    "    lcoe = (ic + oc) / gen\n",
    "\n",
    "    lcoe = lcoe.where(n.generators.p_nom_opt > p_nom_threshold).dropna()\n",
    "\n",
    "    lcoe.index = lcoe.index.map(n.generators.bus.map(n.buses.location))\n",
    "\n",
    "    return lcoe"
   ]
  },
  {
   "cell_type": "code",
   "execution_count": null,
   "id": "e70523eb-3faf-4bf1-8b1e-bf172f53508f",
   "metadata": {
    "tags": []
   },
   "outputs": [],
   "source": [
    "def plot_lcoe(n, geodf, carrier, label, vmin, vmax, cmap=\"Blues\", fn=True):\n",
    "    lcoe = calculate_lcoe(n, carrier)\n",
    "\n",
    "    proj = ccrs.EqualEarth()\n",
    "    geodf = geodf.to_crs(proj.proj4_init)\n",
    "\n",
    "    fig, ax = plt.subplots(figsize=(7, 7), subplot_kw={\"projection\": proj})\n",
    "\n",
    "    geodf.plot(\n",
    "        ax=ax,\n",
    "        column=lcoe.reindex(geodf.index),\n",
    "        cmap=cmap,\n",
    "        linewidths=0,\n",
    "        legend=True,\n",
    "        vmin=vmin,\n",
    "        vmax=vmax,\n",
    "        legend_kwds={\n",
    "            \"label\": label,\n",
    "            \"shrink\": 0.7,\n",
    "            \"extend\": \"max\",\n",
    "        },\n",
    "    )\n",
    "\n",
    "    ax.add_feature(cartopy.feature.COASTLINE.with_scale(\"50m\"), linewidth=0.2, zorder=2)\n",
    "    ax.add_feature(cartopy.feature.BORDERS.with_scale(\"50m\"), linewidth=0.2, zorder=2)\n",
    "\n",
    "    ax.set_frame_on(False)\n",
    "    ax.set_facecolor(\"white\")\n",
    "\n",
    "    plt.xlim(-1e6, 2.6e6)\n",
    "    plt.ylim(4.3e6, 7.8e6)\n",
    "\n",
    "    if fn:\n",
    "        if not isinstance(fn, str):\n",
    "            fn = f\"{OUTPUT_SCENARIO}/lcoe-{carrier}.pdf\"\n",
    "        plt.savefig(fn, bbox_inches=\"tight\")\n",
    "\n",
    "    plt.close()"
   ]
  },
  {
   "cell_type": "code",
   "execution_count": null,
   "id": "88aa6cd9-09f4-4ed3-b3bb-a9e93f428632",
   "metadata": {},
   "outputs": [],
   "source": [
    "plot_lcoe(n, nodes, \"onwind\", \"onshore wind LCOE [€/MWh]\", 0, 100)"
   ]
  },
  {
   "cell_type": "code",
   "execution_count": null,
   "id": "b8608419-2b32-4acf-93b4-8889e2557034",
   "metadata": {},
   "outputs": [],
   "source": [
    "plot_lcoe(n, offnodes, \"offwind-dc\", \"offshore wind (DC) LCOE [€/MWh]\", 0, 100)"
   ]
  },
  {
   "cell_type": "code",
   "execution_count": null,
   "id": "163d9f0d-d321-4ffd-96a2-bca51dd64765",
   "metadata": {},
   "outputs": [],
   "source": [
    "plot_lcoe(n, offnodes, \"offwind-ac\", \"offshore wind (AC) LCOE [€/MWh]\", 0, 100)"
   ]
  },
  {
   "cell_type": "code",
   "execution_count": null,
   "id": "79fd6334-85db-4557-aebf-79b34317f6aa",
   "metadata": {},
   "outputs": [],
   "source": [
    "plot_lcoe(n, nodes, \"solar rooftop\", \"rooftop solar LCOE [€/MWh]\", 0, 100, \"Oranges\")"
   ]
  },
  {
   "cell_type": "code",
   "execution_count": null,
   "id": "bbf15b44-47b0-4be2-a9d3-9c06f2101b96",
   "metadata": {},
   "outputs": [],
   "source": [
    "plot_lcoe(n, nodes, \"solar\", \"utility solar LCOE [€/MWh]\", 0, 100, \"Oranges\")"
   ]
  },
  {
   "cell_type": "markdown",
   "id": "815984a8-4d7d-4c3d-9439-835bf2d04244",
   "metadata": {
    "tags": []
   },
   "source": [
    "## Maps: Market Values"
   ]
  },
  {
   "cell_type": "code",
   "execution_count": null,
   "id": "f530e335-636a-40c9-93d5-14543df16d1b",
   "metadata": {},
   "outputs": [],
   "source": [
    "def market_values(n, carrier=\"onwind\"):\n",
    "    gen = n.generators_t.p.loc[:, n.generators.carrier == carrier]\n",
    "    gen.columns = gen.columns.map(n.generators.bus)\n",
    "\n",
    "    lmp = n.buses_t.marginal_price.loc[:, gen.columns]\n",
    "\n",
    "    mv = (gen * lmp).sum() / gen.sum()\n",
    "\n",
    "    mv.index = mv.index.map(n.buses.location)\n",
    "\n",
    "    return mv"
   ]
  },
  {
   "cell_type": "code",
   "execution_count": null,
   "id": "934a9411-7a59-40fb-a12e-6deb904253de",
   "metadata": {
    "tags": []
   },
   "outputs": [],
   "source": [
    "def plot_market_values(n, geodf, carrier, label, cmap=\"Blues\", fn=True):\n",
    "    mv = market_values(n, carrier)\n",
    "\n",
    "    proj = ccrs.EqualEarth()\n",
    "    geodf = geodf.to_crs(proj.proj4_init)\n",
    "\n",
    "    fig, ax = plt.subplots(figsize=(7, 7), subplot_kw={\"projection\": proj})\n",
    "\n",
    "    geodf.plot(\n",
    "        ax=ax,\n",
    "        column=mv.reindex(geodf.index),\n",
    "        cmap=cmap,\n",
    "        linewidths=0,\n",
    "        legend=True,\n",
    "        # vmin=vmin,\n",
    "        # vmax=vmax,\n",
    "        legend_kwds={\n",
    "            \"label\": label,\n",
    "            \"shrink\": 0.7,\n",
    "            # \"extend\": \"max\",\n",
    "        },\n",
    "    )\n",
    "\n",
    "    ax.add_feature(cartopy.feature.COASTLINE.with_scale(\"50m\"), linewidth=0.2, zorder=2)\n",
    "    ax.add_feature(cartopy.feature.BORDERS.with_scale(\"50m\"), linewidth=0.2, zorder=2)\n",
    "\n",
    "    ax.set_frame_on(False)\n",
    "    ax.set_facecolor(\"white\")\n",
    "\n",
    "    if fn:\n",
    "        if not isinstance(fn, str):\n",
    "            fn = f\"{OUTPUT_SCENARIO}/market-values-{carrier}.pdf\"\n",
    "        plt.savefig(fn, bbox_inches=\"tight\")\n",
    "        plt.close()"
   ]
  },
  {
   "cell_type": "code",
   "execution_count": null,
   "id": "e4aecd59-a8ed-4e98-bf9f-4e0b4a39ca6c",
   "metadata": {},
   "outputs": [],
   "source": [
    "plot_market_values(n, nodes, \"solar\", \"utility-solar market value [€/MWh]\", \"Oranges\")"
   ]
  },
  {
   "cell_type": "code",
   "execution_count": null,
   "id": "1131e692-7886-4210-b13c-a353ccc1efda",
   "metadata": {},
   "outputs": [],
   "source": [
    "plot_market_values(\n",
    "    n, nodes, \"solar rooftop\", \"rooftop solar market value [€/MWh]\", \"Oranges\"\n",
    ")"
   ]
  },
  {
   "cell_type": "code",
   "execution_count": null,
   "id": "7bb992d5-b513-459b-a675-38ea661c5a1e",
   "metadata": {},
   "outputs": [],
   "source": [
    "plot_market_values(n, nodes, \"onwind\", \"onshore wind market value [€/MWh]\", \"Blues\")"
   ]
  },
  {
   "cell_type": "code",
   "execution_count": null,
   "id": "9225591a-3aa9-4f5d-9df2-5f6a33d15af6",
   "metadata": {},
   "outputs": [],
   "source": [
    "plot_market_values(\n",
    "    n, offnodes, \"offwind-dc\", \"offshore wind (DC) market value [€/MWh]\", \"Blues\"\n",
    ")"
   ]
  },
  {
   "cell_type": "code",
   "execution_count": null,
   "id": "662b4051-4857-4842-ae23-64d47cd0f366",
   "metadata": {},
   "outputs": [],
   "source": [
    "plot_market_values(\n",
    "    n, offnodes, \"offwind-ac\", \"offshore wind (AC) market value [€/MWh]\", \"Blues\"\n",
    ")"
   ]
  },
  {
   "cell_type": "code",
   "execution_count": null,
   "id": "7dfba141-fd0b-4874-9253-f766de7969b6",
   "metadata": {},
   "outputs": [],
   "source": [
    "plot_market_values(n, nodes, \"ror\", \"run-of-river market value [€/MWh]\", \"Greens\")"
   ]
  },
  {
   "cell_type": "markdown",
   "id": "f625ce08-750e-49e2-b899-f248d7d9497c",
   "metadata": {
    "tags": []
   },
   "source": [
    "## Potential Used"
   ]
  },
  {
   "cell_type": "code",
   "execution_count": null,
   "id": "62447b55-287d-432f-a5e0-88b00f567e01",
   "metadata": {},
   "outputs": [],
   "source": [
    "def potential_used(n):\n",
    "    return (\n",
    "        n.generators.eval(\"p_nom_opt/p_nom_max*100\")\n",
    "        .groupby([n.generators.bus.map(n.buses.location), n.generators.carrier])\n",
    "        .sum()\n",
    "        .unstack()\n",
    "        .drop(\"EU\")\n",
    "    )"
   ]
  },
  {
   "cell_type": "code",
   "execution_count": null,
   "id": "09e1e9de-a100-4f28-a568-9a55ce009154",
   "metadata": {},
   "outputs": [],
   "source": [
    "def plot_potential_used(df, geodf, carrier, cmap=\"Blues\", fn=True):\n",
    "    proj = ccrs.EqualEarth()\n",
    "    geodf = geodf.to_crs(proj.proj4_init)\n",
    "\n",
    "    fig, ax = plt.subplots(figsize=(7, 7), subplot_kw={\"projection\": proj})\n",
    "\n",
    "    geodf.plot(\n",
    "        ax=ax,\n",
    "        column=df[carrier].reindex(geodf.index),\n",
    "        # transform=ccrs.PlateCarree(),\n",
    "        cmap=cmap,\n",
    "        linewidths=0,\n",
    "        legend=True,\n",
    "        vmax=100,\n",
    "        vmin=0,\n",
    "        legend_kwds={\n",
    "            \"label\": \"share of technical potential used [%]\",\n",
    "            \"shrink\": 0.7,\n",
    "        },\n",
    "    )\n",
    "\n",
    "    ax.add_feature(cartopy.feature.COASTLINE.with_scale(\"50m\"), linewidth=0.2, zorder=2)\n",
    "    ax.add_feature(cartopy.feature.BORDERS.with_scale(\"50m\"), linewidth=0.2, zorder=2)\n",
    "\n",
    "    ax.set_frame_on(False)\n",
    "    ax.set_facecolor(\"white\")\n",
    "\n",
    "    if fn:\n",
    "        if not isinstance(fn, str):\n",
    "            fn = f\"{OUTPUT_SCENARIO}/potential-used-{carrier}.pdf\"\n",
    "        plt.savefig(fn, bbox_inches=\"tight\")\n",
    "        plt.close()"
   ]
  },
  {
   "cell_type": "code",
   "execution_count": null,
   "id": "1c449842-ee96-432b-8a25-dcd7c5e27d17",
   "metadata": {},
   "outputs": [],
   "source": [
    "df = potential_used(n)"
   ]
  },
  {
   "cell_type": "code",
   "execution_count": null,
   "id": "54577977",
   "metadata": {},
   "outputs": [],
   "source": [
    "plot_potential_used(df, offnodes, \"offwind-ac\")"
   ]
  },
  {
   "cell_type": "code",
   "execution_count": null,
   "id": "ed8fa47d-a38d-4a99-8422-c5dcdd1f1de5",
   "metadata": {},
   "outputs": [],
   "source": [
    "plot_potential_used(df, offnodes, \"offwind-dc\")"
   ]
  },
  {
   "cell_type": "code",
   "execution_count": null,
   "id": "ca7ea9ae-febc-43b0-972e-cf4579f2bc84",
   "metadata": {},
   "outputs": [],
   "source": [
    "plot_potential_used(df, nodes, \"onwind\")"
   ]
  },
  {
   "cell_type": "code",
   "execution_count": null,
   "id": "516c653e-6abc-48e8-beaa-b852fbd141ce",
   "metadata": {},
   "outputs": [],
   "source": [
    "plot_potential_used(df, nodes, \"solar\", cmap=\"Oranges\")"
   ]
  },
  {
   "cell_type": "code",
   "execution_count": null,
   "id": "3296799c-402a-4d50-a2ac-22d6ca94f4a5",
   "metadata": {},
   "outputs": [],
   "source": [
    "plot_potential_used(df, nodes, \"solar rooftop\", cmap=\"Oranges\")"
   ]
  },
  {
   "cell_type": "markdown",
   "id": "70f127c5-49f8-413a-a15a-64f19a66f1d0",
   "metadata": {
    "tags": []
   },
   "source": [
    "## Import and Export"
   ]
  },
  {
   "cell_type": "code",
   "execution_count": null,
   "id": "17e70695-d7e6-4634-a8ef-53099fce7613",
   "metadata": {},
   "outputs": [],
   "source": [
    "def plot_import_export(\n",
    "    df,\n",
    "    geodf,\n",
    "    carrier,\n",
    "    cmap=\"PiYG\",\n",
    "    unit=\"TWh\",\n",
    "    fn=True,\n",
    "    lim=None,\n",
    "    lorenz=False,\n",
    "    dfs={},\n",
    "):\n",
    "    crs = ccrs.EqualEarth()\n",
    "    geodf = geodf.to_crs(crs.proj4_init)\n",
    "\n",
    "    if lim is None:\n",
    "        lim = df[carrier].abs().max()\n",
    "\n",
    "    fig, ax = plt.subplots(figsize=(7, 7), subplot_kw={\"projection\": crs})\n",
    "\n",
    "    geodf.plot(\n",
    "        ax=ax,\n",
    "        column=-df[carrier].reindex(geodf.index),\n",
    "        cmap=cmap,\n",
    "        linewidths=0,\n",
    "        legend=True,\n",
    "        vmin=-lim,\n",
    "        vmax=lim,\n",
    "        legend_kwds={\n",
    "            \"label\": f\"{carrier} balance [{unit}]\",\n",
    "            \"shrink\": 0.7,\n",
    "            \"extend\": \"both\",\n",
    "        },\n",
    "    )\n",
    "\n",
    "    ax.add_feature(cartopy.feature.COASTLINE.with_scale(\"50m\"), linewidth=0.2, zorder=2)\n",
    "    ax.add_feature(cartopy.feature.BORDERS.with_scale(\"50m\"), linewidth=0.2, zorder=2)\n",
    "\n",
    "    ax.set_frame_on(False)\n",
    "    ax.set_facecolor(\"white\")\n",
    "\n",
    "    if lorenz:\n",
    "        axins = ax.inset_axes([0.05, 0.77, 0.27, 0.23])\n",
    "        carriers = [\"AC\", \"H2\", \"gas\", \"oil\"]  # if GAS_NETWORK else [\"AC\", \"H2\"]\n",
    "        plot_lorenz_inset(axins, n, carriers, dfs=dfs)\n",
    "\n",
    "    if fn:\n",
    "        if not isinstance(fn, str):\n",
    "            fn = f\"{OUTPUT_SCENARIO}/import-export-{carrier}-{lim}.pdf\"\n",
    "        plt.savefig(fn, bbox_inches=\"tight\")\n",
    "        plt.close()"
   ]
  },
  {
   "cell_type": "code",
   "execution_count": null,
   "id": "0f6f1dda-7a2b-4702-bad4-cc09138c53d6",
   "metadata": {},
   "outputs": [],
   "source": [
    "def plot_lorenz_inset(ax, n, carriers, sortby=\"supply/demand\", dfs={}):\n",
    "    for c in set(carriers).difference(dfs.keys()):\n",
    "        dfs[c] = None\n",
    "\n",
    "    linspace = np.linspace(0, 100, 100)\n",
    "    ax.plot(linspace, linspace, c=\"darkgrey\", linestyle=\":\", linewidth=1)\n",
    "\n",
    "    nice_names = {\n",
    "        \"AC\": \"electricity\",\n",
    "        \"H2\": \"hydrogen\",\n",
    "        \"gas\": \"methane\",\n",
    "        \"oil\": \"oil\",\n",
    "    }\n",
    "\n",
    "    linestyles = {\n",
    "        \"AC\": \"solid\",\n",
    "        \"H2\": \"dashed\",\n",
    "        \"oil\": \"dashdot\",\n",
    "        \"gas\": \"dotted\",\n",
    "    }\n",
    "\n",
    "    for carrier in carriers:\n",
    "        df = cumulative_share(n, carrier, sortby, df=dfs[carrier])\n",
    "        ax.plot(\n",
    "            df.demand,\n",
    "            df.supply,\n",
    "            label=nice_names[carrier],\n",
    "            color=tech_colors[nice_names[carrier]],\n",
    "            linestyle=linestyles[carrier],\n",
    "            linewidth=1.5,\n",
    "        )\n",
    "\n",
    "    ax.set_xlabel(f\"Demand [%]\", fontsize=9, backgroundcolor=\"white\", labelpad=-7)\n",
    "    ax.set_ylabel(f\"Supply [%]\", fontsize=9, backgroundcolor=\"white\", labelpad=-10)\n",
    "    ax.set_ylim(-1, 101)\n",
    "    ax.set_xlim(-1, 101)\n",
    "    ax.tick_params(labelsize=8)\n",
    "    ax.legend(fontsize=9, loc=(1.01, 0.3), frameon=False)\n",
    "    for i in [\"top\", \"right\", \"left\", \"bottom\"]:\n",
    "        ax.spines[i].set_visible(False)"
   ]
  },
  {
   "cell_type": "code",
   "execution_count": null,
   "id": "f63c95ed-b003-41da-844d-e444ce7752c0",
   "metadata": {},
   "outputs": [],
   "source": [
    "io = get_import_export_balance(n, with_methanol=False)"
   ]
  },
  {
   "cell_type": "code",
   "execution_count": null,
   "id": "c4285892-b523-4fa7-812d-b5b73aa2a71a",
   "metadata": {},
   "outputs": [],
   "source": [
    "dfs = {\"oil\": get_import_export_oil(with_methanol=True)}\n",
    "if not GAS_NETWORK:\n",
    "    dfs[\"gas\"] = get_import_export_gas()"
   ]
  },
  {
   "cell_type": "code",
   "execution_count": null,
   "id": "b7df8594-6332-45e5-9926-9f22a6eaeb57",
   "metadata": {},
   "outputs": [],
   "source": [
    "plot_import_export(io, nodes, \"electricity\", cmap=\"PRGn\", lim=200)"
   ]
  },
  {
   "cell_type": "code",
   "execution_count": null,
   "id": "321c8531-fd25-4c38-a828-c086da90997f",
   "metadata": {},
   "outputs": [],
   "source": [
    "plot_import_export(io, nodes, \"electricity\", cmap=\"PRGn\", lim=100)"
   ]
  },
  {
   "cell_type": "code",
   "execution_count": null,
   "id": "5c792809-e959-4dc1-86d1-a269c8448d37",
   "metadata": {},
   "outputs": [],
   "source": [
    "plot_import_export(io, nodes, \"hydrogen\", cmap=\"PRGn\", lim=200)"
   ]
  },
  {
   "cell_type": "code",
   "execution_count": null,
   "id": "72b54b86-c9e0-41eb-95ce-f49ad46b68eb",
   "metadata": {},
   "outputs": [],
   "source": [
    "plot_import_export(io, nodes, \"gas\", cmap=\"PRGn\", lim=200)\n",
    "plot_import_export(io, nodes, \"gas\", cmap=\"PRGn\", lim=40)"
   ]
  },
  {
   "cell_type": "code",
   "execution_count": null,
   "id": "09a904fe-1454-4dd8-8789-1806790c5a31",
   "metadata": {},
   "outputs": [],
   "source": [
    "plot_import_export(io, nodes, \"total\", cmap=\"PRGn\", lim=200, lorenz=True, dfs=dfs)"
   ]
  },
  {
   "cell_type": "markdown",
   "id": "ede96a55-4239-4867-a18f-eca0c0c41b7d",
   "metadata": {
    "tags": []
   },
   "source": [
    "## Capacities Built"
   ]
  },
  {
   "cell_type": "code",
   "execution_count": null,
   "id": "e9cd2a6e-13bc-4a6a-b46a-f5f86aa17d62",
   "metadata": {},
   "outputs": [],
   "source": [
    "def plot_capacity_built(df, geodf, carrier, cmap=\"Blues\", unit=\"GW\", fn=None):\n",
    "    proj = ccrs.EqualEarth()\n",
    "    geodf = geodf.to_crs(proj.proj4_init)\n",
    "\n",
    "    fig, ax = plt.subplots(figsize=(7, 7), subplot_kw={\"projection\": proj})\n",
    "\n",
    "    geodf.plot(\n",
    "        ax=ax,\n",
    "        column=df[carrier].reindex(geodf.index),\n",
    "        cmap=cmap,\n",
    "        linewidths=0,\n",
    "        legend=True,\n",
    "        vmin=0,\n",
    "        legend_kwds={\n",
    "            \"label\": f\"{carrier} capacity [{unit}]\",\n",
    "            \"shrink\": 0.7,\n",
    "        },\n",
    "    )\n",
    "\n",
    "    ax.add_feature(cartopy.feature.COASTLINE.with_scale(\"50m\"), linewidth=0.2, zorder=2)\n",
    "    ax.add_feature(cartopy.feature.BORDERS.with_scale(\"50m\"), linewidth=0.2, zorder=2)\n",
    "\n",
    "    ax.set_frame_on(False)\n",
    "    ax.set_facecolor(\"white\")\n",
    "\n",
    "    if fn is None:\n",
    "        plt.savefig(\n",
    "            f\"{OUTPUT_SCENARIO}/capacities-built-{carrier}.pdf\", bbox_inches=\"tight\"\n",
    "        )\n",
    "        plt.close()"
   ]
  },
  {
   "cell_type": "code",
   "execution_count": null,
   "id": "d05ef151-271a-4a42-965a-97a942b89026",
   "metadata": {},
   "outputs": [],
   "source": [
    "def calculate_p_caps(n):\n",
    "    p_caps = pd.concat(\n",
    "        [\n",
    "            n.generators.groupby([n.generators.bus.map(n.buses.location), \"carrier\"])\n",
    "            .p_nom_opt.sum()\n",
    "            .unstack()\n",
    "            .drop([\"oil\", \"gas\"], axis=1),\n",
    "            n.links.groupby([n.links.bus0.map(n.buses.location), \"carrier\"])\n",
    "            .p_nom_opt.sum()\n",
    "            .unstack()\n",
    "            .drop([\"DC\", \"H2 pipeline\"], axis=1, errors=\"ignore\"),\n",
    "            n.storage_units.groupby(\n",
    "                [n.storage_units.bus.map(n.buses.location), \"carrier\"]\n",
    "            )\n",
    "            .p_nom_opt.sum()\n",
    "            .unstack(),\n",
    "        ],\n",
    "        axis=1,\n",
    "    ).div(\n",
    "        1e3\n",
    "    )  # GW\n",
    "\n",
    "    return p_caps.loc[:, p_caps.count() > 1]"
   ]
  },
  {
   "cell_type": "code",
   "execution_count": null,
   "id": "4ed940d1-3922-4991-b3ac-afdabe32e574",
   "metadata": {},
   "outputs": [],
   "source": [
    "p_caps = calculate_p_caps(n)"
   ]
  },
  {
   "cell_type": "code",
   "execution_count": null,
   "id": "67ec2d8b-c202-4934-9396-49dff425e165",
   "metadata": {},
   "outputs": [],
   "source": [
    "for i in p_caps.columns:\n",
    "    if \"off\" in i:\n",
    "        gdf = offnodes\n",
    "    else:\n",
    "        gdf = nodes\n",
    "\n",
    "    if \"wind\" in i:\n",
    "        cmap = \"Blues\"\n",
    "    elif \"heat\" in i or \"water tank\" in i:\n",
    "        cmap = \"Reds\"\n",
    "    elif \"solar\" in i:\n",
    "        cmap = \"Oranges\"\n",
    "    elif i in [\"hydro\", \"PHS\", \"ror\"]:\n",
    "        cmap = \"GnBu\"\n",
    "    elif \"H2\" in i or i in [\"Fischer-Tropsch\", \"Sabatier\", \"methanolisation\"]:\n",
    "        cmap = \"RdPu\"\n",
    "    elif \"battery\" in i or \"distribution\" in i or \"BEV\" in i or \"V2G\" in i:\n",
    "        cmap = \"Greens\"\n",
    "\n",
    "    if p_caps[i].max() > 1:\n",
    "        plot_capacity_built(p_caps, gdf, i, cmap);"
   ]
  },
  {
   "cell_type": "code",
   "execution_count": null,
   "id": "6fd136b6-f4b4-42ec-9cc6-5233b1acd12e",
   "metadata": {},
   "outputs": [],
   "source": [
    "def calculate_e_caps(n):\n",
    "    e_caps = (\n",
    "        n.stores.groupby([n.stores.bus.map(n.buses.location), \"carrier\"])\n",
    "        .e_nom_opt.sum()\n",
    "        .unstack()\n",
    "        .div(1e3)\n",
    "    )  # GWh\n",
    "    return e_caps.loc[:, e_caps.count() > 1]"
   ]
  },
  {
   "cell_type": "code",
   "execution_count": null,
   "id": "76c7e329-1085-4f5c-b87c-268a9a0399ab",
   "metadata": {},
   "outputs": [],
   "source": [
    "e_caps = calculate_e_caps(n)"
   ]
  },
  {
   "cell_type": "code",
   "execution_count": null,
   "id": "708b45eb-8490-4406-beff-7e5a3400bfd2",
   "metadata": {},
   "outputs": [],
   "source": [
    "for i in e_caps.columns:\n",
    "    if \"water tank\" in i:\n",
    "        cmap = \"Reds\"\n",
    "    elif \"solar\" in i:\n",
    "        cmap = \"Oranges\"\n",
    "    elif \"H2\" in i or \"gas\" in i:\n",
    "        cmap = \"RdPu\"\n",
    "    elif \"battery\" in i or \"Li ion\":\n",
    "        cmap = \"Greens\"\n",
    "\n",
    "    if e_caps[i].max() > 1:\n",
    "        plot_capacity_built(e_caps, nodes, i, cmap, unit=\"GWh\");"
   ]
  },
  {
   "cell_type": "markdown",
   "id": "36d5834c-1815-45a1-b75a-8957684ad1a8",
   "metadata": {
    "tags": []
   },
   "source": [
    "## Utilisation Factor Time Series"
   ]
  },
  {
   "cell_type": "code",
   "execution_count": null,
   "id": "ab95b442-d051-4f1f-92d5-2d160cb6ec4b",
   "metadata": {
    "tags": []
   },
   "outputs": [],
   "source": [
    "def aggregate_techs(tech):\n",
    "    if \"solar thermal\" in tech:\n",
    "        return \"solar thermal\"\n",
    "    elif \"solar\" in tech:\n",
    "        return \"solar PV\"\n",
    "    elif \"offwind\" in tech:\n",
    "        return \"offshore wind\"\n",
    "    elif \"onwind\" in tech:\n",
    "        return \"onshore wind\"\n",
    "    elif \"ror\" in tech:\n",
    "        return \"run of river\"\n",
    "    elif \"ground heat pump\" in tech:\n",
    "        return \"ground-sourced heat pump\"\n",
    "    elif \"air heat pump\" in tech:\n",
    "        return \"air-sourced heat pump\"\n",
    "    elif \"water tank\" in tech:\n",
    "        return \"thermal energy storage\"\n",
    "    elif tech == \"H2\":\n",
    "        return \"hydrogen storage\"\n",
    "    elif tech == \"Li ion\":\n",
    "        return \"electric vehicle batteries\"\n",
    "    elif \"gas boiler\" in tech:\n",
    "        return \"gas boiler\"\n",
    "    elif \"resistive heater\" in tech:\n",
    "        return \"resistive heater\"\n",
    "    elif \"CHP\" in tech:\n",
    "        return \"CHP\"\n",
    "    else:\n",
    "        return tech"
   ]
  },
  {
   "cell_type": "code",
   "execution_count": null,
   "id": "2850891d-b4fe-4e3b-ba66-e21f4f38b83b",
   "metadata": {
    "tags": []
   },
   "outputs": [],
   "source": [
    "def unstack_day_hour(cfc):\n",
    "    df = cfc.groupby(cfc.index.hour).agg(list)\n",
    "\n",
    "    columns = pd.date_range(cfc.index[0], cfc.index[-1], freq=\"D\").strftime(\"%-d %b\")\n",
    "\n",
    "    return pd.DataFrame(df.tolist(), index=df.index, columns=columns)"
   ]
  },
  {
   "cell_type": "code",
   "execution_count": null,
   "id": "ff8f60f9-332b-4979-a89a-2bd09ec42823",
   "metadata": {
    "tags": []
   },
   "outputs": [],
   "source": [
    "def plot_cf_heatmap(\n",
    "    df, vmin=0, vmax=80, cmap=\"Greens\", label=\"capacity factors [%]\", fn=True\n",
    "):\n",
    "    fig, ax = plt.subplots(figsize=(6, 2.5))\n",
    "    sns.heatmap(\n",
    "        df,\n",
    "        cmap=cmap,\n",
    "        ax=ax,\n",
    "        vmin=vmin,\n",
    "        vmax=vmax,\n",
    "        cbar_kws=dict(label=label, extend=\"max\"),\n",
    "    )\n",
    "    plt.ylabel(\"hour of the day\")\n",
    "    plt.xlabel(\"day of the year\")\n",
    "    plt.yticks(rotation=0)\n",
    "    plt.title(carrier, fontsize=12)\n",
    "    plt.tight_layout()\n",
    "    if fn:\n",
    "        if not isinstance(fn, str):\n",
    "            fn = f\"{OUTPUT_SCENARIO}/cf-ts-{carrier}.pdf\"\n",
    "        plt.savefig(fn, bbox_inches=\"tight\")\n",
    "        plt.close()"
   ]
  },
  {
   "cell_type": "code",
   "execution_count": null,
   "id": "71758235-d4ca-454e-89e2-921b48a1dc1d",
   "metadata": {
    "tags": []
   },
   "outputs": [],
   "source": [
    "cf = n.buses_t.marginal_price.groupby(n.buses.carrier, axis=1).mean()"
   ]
  },
  {
   "cell_type": "code",
   "execution_count": null,
   "id": "0889e83b-31d3-44ea-a9a0-beb01fea74d4",
   "metadata": {
    "tags": []
   },
   "outputs": [],
   "source": [
    "# for carrier in cf.columns:\n",
    "for carrier in [\"AC\", \"H2\"]:\n",
    "    cfc = cf[carrier]\n",
    "    df = unstack_day_hour(cfc)\n",
    "    vmax = np.ceil(cfc.quantile(0.99) / 10) * 10\n",
    "    if carrier in [\"AC\", \"H2\"]:\n",
    "        vmax = 300\n",
    "    plot_cf_heatmap(\n",
    "        df,\n",
    "        cmap=\"Spectral_r\",\n",
    "        label=\"Nodal Price [EUR/MWh]\",\n",
    "        vmax=vmax,\n",
    "        fn=f\"{OUTPUT_SCENARIO}/price-ts-{carrier}.pdf\",\n",
    "    )"
   ]
  },
  {
   "cell_type": "code",
   "execution_count": null,
   "id": "0fad2526-7ed1-489c-afdd-380fae4a5d1a",
   "metadata": {
    "tags": []
   },
   "outputs": [],
   "source": [
    "cf = n.links_t.p_max_pu.groupby(n.links.carrier, axis=1).mean() * 100\n",
    "cf = cf.groupby(cf.columns.map(aggregate_techs), axis=1).mean()"
   ]
  },
  {
   "cell_type": "code",
   "execution_count": null,
   "id": "3dc06410-09a9-4efe-a1d9-5d20157244b6",
   "metadata": {
    "tags": []
   },
   "outputs": [],
   "source": [
    "for carrier in cf.columns:\n",
    "    cfc = cf[carrier]\n",
    "    df = unstack_day_hour(cfc)\n",
    "    plot_cf_heatmap(df, cmap=\"viridis\", vmin=40, vmax=100)"
   ]
  },
  {
   "cell_type": "code",
   "execution_count": null,
   "id": "3b1c3bcf-9e1b-40b8-8e19-db7e6f643b8b",
   "metadata": {
    "tags": []
   },
   "outputs": [],
   "source": [
    "cf = (\n",
    "    n.stores_t.e.groupby(n.stores.carrier, axis=1).sum()\n",
    "    / n.stores.e_nom_opt.groupby(n.stores.carrier).sum()\n",
    "    * 100\n",
    ")\n",
    "cf = cf.groupby(cf.columns.map(aggregate_techs), axis=1).mean()"
   ]
  },
  {
   "cell_type": "code",
   "execution_count": null,
   "id": "f490504e-6c05-40a8-8f81-f41c80cb7f5d",
   "metadata": {
    "tags": []
   },
   "outputs": [],
   "source": [
    "for carrier in cf.columns:\n",
    "    cfc = cf[carrier]\n",
    "    df = unstack_day_hour(cfc)\n",
    "    plot_cf_heatmap(df, cmap=\"Purples\", vmin=0, vmax=100, label=\"SOC [%]\")"
   ]
  },
  {
   "cell_type": "code",
   "execution_count": null,
   "id": "5c3cd0b4-5133-4bf6-982f-6d8f456e1bd1",
   "metadata": {
    "tags": []
   },
   "outputs": [],
   "source": [
    "cf = (\n",
    "    n.links_t.p0.groupby(n.links.carrier, axis=1).sum()\n",
    "    / n.links.p_nom_opt.groupby(n.links.carrier).sum()\n",
    "    * 100\n",
    ")\n",
    "cf = cf.groupby(cf.columns.map(aggregate_techs), axis=1).mean()"
   ]
  },
  {
   "cell_type": "code",
   "execution_count": null,
   "id": "e61caf47-62b3-45c9-89b1-796f4ffd0d61",
   "metadata": {
    "tags": []
   },
   "outputs": [],
   "source": [
    "bidirectional = (cf < 0).any()"
   ]
  },
  {
   "cell_type": "code",
   "execution_count": null,
   "id": "b6ad5eec-7f5a-478b-b12f-414fa434b786",
   "metadata": {
    "tags": []
   },
   "outputs": [],
   "source": [
    "cfb = cf.loc[:, ~bidirectional]\n",
    "for carrier in cfb.columns:\n",
    "    cfc = cfb[carrier]\n",
    "    df = unstack_day_hour(cfc)\n",
    "    plot_cf_heatmap(df, cmap=\"Reds\", vmax=100)"
   ]
  },
  {
   "cell_type": "code",
   "execution_count": null,
   "id": "f3d1ec48-225d-4fc4-bb50-58303fd4f1ad",
   "metadata": {
    "tags": []
   },
   "outputs": [],
   "source": [
    "cfb = cf.loc[:, bidirectional]\n",
    "for carrier in cfb.columns:\n",
    "    cfc = cfb[carrier]\n",
    "    df = unstack_day_hour(cfc)\n",
    "    plot_cf_heatmap(df, cmap=\"RdBu\", vmin=-100, vmax=100)"
   ]
  },
  {
   "cell_type": "code",
   "execution_count": null,
   "id": "100a6491-fc38-4cc6-aec0-f20734d43fc8",
   "metadata": {
    "tags": []
   },
   "outputs": [],
   "source": [
    "cf = n.generators_t.p_max_pu.groupby(n.generators.carrier, axis=1).mean() * 100\n",
    "cf = cf.groupby(cf.columns.map(aggregate_techs), axis=1).mean()"
   ]
  },
  {
   "cell_type": "code",
   "execution_count": null,
   "id": "8fd31f89-1b6c-4e4e-ad1e-ea353c1c65a0",
   "metadata": {
    "tags": []
   },
   "outputs": [],
   "source": [
    "for carrier in cf.columns:\n",
    "    cfc = cf[carrier]\n",
    "    df = unstack_day_hour(cfc)\n",
    "    plot_cf_heatmap(df, cmap=\"Blues\", fn=f\"{OUTPUT}/cf-raw-ts-{carrier}.pdf\")"
   ]
  },
  {
   "cell_type": "code",
   "execution_count": null,
   "id": "726c7f64-9409-426f-98eb-8c7a2ac6cce4",
   "metadata": {
    "tags": []
   },
   "outputs": [],
   "source": [
    "cf = n.links_t.efficiency.groupby(n.links.carrier, axis=1).mean()\n",
    "cf = cf.groupby(cf.columns.map(aggregate_techs), axis=1).mean()"
   ]
  },
  {
   "cell_type": "code",
   "execution_count": null,
   "id": "117775e4-fe16-4a70-9957-19c2e967f6fb",
   "metadata": {
    "tags": []
   },
   "outputs": [],
   "source": [
    "for carrier in cf.columns:\n",
    "    cfc = cf[carrier]\n",
    "    df = unstack_day_hour(cfc)\n",
    "    plot_cf_heatmap(\n",
    "        df,\n",
    "        vmin=1,\n",
    "        vmax=4,\n",
    "        cmap=\"Greens\",\n",
    "        label=\"COP [-]\",\n",
    "        fn=f\"{OUTPUT}/cop-ts-{carrier}.pdf\",\n",
    "    )"
   ]
  },
  {
   "cell_type": "markdown",
   "id": "2c944f5e-0e5d-4a7d-9af3-de531755514c",
   "metadata": {
    "tags": []
   },
   "source": [
    "## Maps: Utilisation Factors"
   ]
  },
  {
   "cell_type": "code",
   "execution_count": null,
   "id": "21750c41-3395-47c2-bc5a-46d6f4e5b525",
   "metadata": {
    "tags": []
   },
   "outputs": [],
   "source": [
    "grouper = [n.links.carrier, n.links.bus0.map(n.buses.location)]"
   ]
  },
  {
   "cell_type": "code",
   "execution_count": null,
   "id": "8340d443-0614-48a5-837a-ba37fb83a668",
   "metadata": {
    "tags": []
   },
   "outputs": [],
   "source": [
    "c = n.links.p_nom_opt.groupby(grouper).sum()\n",
    "c = c.where(c > 250)"
   ]
  },
  {
   "cell_type": "code",
   "execution_count": null,
   "id": "904cc750-5b58-45e3-bee5-af2c89806958",
   "metadata": {
    "tags": []
   },
   "outputs": [],
   "source": [
    "cf = n.links_t.p0.groupby(grouper, axis=1).sum() / c * 100"
   ]
  },
  {
   "cell_type": "code",
   "execution_count": null,
   "id": "b7ebd50d-8189-4186-9efe-4dfe5dbdb75a",
   "metadata": {
    "tags": []
   },
   "outputs": [],
   "source": [
    "df = cf.mean().unstack(0)"
   ]
  },
  {
   "cell_type": "code",
   "execution_count": null,
   "id": "10216b26-e219-4285-a477-518ad8826ea3",
   "metadata": {
    "tags": []
   },
   "outputs": [],
   "source": [
    "def plot_utilisation_factors(\n",
    "    df, geodf, carrier, label, vmin=0, vmax=100, cmap=\"Blues\", fn=True\n",
    "):\n",
    "    proj = ccrs.EqualEarth()\n",
    "    geodf = geodf.to_crs(proj.proj4_init)\n",
    "\n",
    "    fig, ax = plt.subplots(figsize=(7, 7), subplot_kw={\"projection\": proj})\n",
    "\n",
    "    geodf.plot(\n",
    "        ax=ax,\n",
    "        column=df[carrier].reindex(geodf.index),\n",
    "        cmap=cmap,\n",
    "        linewidths=0,\n",
    "        legend=True,\n",
    "        vmin=vmin,\n",
    "        vmax=vmax,\n",
    "        legend_kwds={\n",
    "            \"label\": label,\n",
    "            \"shrink\": 0.7,\n",
    "            # \"extend\": \"max\",\n",
    "        },\n",
    "    )\n",
    "\n",
    "    ax.add_feature(cartopy.feature.COASTLINE.with_scale(\"50m\"), linewidth=0.2, zorder=2)\n",
    "    ax.add_feature(cartopy.feature.BORDERS.with_scale(\"50m\"), linewidth=0.2, zorder=2)\n",
    "\n",
    "    bounds = geodf.total_bounds\n",
    "    plt.xlim([bounds[0], bounds[2]])\n",
    "    plt.ylim([bounds[1], bounds[3]])\n",
    "\n",
    "    ax.set_frame_on(False)\n",
    "    ax.set_facecolor(\"white\")\n",
    "\n",
    "    if fn:\n",
    "        if not isinstance(fn, str):\n",
    "            fn = f\"{OUTPUT_SCENARIO}/utilisation-factors-{carrier}.pdf\"\n",
    "        plt.savefig(fn, bbox_inches=\"tight\")\n",
    "        plt.close()"
   ]
  },
  {
   "cell_type": "code",
   "execution_count": null,
   "id": "1ba4185e-e394-489b-a4f1-ff8cdaf718e0",
   "metadata": {
    "tags": []
   },
   "outputs": [],
   "source": [
    "for tech in df.filter(\n",
    "    regex=\"(Sabatier|electricity distribution grid|H2 Electrolysis|H2 Fuel Cell|Fischer-Tropsch|methanolisation)\"\n",
    ").columns:\n",
    "    plot_utilisation_factors(\n",
    "        df, nodes, tech, f\"{tech} Utilisation Factor [%]\", cmap=\"RdPu\"\n",
    "    )"
   ]
  },
  {
   "cell_type": "markdown",
   "id": "28da4f4b-65b7-483e-aa99-62d8ae6fc5e0",
   "metadata": {
    "tags": []
   },
   "source": [
    "## Balance Time Series"
   ]
  },
  {
   "cell_type": "code",
   "execution_count": null,
   "id": "4ab670e0-2265-4ddb-9dda-641375794412",
   "metadata": {},
   "outputs": [],
   "source": [
    "def rename_techs_tyndp(tech):\n",
    "    tech = rename_techs(tech)\n",
    "    # if \"heat pump\" in tech or \"resistive heater\" in tech:\n",
    "    #    return \"power-to-heat\"\n",
    "    # elif tech in [\"H2 Electrolysis\", \"methanation\", \"helmeth\", \"H2 liquefaction\"]:\n",
    "    #    return \"power-to-gas\"\n",
    "    if tech == \"H2\":\n",
    "        return \"H2 storage\"\n",
    "    # elif tech in [\"OCGT\", \"CHP\", \"gas boiler\", \"H2 Fuel Cell\"]:\n",
    "    #    return \"gas-to-power/heat\"\n",
    "    # elif \"solar\" in tech:\n",
    "    #    return \"solar\"\n",
    "    elif tech == \"Fischer-Tropsch\":\n",
    "        return \"power-to-liquid\"\n",
    "    elif \"offshore wind\" in tech:\n",
    "        return \"offshore wind\"\n",
    "    #    if \"heat pump\" in tech:\n",
    "    #        return \"heat pump\"\n",
    "    elif tech == \"gas\":\n",
    "        return \"fossil gas\"\n",
    "    # elif \"CC\" in tech or \"sequestration\" in tech:\n",
    "    #    return \"CCS\"\n",
    "    elif tech in [\"industry electricity\", \"agriculture electricity\"]:\n",
    "        return \"industry electricity\"\n",
    "    elif \"oil emissions\" in tech:\n",
    "        return \"oil emissions\"\n",
    "    else:\n",
    "        return tech"
   ]
  },
  {
   "cell_type": "code",
   "execution_count": null,
   "id": "b868691b-21aa-474a-8b4f-65f3b67e8295",
   "metadata": {},
   "outputs": [],
   "source": [
    "preferred_order = pd.Index(\n",
    "    [\n",
    "        \"H2 storage\",\n",
    "        \"hydrogen storage\",\n",
    "        \"battery storage\",\n",
    "        \"BEV charger\",\n",
    "        \"V2G\",\n",
    "        \"hot water storage\",\n",
    "        \"co2\",\n",
    "        \"hydroelectricity\",\n",
    "        \"hydro reservoir\",\n",
    "        \"pumped hydro storage\",\n",
    "        \"run of river\",\n",
    "        \"transmission lines\",\n",
    "        \"electricity distribution grid\",\n",
    "        \"solid biomass\",\n",
    "        \"biogas\",\n",
    "        \"onshore wind\",\n",
    "        \"offshore wind\",\n",
    "        \"offshore wind (AC)\",\n",
    "        \"offshore wind (DC)\",\n",
    "        \"solar PV\",\n",
    "        \"solar thermal\",\n",
    "        \"solar rooftop\",\n",
    "        \"solar\",\n",
    "        \"building retrofitting\" \"ground heat pump\",\n",
    "        \"air heat pump\",\n",
    "        \"heat pump\",\n",
    "        \"resistive heater\",\n",
    "        \"power-to-heat\",\n",
    "        \"gas-to-power/heat\",\n",
    "        \"CHP\",\n",
    "        \"OCGT\",\n",
    "        \"gas boiler\",\n",
    "        \"gas\",\n",
    "        \"natural gas\",\n",
    "        \"helmeth\",\n",
    "        \"methanation\",\n",
    "        \"power-to-gas\",\n",
    "        \"power-to-H2\",\n",
    "        \"H2 pipeline\",\n",
    "        \"H2 pipeline retrofitted\",\n",
    "        \"gas pipeline\",\n",
    "        \"gas pipeline new\",\n",
    "        \"H2 liquefaction\",\n",
    "        \"power-to-liquid\",\n",
    "        \"CO2 sequestration\",\n",
    "        \"CCS\",\n",
    "    ]\n",
    ")"
   ]
  },
  {
   "cell_type": "code",
   "execution_count": null,
   "id": "6da9392f-6517-4f30-8dcc-808d791ed79a",
   "metadata": {},
   "outputs": [],
   "source": [
    "def datetime_xticks(\n",
    "    df,\n",
    "    ax,\n",
    "    number_timestamps=10,\n",
    "    minor_attr=\"day\",\n",
    "    minor_fmt=\"%d\",\n",
    "    major_attr=\"month\",\n",
    "    major_fmt=\"%b\",\n",
    "):\n",
    "    # https://stackoverflow.com/questions/30133280/pandas-bar-plot-changes-date-format\n",
    "\n",
    "    # Create list of monthly timestamps by selecting the first weekly timestamp of each\n",
    "    # month (in this example, the first Sunday of each month)\n",
    "    daily_timestamps = [\n",
    "        timestamp\n",
    "        for idx, timestamp in enumerate(df.index)\n",
    "        if (getattr(timestamp, minor_attr) != getattr(df.index[idx - 1], minor_attr))\n",
    "        | (idx == 0)\n",
    "    ]\n",
    "\n",
    "    # Automatically select appropriate number of timestamps so that x-axis does\n",
    "    # not get overcrowded with tick labels\n",
    "    step = 1\n",
    "    while len(daily_timestamps[::step]) > number_timestamps:\n",
    "        step += 1\n",
    "    timestamps = daily_timestamps[::step]\n",
    "\n",
    "    # Create tick labels from timestamps\n",
    "    labels = [\n",
    "        ts.strftime(f\"{minor_fmt}\\n{major_fmt}\")\n",
    "        if (getattr(ts, major_attr) != getattr(timestamps[idx - 1], major_attr))\n",
    "        | (idx == 0)  # | (idx == len(timestamps)-1)\n",
    "        else ts.strftime(minor_fmt)\n",
    "        for idx, ts in enumerate(timestamps)\n",
    "    ]\n",
    "\n",
    "    # Set major ticks and labels\n",
    "    ax.set_xticks([df.index.get_loc(ts) for ts in timestamps])\n",
    "    ax.set_xticklabels(labels)\n",
    "\n",
    "    # Set minor ticks without labels\n",
    "    ax.set_xticks([df.index.get_loc(ts) for ts in daily_timestamps], minor=True)\n",
    "\n",
    "    # Rotate and center labels\n",
    "    ax.figure.autofmt_xdate(rotation=0, ha=\"center\")"
   ]
  },
  {
   "cell_type": "code",
   "execution_count": null,
   "id": "5f0d48c4-3e6f-4ad3-b3d5-5fd2a60ac697",
   "metadata": {},
   "outputs": [],
   "source": [
    "def plot_balance_timeseries(\n",
    "    n, carrier, time, ylims=None, resample=\"\", balance=None, final_energy=False, fn=True\n",
    "):\n",
    "    if balance is None:\n",
    "        balance = nodal_balance(n, carrier, time=time, energy=False)\n",
    "\n",
    "    df = balance.groupby([\"carrier\", \"snapshot\"]).sum().unstack(0).div(1e3)\n",
    "\n",
    "    df = df.groupby(df.columns.map(rename_techs_tyndp), axis=1).sum()\n",
    "\n",
    "    if resample:\n",
    "        df = df.resample(resample).mean()\n",
    "\n",
    "    df = df.loc[:, ~df.columns.isin([\"H2 pipeline\", \"transmission lines\"])]\n",
    "\n",
    "    order = preferred_order.intersection(df.columns).append(\n",
    "        df.columns.difference(preferred_order)\n",
    "    )\n",
    "    df = df.loc[:, order]\n",
    "\n",
    "    colors = df.columns.map(tech_colors)\n",
    "\n",
    "    fig, ax = plt.subplots(figsize=(10, 4))\n",
    "\n",
    "    dft = df.loc[time]\n",
    "\n",
    "    pos = dft.where(dft > 0)\n",
    "    neg = dft.where(dft < 0)\n",
    "\n",
    "    if final_energy:\n",
    "        e = -dft[[\"electricity\", \"industry electricity\"]].sum(axis=1)\n",
    "        e.plot(ax=ax, c=\"k\", linewidth=1, use_index=False, drawstyle=\"steps-mid\")\n",
    "\n",
    "    kwargs = dict(ax=ax, linewidth=0, color=colors, width=1.0)\n",
    "\n",
    "    pos.plot.bar(**kwargs, stacked=True)\n",
    "    neg.plot.bar(**kwargs, stacked=True)\n",
    "\n",
    "    handles, labels = ax.get_legend_handles_labels()\n",
    "\n",
    "    half = int(len(handles) / 2)\n",
    "    ax.legend(\n",
    "        handles=handles[:half],\n",
    "        labels=labels[:half],\n",
    "        bbox_to_anchor=(1, 1.05),\n",
    "    )\n",
    "\n",
    "    if ylims is None:\n",
    "        ylim = np.ceil(max(-neg.sum(axis=1).min(), pos.sum(axis=1).max()) / 100) * 100\n",
    "    else:\n",
    "        ylim = ylims[carrier] if isinstance(ylims, dict) else ylims\n",
    "\n",
    "    ax.set_ylim([-ylim, ylim])\n",
    "    ax.set_xlabel(\"\")\n",
    "    unit = \"kt/h\" if \"co2\" in carrier else \"GW\"\n",
    "    ax.set_ylabel(f\"{carrier} balance [{unit}]\")\n",
    "\n",
    "    if \"W\" in resample or \"D\" in resample:\n",
    "        datetime_xticks(\n",
    "            dft, ax, number_timestamps=12, minor_attr=\"month\", minor_fmt=\"%d\"\n",
    "        )\n",
    "    else:\n",
    "        datetime_xticks(dft, ax)\n",
    "\n",
    "    ax.axhline(0, color=\"grey\", linewidth=0.5)\n",
    "\n",
    "    if fn:\n",
    "        if not isinstance(fn, str):\n",
    "            fn = f\"{OUTPUT_SCENARIO}/ts-balance-{carrier}-{resample}-{time}.pdf\"\n",
    "        plt.savefig(fn, bbox_inches=\"tight\")\n",
    "        plt.close()"
   ]
  },
  {
   "cell_type": "code",
   "execution_count": null,
   "id": "4168af47-3127-4f17-ac45-c6660323372b",
   "metadata": {},
   "outputs": [],
   "source": [
    "carriers = [\n",
    "    \"AC\",\n",
    "    \"co2\",\n",
    "    \"co2 stored\",\n",
    "    \"gas\",\n",
    "    \"H2\",\n",
    "    \"residential rural heat\",\n",
    "    \"services rural heat\",\n",
    "    \"residential urban decentral heat\",\n",
    "    \"services urban decentral heat\",\n",
    "    \"urban central heat\",\n",
    "    \"oil\",\n",
    "    \"methanol\",\n",
    "    \"low voltage\",\n",
    "]"
   ]
  },
  {
   "cell_type": "code",
   "execution_count": null,
   "id": "22e0a29a-22d5-4c5d-b626-b22a5e4ecb3f",
   "metadata": {},
   "outputs": [],
   "source": [
    "ylims = {\n",
    "    \"AC\": 2200,\n",
    "    \"co2\": 150,\n",
    "    \"co2 stored\": 100,\n",
    "    \"gas\": 700,\n",
    "    \"H2\": 800,\n",
    "    \"residential rural heat\": 200,\n",
    "    \"services rural heat\": 100,\n",
    "    \"residential urban decentral heat\": 200,\n",
    "    \"services urban decentral heat\": 100,\n",
    "    \"urban central heat\": 600,\n",
    "    \"oil\": 200,\n",
    "    \"methanol\": 100,\n",
    "    \"low voltage\": 1000,\n",
    "}"
   ]
  },
  {
   "cell_type": "code",
   "execution_count": null,
   "id": "1652b5ee-b423-4742-937d-53cac1b1d6d6",
   "metadata": {},
   "outputs": [],
   "source": [
    "months = pd.date_range(\"2013-01\", \"2014-01\", freq=\"M\", inclusive=\"right\").format(\n",
    "    formatter=lambda x: x.strftime(\"%Y-%m\")\n",
    ")"
   ]
  },
  {
   "cell_type": "code",
   "execution_count": null,
   "id": "4e5cdab6-e562-4338-a966-ab430d48044e",
   "metadata": {},
   "outputs": [],
   "source": [
    "months = [\"2013-02\", \"2013-07\"]"
   ]
  },
  {
   "cell_type": "code",
   "execution_count": null,
   "id": "65c9e3d3-15f0-4573-9702-f0dff8c01542",
   "metadata": {},
   "outputs": [],
   "source": [
    "def multiprocess(f, variants, nprocesses=2):\n",
    "    nprocesses = min(mp.cpu_count(), nprocesses)\n",
    "\n",
    "    with mp.Pool(processes=nprocesses) as pool:\n",
    "        x = pool.starmap(f, variants)"
   ]
  },
  {
   "cell_type": "code",
   "execution_count": null,
   "id": "1d484be0-295f-48e6-a693-0c4b62827ad3",
   "metadata": {},
   "outputs": [],
   "source": [
    "variants = [(n, x, y, ylims) for x in carriers for y in months]\n",
    "multiprocess(plot_balance_timeseries, variants, 2)"
   ]
  },
  {
   "cell_type": "code",
   "execution_count": null,
   "id": "78909e58-6daa-4191-933a-6edf65c28869",
   "metadata": {},
   "outputs": [],
   "source": [
    "variants = [(n, carrier, \"2013\", ylims, \"D\") for carrier in carriers]\n",
    "multiprocess(plot_balance_timeseries, variants, 4)"
   ]
  },
  {
   "cell_type": "code",
   "execution_count": null,
   "id": "444edcde-c906-4d78-8626-b24bb7f7f3f1",
   "metadata": {},
   "outputs": [],
   "source": [
    "heat_nodes = [\n",
    "    \"residential rural heat\",\n",
    "    \"services rural heat\",\n",
    "    \"residential urban decentral heat\",\n",
    "    \"services urban decentral heat\",\n",
    "    \"urban central heat\",\n",
    "]"
   ]
  },
  {
   "cell_type": "code",
   "execution_count": null,
   "id": "42625281-64b2-4b38-aa66-aac607f24089",
   "metadata": {},
   "outputs": [],
   "source": [
    "ylim = 1200\n",
    "for month in months:\n",
    "    balance = nodal_balance(n, heat_nodes, time=month, energy=False)\n",
    "    plot_balance_timeseries(n, \"total heat\", month, ylims=ylim, balance=balance)"
   ]
  },
  {
   "cell_type": "code",
   "execution_count": null,
   "id": "e7ffe3bc-8104-424b-95d4-c3409bec9631",
   "metadata": {},
   "outputs": [],
   "source": [
    "balance = nodal_balance(n, heat_nodes, time=\"2013\", energy=False)\n",
    "plot_balance_timeseries(\n",
    "    n, \"total heat\", \"2013\", resample=\"D\", ylims=1200, balance=balance\n",
    ")"
   ]
  },
  {
   "cell_type": "code",
   "execution_count": null,
   "id": "c1ef5dd3-6de6-474c-ba07-7b3ebdde39df",
   "metadata": {},
   "outputs": [],
   "source": [
    "elec_nodes = [\n",
    "    \"AC\",\n",
    "    \"low voltage\",\n",
    "]\n",
    "ylim = 2400"
   ]
  },
  {
   "cell_type": "code",
   "execution_count": null,
   "id": "f58f96a0-2eef-4bd1-99b9-6599f1ed3aa0",
   "metadata": {},
   "outputs": [],
   "source": [
    "for month in months:\n",
    "    balance = nodal_balance(n, elec_nodes, time=month, energy=False)\n",
    "    plot_balance_timeseries(n, \"total electricity\", month, ylims=ylim, balance=balance)"
   ]
  },
  {
   "cell_type": "code",
   "execution_count": null,
   "id": "c30f015a-c9ac-41c1-878a-43f796db14dd",
   "metadata": {},
   "outputs": [],
   "source": [
    "balance = nodal_balance(n, elec_nodes, time=\"2013\", energy=False)\n",
    "plot_balance_timeseries(\n",
    "    n, \"total electricity\", \"2013\", resample=\"D\", ylims=ylim, balance=balance\n",
    ")"
   ]
  },
  {
   "cell_type": "code",
   "execution_count": null,
   "id": "1d064eda-f875-4813-8a7b-00e80c5ea16f",
   "metadata": {},
   "outputs": [],
   "source": [
    "liquid_hydrocarbons = [\n",
    "    \"oil\",\n",
    "    \"methanol\",\n",
    "]\n",
    "ylim = 300"
   ]
  },
  {
   "cell_type": "code",
   "execution_count": null,
   "id": "e7b726cd-8b3b-4dc4-baa4-20d3f42f6d6f",
   "metadata": {},
   "outputs": [],
   "source": [
    "for month in months:\n",
    "    balance = nodal_balance(n, liquid_hydrocarbons, time=month, energy=False)\n",
    "    plot_balance_timeseries(\n",
    "        n, \"liquid hydrocarbons\", month, ylims=ylim, balance=balance\n",
    "    )"
   ]
  },
  {
   "cell_type": "code",
   "execution_count": null,
   "id": "009e5267-362e-4dd9-bcb9-b0db5cebd9f1",
   "metadata": {},
   "outputs": [],
   "source": [
    "balance = nodal_balance(n, liquid_hydrocarbons, time=\"2013\", energy=False)\n",
    "plot_balance_timeseries(\n",
    "    n, \"liquid hydrocarbons\", \"2013\", resample=\"D\", ylims=ylim, balance=balance\n",
    ")"
   ]
  },
  {
   "cell_type": "markdown",
   "id": "b82341ff-4782-429d-93e4-c7d1ed4f18bb",
   "metadata": {
    "tags": []
   },
   "source": [
    "## Nodal CSV Report"
   ]
  },
  {
   "cell_type": "code",
   "execution_count": null,
   "id": "434683b7-559d-4332-9a59-ef46e7c1b6f4",
   "metadata": {},
   "outputs": [],
   "source": [
    "report = {}\n",
    "report[\"curtailment\"] = curtailment(n).unstack()\n",
    "report[\"prices\"] = get_nodal_prices(n).groupby(rename_techs_tyndp, axis=1).mean()\n",
    "report[\"lcoe\"] = pd.concat(\n",
    "    {\n",
    "        c: calculate_lcoe(n, c)\n",
    "        for c in [\"onwind\", \"offwind-ac\", \"offwind-dc\", \"solar rooftop\", \"solar\"]\n",
    "    },\n",
    "    axis=1,\n",
    ")\n",
    "report[\"market_value\"] = pd.concat(\n",
    "    {\n",
    "        c: market_values(n, c)\n",
    "        for c in [\"onwind\", \"offwind-ac\", \"offwind-dc\", \"solar rooftop\", \"solar\", \"ror\"]\n",
    "    },\n",
    "    axis=1,\n",
    ")\n",
    "report[\"io\"] = get_import_export_balance(n)\n",
    "report[\"capacity\"] = calculate_p_caps(n).groupby(rename_techs_tyndp, axis=1).sum()\n",
    "report[\"storage\"] = calculate_e_caps(n).groupby(rename_techs_tyndp, axis=1).sum()\n",
    "report[\"potential_used\"] = potential_used(n)"
   ]
  },
  {
   "cell_type": "code",
   "execution_count": null,
   "id": "557057db-4c3c-48d9-a8f5-08d99f5108ae",
   "metadata": {},
   "outputs": [],
   "source": [
    "report = {k: v.round(2) for k, v in report.items()}\n",
    "pd.concat(report, axis=1).to_csv(f\"{OUTPUT_SCENARIO}/report.csv\")"
   ]
  },
  {
   "cell_type": "markdown",
   "id": "8bbbfa34-7ffe-46d9-86ee-df53c30f3aaf",
   "metadata": {
    "tags": []
   },
   "source": [
    "## Network Graph Export"
   ]
  },
  {
   "cell_type": "code",
   "execution_count": null,
   "id": "fa43be17-8db2-4f0c-b9e9-88a9510698cf",
   "metadata": {},
   "outputs": [],
   "source": [
    "rename_link_attrs = {\n",
    "    \"p_nom\": \"s_nom\",\n",
    "    \"p_nom_opt\": \"s_nom_opt\",\n",
    "    \"p_nom_max\": \"s_nom_max\",\n",
    "}\n",
    "selection = [\"bus0\", \"bus1\", \"length\", \"s_nom\", \"s_nom_max\", \"carrier\", \"s_nom_opt\"]\n",
    "\n",
    "edges = pd.concat(\n",
    "    [\n",
    "        n.lines,\n",
    "        n.links.loc[n.links.carrier == \"DC\"].rename(rename_link_attrs, axis=1),\n",
    "    ],\n",
    "    axis=0,\n",
    ")[selection]\n",
    "edges.length = edges.length.astype(int)\n",
    "s_ = [\"s_nom\", \"s_nom_max\", \"s_nom_opt\"]\n",
    "edges[s_] = edges[s_].div(1e3).round(3)\n",
    "\n",
    "edges.to_csv(f\"{OUTPUT_SCENARIO}/edges-electricity.csv\")"
   ]
  },
  {
   "cell_type": "code",
   "execution_count": null,
   "id": "7ba0aa8d-3bb5-4ddc-87a9-67d773051cc4",
   "metadata": {},
   "outputs": [],
   "source": [
    "edges = n.links.loc[n.links.carrier.str.contains(\"H2 pipeline\")]\n",
    "\n",
    "if not edges.empty:\n",
    "    positive_order = edges.bus0 < edges.bus1\n",
    "    edges_p = edges[positive_order]\n",
    "    swap_buses = {\"bus0\": \"bus1\", \"bus1\": \"bus0\"}\n",
    "    edges_n = edges[~positive_order].rename(columns=swap_buses)\n",
    "    edges = pd.concat([edges_p, edges_n])\n",
    "\n",
    "    edges.length = edges.length.astype(int)\n",
    "    edges.bus0 = edges.bus0.str.replace(\" H2\", \"\")\n",
    "    edges.bus1 = edges.bus1.str.replace(\" H2\", \"\")\n",
    "    edges.p_nom_max = edges.p_nom_max.div(1e3).round(3)\n",
    "    edges.p_nom_opt = edges.p_nom_opt.div(1e3).round(3)\n",
    "\n",
    "    edges[\"max_retro\"] = edges.p_nom_max.replace(np.inf, 0)\n",
    "\n",
    "    edges[\"p_nom_opt_new\"] = edges.loc[edges.carrier == \"H2 pipeline\", \"p_nom_opt\"]\n",
    "\n",
    "    edges[\"p_nom_opt_retro\"] = edges.loc[\n",
    "        edges.carrier == \"H2 pipeline retrofitted\", \"p_nom_opt\"\n",
    "    ]\n",
    "\n",
    "    strategy = {\n",
    "        \"length\": \"mean\",\n",
    "        \"max_retro\": \"sum\",\n",
    "        \"p_nom_opt\": \"sum\",\n",
    "        \"p_nom_opt_new\": \"sum\",\n",
    "        \"p_nom_opt_retro\": \"sum\",\n",
    "    }\n",
    "    edges = edges.groupby([\"bus0\", \"bus1\"], as_index=False).agg(strategy)\n",
    "    edges.index = edges.bus0 + \" - \" + edges.bus1\n",
    "\n",
    "    edges.to_csv(f\"{OUTPUT_SCENARIO}/edges-hydrogen.csv\")"
   ]
  },
  {
   "cell_type": "code",
   "execution_count": null,
   "id": "a0541659-606c-4cdb-8db7-7477320dc540",
   "metadata": {},
   "outputs": [],
   "source": [
    "n.buses.query(\"carrier == 'AC'\")[[\"x\", \"y\", \"country\"]].to_csv(f\"{OUTPUT}/buses.csv\")"
   ]
  },
  {
   "cell_type": "markdown",
   "id": "b4b43508-a63d-48e0-a528-399ea4ae2318",
   "metadata": {},
   "source": [
    "## CSV exports"
   ]
  },
  {
   "cell_type": "code",
   "execution_count": null,
   "id": "7467cc2b-f99c-4f8b-83ef-73bb91b5516b",
   "metadata": {},
   "outputs": [],
   "source": [
    "from itertools import product\n",
    "\n",
    "LL = [\"1.0\", \"opt\"]\n",
    "HY = [\"\", \"-noH2network\"]\n",
    "RUN = [\"20221227-main\", \"20221227-import\", \"20221227-shipping\", \"20221227-costs\"]"
   ]
  },
  {
   "cell_type": "code",
   "execution_count": null,
   "id": "932aa8b8-6450-4bad-aba8-4b154211e1cc",
   "metadata": {},
   "outputs": [],
   "source": [
    "ONW = [\"-onwind+p0\", \"-noH2network-onwind+p0\"]\n",
    "ONW_RUN = [\"20221227-main\"]"
   ]
  },
  {
   "cell_type": "code",
   "execution_count": null,
   "id": "da66a090-c5cb-4ed6-8919-c47a161fc3fd",
   "metadata": {},
   "outputs": [],
   "source": [
    "for ll, hy, run in list(product(LL, HY, RUN)) + list(product(LL, ONW, ONW_RUN)):\n",
    "    print(ll, hy, run)\n",
    "\n",
    "    CLUSTERS = 181\n",
    "    SCENARIO = f\"elec_s_181_lv{ll}__Co2L0-3H-T-H-B-I-A-solar+p3-linemaxext10{hy}_2050\"\n",
    "    OVERRIDES = PATH + \"pypsa-eur-sec/data/override_component_attrs\"\n",
    "\n",
    "    OUTPUT = \"../results/graphics-20221227/\"\n",
    "    OUTPUT_SCENARIO = f\"{OUTPUT}/{run}/{SCENARIO}/\"\n",
    "\n",
    "    if not os.path.exists(OUTPUT_SCENARIO):\n",
    "        os.makedirs(OUTPUT_SCENARIO)\n",
    "\n",
    "    overrides = override_component_attrs(OVERRIDES)\n",
    "    fn = f\"{PATH}/pypsa-eur-sec/results/{run}/postnetworks/{SCENARIO}.nc\"\n",
    "    n = pypsa.Network(fn, override_component_attrs=overrides)\n",
    "\n",
    "    unique_link_carriers = n.links.carrier.unique()\n",
    "    GAS_NETWORK = \"gas pipeline\" in unique_link_carriers\n",
    "    H2_NETWORK = any(\"H2 pipeline\" in ulc for ulc in unique_link_carriers)\n",
    "\n",
    "    carriers = [\n",
    "        \"co2\",\n",
    "        \"co2 stored\",\n",
    "        \"gas\",\n",
    "        \"H2\",\n",
    "    ]\n",
    "\n",
    "    for carrier in carriers:\n",
    "        print(carrier)\n",
    "        df = (\n",
    "            nodal_balance(n, carrier, aggregate=[\"bus\", \"component\"], energy=False)\n",
    "            .unstack()\n",
    "            .fillna(0.0)\n",
    "            .div(1e3)\n",
    "            .round(1)\n",
    "        )\n",
    "        df.to_csv(f\"{OUTPUT_SCENARIO}/balance-ts-{carrier}.csv\")\n",
    "\n",
    "    carrier = [\"AC\", \"low voltage\"]\n",
    "    df = (\n",
    "        nodal_balance(n, carrier, aggregate=[\"bus\", \"component\"], energy=False)\n",
    "        .unstack()\n",
    "        .fillna(0.0)\n",
    "        .div(1e3)\n",
    "        .round(1)\n",
    "    )\n",
    "    df.to_csv(f\"{OUTPUT_SCENARIO}/balance-ts-total-electricity.csv\")\n",
    "\n",
    "    carrier = [\"oil\", \"methanol\"]\n",
    "    df = (\n",
    "        nodal_balance(n, carrier, aggregate=[\"bus\", \"component\"], energy=False)\n",
    "        .unstack()\n",
    "        .fillna(0.0)\n",
    "        .div(1e3)\n",
    "        .round(1)\n",
    "    )\n",
    "    df.to_csv(f\"{OUTPUT_SCENARIO}/balance-ts-total-liquid-hydrocarbons.csv\")\n",
    "\n",
    "    carrier = [\n",
    "        \"residential rural heat\",\n",
    "        \"services rural heat\",\n",
    "        \"residential urban decentral heat\",\n",
    "        \"services urban decentral heat\",\n",
    "        \"urban central heat\",\n",
    "    ]\n",
    "    df = (\n",
    "        nodal_balance(n, carrier, aggregate=[\"bus\", \"component\"], energy=False)\n",
    "        .unstack()\n",
    "        .fillna(0.0)\n",
    "        .div(1e3)\n",
    "        .round(1)\n",
    "    )\n",
    "    df.to_csv(f\"{OUTPUT_SCENARIO}/balance-ts-total-heat.csv\")\n",
    "\n",
    "    report = {}\n",
    "    report[\"curtailment\"] = curtailment(n).unstack()\n",
    "    report[\"prices\"] = get_nodal_prices(n).groupby(rename_techs_tyndp, axis=1).mean()\n",
    "    report[\"lcoe\"] = pd.concat(\n",
    "        {\n",
    "            c: calculate_lcoe(n, c)\n",
    "            for c in [\"onwind\", \"offwind-ac\", \"offwind-dc\", \"solar rooftop\", \"solar\"]\n",
    "        },\n",
    "        axis=1,\n",
    "    )\n",
    "    report[\"market_value\"] = pd.concat(\n",
    "        {\n",
    "            c: market_values(n, c)\n",
    "            for c in [\n",
    "                \"onwind\",\n",
    "                \"offwind-ac\",\n",
    "                \"offwind-dc\",\n",
    "                \"solar rooftop\",\n",
    "                \"solar\",\n",
    "                \"ror\",\n",
    "            ]\n",
    "        },\n",
    "        axis=1,\n",
    "    )\n",
    "    report[\"io\"] = get_import_export_balance(n)\n",
    "    report[\"capacity\"] = calculate_p_caps(n).groupby(rename_techs_tyndp, axis=1).sum()\n",
    "    report[\"storage\"] = calculate_e_caps(n).groupby(rename_techs_tyndp, axis=1).sum()\n",
    "    report[\"potential_used\"] = potential_used(n)\n",
    "\n",
    "    report = {k: v.round(2) for k, v in report.items()}\n",
    "    pd.concat(report, axis=1).to_csv(f\"{OUTPUT_SCENARIO}/report.csv\")\n",
    "\n",
    "    rename_link_attrs = {\n",
    "        \"p_nom\": \"s_nom\",\n",
    "        \"p_nom_opt\": \"s_nom_opt\",\n",
    "        \"p_nom_max\": \"s_nom_max\",\n",
    "    }\n",
    "    selection = [\"bus0\", \"bus1\", \"length\", \"s_nom\", \"s_nom_max\", \"carrier\", \"s_nom_opt\"]\n",
    "\n",
    "    edges = pd.concat(\n",
    "        [\n",
    "            n.lines,\n",
    "            n.links.loc[n.links.carrier == \"DC\"].rename(rename_link_attrs, axis=1),\n",
    "        ],\n",
    "        axis=0,\n",
    "    )[selection]\n",
    "    edges.length = edges.length.astype(int)\n",
    "    s_ = [\"s_nom\", \"s_nom_max\", \"s_nom_opt\"]\n",
    "    edges[s_] = edges[s_].div(1e3).round(3)\n",
    "\n",
    "    edges.to_csv(f\"{OUTPUT_SCENARIO}/edges-electricity.csv\")\n",
    "\n",
    "    edges = n.links.loc[n.links.carrier.str.contains(\"H2 pipeline\")]\n",
    "\n",
    "    if not edges.empty:\n",
    "        positive_order = edges.bus0 < edges.bus1\n",
    "        edges_p = edges[positive_order]\n",
    "        swap_buses = {\"bus0\": \"bus1\", \"bus1\": \"bus0\"}\n",
    "        edges_n = edges[~positive_order].rename(columns=swap_buses)\n",
    "        edges = pd.concat([edges_p, edges_n])\n",
    "\n",
    "        edges.length = edges.length.astype(int)\n",
    "        edges.bus0 = edges.bus0.str.replace(\" H2\", \"\")\n",
    "        edges.bus1 = edges.bus1.str.replace(\" H2\", \"\")\n",
    "        edges.p_nom_max = edges.p_nom_max.div(1e3).round(3)\n",
    "        edges.p_nom_opt = edges.p_nom_opt.div(1e3).round(3)\n",
    "\n",
    "        edges[\"max_retro\"] = edges.p_nom_max.replace(np.inf, 0)\n",
    "\n",
    "        edges[\"p_nom_opt_new\"] = edges.loc[edges.carrier == \"H2 pipeline\", \"p_nom_opt\"]\n",
    "\n",
    "        edges[\"p_nom_opt_retro\"] = edges.loc[\n",
    "            edges.carrier == \"H2 pipeline retrofitted\", \"p_nom_opt\"\n",
    "        ]\n",
    "\n",
    "        strategy = {\n",
    "            \"length\": \"mean\",\n",
    "            \"max_retro\": \"sum\",\n",
    "            \"p_nom_opt\": \"sum\",\n",
    "            \"p_nom_opt_new\": \"sum\",\n",
    "            \"p_nom_opt_retro\": \"sum\",\n",
    "        }\n",
    "        edges = edges.groupby([\"bus0\", \"bus1\"], as_index=False).agg(strategy)\n",
    "        edges.index = edges.bus0 + \" - \" + edges.bus1\n",
    "\n",
    "        edges.to_csv(f\"{OUTPUT_SCENARIO}/edges-hydrogen.csv\")\n",
    "\n",
    "    n.buses.query(\"carrier == 'AC'\")[[\"x\", \"y\", \"country\"]].to_csv(\n",
    "        f\"{OUTPUT}/buses.csv\"\n",
    "    )"
   ]
  },
  {
   "cell_type": "markdown",
   "id": "d2f1f404-0b2b-4ade-9b5a-e686bcb3d0bf",
   "metadata": {
    "tags": []
   },
   "source": [
    "## Trade"
   ]
  },
  {
   "cell_type": "raw",
   "id": "d9022259-9a86-4ee1-85d9-19be3f33f4fb",
   "metadata": {},
   "source": [
    "aggregate = {\n",
    "    \"LV\": \"Baltics\",\n",
    "    \"LT\": \"Baltics\",\n",
    "    \"EE\": \"Baltics\",\n",
    "    \"BE\": \"Benelux\",\n",
    "    \"NL\": \"Benelux\",\n",
    "    \"LU\": \"Benelux\",\n",
    "    \"AL\": \"Balkan\",\n",
    "    \"RS\": \"Balkan\",\n",
    "    \"BA\": \"Balkan\",\n",
    "    \"MK\": \"Balkan\",\n",
    "    \"ME\": \"Balkan\",\n",
    "    \"HR\": \"Balkan\",\n",
    "    \"BG\": \"Balkan\",\n",
    "    \"RO\": \"Balkan\",\n",
    "    \"PT\": \"Iberian Peninsula\",\n",
    "    \"ES\": \"Iberian Peninsula\",\n",
    "    \"IE\": \"Ireland\",  # \"British Isles\",\n",
    "    \"GB\": \"United Kingdom\",  # \"British Isles\",\n",
    "    \"DK\": \"Scandinavia\",\n",
    "    \"SE\": \"Scandinavia\",\n",
    "    \"NO\": \"Scandinavia\",\n",
    "    \"FI\": \"Scandinavia\",\n",
    "    \"DE\": \"DE-AT-CH\",\n",
    "    \"CH\": \"DE-AT-CH\",\n",
    "    \"AT\": \"DE-AT-CH\",\n",
    "    \"SI\": \"PL-SI-SK-CZ-HU\",\n",
    "    \"SK\": \"PL-SI-SK-CZ-HU\",\n",
    "    \"CZ\": \"PL-SI-SK-CZ-HU\",\n",
    "    \"HU\": \"PL-SI-SK-CZ-HU\",\n",
    "    \"PL\": \"PL-SI-SK-CZ-HU\",\n",
    "    \"FR\": \"France\",\n",
    "    \"GR\": \"Greece\",\n",
    "    \"IT\": \"Italy\",\n",
    "}"
   ]
  },
  {
   "cell_type": "raw",
   "id": "59b0c9e0-9b04-48fc-909c-d82b2cfbc69e",
   "metadata": {},
   "source": [
    "def crossborder_flows(c, carrier):\n",
    "    if not isinstance(carrier, list):\n",
    "        carrier = [carrier]\n",
    "\n",
    "    sel = n.df(c).carrier.isin(carrier)\n",
    "    return pd.concat(\n",
    "        {\n",
    "            \"source\": n.df(c).loc[sel].bus0.str[:2].replace(aggregate),\n",
    "            \"target\": n.df(c).loc[sel].bus1.str[:2].replace(aggregate),\n",
    "            \"value\": (n.snapshot_weightings.generators @ n.pnl(c).p0.loc[:, sel]).div(\n",
    "                1e6\n",
    "            ),  # TWh\n",
    "        },\n",
    "        axis=1,\n",
    "    )"
   ]
  },
  {
   "cell_type": "raw",
   "id": "43fa89a1-b082-485f-97db-e9641cf6f319",
   "metadata": {},
   "source": [
    "def clean_flows(df):\n",
    "    asc = df.source < df.target\n",
    "    df_p = df[asc]\n",
    "    swap = {\"source\": \"target\", \"target\": \"source\"}\n",
    "    df_n = df[~asc].rename(columns=swap)\n",
    "    df_n.value *= -1\n",
    "    df = pd.concat([df_p, df_n])\n",
    "\n",
    "    df = df.groupby([\"source\", \"target\"], as_index=False).sum()\n",
    "\n",
    "    pos = df.value > 0\n",
    "    swap = {\"source\": \"target\", \"target\": \"source\"}\n",
    "    df = pd.concat([df[pos], df[~pos].rename(columns=swap)])\n",
    "    df.value = df.value.abs()\n",
    "\n",
    "    df = df.loc[df[\"source\"] != df[\"target\"]]\n",
    "    df = df.sort_values(\"source\")\n",
    "    # df = df.reset_index(drop=True)\n",
    "\n",
    "    return df"
   ]
  },
  {
   "cell_type": "raw",
   "id": "a0837d67-5d01-477a-a0d9-e94a06969111",
   "metadata": {},
   "source": [
    "df = clean_flows(crossborder_flows(\"Link\", [\"H2 pipeline\", \"H2 pipeline retrofitted\"]))"
   ]
  },
  {
   "cell_type": "raw",
   "id": "779ab640-1804-4971-ae4a-70f14452ecb6",
   "metadata": {},
   "source": [
    "def plot_trade_chord(df, name, fn=True):\n",
    "    chord = hv.Chord(df)\n",
    "\n",
    "    chord.opts(\n",
    "        opts.Chord(\n",
    "            cmap=\"Category20\",\n",
    "            edge_cmap=\"Category20\",\n",
    "            edge_color=\"source\",\n",
    "            node_color=\"index\",\n",
    "            label_index=\"index\",\n",
    "            # node_size=0,\n",
    "        )\n",
    "    )\n",
    "\n",
    "    if fn:\n",
    "        if not isinstance(fn, str):\n",
    "            fn = f\"{OUTPUT_SCENARIO}/chord-{name}.html\"\n",
    "        hv.save(chord, fn)\n",
    "\n",
    "    return chord"
   ]
  },
  {
   "cell_type": "raw",
   "id": "6f8ed559-40fe-42c0-ae86-e30aa4efe654",
   "metadata": {},
   "source": [
    "if H2_NETWORK:\n",
    "    df = clean_flows(\n",
    "        crossborder_flows(\"Link\", [\"H2 pipeline\", \"H2 pipeline retrofitted\"])\n",
    "    )\n",
    "    plot_trade_chord(df, \"H2\")"
   ]
  },
  {
   "cell_type": "raw",
   "id": "8d37442b-e11a-4e26-bba0-f9db38d479cc",
   "metadata": {},
   "source": [
    "if GAS_NETWORK:\n",
    "    df = clean_flows(crossborder_flows(\"Link\", \"gas pipeline\"))\n",
    "    plot_trade_chord(df, \"gas\")"
   ]
  },
  {
   "cell_type": "raw",
   "id": "b2107753-175d-40b0-8068-1eb5aba381d7",
   "metadata": {},
   "source": [
    "df = clean_flows(\n",
    "    pd.concat([crossborder_flows(\"Line\", \"AC\"), crossborder_flows(\"Link\", \"DC\")])\n",
    ")\n",
    "plot_trade_chord(df, \"elec\")"
   ]
  },
  {
   "cell_type": "raw",
   "id": "5c2a056d-700a-4399-9cda-72c78f396895",
   "metadata": {
    "tags": []
   },
   "source": [
    "## Playground"
   ]
  },
  {
   "cell_type": "raw",
   "id": "f535d16f-e97b-4ffc-bee3-d18a78b1c478",
   "metadata": {},
   "source": [
    "c = [\n",
    "    \"AC\",\n",
    "    \"H2\",\n",
    "    \"residential rural heat\",\n",
    "    \"services rural heat\",\n",
    "    \"residential urban decentral heat\",\n",
    "    \"services urban decentral heat\",\n",
    "    \"urban central heat\",\n",
    "]"
   ]
  },
  {
   "cell_type": "raw",
   "id": "f8203748-6862-41bb-989c-e74af602e02e",
   "metadata": {},
   "source": [
    "df = nodal_balance(n, \"AC\", energy=False)"
   ]
  },
  {
   "cell_type": "raw",
   "id": "2e0a424e-928a-438a-85ba-b50ef29d27d5",
   "metadata": {},
   "source": [
    "pos = (\n",
    "    df.where(df > 0)\n",
    "    .dropna()\n",
    "    .droplevel(\"component\")\n",
    "    .unstack(\"snapshot\")\n",
    "    .fillna(0)\n",
    "    .mean(axis=1)\n",
    "    .unstack()\n",
    ")\n",
    "pos = pos.drop(\n",
    "    pos.columns.intersection([\"AC\", \"DC\", \"H2 pipeline\", \"H2 pipeline retrofitted\"]),\n",
    "    axis=1,\n",
    ")\n",
    "pos = pos.sum(axis=1).div(1e3)"
   ]
  },
  {
   "cell_type": "raw",
   "id": "5973355a-5032-4f0e-8bbb-cbc1a2c8473e",
   "metadata": {},
   "source": [
    "neg = (\n",
    "    df.where(df < 0)\n",
    "    .dropna()\n",
    "    .droplevel(\"component\")\n",
    "    .unstack(\"snapshot\")\n",
    "    .fillna(0)\n",
    "    .mean(axis=1)\n",
    "    .unstack()\n",
    ")\n",
    "neg = neg.drop(\n",
    "    neg.columns.intersection([\"AC\", \"DC\", \"H2 pipeline\", \"H2 pipeline retrofitted\"]),\n",
    "    axis=1,\n",
    ")\n",
    "neg = neg.sum(axis=1).div(-1e3)"
   ]
  },
  {
   "cell_type": "raw",
   "id": "bf9326db-03c9-4143-ab81-772c68a77399",
   "metadata": {},
   "source": [
    "s = pos - neg"
   ]
  },
  {
   "cell_type": "raw",
   "id": "ff4620a0-01ac-4666-87b9-5c0eae052d2a",
   "metadata": {},
   "source": [
    "(pos / s).sort_values().reset_index(drop=True).plot(ylim=(-40, 40))\n",
    "plt.savefig(\n",
    "    f\"{OUTPUT_SCENARIO}/imbalance-rate-curve-electricity-pos.pdf\", bbox_inches=\"tight\"\n",
    ")"
   ]
  },
  {
   "cell_type": "raw",
   "id": "f7d6cbd6-fae2-405d-822f-f4e319df5bf5",
   "metadata": {},
   "source": [
    "(neg / s).sort_values().reset_index(drop=True).plot(ylim=(-40, 40))\n",
    "plt.savefig(\n",
    "    f\"{OUTPUT_SCENARIO}/imbalance-rate-curve-electricity-neg.pdf\", bbox_inches=\"tight\"\n",
    ")"
   ]
  },
  {
   "cell_type": "raw",
   "id": "fb97d396-099b-46c2-9821-15db8b93c6df",
   "metadata": {},
   "source": [
    "def plot_imbalance_rate(\n",
    "    s,\n",
    "    geodf,\n",
    "    carrier,\n",
    "    label=\"\",\n",
    "    cmap=\"PiYG\",\n",
    "    limit=\"symmetric\",\n",
    "    vmax=None,\n",
    "    vmin=None,\n",
    "    fn=True,\n",
    "):\n",
    "\n",
    "    proj = ccrs.EqualEarth()\n",
    "    geodf = geodf.to_crs(proj.proj4_init)\n",
    "\n",
    "    fig, ax = plt.subplots(figsize=(7, 7), subplot_kw={\"projection\": proj})\n",
    "\n",
    "    if limit == \"symmetric\":\n",
    "        lim = max(s.max(), s.min())\n",
    "        vmin = -lim\n",
    "        vmax = lim\n",
    "\n",
    "    geodf.plot(\n",
    "        ax=ax,\n",
    "        column=s.reindex(geodf.index),\n",
    "        # transform=ccrs.PlateCarree(),\n",
    "        cmap=cmap,\n",
    "        linewidths=0,\n",
    "        legend=True,\n",
    "        vmax=vmax,\n",
    "        vmin=vmin,\n",
    "        legend_kwds={\n",
    "            \"label\": label,\n",
    "            \"shrink\": 0.7,\n",
    "            \"extend\": \"both\",\n",
    "        },\n",
    "    )\n",
    "\n",
    "    ax.add_feature(cartopy.feature.COASTLINE.with_scale(\"50m\"), linewidth=0.2, zorder=2)\n",
    "    ax.add_feature(cartopy.feature.BORDERS.with_scale(\"50m\"), linewidth=0.2, zorder=2)\n",
    "\n",
    "    ax.set_frame_on(False)\n",
    "    ax.set_facecolor(\"white\")\n",
    "\n",
    "    if fn:\n",
    "        if not isinstance(fn, str):\n",
    "            fn = f\"{OUTPUT_SCENARIO}/imbalance-rate-{carrier}.pdf\"\n",
    "        plt.savefig(fn, bbox_inches=\"tight\")\n",
    "        plt.close()"
   ]
  },
  {
   "cell_type": "raw",
   "id": "169ca0ce-62aa-4c4a-ba9f-43c1ce98383a",
   "metadata": {},
   "source": [
    "plot_imbalance_rate(\n",
    "    pos / s,\n",
    "    nodes,\n",
    "    \"electricity-pos\",\n",
    "    \"electricity average positive injection\\nover average net injection [-]\",\n",
    "    vmax=20,\n",
    "    vmin=-20,\n",
    "    limit=None,\n",
    ")"
   ]
  },
  {
   "cell_type": "raw",
   "id": "d926d848-a384-4f10-bbde-760ed4f7641a",
   "metadata": {},
   "source": [
    "plot_imbalance_rate(\n",
    "    neg / s,\n",
    "    nodes,\n",
    "    \"electricity-neg\",\n",
    "    \"electricity average positive injection\\nover average net injection [-]\",\n",
    "    vmax=20,\n",
    "    vmin=-20,\n",
    "    limit=None,\n",
    ")"
   ]
  },
  {
   "cell_type": "raw",
   "id": "bdff61c7-d129-4ce9-923e-bf127aeed946",
   "metadata": {},
   "source": [
    "e = n.links.query(\"carrier == 'H2 Electrolysis'\").set_index(\"bus0\").p_nom_opt"
   ]
  },
  {
   "cell_type": "raw",
   "id": "3cafc02c-0b75-4968-9a56-3c8de0e28374",
   "metadata": {},
   "source": [
    "df = (\n",
    "    n.generators.filter(regex=\"(solar$|solar rooftop)\", axis=0)\n",
    "    .groupby(\"bus\")\n",
    "    .p_nom_opt.sum()\n",
    "    .reindex(n.buses.location)\n",
    ")  # .groupby('index').sum()\n",
    "s = df.groupby(df.index).sum().drop(\"EU\")"
   ]
  },
  {
   "cell_type": "raw",
   "id": "0a0c8203-af75-4c52-b663-ca65873459c9",
   "metadata": {},
   "source": [
    "np.corrcoef(e, s)"
   ]
  },
  {
   "cell_type": "raw",
   "id": "466e1671-bcf4-45d0-96ed-5480b7860cce",
   "metadata": {},
   "source": [
    "df = nodal_balance(\n",
    "    n, [\"AC\", \"low-voltage\"], aggregate=[\"component\", \"bus\"], energy=False\n",
    ")"
   ]
  },
  {
   "cell_type": "raw",
   "id": "3e55af40-1358-40a3-873a-2fd122f4f086",
   "metadata": {},
   "source": [
    "n.loads.carrier.unique()"
   ]
  },
  {
   "cell_type": "raw",
   "id": "3c9525e9-9f37-41d1-b23c-eed99e827ce7",
   "metadata": {},
   "source": [
    "as_dense(n, \"Load\", \"p_set\").loc[\n",
    "    :, n.loads.carrier.str.contains(\"industry electricity\")\n",
    "].sum(axis=1)"
   ]
  },
  {
   "cell_type": "raw",
   "id": "36f4bb7c-2199-42ba-a760-fa7f47b485cd",
   "metadata": {},
   "source": [
    "(\n",
    "    n.links_t.p0.filter(\n",
    "        regex=\"(H2 Electrolysis|battery charger|BEV charger|heat pump|resistive heater)\",\n",
    "        axis=1,\n",
    "    ).sum(axis=1)\n",
    "    + as_dense(n, \"Load\", \"p_set\")\n",
    "    .loc[:, n.loads.carrier.str.contains(\"industry electricity\")]\n",
    "    .sum(axis=1)\n",
    ").div(\n",
    "    1e3\n",
    ").max()  # GW"
   ]
  },
  {
   "cell_type": "raw",
   "id": "75e7bf10-c967-4678-a7d3-3e5c60448cfb",
   "metadata": {},
   "source": [
    "n.links.carrier.unique()"
   ]
  },
  {
   "cell_type": "raw",
   "id": "eff3eed4-54d6-4f4c-83cc-0ea67abaf2c2",
   "metadata": {},
   "source": [
    "df.where(df < 0).dropna().unstack().fillna(0).mul(-1e-3).plot.area()"
   ]
  },
  {
   "cell_type": "raw",
   "id": "f0eea2a6-148c-4fea-9d96-b5bc0d2c1364",
   "metadata": {},
   "source": [
    "df = n.links.filter(regex=\"(OCGT|CHP|Fuel Cell)\", axis=0)\n",
    "\n",
    "cap = df.eval(\"p_nom_opt * efficiency\").groupby(df.carrier).sum().div(1e3)  # GW"
   ]
  },
  {
   "cell_type": "raw",
   "id": "e86615c4-a614-4d42-9fd1-58cc13aab192",
   "metadata": {},
   "source": [
    "cap"
   ]
  },
  {
   "cell_type": "raw",
   "id": "9edff4a0-3aac-4402-aa6a-44e41be35218",
   "metadata": {},
   "source": [
    "cap.sum()"
   ]
  },
  {
   "cell_type": "raw",
   "id": "ee877627-9e82-4d9f-96bf-b4c3b8e5a6b7",
   "metadata": {},
   "source": [
    "h2_storage = n.stores.query(\"carrier == 'H2'\")\n",
    "nodes[\"H2\"] = h2_storage.rename(\n",
    "    index=h2_storage.bus.map(n.buses.location)\n",
    ").e_nom_opt.div(\n",
    "    1e6\n",
    ")  # TWh\n",
    "\n",
    "proj = ccrs.EqualEarth()\n",
    "nodes = nodes.to_crs(proj.proj4_init)\n",
    "\n",
    "fig, ax = plt.subplots(figsize=(7, 7), subplot_kw={\"projection\": proj})\n",
    "\n",
    "nodes.plot(\n",
    "    ax=ax,\n",
    "    column=\"H2\",\n",
    "    cmap=\"Greens\",\n",
    "    linewidths=0,\n",
    "    legend=True,\n",
    "    legend_kwds={\n",
    "        \"label\": \"Hydrogen Storage [TWh]\",\n",
    "        \"shrink\": 0.7,\n",
    "        \"extend\": \"max\",\n",
    "    },\n",
    ")\n",
    "\n",
    "ax.set_frame_on(False)\n",
    "ax.set_facecolor(\"white\")"
   ]
  },
  {
   "cell_type": "raw",
   "id": "e8f1d297-3d09-42f8-8a7d-158a40231b7a",
   "metadata": {},
   "source": []
  },
  {
   "cell_type": "raw",
   "id": "6eb2ef3d-4667-487b-babc-e7f0a1011a65",
   "metadata": {},
   "source": [
    "elec_nodes = [\n",
    "    \"AC\",\n",
    "    \"low voltage\",\n",
    "]\n",
    "df = nodal_balance(n, elec_nodes, energy=False)"
   ]
  },
  {
   "cell_type": "raw",
   "id": "8ee0048f-15d3-4095-92dd-b6e9ad732988",
   "metadata": {},
   "source": [
    "df = (\n",
    "    df.groupby([\"carrier\", \"snapshot\"])\n",
    "    .sum()\n",
    "    .unstack(0)\n",
    "    .div(1e3)\n",
    "    .drop([\"AC\", \"DC\"], axis=1)\n",
    ")"
   ]
  },
  {
   "cell_type": "raw",
   "id": "68e83ea1-79c4-47f8-9884-117cacd7f14b",
   "metadata": {},
   "source": [
    "df.where(df < 0).sum(axis=1).mul(-1).max()"
   ]
  },
  {
   "cell_type": "raw",
   "id": "eb32328b-129b-4287-86bc-a1bcaf193b62",
   "metadata": {},
   "source": [
    "df = df.loc[:, ~df.columns.isin([\"H2 pipeline\", \"transmission lines\"])]"
   ]
  },
  {
   "cell_type": "raw",
   "id": "347bc2c6-758f-4ae6-9e10-eda158f9ef75",
   "metadata": {},
   "source": [
    "(-n.snapshot_weightings.generators @ n.links_t.p1.filter(like=\"DAC\", axis=1)).sum()"
   ]
  },
  {
   "cell_type": "raw",
   "id": "208bed5b-8bbd-466d-a084-ac1027ca934d",
   "metadata": {},
   "source": []
  },
  {
   "cell_type": "raw",
   "id": "c3e3d47b-d4b5-49e4-893c-076cfd4a671a",
   "metadata": {},
   "source": [
    "(n.snapshot_weightings.generators @ n.loads_t.p_set.filter(like=\"IE\")).div(1e6).sum()"
   ]
  },
  {
   "cell_type": "raw",
   "id": "0cd6ebac-fc22-478a-a671-0bd3209c0e4d",
   "metadata": {},
   "source": [
    "(n.snapshot_weightings.generators @ as_dense(n, \"Load\", \"p_set\").filter(like=\"DK\")).div(\n",
    "    1e6\n",
    ").sum()"
   ]
  },
  {
   "cell_type": "raw",
   "id": "a2835178-a6ea-4241-a524-c546563228b9",
   "metadata": {},
   "source": [
    "io.total.filter(like=\"DK\").sum()"
   ]
  },
  {
   "cell_type": "raw",
   "id": "1fcb273f-8667-4e17-b124-4c6c193abf2b",
   "metadata": {},
   "source": [
    "io.total.filter(like=\"DE\").min()"
   ]
  },
  {
   "cell_type": "raw",
   "id": "4714138a-2c29-4c38-a359-cef825616ff0",
   "metadata": {},
   "source": [
    "a = n.links.filter(like=\"H2 Electrolysis\", axis=0).groupby(\"bus0\").p_nom_opt.sum()"
   ]
  },
  {
   "cell_type": "raw",
   "id": "ce011efb-e110-47f1-a30b-890635d20a27",
   "metadata": {},
   "source": [
    "b = n.generators.filter(like=\"offwind\", axis=0).groupby(\"bus\").p_nom_opt.sum()"
   ]
  },
  {
   "cell_type": "raw",
   "id": "4f932a40-9314-477e-b863-d6ff26821aad",
   "metadata": {},
   "source": [
    "a"
   ]
  },
  {
   "cell_type": "raw",
   "id": "aafd3d61-39ef-4a88-9747-349ec09754bd",
   "metadata": {},
   "source": [
    "np.corrcoef(a.reindex_like(b), b)"
   ]
  },
  {
   "cell_type": "raw",
   "id": "2ee49b14-ac9d-4484-8c8f-5fcfef76f606",
   "metadata": {},
   "source": [
    "n.links.query(\"carrier == 'H2 pipeline'\").eval(\"capital_cost / length\").mean()"
   ]
  },
  {
   "cell_type": "raw",
   "id": "a2bcba6d-474d-4dd3-ad04-e28e34c44c2d",
   "metadata": {},
   "source": [
    "n.stores.query(\"carrier == 'H2' and capital_cost < 145\").e_nom_opt.sum()"
   ]
  },
  {
   "cell_type": "raw",
   "id": "7ca2dc1b-97ce-4d17-bb34-da41a71d5181",
   "metadata": {},
   "source": [
    "n.stores.query(\"carrier == 'H2' and capital_cost > 145\").e_nom_opt.sum()"
   ]
  },
  {
   "cell_type": "raw",
   "id": "0940424e-ef33-490d-b442-ec475b5943a5",
   "metadata": {},
   "source": [
    "n.stores.query(\n",
    "    \"carrier == 'H2' and capital_cost > 145\"\n",
    ").e_nom_opt.sum() / n.stores.query(\"carrier == 'H2'\").e_nom_opt.sum()"
   ]
  },
  {
   "cell_type": "raw",
   "id": "32aeb519-b1b9-4590-89ca-2c9ba5c462e6",
   "metadata": {},
   "source": [
    "n.stores_t.e.filter(like=\"H2\", axis=1).sum(axis=1).plot()"
   ]
  },
  {
   "cell_type": "raw",
   "id": "d6274d1f-7df1-480c-89c8-47a59d68d6af",
   "metadata": {},
   "source": [
    "n.stores_t.e.filter(like=\"H2\", axis=1).sum(axis=1).plot()"
   ]
  },
  {
   "cell_type": "raw",
   "id": "f90fae4b-83d3-4d27-b7fe-3a4d2878d329",
   "metadata": {},
   "source": [
    "df = nodal_balance(n, \"H2\", aggregate=[\"snapshot\"])"
   ]
  },
  {
   "cell_type": "raw",
   "id": "a87b9e46-f60d-43eb-9f34-36236baac0d6",
   "metadata": {},
   "source": [
    "df = df.groupby([\"bus\", \"carrier\"]).sum().unstack(\"carrier\")"
   ]
  },
  {
   "cell_type": "raw",
   "id": "bad16f24-e683-4088-bf1b-35d621805c16",
   "metadata": {},
   "source": []
  },
  {
   "cell_type": "raw",
   "id": "ec9aaf02-342a-4f50-9080-5b8bf215a10b",
   "metadata": {},
   "source": [
    "link_loading = n.links_t.p0.abs().mean() / n.links.p_nom_opt * 100"
   ]
  },
  {
   "cell_type": "raw",
   "id": "0a830ce1-af6b-4944-ac69-7aed73262b57",
   "metadata": {},
   "source": [
    "link_loading.filter(like=\"H2\").mean()"
   ]
  },
  {
   "cell_type": "raw",
   "id": "f94cc5d6-ae93-4d7d-b17e-6fb9c8eed78a",
   "metadata": {},
   "source": [
    "line_loading = n.lines_t.p0.abs().mean() / n.lines.s_nom_opt * 100"
   ]
  },
  {
   "cell_type": "raw",
   "id": "f48915c4-dbfa-4f91-84e1-415422a71986",
   "metadata": {},
   "source": [
    "line_loading.mean()"
   ]
  },
  {
   "cell_type": "raw",
   "id": "183d97da-ed25-4b39-80b3-edea3ced8098",
   "metadata": {},
   "source": [
    "n.links.filter(like=\"H2 pipeline\", axis=0).eval(\"length*p_nom_opt/1e6\").sum()"
   ]
  },
  {
   "cell_type": "raw",
   "id": "fdd12922-c03a-4f99-9497-f4103a3bd1e7",
   "metadata": {},
   "source": [
    "247.5 / 465.1"
   ]
  },
  {
   "cell_type": "raw",
   "id": "9a0c655b-5e80-49e9-bd79-465497efd211",
   "metadata": {},
   "source": [
    "df = n.snapshot_weightings.generators @ as_dense(n, \"Load\", \"p_set\").filter(\n",
    "    like=\"heat\", axis=1\n",
    ").div(1e6)"
   ]
  },
  {
   "cell_type": "raw",
   "id": "936ad178-1171-437a-af4a-60fc27ae32e2",
   "metadata": {},
   "source": [
    "df.filter(like=\"rural\").sum()"
   ]
  },
  {
   "cell_type": "raw",
   "id": "2787af79-4cb9-4b9d-9b95-c30ee64855fb",
   "metadata": {},
   "source": [
    "df.filter(like=\"urban\").sum()"
   ]
  },
  {
   "cell_type": "raw",
   "id": "450b1c34-d3e5-44ac-a838-eafd03ff92ce",
   "metadata": {},
   "source": [
    "df.index.str.split(\" \").str[2:].str.join(\" \").unique()"
   ]
  },
  {
   "cell_type": "raw",
   "id": "c85a4f10-0804-4cc7-9989-0f42ec63ca16",
   "metadata": {},
   "source": [
    "n.stores.query(\"carrier == 'H2'\").capital_cost.unique()"
   ]
  },
  {
   "cell_type": "raw",
   "id": "0229b22b-ad64-45e3-827e-9027ae084b2b",
   "metadata": {},
   "source": [
    "n.stores.query(\"carrier == 'H2'\").eval(\"e_nom_opt / e_nom_max\").sort_values()"
   ]
  },
  {
   "cell_type": "raw",
   "id": "69882898-5e5c-4d27-829b-8b3b92f87a17",
   "metadata": {},
   "source": [
    "retro = n.links.filter(like=\"H2 pipeline retro\", axis=0)"
   ]
  },
  {
   "cell_type": "raw",
   "id": "0cc6deb2-8c6a-492f-a692-c054b9610af4",
   "metadata": {},
   "source": [
    "retro"
   ]
  },
  {
   "cell_type": "raw",
   "id": "685def9e-88fd-4260-a676-22783b80e655",
   "metadata": {},
   "source": [
    "retro.eval(\"length*p_nom_opt\").sum() / retro.eval(\"length*p_nom_max\").sum()"
   ]
  },
  {
   "cell_type": "raw",
   "id": "635b9b7f-48bf-4f29-8a0b-ce70d61204a0",
   "metadata": {},
   "source": [
    "x = n.links.filter(like=\"H2 pipeline retro\", axis=0).sum()\n",
    "x.p_nom_opt / x.p_nom_max"
   ]
  },
  {
   "cell_type": "raw",
   "id": "35b25947-76fa-40ee-ad76-e602c7736d6b",
   "metadata": {},
   "source": [
    "200 / 460"
   ]
  },
  {
   "cell_type": "raw",
   "id": "1eea21ae-95d4-467e-881d-65b77ce23508",
   "metadata": {},
   "source": [
    "(\n",
    "    n.snapshot_weightings.generators @ n.links_t.p0.filter(like=\"Fuel\", axis=1) / 1e6\n",
    ").sum()"
   ]
  },
  {
   "cell_type": "raw",
   "id": "012174fb-936c-4a92-855e-b963ab9e9062",
   "metadata": {},
   "source": [
    "x = n.links.filter(like=\"H2 pipeline retro\", axis=0).eval(\"p_nom_opt / p_nom_max\")"
   ]
  },
  {
   "cell_type": "raw",
   "id": "bb283add-9b36-4c4b-b81a-b4ce6bd327ed",
   "metadata": {},
   "source": [
    "x.round(2).where(x > 0.99, 0.0).value_counts()"
   ]
  },
  {
   "cell_type": "raw",
   "id": "ea39e915-df06-41ba-999b-43e2eb775575",
   "metadata": {},
   "source": [
    "df = n.links_t.p0.filter(like=\"H2 pipeline\")"
   ]
  },
  {
   "cell_type": "raw",
   "id": "1e1ba9de-c7bf-4e44-ae97-799ac8d3e8df",
   "metadata": {},
   "source": [
    "df.abs().max()"
   ]
  },
  {
   "cell_type": "raw",
   "id": "fe5216c3-ce7d-46ef-95a9-a65fca2f6c50",
   "metadata": {},
   "source": [
    "df.loc[:, df.abs().max() > 100]"
   ]
  },
  {
   "cell_type": "raw",
   "id": "ce8eaf6c-5937-41d7-8ee9-342805e0d9ea",
   "metadata": {},
   "source": [
    "df.loc[:, (df.abs().max() > 100) & (df > 200).any() & (df < 200).any()]"
   ]
  },
  {
   "cell_type": "raw",
   "id": "78eca9ab-dbd9-409b-856f-2c98d857f1d4",
   "metadata": {},
   "source": [
    "df"
   ]
  },
  {
   "cell_type": "code",
   "execution_count": null,
   "id": "d3a25faf-77fb-41e5-8990-a6088b9d22a9",
   "metadata": {},
   "outputs": [],
   "source": []
  },
  {
   "cell_type": "code",
   "execution_count": null,
   "id": "99293eac-44cc-4a79-9d94-ce592c3dceee",
   "metadata": {},
   "outputs": [],
   "source": []
  },
  {
   "cell_type": "code",
   "execution_count": null,
   "id": "b25e3eb3-9d11-4a1d-a6b6-628a600074ba",
   "metadata": {},
   "outputs": [],
   "source": []
  }
 ],
 "metadata": {
  "interpreter": {
   "hash": "494d35a45045e3fb9015f1d2cd094f8e1540ef3ea8b346f6f51a6ceb6be203c2"
  },
  "kernelspec": {
   "display_name": "Python 3 (ipykernel)",
   "language": "python",
   "name": "python3"
  },
  "language_info": {
   "codemirror_mode": {
    "name": "ipython",
    "version": 3
   },
   "file_extension": ".py",
   "mimetype": "text/x-python",
   "name": "python",
   "nbconvert_exporter": "python",
   "pygments_lexer": "ipython3",
   "version": "3.10.0"
  }
 },
 "nbformat": 4,
 "nbformat_minor": 5
}
