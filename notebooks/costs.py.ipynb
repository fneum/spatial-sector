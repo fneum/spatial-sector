{
 "cells": [
  {
   "cell_type": "code",
   "execution_count": null,
   "id": "628002ff-479a-4c70-9dcd-aaccf7600fb9",
   "metadata": {},
   "outputs": [],
   "source": [
    "import pandas as pd\n",
    "\n",
    "pd.set_option(\"max_colwidth\", 1000)\n",
    "pd.options.display.float_format = \"{:,.2f}\".format"
   ]
  },
  {
   "cell_type": "code",
   "execution_count": null,
   "id": "09b85c25-5ea9-4496-9a7f-4797ebd02a4c",
   "metadata": {},
   "outputs": [],
   "source": [
    "source = \"../../../playgrounds/pr/technology-data/outputs/costs_2030.csv\"\n",
    "target = \"../results/tables/costs.tex\""
   ]
  },
  {
   "cell_type": "code",
   "execution_count": null,
   "id": "0d69017a-4ea4-48be-b0ac-fc3c9ca05795",
   "metadata": {},
   "outputs": [],
   "source": [
    "df = pd.read_csv(source, index_col=[0, 1]).drop(\"further description\", axis=1)"
   ]
  },
  {
   "cell_type": "code",
   "execution_count": null,
   "id": "a8a8dbab-9e69-4d41-abf5-404366a19956",
   "metadata": {},
   "outputs": [],
   "source": [
    "to_keep = [\n",
    "    \"CCGT\",\n",
    "    \"CH4 (g) pipeline\",\n",
    "    \"CH4 (g) submarine pipeline\",\n",
    "    \"Fischer-Tropsch\",\n",
    "    \"H2 (g) pipeline\",\n",
    "    \"H2 (g) pipeline repurposed\",\n",
    "    \"H2 (g) submarine pipeline\",\n",
    "    \"H2 liquefaction\",\n",
    "    \"HVAC overhead\",\n",
    "    \"HVDC inverter pair\",\n",
    "    \"HVDC overhead\",\n",
    "    \"HVDC submarine\",\n",
    "    \"OCGT\",\n",
    "    \"PHS\",\n",
    "    \"SMR\",\n",
    "    \"SMR CC\",\n",
    "    \"battery inverter\",\n",
    "    \"battery storage\",\n",
    "    \"biogas\",\n",
    "    \"biogas upgrading\",\n",
    "    \"biomass\",\n",
    "    \"biomass CHP\",\n",
    "    \"biomass CHP capture\",\n",
    "    \"cement capture\",\n",
    "    \"central air-sourced heat pump\",\n",
    "    \"central gas CHP\",\n",
    "    \"central gas boiler\",\n",
    "    \"central ground-sourced heat pump\",\n",
    "    \"central resistive heater\",\n",
    "    \"central solar thermal\",\n",
    "    \"central solid biomass CHP\",\n",
    "    \"central water tank storage\",\n",
    "    \"coal\",\n",
    "    \"decentral CHP\",\n",
    "    \"decentral air-sourced heat pump\",\n",
    "    \"decentral gas boiler\",\n",
    "    \"decentral ground-sourced heat pump\",\n",
    "    \"decentral oil boiler\",\n",
    "    \"decentral resistive heater\",\n",
    "    \"decentral solar thermal\",\n",
    "    \"decentral water tank storage\",\n",
    "    \"direct air capture\",\n",
    "    \"electricity distribution grid\",\n",
    "    \"electricity grid connection\",\n",
    "    \"electrolysis\",\n",
    "    \"fuel cell\",\n",
    "    \"gas\",\n",
    "    \"helmeth\",\n",
    "    \"home battery inverter\",\n",
    "    \"home battery storage\",\n",
    "    \"hydro\",\n",
    "    \"hydrogen storage tank incl. compressor\",\n",
    "    \"hydrogen storage underground\",\n",
    "    \"lignite\",\n",
    "    \"methanation\",\n",
    "    \"offwind\",\n",
    "    \"offwind-ac-connection-submarine\",\n",
    "    \"offwind-ac-connection-underground\",\n",
    "    \"offwind-ac-station\",\n",
    "    \"offwind-dc-connection-submarine\",\n",
    "    \"offwind-dc-connection-underground\",\n",
    "    \"offwind-dc-station\",\n",
    "    \"oil\",\n",
    "    \"onwind\",\n",
    "    \"ror\",\n",
    "    \"solar\",\n",
    "    \"solar-rooftop\",\n",
    "    \"solar-utility\",\n",
    "    \"solid biomass\",\n",
    "    \"water tank charger\",\n",
    "    \"water tank discharger\",\n",
    "]\n",
    "\n",
    "df = df.loc[to_keep]"
   ]
  },
  {
   "cell_type": "code",
   "execution_count": null,
   "id": "93954bcf",
   "metadata": {},
   "outputs": [],
   "source": [
    "to_drop = [\"p_nom_ratio\"]\n",
    "df.drop(to_drop, level=1, inplace=True)"
   ]
  },
  {
   "cell_type": "code",
   "execution_count": null,
   "id": "9d574d0a",
   "metadata": {},
   "outputs": [],
   "source": [
    "tech_names = {\n",
    "    \"CH4 (g) pipeline\": \"natural gas pipeline\",\n",
    "    \"CH4 (g) submarine pipeline\": \"natural gas pipeline (submarine)\",\n",
    "    \"H2 (g) pipeline\": \"hydrogen pipeline\",\n",
    "    \"H2 (g) pipeline repurposed\": \"hydrogen pipeline (repurposed)\",\n",
    "    \"H2 (g) submarine pipeline\": \"hydrogen pipeline (submarine)\",\n",
    "    \"H2 liquefaction\": \"hydrogen liquefaction\",\n",
    "    \"HVAC overhead\": \"HVAC transmission line (overhead)\",\n",
    "    \"HVDC overhead\": \"HVDC transmission line (overhead)\",\n",
    "    \"HVDC submarine\": \"HVDC transmission line (submarine)\",\n",
    "    \"PHS\": \"pumped hydro storage\",\n",
    "    \"SMR\": \"steam methane reforming\",\n",
    "    \"SMR CC\": \"steam methane reforming with carbon capture\",\n",
    "    \"biomass CHP\": \"CHP (biomass)\",\n",
    "    \"biomass CHP capture\": \"CHP (biomass with carbon capture)\",\n",
    "    \"central air-sourced heat pump\": \"heat pump (air-sourced, central)\",\n",
    "    \"central gas CHP\": \"CHP (gas, central)\",\n",
    "    \"central gas boiler\": \"gas boiler (central)\",\n",
    "    \"central ground-sourced heat pump\": \"heat pump (ground-sourced, central)\",\n",
    "    \"central resistive heater\": \"resistive heater (central)\",\n",
    "    \"central solar thermal\": \"solar thermal (central)\",\n",
    "    \"central solid biomass CHP\": \"CHP (solid biomass, central)\",\n",
    "    \"central water tank storage\": \"thermal storage (water tank, central)\",\n",
    "    \"decentral CHP\": \"CHP (decentral)\",\n",
    "    \"decentral air-sourced heat pump\": \"heat pump (air-sourced, decentral)\",\n",
    "    \"decentral gas boiler\": \"gas boiler (decentral)\",\n",
    "    \"decentral ground-sourced heat pump\": \"heat pump (ground-sourced, decentral)\",\n",
    "    \"decentral resistive heater\": \"resistive heater (decentral)\",\n",
    "    \"decentral solar thermal\": \"solar thermal (decentral)\",\n",
    "    \"decentral water tank storage\": \"thermal storage (water tank, decentral)\",\n",
    "    \"direct air capture\": \"direct air capture (DAC)\",\n",
    "    \"gas\": \"fossil gas\",\n",
    "    \"helmeth\": \"HELMETH (direct power-to-methane)\",\n",
    "    \"hydro\": \"reservoir hydro\",\n",
    "    \"hydrogen storage tank incl. compressor\": \"hydrogen storage (steel tank)\",\n",
    "    \"hydrogen storage underground\": \"hydrogen storage (underground)\",\n",
    "    \"offwind\": \"offshore wind\",\n",
    "    \"offwind-ac-connection-submarine\": \"AC grid connection (submarine)\",\n",
    "    \"offwind-ac-connection-underground\": \"AC grid connection (underground)\",\n",
    "    \"offwind-ac-station\": \"AC grid connection (station)\",\n",
    "    \"offwind-dc-connection-submarine\": \"DC grid connection (submarine)\",\n",
    "    \"offwind-dc-connection-underground\": \"DC grid connection (underground)\",\n",
    "    \"offwind-dc-station\": \"DC grid connection (station)\",\n",
    "    \"oil\": \"fossil oil\",\n",
    "    \"onwind\": \"onshore wind\",\n",
    "    \"ror\": \"run of river\",\n",
    "    \"solar\": \"solar PV\",\n",
    "    \"solar-rooftop\": \"solar PV (rooftop)\",\n",
    "    \"solar-utility\": \"solar PV (utility-scale)\",\n",
    "}"
   ]
  },
  {
   "cell_type": "code",
   "execution_count": null,
   "id": "5163fdaa-a456-443f-be71-c084d4feea6e",
   "metadata": {},
   "outputs": [],
   "source": [
    "param_names = {\n",
    "    \"c_b\": \"Cb coefficient\",\n",
    "    \"c_v\": \"Cv coefficient\",\n",
    "    \"investment\": \"overnight investment\",\n",
    "    \"capture_rate\": \"carbon capture rate\",\n",
    "    \"efficiency-heat\": \"efficiency (heat)\",\n",
    "    \"compression-electricity-input\": \"electricity input\",\n",
    "    \"compression-heat-output\": \"heat output\",\n",
    "    \"electricity-input\": \"electricity input\",\n",
    "    \"heat-input\": \"heat input\",\n",
    "    \"heat-output\": \"heat output\",\n",
    "    \"CO2 intensity\": \"carbon intensity\",\n",
    "}"
   ]
  },
  {
   "cell_type": "code",
   "execution_count": null,
   "id": "4767ef0f",
   "metadata": {},
   "outputs": [],
   "source": [
    "df.rename(tech_names, level=0, inplace=True)\n",
    "df.rename(param_names, level=1, inplace=True)"
   ]
  },
  {
   "cell_type": "code",
   "execution_count": null,
   "id": "b160224b",
   "metadata": {},
   "outputs": [],
   "source": [
    "unit_names = {\n",
    "    \"oC\": r\"$^{\\\\circ}$C\",\n",
    "    \"_FT\": \"$_{FT}$\",\n",
    "    \"_H2\": r\"$_{\\\\ce{H2}}$\",\n",
    "    \"_CH4\": r\"$_{\\\\ce{CH4}}$\",\n",
    "    \"kWel\": \"kW$_{el}$\",\n",
    "    \"MWhth\": \"MWh$_{th}$\",\n",
    "    \"MWh_th\": \"MWh$_{th}$\",\n",
    "    \"kW_th\": \"kW$_{th}$\",\n",
    "    \"kWth\": \"kW$_{th}$\",\n",
    "    \"MWh_e\": \"MWh$_{el}$\",\n",
    "    \"kW_e\": \"kW$_{el}$\",\n",
    "    \"tCO2\": r\"t$_{\\\\ce{CO2}}$\",\n",
    "    \"EUR\": r\"\\\\euro\",\n",
    "    \"m2\": \"m$^2$\",\n",
    "    \"kWhCapacity\": \"kWh\",\n",
    "    \"%\": \"\\%\",\n",
    "    \"excluding drive energy\": \"\",\n",
    "}"
   ]
  },
  {
   "cell_type": "code",
   "execution_count": null,
   "id": "6879b63b",
   "metadata": {},
   "outputs": [],
   "source": [
    "for k, v in unit_names.items():\n",
    "    df.unit = df.unit.str.replace(k, v)"
   ]
  },
  {
   "cell_type": "code",
   "execution_count": null,
   "id": "a1af344f",
   "metadata": {},
   "outputs": [],
   "source": [
    "df.source = df.source.str.replace(\"_\", \"\\_\")\n",
    "df.source = df.source.str.replace(\"%\", \"\\%\")"
   ]
  },
  {
   "cell_type": "code",
   "execution_count": null,
   "id": "f7b5f7e2",
   "metadata": {},
   "outputs": [],
   "source": [
    "df.sort_index(inplace=True)"
   ]
  },
  {
   "cell_type": "code",
   "execution_count": null,
   "id": "a585b9f7-825d-4a6c-ab4e-49e4319726f2",
   "metadata": {},
   "outputs": [],
   "source": [
    "df.to_latex(\n",
    "    target,\n",
    "    longtable=True,\n",
    "    column_format=\"p{4cm}p{4cm}rp{3cm}p{10cm}\",\n",
    "    na_rep=\"--\",\n",
    "    escape=False,\n",
    ")"
   ]
  },
  {
   "cell_type": "code",
   "execution_count": null,
   "id": "db38d0bb-c87b-4803-a919-01d8f4a67181",
   "metadata": {},
   "outputs": [],
   "source": [
    "df.head()"
   ]
  },
  {
   "cell_type": "code",
   "execution_count": null,
   "id": "a6c8b6a2",
   "metadata": {},
   "outputs": [],
   "source": [
    "for i in df.index.get_level_values(1).unique():\n",
    "    print(\"'\" + i + \"',\")"
   ]
  },
  {
   "cell_type": "markdown",
   "id": "80296bc5-6610-4c51-9ce3-e9306098bc2b",
   "metadata": {
    "tags": []
   },
   "source": [
    "### TODOs\n",
    "\n",
    "- [ ] nice names\n",
    "- [ ] bibtex integration\n",
    "- [ ] unit formatting"
   ]
  },
  {
   "cell_type": "code",
   "execution_count": null,
   "id": "56cf67c0-563c-4d9a-8789-a96469b66073",
   "metadata": {},
   "outputs": [],
   "source": [
    "df.xs(\"electricity-input\", level=1)"
   ]
  },
  {
   "cell_type": "code",
   "execution_count": null,
   "id": "899fb56f",
   "metadata": {},
   "outputs": [],
   "source": []
  },
  {
   "cell_type": "code",
   "execution_count": null,
   "id": "3badb4dc",
   "metadata": {},
   "outputs": [],
   "source": []
  }
 ],
 "metadata": {
  "kernelspec": {
   "display_name": "Python 3.10.4 ('pypsa-eur-220404')",
   "language": "python",
   "name": "python3"
  },
  "language_info": {
   "codemirror_mode": {
    "name": "ipython",
    "version": 3
   },
   "file_extension": ".py",
   "mimetype": "text/x-python",
   "name": "python",
   "nbconvert_exporter": "python",
   "pygments_lexer": "ipython3",
   "version": "3.10.4"
  },
  "vscode": {
   "interpreter": {
    "hash": "088b2e8263f7c495d40d62bcd006ebdc80a470c2e6e6d0fb85b15a99dfde1d66"
   }
  }
 },
 "nbformat": 4,
 "nbformat_minor": 5
}
