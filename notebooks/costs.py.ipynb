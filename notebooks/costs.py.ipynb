{
 "cells": [
  {
   "cell_type": "code",
   "execution_count": null,
   "id": "628002ff-479a-4c70-9dcd-aaccf7600fb9",
   "metadata": {},
   "outputs": [],
   "source": [
    "import pandas as pd\n",
    "pd.set_option('max_colwidth', 1000)\n",
    "pd.options.display.float_format = '{:,.2f}'.format"
   ]
  },
  {
   "cell_type": "code",
   "execution_count": null,
   "id": "09b85c25-5ea9-4496-9a7f-4797ebd02a4c",
   "metadata": {},
   "outputs": [],
   "source": [
    "source = \"../../../playgrounds/pr/technology-data/outputs/costs_2030.csv\"\n",
    "target = '../results/tables/costs.tex'"
   ]
  },
  {
   "cell_type": "code",
   "execution_count": null,
   "id": "0f153f4b-bc3f-4564-88df-9b916b672579",
   "metadata": {},
   "outputs": [],
   "source": [
    "df = pd.read_csv(\n",
    "    source,\n",
    "    index_col=[0,1]\n",
    ").drop(\"further description\", axis=1)"
   ]
  },
  {
   "cell_type": "code",
   "execution_count": null,
   "id": "a585b9f7-825d-4a6c-ab4e-49e4319726f2",
   "metadata": {},
   "outputs": [],
   "source": [
    "df.to_latex(\n",
    "    target,\n",
    "    longtable=True,\n",
    "    column_format='p{5cm}p{3cm}rp{3cm}p{11cm}',\n",
    "    na_rep='--'\n",
    ")"
   ]
  },
  {
   "cell_type": "code",
   "execution_count": null,
   "id": "db38d0bb-c87b-4803-a919-01d8f4a67181",
   "metadata": {},
   "outputs": [],
   "source": []
  },
  {
   "cell_type": "markdown",
   "id": "80296bc5-6610-4c51-9ce3-e9306098bc2b",
   "metadata": {
    "tags": []
   },
   "source": [
    "### TODOs\n",
    "\n",
    "- [ ] nice names\n",
    "- [ ] bibtex integration\n",
    "- [ ] unit formatting"
   ]
  },
  {
   "cell_type": "code",
   "execution_count": null,
   "id": "56cf67c0-563c-4d9a-8789-a96469b66073",
   "metadata": {},
   "outputs": [],
   "source": []
  }
 ],
 "metadata": {
  "kernelspec": {
   "display_name": "Python 3 (ipykernel)",
   "language": "python",
   "name": "python3"
  },
  "language_info": {
   "codemirror_mode": {
    "name": "ipython",
    "version": 3
   },
   "file_extension": ".py",
   "mimetype": "text/x-python",
   "name": "python",
   "nbconvert_exporter": "python",
   "pygments_lexer": "ipython3",
   "version": "3.9.7"
  }
 },
 "nbformat": 4,
 "nbformat_minor": 5
}
