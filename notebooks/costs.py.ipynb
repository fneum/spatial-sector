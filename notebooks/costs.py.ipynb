{
 "cells": [
  {
   "cell_type": "code",
   "execution_count": null,
   "id": "628002ff-479a-4c70-9dcd-aaccf7600fb9",
   "metadata": {},
   "outputs": [],
   "source": [
    "import pandas as pd\n",
    "\n",
    "pd.set_option(\"max_colwidth\", 1000)\n",
    "pd.options.display.float_format = \"{:,.2f}\".format"
   ]
  },
  {
   "cell_type": "code",
   "execution_count": null,
   "id": "09b85c25-5ea9-4496-9a7f-4797ebd02a4c",
   "metadata": {},
   "outputs": [],
   "source": [
    "source = \"../../../playgrounds/pr/technology-data/outputs/costs_2030.csv\"\n",
    "target = \"../results/tables/costs.tex\""
   ]
  },
  {
   "cell_type": "code",
   "execution_count": null,
   "id": "0d69017a-4ea4-48be-b0ac-fc3c9ca05795",
   "metadata": {},
   "outputs": [],
   "source": [
    "df = pd.read_csv(source, index_col=[0, 1]).drop(\"further description\", axis=1)"
   ]
  },
  {
   "cell_type": "code",
   "execution_count": null,
   "id": "a8a8dbab-9e69-4d41-abf5-404366a19956",
   "metadata": {},
   "outputs": [],
   "source": [
    "to_keep = [\n",
    "    \"CCGT\",\n",
    "    \"CH4 (g) pipeline\",\n",
    "    \"CH4 (g) submarine pipeline\",\n",
    "    \"Fischer-Tropsch\",\n",
    "    \"H2 (g) pipeline\",\n",
    "    \"H2 (g) pipeline repurposed\",\n",
    "    \"H2 (g) submarine pipeline\",\n",
    "    \"H2 liquefaction\",\n",
    "    \"HVAC overhead\",\n",
    "    \"HVDC inverter pair\",\n",
    "    \"HVDC overhead\",\n",
    "    \"HVDC submarine\",\n",
    "    \"OCGT\",\n",
    "    \"PHS\",\n",
    "    \"SMR\",\n",
    "    \"SMR CC\",\n",
    "    \"battery inverter\",\n",
    "    \"battery storage\",\n",
    "    \"biogas\",\n",
    "    \"biogas upgrading\",\n",
    "    \"biomass\",\n",
    "    \"biomass CHP\",\n",
    "    \"biomass CHP capture\",\n",
    "    \"cement capture\",\n",
    "    \"central air-sourced heat pump\",\n",
    "    \"central gas CHP\",\n",
    "    \"central gas boiler\",\n",
    "    \"central ground-sourced heat pump\",\n",
    "    \"central resistive heater\",\n",
    "    \"central solar thermal\",\n",
    "    \"central solid biomass CHP\",\n",
    "    \"central water tank storage\",\n",
    "    \"coal\",\n",
    "    \"decentral CHP\",\n",
    "    \"decentral air-sourced heat pump\",\n",
    "    \"decentral gas boiler\",\n",
    "    \"decentral ground-sourced heat pump\",\n",
    "    \"decentral oil boiler\",\n",
    "    \"decentral resistive heater\",\n",
    "    \"decentral solar thermal\",\n",
    "    \"decentral water tank storage\",\n",
    "    \"direct air capture\",\n",
    "    \"electricity distribution grid\",\n",
    "    \"electricity grid connection\",\n",
    "    \"electrolysis\",\n",
    "    \"fuel cell\",\n",
    "    \"gas\",\n",
    "    \"helmeth\",\n",
    "    \"home battery inverter\",\n",
    "    \"home battery storage\",\n",
    "    \"hydro\",\n",
    "    \"hydrogen storage tank incl. compressor\",\n",
    "    \"hydrogen storage underground\",\n",
    "    \"lignite\",\n",
    "    \"methanation\",\n",
    "    \"offwind\",\n",
    "    \"offwind-ac-connection-submarine\",\n",
    "    \"offwind-ac-connection-underground\",\n",
    "    \"offwind-ac-station\",\n",
    "    \"offwind-dc-connection-submarine\",\n",
    "    \"offwind-dc-connection-underground\",\n",
    "    \"offwind-dc-station\",\n",
    "    \"oil\",\n",
    "    \"onwind\",\n",
    "    \"ror\",\n",
    "    \"solar\",\n",
    "    \"solar-rooftop\",\n",
    "    \"solar-utility\",\n",
    "    \"solid biomass\",\n",
    "    \"water tank charger\",\n",
    "    \"water tank discharger\",\n",
    "]\n",
    "\n",
    "df = df.loc[to_keep]"
   ]
  },
  {
   "cell_type": "code",
   "execution_count": null,
   "id": "93954bcf",
   "metadata": {},
   "outputs": [],
   "source": [
    "to_drop = [\"p_nom_ratio\"]\n",
    "df.drop(to_drop, level=1, inplace=True)"
   ]
  },
  {
   "cell_type": "code",
   "execution_count": null,
   "id": "9d574d0a",
   "metadata": {},
   "outputs": [],
   "source": [
    "tech_names = {\n",
    "    \"CH4 (g) pipeline\": \"natural gas pipeline\",\n",
    "    \"CH4 (g) submarine pipeline\": \"natural gas pipeline (submarine)\",\n",
    "    \"H2 (g) pipeline\": \"hydrogen pipeline\",\n",
    "    \"H2 (g) pipeline repurposed\": \"hydrogen pipeline (repurposed)\",\n",
    "    \"H2 (g) submarine pipeline\": \"hydrogen pipeline (submarine)\",\n",
    "    \"H2 liquefaction\": \"hydrogen liquefaction\",\n",
    "    \"HVAC overhead\": \"HVAC transmission line (overhead)\",\n",
    "    \"HVDC overhead\": \"HVDC transmission line (overhead)\",\n",
    "    \"HVDC submarine\": \"HVDC transmission line (submarine)\",\n",
    "    \"PHS\": \"pumped hydro storage\",\n",
    "    \"SMR\": \"steam methane reforming\",\n",
    "    \"SMR CC\": \"steam methane reforming with carbon capture\",\n",
    "    \"biomass CHP\": \"CHP (biomass)\",\n",
    "    \"biomass CHP capture\": \"CHP (biomass with carbon capture)\",\n",
    "    \"central air-sourced heat pump\": \"heat pump (air-sourced, central)\",\n",
    "    \"central gas CHP\": \"CHP (gas, central)\",\n",
    "    \"central gas boiler\": \"gas boiler (central)\",\n",
    "    \"central ground-sourced heat pump\": \"heat pump (ground-sourced, central)\",\n",
    "    \"central resistive heater\": \"resistive heater (central)\",\n",
    "    \"central solar thermal\": \"solar thermal (central)\",\n",
    "    \"central solid biomass CHP\": \"CHP (solid biomass, central)\",\n",
    "    \"central water tank storage\": \"thermal storage (water tank, central)\",\n",
    "    \"decentral CHP\": \"CHP (decentral)\",\n",
    "    \"decentral air-sourced heat pump\": \"heat pump (air-sourced, decentral)\",\n",
    "    \"decentral gas boiler\": \"gas boiler (decentral)\",\n",
    "    \"decentral ground-sourced heat pump\": \"heat pump (ground-sourced, decentral)\",\n",
    "    \"decentral resistive heater\": \"resistive heater (decentral)\",\n",
    "    \"decentral solar thermal\": \"solar thermal (decentral)\",\n",
    "    \"decentral water tank storage\": \"thermal storage (water tank, decentral)\",\n",
    "    \"direct air capture\": \"direct air capture (DAC)\",\n",
    "    \"gas\": \"fossil gas\",\n",
    "    \"helmeth\": \"HELMETH (direct power-to-methane)\",\n",
    "    \"hydro\": \"reservoir hydro\",\n",
    "    \"hydrogen storage tank incl. compressor\": \"hydrogen storage (steel tank)\",\n",
    "    \"hydrogen storage underground\": \"hydrogen storage (underground)\",\n",
    "    \"offwind\": \"offshore wind\",\n",
    "    \"offwind-ac-connection-submarine\": \"AC grid connection (submarine)\",\n",
    "    \"offwind-ac-connection-underground\": \"AC grid connection (underground)\",\n",
    "    \"offwind-ac-station\": \"AC grid connection (station)\",\n",
    "    \"offwind-dc-connection-submarine\": \"DC grid connection (submarine)\",\n",
    "    \"offwind-dc-connection-underground\": \"DC grid connection (underground)\",\n",
    "    \"offwind-dc-station\": \"DC grid connection (station)\",\n",
    "    \"oil\": \"fossil oil\",\n",
    "    \"onwind\": \"onshore wind\",\n",
    "    \"ror\": \"run of river\",\n",
    "    \"solar\": \"solar PV\",\n",
    "    \"solar-rooftop\": \"solar PV (rooftop)\",\n",
    "    \"solar-utility\": \"solar PV (utility-scale)\",\n",
    "}"
   ]
  },
  {
   "cell_type": "code",
   "execution_count": null,
   "id": "5163fdaa-a456-443f-be71-c084d4feea6e",
   "metadata": {},
   "outputs": [],
   "source": [
    "param_names = {\n",
    "    \"c_b\": \"Cb coefficient\",\n",
    "    \"c_v\": \"Cv coefficient\",\n",
    "    \"investment\": \"overnight investment\",\n",
    "    \"capture_rate\": \"carbon capture rate\",\n",
    "    \"efficiency-heat\": \"efficiency (heat)\",\n",
    "    \"compression-electricity-input\": \"electricity input\",\n",
    "    \"compression-heat-output\": \"heat output\",\n",
    "    \"electricity-input\": \"electricity input\",\n",
    "    \"heat-input\": \"heat input\",\n",
    "    \"heat-output\": \"heat output\",\n",
    "    \"CO2 intensity\": \"carbon intensity\",\n",
    "}"
   ]
  },
  {
   "cell_type": "code",
   "execution_count": null,
   "id": "4767ef0f",
   "metadata": {},
   "outputs": [],
   "source": [
    "df.rename(tech_names, level=0, inplace=True)\n",
    "df.rename(param_names, level=1, inplace=True)"
   ]
  },
  {
   "cell_type": "code",
   "execution_count": null,
   "id": "b160224b",
   "metadata": {},
   "outputs": [],
   "source": [
    "unit_names = {\n",
    "    \"oC\": r\"$^{\\\\circ}$C\",\n",
    "    \"_FT\": \"$_{FT}$\",\n",
    "    \"_H2\": r\"$_{\\\\ce{H2}}$\",\n",
    "    \"_CH4\": r\"$_{\\\\ce{CH4}}$\",\n",
    "    \"kWel\": \"kW$_{el}$\",\n",
    "    \"MWhth\": \"MWh$_{th}$\",\n",
    "    \"MWh_th\": \"MWh$_{th}$\",\n",
    "    \"kW_th\": \"kW$_{th}$\",\n",
    "    \"kWth\": \"kW$_{th}$\",\n",
    "    \"MWh_e\": \"MWh$_{el}$\",\n",
    "    \"kW_e\": \"kW$_{el}$\",\n",
    "    \"tCO2\": r\"t$_{\\\\ce{CO2}}$\",\n",
    "    \"EUR\": r\"\\\\euro\",\n",
    "    \"m2\": \"m$^2$\",\n",
    "    \"kWhCapacity\": \"kWh\",\n",
    "    \"%\": \"\\%\",\n",
    "    \"excluding drive energy\": \"\",\n",
    "}"
   ]
  },
  {
   "cell_type": "code",
   "execution_count": null,
   "id": "6879b63b",
   "metadata": {},
   "outputs": [],
   "source": [
    "for k, v in unit_names.items():\n",
    "    df.unit = df.unit.str.replace(k, v)"
   ]
  },
  {
   "cell_type": "code",
   "execution_count": null,
   "id": "41d0d883-f371-4c6d-8213-e10be67e9ea9",
   "metadata": {},
   "outputs": [],
   "source": [
    "df.sort_index(inplace=True)"
   ]
  },
  {
   "cell_type": "code",
   "execution_count": null,
   "id": "24160d3e-fd68-48ab-b74c-f72cc5210493",
   "metadata": {},
   "outputs": [],
   "source": [
    "df.source.unique()"
   ]
  },
  {
   "cell_type": "raw",
   "id": "6542ba54-36c8-46b2-8447-55cb35735915",
   "metadata": {},
   "source": [
    "df.source = df.source.apply(lambda x: \"DEA\" if \"DEA\" in x or \"Danish\" in x else x)"
   ]
  },
  {
   "cell_type": "code",
   "execution_count": null,
   "id": "8baee224-5a8b-437d-ad43-c237e916a5db",
   "metadata": {},
   "outputs": [],
   "source": [
    "d = {\n",
    "    \"DEA\": \"DEA\\\\citeS{DEA}\",\n",
    "    \"DEA (loss of fuel for additional heat)\": \"DEA\\\\citeS{DEA}\",\n",
    "    \"Danish Energy Agency\": \"DEA\\\\citeS{DEA}\",\n",
    "    \"DEA https://ens.dk/en/our-services/projections-and-models/technology-data\": \"DEA\\\\citeS{DEA}\",\n",
    "    \"Danish Energy Agency, technology_data_for_el_and_dh.xlsx\": \"DEA\\\\citeS{danishenergyagencyTechnologyData2018}\",\n",
    "    \"Danish Energy Agency, technology_data_for_industrial_process_heat_0002.xlsx\": \"DEA\\\\citeS{danishenergyagencyTechnologyData2020}\",\n",
    "    \"Danish Energy Agency, data_sheets_for_renewable_fuels.xlsx\": \"DEA\\\\citeS{danishenergyagencyTechnologyData2018b}\",\n",
    "    \"Danish Energy Agency, technology_data_catalogue_for_energy_storage.xlsx\": \"DEA\\\\citeS{danishenergyagencyTechnologyData2018c}\",\n",
    "    \"Danish Energy Agency, technology_data_catalogue_for_energy_storage.xlsx, Note K.\": \"DEA\\\\citeS{danishenergyagencyTechnologyData2018c}\",\n",
    "    \"Danish Energy Agency, technologydatafor_heating_installations_marts_2018.xlsx\": \"DEA\\\\citeS{danishenergyagencyTechnologyData2018a}\",\n",
    "    \"Danish Energy Agency, Technology Data for Energy Transport (2021), Excel datasheet: H2 140.\": \"DEA\\\\citeS{danishenergyagencyTechnologyCatalogue2018}\",\n",
    "    #'Impact of weighted average cost of capital, capital expenditure, and other parameters on future utility‐scale PV levelised cost of electricity': 'Vartiainen_2019',\n",
    "    #'European PV Technology and Innovation Platform' : 'Vartiainen_2017',\n",
    "    #'Lazard’s Levelized Cost of Energy Analysis - Version 13.0': 'Lazard_2019',\n",
    "    #'budischak2013':'Budischak_2013,dea2019',\n",
    "    \"IWES Interaktion\": \"Gerhardt et al.\\\\citeS{Gerhardt_2015}\",\n",
    "    \"Schaber thesis\": \"Schaber\\\\citeS{Schaber_2013}\",\n",
    "    \"Hagspiel\": \"Hagspiel et al.\\\\citeS{Hagspiel_2014}\",\n",
    "    \"Fasihi et al 2017, table 1, https://www.mdpi.com/2071-1050/9/2/306\": \"Fasihi et al.\\\\citeS{Fasihi_2017}\",\n",
    "    \"DIW DataDoc http://hdl.handle.net/10419/80348\": \"Schröder et al.\\\\citeS{Schroeder_2013}\",\n",
    "    \"BP 2019\": \"BP\\\\citeS{BP_2019}\",\n",
    "    #'https://www.eia.gov/environment/emissions/co2_vol_mass.php' : 'EIA\\citeS{EIA_emission_coefficients}',\n",
    "    \"DIW\": \"Schröder et al.\\\\citeS{Schroeder_2013}\",\n",
    "    \"IEA2011b\": \"IEA\\\\citeS{IEA_WEO2017}\",\n",
    "    \"Is a 100% renewable European power system feasible by 2050?\": \"Zappa et al.~\\\\citeS{Zappa_2019}\",\n",
    "    \"JRC and Zappa\": \"Zappa et al.~\\\\citeS{Zappa_2019}\",\n",
    "    \"Entwicklung der spezifischen Kohlendioxid-Emissionen des deutschen Strommix in den Jahren 1990 - 2018\": \"UBA\\\\citeS{German_Environment_Agency}\",\n",
    "    \"IEA WEM2017 97USD/boe = http://www.iea.org/media/weowebsite/2017/WEM_Documentation_WEO2017.pdf\": \"IEA\\\\citeS{IEA_WEO2017}\",\n",
    "    \"Lazard s Levelized Cost of Energy Analysis - Version 13.0\": \"Lazard 13.0\\\\citeS{Lazard_2019}\",\n",
    "    \"TODO\": \"Element Energy\\\\citeS{govUK}\",\n",
    "    \"Palzer thesis\": \"Palzer\\\\citeS{Palzer_thesis}\",\n",
    "    \"Palzer thesis (https://energiesysteme-zukunft.de/fileadmin/user_upload/Publikationen/PDFs/ESYS_Materialien_Optimierungsmodell_REMod-D.pdf)\": \"Erlach et al.\\\\citeS{erlachOptimierungsmodellREModD2018}\",\n",
    "    \"Palzer thesis (https://energiesysteme-zukunft.de/fileadmin/user_upload/Publikationen/PDFs/ESYS_Materialien_Optimierungsmodell_REMod-D.pdf) (+eigene Berechnung)\": \"Erlach et al.\\\\citeS{erlachOptimierungsmodellREModD2018}\",\n",
    "    \"Haertel 2017; assuming one onshore and one offshore node + 13% learning reduction\": \"Härtel et al.\\\\citeS{hartelReviewInvestment2017}\",\n",
    "    \"Haertel 2017; average + 13% learning reduction\": \"Härtel et al.\\\\citeS{hartelReviewInvestment2017}\",\n",
    "    \"DTU report based on Fig 34 of https://ec.europa.eu/energy/sites/ener/files/documents/2014_nsog_report.pdf\": \"Cole et al.~\\\\citeS{coleStudyBenefits2014}\",\n",
    "    \"HP\": \"Henning et al.\\\\citeS{henningComprehensiveModel2014}\",\n",
    "    \"doi:10.3390/su9020306\": \"Fasihi et al.\\\\citeS{Fasihi_2017}\",\n",
    "    #\n",
    "    \"Purvins et al. (2018): https://doi.org/10.1016/j.jclepro.2018.03.095 .\": \"Purvins et al.\\\\citeS{purvinsSubmarinePower2018}\",\n",
    "    \"Reuß et al 2017: https://doi.org/10.1016/j.apenergy.2017.05.050 , Table 9 and equation in sec 3.0.\": \"Reuß et al.\\\\citeS{reussSeasonalStorage2017a}\",\n",
    "    \"European Hydrogen Backbone Report (June 2021): https://gasforclimate2050.eu/wp-content/uploads/2021/06/EHB_Analysing-the-future-demand-supply-and-transport-of-hydrogen_June-2021.pdf.\": \"Gas for Climate\\\\citeS{gasforclimateEuropeanHydrogen2021}\",\n",
    "    \"Palzer and Schaber thesis\": \"Schaber\\\\citeS{Schaber_2013}, Palzer\\\\citeS{Palzer_thesis}\",\n",
    "    \"d’Amore-Domenech et al (2021): 10.1016/j.apenergy.2021.116625 , supplementary material.\": \"d’Amore-Domenech et al.\\\\citeS{damore-domenechBulkPower2021}\",\n",
    "    \"IEA Global average levelised cost of hydrogen production by energy source and technology, 2019 and 2050 (2020), https://www.iea.org/data-and-statistics/charts/global-average-levelised-cost-of-hydrogen-production-by-energy-source-and-technology-2019-and-2050\": \"IEA\\\\citeS{GlobalAverage}\",\n",
    "    \"ECF2010 in DIW DataDoc http://hdl.handle.net/10419/80348\": \"Schroeder et al.\\\\citeS{Schroeder_2013}\",\n",
    "    \"Kaiser (2017): 10.1016/j.marpol.2017.05.003 .\": \"Kaiser\\\\citeS{kaiserOffshorePipeline2017}\",\n",
    "    \"IEA2010\": \"IEA\\\\citeS{IEA_WEO2017}\",\n",
    "    \"Global Energy System based on 100% Renewable Energy, Energywatchgroup/LTU University, 2019, Danish Energy Agency, technology_data_catalogue_for_energy_storage.xlsx\": \"Ram et al.\\\\citeS{Ram_2019}, DEA\\\\citeS{danishenergyagencyTechnologyData2018c}\",\n",
    "    \"Global Energy System based on 100% Renewable Energy, Energywatchgroup/LTU University, 2019, Danish Energy Agency, technology_data_catalogue_for_energy_storage.xlsx, Note K.\": \"Ram et al.\\\\citeS{Ram_2019}, DEA\\\\citeS{danishenergyagencyTechnologyData2018c}\",\n",
    "    #: ,\n",
    "}"
   ]
  },
  {
   "cell_type": "code",
   "execution_count": null,
   "id": "c95cf067-ae7d-4e0f-96ca-ac007d123b16",
   "metadata": {},
   "outputs": [],
   "source": [
    "set(df.source).difference(d)"
   ]
  },
  {
   "cell_type": "code",
   "execution_count": null,
   "id": "6cff69a0-06ed-419c-b6f7-dfc84871c494",
   "metadata": {},
   "outputs": [],
   "source": [
    "for k, v in d.items():\n",
    "    # df.source = df.source.replace(k, \"\\\\citeS{\" + v + \"}\")\n",
    "    df.source = df.source.replace(k, v)\n",
    "df.source.str.replace(\n",
    "    \"RES costs made up to fix curtailment order\",\n",
    "    \"to fix curtailment order\",\n",
    "    regex=False,\n",
    ")\n",
    "df.source.str.replace(\"no source\", \"Guesstimate.\", regex=False)"
   ]
  },
  {
   "cell_type": "code",
   "execution_count": null,
   "id": "49d255fa-f9a3-4a6a-bc48-f2c1160a8e7a",
   "metadata": {},
   "outputs": [],
   "source": [
    "df = df.sort_index(level=0)"
   ]
  },
  {
   "cell_type": "code",
   "execution_count": null,
   "id": "a1af344f",
   "metadata": {},
   "outputs": [],
   "source": [
    "# df.source = df.source.str.replace(\"_\", \"\\_\")\n",
    "df.source = df.source.str.replace(\"%\", \"\\%\")"
   ]
  },
  {
   "cell_type": "code",
   "execution_count": null,
   "id": "a585b9f7-825d-4a6c-ab4e-49e4319726f2",
   "metadata": {},
   "outputs": [],
   "source": [
    "df.to_latex(\n",
    "    target,\n",
    "    longtable=True,\n",
    "    column_format=\"p{7cm}p{4cm}rp{3cm}p{6cm}\",\n",
    "    na_rep=\"--\",\n",
    "    escape=False,\n",
    "    label=\"tab:si:costs\",\n",
    "    caption=\"Overview of technology assumptions.\",\n",
    ")"
   ]
  },
  {
   "cell_type": "code",
   "execution_count": null,
   "id": "db38d0bb-c87b-4803-a919-01d8f4a67181",
   "metadata": {},
   "outputs": [],
   "source": [
    "df.head()"
   ]
  },
  {
   "cell_type": "code",
   "execution_count": null,
   "id": "a6c8b6a2",
   "metadata": {},
   "outputs": [],
   "source": [
    "for i in df.index.get_level_values(1).unique():\n",
    "    print(\"'\" + i + \"',\")"
   ]
  },
  {
   "cell_type": "markdown",
   "id": "80296bc5-6610-4c51-9ce3-e9306098bc2b",
   "metadata": {
    "tags": []
   },
   "source": [
    "### TODOs\n",
    "\n",
    "- [ ] nice names\n",
    "- [ ] bibtex integration\n",
    "- [ ] unit formatting"
   ]
  },
  {
   "cell_type": "code",
   "execution_count": null,
   "id": "899fb56f",
   "metadata": {},
   "outputs": [],
   "source": []
  },
  {
   "cell_type": "code",
   "execution_count": null,
   "id": "3badb4dc",
   "metadata": {},
   "outputs": [],
   "source": []
  },
  {
   "cell_type": "code",
   "execution_count": null,
   "id": "4d063b28-5e0d-4bdd-8884-176bc01b36a4",
   "metadata": {},
   "outputs": [],
   "source": []
  },
  {
   "cell_type": "code",
   "execution_count": null,
   "id": "b3744184-9576-45a1-bae5-87a4c24fa28f",
   "metadata": {},
   "outputs": [],
   "source": []
  }
 ],
 "metadata": {
  "kernelspec": {
   "display_name": "Python 3 (ipykernel)",
   "language": "python",
   "name": "python3"
  },
  "language_info": {
   "codemirror_mode": {
    "name": "ipython",
    "version": 3
   },
   "file_extension": ".py",
   "mimetype": "text/x-python",
   "name": "python",
   "nbconvert_exporter": "python",
   "pygments_lexer": "ipython3",
   "version": "3.10.4"
  },
  "vscode": {
   "interpreter": {
    "hash": "088b2e8263f7c495d40d62bcd006ebdc80a470c2e6e6d0fb85b15a99dfde1d66"
   }
  }
 },
 "nbformat": 4,
 "nbformat_minor": 5
}
